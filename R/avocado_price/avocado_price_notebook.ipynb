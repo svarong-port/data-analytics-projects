{
 "cells": [
  {
   "cell_type": "markdown",
   "id": "4b277c44",
   "metadata": {},
   "source": [
    "# Predicting Avocado Price With Machine Learning in R"
   ]
  },
  {
   "cell_type": "markdown",
   "id": "b3696b80",
   "metadata": {},
   "source": [
    "## Prepared by\n",
    "\n",
    "**Author:** Shinin Varongchayakul\n",
    "\n",
    "**Date:** 15 Apr 2025\n",
    "\n",
    "**Language:** R"
   ]
  },
  {
   "cell_type": "markdown",
   "id": "4bf21799",
   "metadata": {},
   "source": [
    "## Dataset\n",
    "\n",
    "**Name:** Avocado Price\n",
    "\n",
    "**Source:** https://www.kaggle.com/datasets/neuromusic/avocado-prices?hl=en-GB\n",
    "\n",
    "**Retrived Date:** 15 Apr 2025"
   ]
  },
  {
   "cell_type": "markdown",
   "id": "3d1f2df0",
   "metadata": {},
   "source": [
    "## Business Problems\n",
    "A grocery retail chain wants to optimise their avocado pricing as avocado is one of their best-selling items.\n",
    "\n",
    "\n",
    "They want to understand:\n",
    "- What factors influence avocado price\n",
    "- How the price changes over time\n",
    "- How the price changes across regions\n",
    "- Comparison of organic versus conventional pricing strategies\n",
    "\n",
    "\n",
    "\n",
    "They also want to be able to predict avocado price.\n",
    "\n",
    "\n",
    "\n",
    "Avocado Price dataset from Kaggle will be used to simulate the situation here."
   ]
  },
  {
   "cell_type": "markdown",
   "id": "875999d6",
   "metadata": {},
   "source": [
    "## Analysis Objectives\n",
    "Given the business problems, the goals of this analysis are twofold:\n",
    "1. Explore the pattern of avocado pricing across different factors\n",
    "2. Build a predictive model to predict avocado pricing"
   ]
  },
  {
   "cell_type": "markdown",
   "id": "c44ca468",
   "metadata": {},
   "source": [
    "## 1. Install & Load Packages"
   ]
  },
  {
   "cell_type": "code",
   "execution_count": null,
   "id": "15972976",
   "metadata": {
    "vscode": {
     "languageId": "r"
    }
   },
   "outputs": [],
   "source": [
    "# Install\n",
    "install.packages(\"effsize\") # effect size calculation\n",
    "install.packages(\"ggcorrplot\") # correlation matrix\n",
    "install.packages(\"tidyverse\") # data manipulation\n",
    "install.packages(\"tidymodels\") # machine learning\n",
    "install.packages(\"lubridate\") # date manipulation"
   ]
  },
  {
   "cell_type": "code",
   "execution_count": null,
   "id": "5f267a77",
   "metadata": {
    "vscode": {
     "languageId": "r"
    }
   },
   "outputs": [],
   "source": [
    "# Load\n",
    "library(effsize)\n",
    "library(ggcorrplot)\n",
    "library(tidyverse)\n",
    "library(tidymodels)\n",
    "library(lubridate)"
   ]
  },
  {
   "cell_type": "markdown",
   "id": "0c22461d",
   "metadata": {},
   "source": [
    "## 2. Load & Prepare the Dataset"
   ]
  },
  {
   "cell_type": "markdown",
   "id": "96c31536",
   "metadata": {},
   "source": [
    "### 2.1 Load the Dataset"
   ]
  },
  {
   "cell_type": "code",
   "execution_count": 56,
   "id": "b692aef6",
   "metadata": {
    "vscode": {
     "languageId": "r"
    }
   },
   "outputs": [
    {
     "name": "stderr",
     "output_type": "stream",
     "text": [
      "\u001b[1m\u001b[22mNew names:\n",
      "\u001b[36m•\u001b[39m `` -> `...1`\n",
      "\u001b[1mRows: \u001b[22m\u001b[34m18249\u001b[39m \u001b[1mColumns: \u001b[22m\u001b[34m14\u001b[39m\n",
      "\u001b[36m──\u001b[39m \u001b[1mColumn specification\u001b[22m \u001b[36m────────────────────────────────────────────────────────\u001b[39m\n",
      "\u001b[1mDelimiter:\u001b[22m \",\"\n",
      "\u001b[31mchr\u001b[39m   (2): type, region\n",
      "\u001b[32mdbl\u001b[39m  (11): ...1, AveragePrice, Total Volume, 4046, 4225, 4770, Total Bags, S...\n",
      "\u001b[34mdate\u001b[39m  (1): Date\n",
      "\n",
      "\u001b[36mℹ\u001b[39m Use `spec()` to retrieve the full column specification for this data.\n",
      "\u001b[36mℹ\u001b[39m Specify the column types or set `show_col_types = FALSE` to quiet this message.\n"
     ]
    }
   ],
   "source": [
    "# Load\n",
    "avocados <- read_csv(\"avocado_price_dataset.csv\")"
   ]
  },
  {
   "cell_type": "code",
   "execution_count": 57,
   "id": "3415cc02",
   "metadata": {
    "vscode": {
     "languageId": "r"
    }
   },
   "outputs": [
    {
     "data": {
      "text/html": [
       "<table class=\"dataframe\">\n",
       "<caption>A tibble: 10 × 14</caption>\n",
       "<thead>\n",
       "\t<tr><th scope=col>...1</th><th scope=col>Date</th><th scope=col>AveragePrice</th><th scope=col>Total Volume</th><th scope=col>4046</th><th scope=col>4225</th><th scope=col>4770</th><th scope=col>Total Bags</th><th scope=col>Small Bags</th><th scope=col>Large Bags</th><th scope=col>XLarge Bags</th><th scope=col>type</th><th scope=col>year</th><th scope=col>region</th></tr>\n",
       "\t<tr><th scope=col>&lt;dbl&gt;</th><th scope=col>&lt;date&gt;</th><th scope=col>&lt;dbl&gt;</th><th scope=col>&lt;dbl&gt;</th><th scope=col>&lt;dbl&gt;</th><th scope=col>&lt;dbl&gt;</th><th scope=col>&lt;dbl&gt;</th><th scope=col>&lt;dbl&gt;</th><th scope=col>&lt;dbl&gt;</th><th scope=col>&lt;dbl&gt;</th><th scope=col>&lt;dbl&gt;</th><th scope=col>&lt;chr&gt;</th><th scope=col>&lt;dbl&gt;</th><th scope=col>&lt;chr&gt;</th></tr>\n",
       "</thead>\n",
       "<tbody>\n",
       "\t<tr><td>0</td><td>2015-12-27</td><td>1.33</td><td> 64236.62</td><td>1036.74</td><td> 54454.85</td><td> 48.16</td><td> 8696.87</td><td> 8603.62</td><td> 93.25</td><td>0</td><td>conventional</td><td>2015</td><td>Albany</td></tr>\n",
       "\t<tr><td>1</td><td>2015-12-20</td><td>1.35</td><td> 54876.98</td><td> 674.28</td><td> 44638.81</td><td> 58.33</td><td> 9505.56</td><td> 9408.07</td><td> 97.49</td><td>0</td><td>conventional</td><td>2015</td><td>Albany</td></tr>\n",
       "\t<tr><td>2</td><td>2015-12-13</td><td>0.93</td><td>118220.22</td><td> 794.70</td><td>109149.67</td><td>130.50</td><td> 8145.35</td><td> 8042.21</td><td>103.14</td><td>0</td><td>conventional</td><td>2015</td><td>Albany</td></tr>\n",
       "\t<tr><td>3</td><td>2015-12-06</td><td>1.08</td><td> 78992.15</td><td>1132.00</td><td> 71976.41</td><td> 72.58</td><td> 5811.16</td><td> 5677.40</td><td>133.76</td><td>0</td><td>conventional</td><td>2015</td><td>Albany</td></tr>\n",
       "\t<tr><td>4</td><td>2015-11-29</td><td>1.28</td><td> 51039.60</td><td> 941.48</td><td> 43838.39</td><td> 75.78</td><td> 6183.95</td><td> 5986.26</td><td>197.69</td><td>0</td><td>conventional</td><td>2015</td><td>Albany</td></tr>\n",
       "\t<tr><td>5</td><td>2015-11-22</td><td>1.26</td><td> 55979.78</td><td>1184.27</td><td> 48067.99</td><td> 43.61</td><td> 6683.91</td><td> 6556.47</td><td>127.44</td><td>0</td><td>conventional</td><td>2015</td><td>Albany</td></tr>\n",
       "\t<tr><td>6</td><td>2015-11-15</td><td>0.99</td><td> 83453.76</td><td>1368.92</td><td> 73672.72</td><td> 93.26</td><td> 8318.86</td><td> 8196.81</td><td>122.05</td><td>0</td><td>conventional</td><td>2015</td><td>Albany</td></tr>\n",
       "\t<tr><td>7</td><td>2015-11-08</td><td>0.98</td><td>109428.33</td><td> 703.75</td><td>101815.36</td><td> 80.00</td><td> 6829.22</td><td> 6266.85</td><td>562.37</td><td>0</td><td>conventional</td><td>2015</td><td>Albany</td></tr>\n",
       "\t<tr><td>8</td><td>2015-11-01</td><td>1.02</td><td> 99811.42</td><td>1022.15</td><td> 87315.57</td><td> 85.34</td><td>11388.36</td><td>11104.53</td><td>283.83</td><td>0</td><td>conventional</td><td>2015</td><td>Albany</td></tr>\n",
       "\t<tr><td>9</td><td>2015-10-25</td><td>1.07</td><td> 74338.76</td><td> 842.40</td><td> 64757.44</td><td>113.00</td><td> 8625.92</td><td> 8061.47</td><td>564.45</td><td>0</td><td>conventional</td><td>2015</td><td>Albany</td></tr>\n",
       "</tbody>\n",
       "</table>\n"
      ],
      "text/latex": [
       "A tibble: 10 × 14\n",
       "\\begin{tabular}{llllllllllllll}\n",
       " ...1 & Date & AveragePrice & Total Volume & 4046 & 4225 & 4770 & Total Bags & Small Bags & Large Bags & XLarge Bags & type & year & region\\\\\n",
       " <dbl> & <date> & <dbl> & <dbl> & <dbl> & <dbl> & <dbl> & <dbl> & <dbl> & <dbl> & <dbl> & <chr> & <dbl> & <chr>\\\\\n",
       "\\hline\n",
       "\t 0 & 2015-12-27 & 1.33 &  64236.62 & 1036.74 &  54454.85 &  48.16 &  8696.87 &  8603.62 &  93.25 & 0 & conventional & 2015 & Albany\\\\\n",
       "\t 1 & 2015-12-20 & 1.35 &  54876.98 &  674.28 &  44638.81 &  58.33 &  9505.56 &  9408.07 &  97.49 & 0 & conventional & 2015 & Albany\\\\\n",
       "\t 2 & 2015-12-13 & 0.93 & 118220.22 &  794.70 & 109149.67 & 130.50 &  8145.35 &  8042.21 & 103.14 & 0 & conventional & 2015 & Albany\\\\\n",
       "\t 3 & 2015-12-06 & 1.08 &  78992.15 & 1132.00 &  71976.41 &  72.58 &  5811.16 &  5677.40 & 133.76 & 0 & conventional & 2015 & Albany\\\\\n",
       "\t 4 & 2015-11-29 & 1.28 &  51039.60 &  941.48 &  43838.39 &  75.78 &  6183.95 &  5986.26 & 197.69 & 0 & conventional & 2015 & Albany\\\\\n",
       "\t 5 & 2015-11-22 & 1.26 &  55979.78 & 1184.27 &  48067.99 &  43.61 &  6683.91 &  6556.47 & 127.44 & 0 & conventional & 2015 & Albany\\\\\n",
       "\t 6 & 2015-11-15 & 0.99 &  83453.76 & 1368.92 &  73672.72 &  93.26 &  8318.86 &  8196.81 & 122.05 & 0 & conventional & 2015 & Albany\\\\\n",
       "\t 7 & 2015-11-08 & 0.98 & 109428.33 &  703.75 & 101815.36 &  80.00 &  6829.22 &  6266.85 & 562.37 & 0 & conventional & 2015 & Albany\\\\\n",
       "\t 8 & 2015-11-01 & 1.02 &  99811.42 & 1022.15 &  87315.57 &  85.34 & 11388.36 & 11104.53 & 283.83 & 0 & conventional & 2015 & Albany\\\\\n",
       "\t 9 & 2015-10-25 & 1.07 &  74338.76 &  842.40 &  64757.44 & 113.00 &  8625.92 &  8061.47 & 564.45 & 0 & conventional & 2015 & Albany\\\\\n",
       "\\end{tabular}\n"
      ],
      "text/markdown": [
       "\n",
       "A tibble: 10 × 14\n",
       "\n",
       "| ...1 &lt;dbl&gt; | Date &lt;date&gt; | AveragePrice &lt;dbl&gt; | Total Volume &lt;dbl&gt; | 4046 &lt;dbl&gt; | 4225 &lt;dbl&gt; | 4770 &lt;dbl&gt; | Total Bags &lt;dbl&gt; | Small Bags &lt;dbl&gt; | Large Bags &lt;dbl&gt; | XLarge Bags &lt;dbl&gt; | type &lt;chr&gt; | year &lt;dbl&gt; | region &lt;chr&gt; |\n",
       "|---|---|---|---|---|---|---|---|---|---|---|---|---|---|\n",
       "| 0 | 2015-12-27 | 1.33 |  64236.62 | 1036.74 |  54454.85 |  48.16 |  8696.87 |  8603.62 |  93.25 | 0 | conventional | 2015 | Albany |\n",
       "| 1 | 2015-12-20 | 1.35 |  54876.98 |  674.28 |  44638.81 |  58.33 |  9505.56 |  9408.07 |  97.49 | 0 | conventional | 2015 | Albany |\n",
       "| 2 | 2015-12-13 | 0.93 | 118220.22 |  794.70 | 109149.67 | 130.50 |  8145.35 |  8042.21 | 103.14 | 0 | conventional | 2015 | Albany |\n",
       "| 3 | 2015-12-06 | 1.08 |  78992.15 | 1132.00 |  71976.41 |  72.58 |  5811.16 |  5677.40 | 133.76 | 0 | conventional | 2015 | Albany |\n",
       "| 4 | 2015-11-29 | 1.28 |  51039.60 |  941.48 |  43838.39 |  75.78 |  6183.95 |  5986.26 | 197.69 | 0 | conventional | 2015 | Albany |\n",
       "| 5 | 2015-11-22 | 1.26 |  55979.78 | 1184.27 |  48067.99 |  43.61 |  6683.91 |  6556.47 | 127.44 | 0 | conventional | 2015 | Albany |\n",
       "| 6 | 2015-11-15 | 0.99 |  83453.76 | 1368.92 |  73672.72 |  93.26 |  8318.86 |  8196.81 | 122.05 | 0 | conventional | 2015 | Albany |\n",
       "| 7 | 2015-11-08 | 0.98 | 109428.33 |  703.75 | 101815.36 |  80.00 |  6829.22 |  6266.85 | 562.37 | 0 | conventional | 2015 | Albany |\n",
       "| 8 | 2015-11-01 | 1.02 |  99811.42 | 1022.15 |  87315.57 |  85.34 | 11388.36 | 11104.53 | 283.83 | 0 | conventional | 2015 | Albany |\n",
       "| 9 | 2015-10-25 | 1.07 |  74338.76 |  842.40 |  64757.44 | 113.00 |  8625.92 |  8061.47 | 564.45 | 0 | conventional | 2015 | Albany |\n",
       "\n"
      ],
      "text/plain": [
       "   ...1 Date       AveragePrice Total Volume 4046    4225      4770  \n",
       "1  0    2015-12-27 1.33          64236.62    1036.74  54454.85  48.16\n",
       "2  1    2015-12-20 1.35          54876.98     674.28  44638.81  58.33\n",
       "3  2    2015-12-13 0.93         118220.22     794.70 109149.67 130.50\n",
       "4  3    2015-12-06 1.08          78992.15    1132.00  71976.41  72.58\n",
       "5  4    2015-11-29 1.28          51039.60     941.48  43838.39  75.78\n",
       "6  5    2015-11-22 1.26          55979.78    1184.27  48067.99  43.61\n",
       "7  6    2015-11-15 0.99          83453.76    1368.92  73672.72  93.26\n",
       "8  7    2015-11-08 0.98         109428.33     703.75 101815.36  80.00\n",
       "9  8    2015-11-01 1.02          99811.42    1022.15  87315.57  85.34\n",
       "10 9    2015-10-25 1.07          74338.76     842.40  64757.44 113.00\n",
       "   Total Bags Small Bags Large Bags XLarge Bags type         year region\n",
       "1   8696.87    8603.62    93.25     0           conventional 2015 Albany\n",
       "2   9505.56    9408.07    97.49     0           conventional 2015 Albany\n",
       "3   8145.35    8042.21   103.14     0           conventional 2015 Albany\n",
       "4   5811.16    5677.40   133.76     0           conventional 2015 Albany\n",
       "5   6183.95    5986.26   197.69     0           conventional 2015 Albany\n",
       "6   6683.91    6556.47   127.44     0           conventional 2015 Albany\n",
       "7   8318.86    8196.81   122.05     0           conventional 2015 Albany\n",
       "8   6829.22    6266.85   562.37     0           conventional 2015 Albany\n",
       "9  11388.36   11104.53   283.83     0           conventional 2015 Albany\n",
       "10  8625.92    8061.47   564.45     0           conventional 2015 Albany"
      ]
     },
     "metadata": {},
     "output_type": "display_data"
    }
   ],
   "source": [
    "# Preview the first 10 row\n",
    "head(avocados, 10)"
   ]
  },
  {
   "cell_type": "code",
   "execution_count": 58,
   "id": "b62af7b8",
   "metadata": {
    "vscode": {
     "languageId": "r"
    }
   },
   "outputs": [
    {
     "name": "stdout",
     "output_type": "stream",
     "text": [
      "Rows: 18,249\n",
      "Columns: 14\n",
      "$ ...1           \u001b[3m\u001b[90m<dbl>\u001b[39m\u001b[23m 0, 1, 2, 3, 4, 5, 6, 7, 8, 9, 10, 11, 12, 13, 14, 15, 1…\n",
      "$ Date           \u001b[3m\u001b[90m<date>\u001b[39m\u001b[23m 2015-12-27, 2015-12-20, 2015-12-13, 2015-12-06, 2015-1…\n",
      "$ AveragePrice   \u001b[3m\u001b[90m<dbl>\u001b[39m\u001b[23m 1.33, 1.35, 0.93, 1.08, 1.28, 1.26, 0.99, 0.98, 1.02, 1…\n",
      "$ `Total Volume` \u001b[3m\u001b[90m<dbl>\u001b[39m\u001b[23m 64236.62, 54876.98, 118220.22, 78992.15, 51039.60, 5597…\n",
      "$ `4046`         \u001b[3m\u001b[90m<dbl>\u001b[39m\u001b[23m 1036.74, 674.28, 794.70, 1132.00, 941.48, 1184.27, 1368…\n",
      "$ `4225`         \u001b[3m\u001b[90m<dbl>\u001b[39m\u001b[23m 54454.85, 44638.81, 109149.67, 71976.41, 43838.39, 4806…\n",
      "$ `4770`         \u001b[3m\u001b[90m<dbl>\u001b[39m\u001b[23m 48.16, 58.33, 130.50, 72.58, 75.78, 43.61, 93.26, 80.00…\n",
      "$ `Total Bags`   \u001b[3m\u001b[90m<dbl>\u001b[39m\u001b[23m 8696.87, 9505.56, 8145.35, 5811.16, 6183.95, 6683.91, 8…\n",
      "$ `Small Bags`   \u001b[3m\u001b[90m<dbl>\u001b[39m\u001b[23m 8603.62, 9408.07, 8042.21, 5677.40, 5986.26, 6556.47, 8…\n",
      "$ `Large Bags`   \u001b[3m\u001b[90m<dbl>\u001b[39m\u001b[23m 93.25, 97.49, 103.14, 133.76, 197.69, 127.44, 122.05, 5…\n",
      "$ `XLarge Bags`  \u001b[3m\u001b[90m<dbl>\u001b[39m\u001b[23m 0.00, 0.00, 0.00, 0.00, 0.00, 0.00, 0.00, 0.00, 0.00, 0…\n",
      "$ type           \u001b[3m\u001b[90m<chr>\u001b[39m\u001b[23m \"conventional\", \"conventional\", \"conventional\", \"conven…\n",
      "$ year           \u001b[3m\u001b[90m<dbl>\u001b[39m\u001b[23m 2015, 2015, 2015, 2015, 2015, 2015, 2015, 2015, 2015, 2…\n",
      "$ region         \u001b[3m\u001b[90m<chr>\u001b[39m\u001b[23m \"Albany\", \"Albany\", \"Albany\", \"Albany\", \"Albany\", \"Alba…\n"
     ]
    }
   ],
   "source": [
    "# View the structure\n",
    "glimpse(avocados)"
   ]
  },
  {
   "cell_type": "markdown",
   "id": "4a41d80d",
   "metadata": {},
   "source": [
    "Comments:\n",
    "- There are 18,249 records and 14 features."
   ]
  },
  {
   "cell_type": "markdown",
   "id": "cfca426f",
   "metadata": {},
   "source": [
    "### 2.2 Prepare the Dataset"
   ]
  },
  {
   "cell_type": "code",
   "execution_count": 67,
   "id": "c79328a4",
   "metadata": {
    "vscode": {
     "languageId": "r"
    }
   },
   "outputs": [],
   "source": [
    "# Create a copy of the dataset\n",
    "avd_cleaned <- avocados"
   ]
  },
  {
   "cell_type": "markdown",
   "id": "fba7b079",
   "metadata": {},
   "source": [
    "#### 2.2.1 Drop the Index Column"
   ]
  },
  {
   "cell_type": "code",
   "execution_count": 68,
   "id": "bea05a44",
   "metadata": {
    "vscode": {
     "languageId": "r"
    }
   },
   "outputs": [
    {
     "name": "stdout",
     "output_type": "stream",
     "text": [
      "Rows: 18,249\n",
      "Columns: 13\n",
      "$ Date           \u001b[3m\u001b[90m<date>\u001b[39m\u001b[23m 2015-12-27, 2015-12-20, 2015-12-13, 2015-12-06, 2015-1…\n",
      "$ AveragePrice   \u001b[3m\u001b[90m<dbl>\u001b[39m\u001b[23m 1.33, 1.35, 0.93, 1.08, 1.28, 1.26, 0.99, 0.98, 1.02, 1…\n",
      "$ `Total Volume` \u001b[3m\u001b[90m<dbl>\u001b[39m\u001b[23m 64236.62, 54876.98, 118220.22, 78992.15, 51039.60, 5597…\n",
      "$ `4046`         \u001b[3m\u001b[90m<dbl>\u001b[39m\u001b[23m 1036.74, 674.28, 794.70, 1132.00, 941.48, 1184.27, 1368…\n",
      "$ `4225`         \u001b[3m\u001b[90m<dbl>\u001b[39m\u001b[23m 54454.85, 44638.81, 109149.67, 71976.41, 43838.39, 4806…\n",
      "$ `4770`         \u001b[3m\u001b[90m<dbl>\u001b[39m\u001b[23m 48.16, 58.33, 130.50, 72.58, 75.78, 43.61, 93.26, 80.00…\n",
      "$ `Total Bags`   \u001b[3m\u001b[90m<dbl>\u001b[39m\u001b[23m 8696.87, 9505.56, 8145.35, 5811.16, 6183.95, 6683.91, 8…\n",
      "$ `Small Bags`   \u001b[3m\u001b[90m<dbl>\u001b[39m\u001b[23m 8603.62, 9408.07, 8042.21, 5677.40, 5986.26, 6556.47, 8…\n",
      "$ `Large Bags`   \u001b[3m\u001b[90m<dbl>\u001b[39m\u001b[23m 93.25, 97.49, 103.14, 133.76, 197.69, 127.44, 122.05, 5…\n",
      "$ `XLarge Bags`  \u001b[3m\u001b[90m<dbl>\u001b[39m\u001b[23m 0.00, 0.00, 0.00, 0.00, 0.00, 0.00, 0.00, 0.00, 0.00, 0…\n",
      "$ type           \u001b[3m\u001b[90m<chr>\u001b[39m\u001b[23m \"conventional\", \"conventional\", \"conventional\", \"conven…\n",
      "$ year           \u001b[3m\u001b[90m<dbl>\u001b[39m\u001b[23m 2015, 2015, 2015, 2015, 2015, 2015, 2015, 2015, 2015, 2…\n",
      "$ region         \u001b[3m\u001b[90m<chr>\u001b[39m\u001b[23m \"Albany\", \"Albany\", \"Albany\", \"Albany\", \"Albany\", \"Alba…\n"
     ]
    }
   ],
   "source": [
    "# Drop index column\n",
    "avd_cleaned$...1 <- NULL\n",
    "\n",
    "# Check the results\n",
    "glimpse(avd_cleaned)"
   ]
  },
  {
   "cell_type": "markdown",
   "id": "4136f927",
   "metadata": {},
   "source": [
    "#### 2.2.2 Rename the Columns"
   ]
  },
  {
   "cell_type": "code",
   "execution_count": 69,
   "id": "f864d6af",
   "metadata": {
    "vscode": {
     "languageId": "r"
    }
   },
   "outputs": [
    {
     "name": "stdout",
     "output_type": "stream",
     "text": [
      "Rows: 18,249\n",
      "Columns: 13\n",
      "$ date             \u001b[3m\u001b[90m<date>\u001b[39m\u001b[23m 2015-12-27, 2015-12-20, 2015-12-13, 2015-12-06, 2015…\n",
      "$ avg_price        \u001b[3m\u001b[90m<dbl>\u001b[39m\u001b[23m 1.33, 1.35, 0.93, 1.08, 1.28, 1.26, 0.99, 0.98, 1.02,…\n",
      "$ vol_total        \u001b[3m\u001b[90m<dbl>\u001b[39m\u001b[23m 64236.62, 54876.98, 118220.22, 78992.15, 51039.60, 55…\n",
      "$ vol_4046         \u001b[3m\u001b[90m<dbl>\u001b[39m\u001b[23m 1036.74, 674.28, 794.70, 1132.00, 941.48, 1184.27, 13…\n",
      "$ vol_4225         \u001b[3m\u001b[90m<dbl>\u001b[39m\u001b[23m 54454.85, 44638.81, 109149.67, 71976.41, 43838.39, 48…\n",
      "$ vol_4770         \u001b[3m\u001b[90m<dbl>\u001b[39m\u001b[23m 48.16, 58.33, 130.50, 72.58, 75.78, 43.61, 93.26, 80.…\n",
      "$ bags_total       \u001b[3m\u001b[90m<dbl>\u001b[39m\u001b[23m 8696.87, 9505.56, 8145.35, 5811.16, 6183.95, 6683.91,…\n",
      "$ bags_small       \u001b[3m\u001b[90m<dbl>\u001b[39m\u001b[23m 8603.62, 9408.07, 8042.21, 5677.40, 5986.26, 6556.47,…\n",
      "$ bags_large       \u001b[3m\u001b[90m<dbl>\u001b[39m\u001b[23m 93.25, 97.49, 103.14, 133.76, 197.69, 127.44, 122.05,…\n",
      "$ bags_xl          \u001b[3m\u001b[90m<dbl>\u001b[39m\u001b[23m 0.00, 0.00, 0.00, 0.00, 0.00, 0.00, 0.00, 0.00, 0.00,…\n",
      "$ pricing_strategy \u001b[3m\u001b[90m<chr>\u001b[39m\u001b[23m \"conventional\", \"conventional\", \"conventional\", \"conv…\n",
      "$ year             \u001b[3m\u001b[90m<dbl>\u001b[39m\u001b[23m 2015, 2015, 2015, 2015, 2015, 2015, 2015, 2015, 2015,…\n",
      "$ region           \u001b[3m\u001b[90m<chr>\u001b[39m\u001b[23m \"Albany\", \"Albany\", \"Albany\", \"Albany\", \"Albany\", \"Al…\n"
     ]
    }
   ],
   "source": [
    "# Rename the columns\n",
    "avd_cleaned <- avd_cleaned |>\n",
    "  \n",
    "  # Rename\n",
    "  rename(date = Date,\n",
    "         avg_price = AveragePrice,\n",
    "         vol_total = `Total Volume`,\n",
    "         vol_4046 = `4046`,\n",
    "         vol_4225 = `4225`,\n",
    "         vol_4770 = `4770`,\n",
    "         bags_total = `Total Bags`,\n",
    "         bags_small = `Small Bags`,\n",
    "         bags_large = `Large Bags`,\n",
    "         bags_xl = `XLarge Bags`,\n",
    "         pricing_strategy = type,\n",
    "         year = year,\n",
    "         region = region)\n",
    "\n",
    "# Check the results\n",
    "glimpse(avd_cleaned)"
   ]
  },
  {
   "cell_type": "markdown",
   "id": "da66ecfd",
   "metadata": {},
   "source": [
    "#### 2.2.3 Convert `date` to Date"
   ]
  },
  {
   "cell_type": "code",
   "execution_count": 70,
   "id": "02bbbed2",
   "metadata": {
    "vscode": {
     "languageId": "r"
    }
   },
   "outputs": [
    {
     "name": "stdout",
     "output_type": "stream",
     "text": [
      "Rows: 18,249\n",
      "Columns: 13\n",
      "$ date             \u001b[3m\u001b[90m<date>\u001b[39m\u001b[23m 2015-12-27, 2015-12-20, 2015-12-13, 2015-12-06, 2015…\n",
      "$ avg_price        \u001b[3m\u001b[90m<dbl>\u001b[39m\u001b[23m 1.33, 1.35, 0.93, 1.08, 1.28, 1.26, 0.99, 0.98, 1.02,…\n",
      "$ vol_total        \u001b[3m\u001b[90m<dbl>\u001b[39m\u001b[23m 64236.62, 54876.98, 118220.22, 78992.15, 51039.60, 55…\n",
      "$ vol_4046         \u001b[3m\u001b[90m<dbl>\u001b[39m\u001b[23m 1036.74, 674.28, 794.70, 1132.00, 941.48, 1184.27, 13…\n",
      "$ vol_4225         \u001b[3m\u001b[90m<dbl>\u001b[39m\u001b[23m 54454.85, 44638.81, 109149.67, 71976.41, 43838.39, 48…\n",
      "$ vol_4770         \u001b[3m\u001b[90m<dbl>\u001b[39m\u001b[23m 48.16, 58.33, 130.50, 72.58, 75.78, 43.61, 93.26, 80.…\n",
      "$ bags_total       \u001b[3m\u001b[90m<dbl>\u001b[39m\u001b[23m 8696.87, 9505.56, 8145.35, 5811.16, 6183.95, 6683.91,…\n",
      "$ bags_small       \u001b[3m\u001b[90m<dbl>\u001b[39m\u001b[23m 8603.62, 9408.07, 8042.21, 5677.40, 5986.26, 6556.47,…\n",
      "$ bags_large       \u001b[3m\u001b[90m<dbl>\u001b[39m\u001b[23m 93.25, 97.49, 103.14, 133.76, 197.69, 127.44, 122.05,…\n",
      "$ bags_xl          \u001b[3m\u001b[90m<dbl>\u001b[39m\u001b[23m 0.00, 0.00, 0.00, 0.00, 0.00, 0.00, 0.00, 0.00, 0.00,…\n",
      "$ pricing_strategy \u001b[3m\u001b[90m<chr>\u001b[39m\u001b[23m \"conventional\", \"conventional\", \"conventional\", \"conv…\n",
      "$ year             \u001b[3m\u001b[90m<dbl>\u001b[39m\u001b[23m 2015, 2015, 2015, 2015, 2015, 2015, 2015, 2015, 2015,…\n",
      "$ region           \u001b[3m\u001b[90m<chr>\u001b[39m\u001b[23m \"Albany\", \"Albany\", \"Albany\", \"Albany\", \"Albany\", \"Al…\n"
     ]
    }
   ],
   "source": [
    "# Convert `date` to Date\n",
    "avd_cleaned$date <- as.Date(avd_cleaned$date)\n",
    "\n",
    "# Check the results\n",
    "glimpse(avd_cleaned)"
   ]
  },
  {
   "cell_type": "markdown",
   "id": "00cf4251",
   "metadata": {},
   "source": [
    "#### 2.2.4 Extract Months From `date`"
   ]
  },
  {
   "cell_type": "code",
   "execution_count": null,
   "id": "a3741624",
   "metadata": {
    "vscode": {
     "languageId": "r"
    }
   },
   "outputs": [
    {
     "name": "stdout",
     "output_type": "stream",
     "text": [
      "Rows: 18,249\n",
      "Columns: 14\n",
      "$ date             \u001b[3m\u001b[90m<date>\u001b[39m\u001b[23m 2015-12-27, 2015-12-20, 2015-12-13, 2015-12-06, 2015…\n",
      "$ avg_price        \u001b[3m\u001b[90m<dbl>\u001b[39m\u001b[23m 1.33, 1.35, 0.93, 1.08, 1.28, 1.26, 0.99, 0.98, 1.02,…\n",
      "$ vol_total        \u001b[3m\u001b[90m<dbl>\u001b[39m\u001b[23m 64236.62, 54876.98, 118220.22, 78992.15, 51039.60, 55…\n",
      "$ vol_4046         \u001b[3m\u001b[90m<dbl>\u001b[39m\u001b[23m 1036.74, 674.28, 794.70, 1132.00, 941.48, 1184.27, 13…\n",
      "$ vol_4225         \u001b[3m\u001b[90m<dbl>\u001b[39m\u001b[23m 54454.85, 44638.81, 109149.67, 71976.41, 43838.39, 48…\n",
      "$ vol_4770         \u001b[3m\u001b[90m<dbl>\u001b[39m\u001b[23m 48.16, 58.33, 130.50, 72.58, 75.78, 43.61, 93.26, 80.…\n",
      "$ bags_total       \u001b[3m\u001b[90m<dbl>\u001b[39m\u001b[23m 8696.87, 9505.56, 8145.35, 5811.16, 6183.95, 6683.91,…\n",
      "$ bags_small       \u001b[3m\u001b[90m<dbl>\u001b[39m\u001b[23m 8603.62, 9408.07, 8042.21, 5677.40, 5986.26, 6556.47,…\n",
      "$ bags_large       \u001b[3m\u001b[90m<dbl>\u001b[39m\u001b[23m 93.25, 97.49, 103.14, 133.76, 197.69, 127.44, 122.05,…\n",
      "$ bags_xl          \u001b[3m\u001b[90m<dbl>\u001b[39m\u001b[23m 0.00, 0.00, 0.00, 0.00, 0.00, 0.00, 0.00, 0.00, 0.00,…\n",
      "$ pricing_strategy \u001b[3m\u001b[90m<chr>\u001b[39m\u001b[23m \"conventional\", \"conventional\", \"conventional\", \"conv…\n",
      "$ year             \u001b[3m\u001b[90m<dbl>\u001b[39m\u001b[23m 2015, 2015, 2015, 2015, 2015, 2015, 2015, 2015, 2015,…\n",
      "$ region           \u001b[3m\u001b[90m<chr>\u001b[39m\u001b[23m \"Albany\", \"Albany\", \"Albany\", \"Albany\", \"Albany\", \"Al…\n",
      "$ month            \u001b[3m\u001b[90m<ord>\u001b[39m\u001b[23m December, December, December, December, November, Nov…\n"
     ]
    }
   ],
   "source": [
    "# Extract month from `date`\n",
    "avd_cleaned$month <- format(avd_cleaned$date,\n",
    "                            \"%B\")\n",
    "\n",
    "# Convert `month` to factor\n",
    "avd_cleaned$month <- factor(avd_cleaned$month,\n",
    "                            levels = month.name,\n",
    "                            ordered = TRUE)\n",
    "\n",
    "# Check the results\n",
    "glimpse(avd_cleaned)"
   ]
  },
  {
   "cell_type": "markdown",
   "id": "c20e9945",
   "metadata": {},
   "source": [
    "#### 2.2.5 Group `region` into Meaningful Groups"
   ]
  },
  {
   "cell_type": "code",
   "execution_count": 72,
   "id": "1a71347b",
   "metadata": {
    "vscode": {
     "languageId": "r"
    }
   },
   "outputs": [
    {
     "name": "stdout",
     "output_type": "stream",
     "text": [
      "Rows: 18,249\n",
      "Columns: 15\n",
      "$ date             \u001b[3m\u001b[90m<date>\u001b[39m\u001b[23m 2015-12-27, 2015-12-20, 2015-12-13, 2015-12-06, 2015…\n",
      "$ avg_price        \u001b[3m\u001b[90m<dbl>\u001b[39m\u001b[23m 1.33, 1.35, 0.93, 1.08, 1.28, 1.26, 0.99, 0.98, 1.02,…\n",
      "$ vol_total        \u001b[3m\u001b[90m<dbl>\u001b[39m\u001b[23m 64236.62, 54876.98, 118220.22, 78992.15, 51039.60, 55…\n",
      "$ vol_4046         \u001b[3m\u001b[90m<dbl>\u001b[39m\u001b[23m 1036.74, 674.28, 794.70, 1132.00, 941.48, 1184.27, 13…\n",
      "$ vol_4225         \u001b[3m\u001b[90m<dbl>\u001b[39m\u001b[23m 54454.85, 44638.81, 109149.67, 71976.41, 43838.39, 48…\n",
      "$ vol_4770         \u001b[3m\u001b[90m<dbl>\u001b[39m\u001b[23m 48.16, 58.33, 130.50, 72.58, 75.78, 43.61, 93.26, 80.…\n",
      "$ bags_total       \u001b[3m\u001b[90m<dbl>\u001b[39m\u001b[23m 8696.87, 9505.56, 8145.35, 5811.16, 6183.95, 6683.91,…\n",
      "$ bags_small       \u001b[3m\u001b[90m<dbl>\u001b[39m\u001b[23m 8603.62, 9408.07, 8042.21, 5677.40, 5986.26, 6556.47,…\n",
      "$ bags_large       \u001b[3m\u001b[90m<dbl>\u001b[39m\u001b[23m 93.25, 97.49, 103.14, 133.76, 197.69, 127.44, 122.05,…\n",
      "$ bags_xl          \u001b[3m\u001b[90m<dbl>\u001b[39m\u001b[23m 0.00, 0.00, 0.00, 0.00, 0.00, 0.00, 0.00, 0.00, 0.00,…\n",
      "$ pricing_strategy \u001b[3m\u001b[90m<chr>\u001b[39m\u001b[23m \"conventional\", \"conventional\", \"conventional\", \"conv…\n",
      "$ year             \u001b[3m\u001b[90m<dbl>\u001b[39m\u001b[23m 2015, 2015, 2015, 2015, 2015, 2015, 2015, 2015, 2015,…\n",
      "$ region           \u001b[3m\u001b[90m<chr>\u001b[39m\u001b[23m \"Albany\", \"Albany\", \"Albany\", \"Albany\", \"Albany\", \"Al…\n",
      "$ month            \u001b[3m\u001b[90m<ord>\u001b[39m\u001b[23m December, December, December, December, November, Nov…\n",
      "$ region_group     \u001b[3m\u001b[90m<chr>\u001b[39m\u001b[23m \"Northeast\", \"Northeast\", \"Northeast\", \"Northeast\", \"…\n"
     ]
    }
   ],
   "source": [
    "# Group region into more meaningful regions\n",
    "\n",
    "# Create a data frame for region grouping\n",
    "region_groups <- data.frame(\n",
    "  region = c(\n",
    "    \"Albany\", \"Atlanta\", \"BaltimoreWashington\", \"Boise\", \"Boston\", \"BuffaloRochester\",\n",
    "    \"California\", \"Charlotte\", \"Chicago\", \"CincinnatiDayton\", \"Columbus\", \"DallasFtWorth\",\n",
    "    \"Denver\", \"Detroit\", \"GrandRapids\", \"GreatLakes\", \"HarrisburgScranton\", \"HartfordSpringfield\",\n",
    "    \"Houston\", \"Indianapolis\", \"Jacksonville\", \"LasVegas\", \"LosAngeles\", \"Louisville\",\n",
    "    \"MiamiFtLauderdale\", \"Midsouth\", \"Nashville\", \"NewOrleansMobile\", \"NewYork\", \"Northeast\",\n",
    "    \"NorthernNewEngland\", \"Orlando\", \"Philadelphia\", \"PhoenixTucson\", \"Pittsburgh\", \"Plains\",\n",
    "    \"Portland\", \"RaleighGreensboro\", \"RichmondNorfolk\", \"Roanoke\", \"Sacramento\", \"SanDiego\",\n",
    "    \"SanFrancisco\", \"Seattle\", \"SouthCarolina\", \"SouthCentral\", \"Southeast\", \"Spokane\",\n",
    "    \"StLouis\", \"Syracuse\", \"Tampa\", \"TotalUS\", \"West\", \"WestTexNewMexico\"\n",
    "  ),\n",
    "  region_group = c(\n",
    "    \"Northeast\", \"South\", \"Northeast\", \"West\", \"Northeast\", \"Northeast\",\n",
    "    \"West\", \"South\", \"Midwest\", \"Midwest\", \"Midwest\", \"South\",\n",
    "    \"West\", \"Midwest\", \"Midwest\", \"Midwest\", \"Northeast\", \"Northeast\",\n",
    "    \"South\", \"Midwest\", \"South\", \"West\", \"West\", \"Midwest\",\n",
    "    \"South\", \"South\", \"South\", \"South\", \"Northeast\", \"Northeast\",\n",
    "    \"Northeast\", \"South\", \"Northeast\", \"West\", \"Northeast\", \"Midwest\",\n",
    "    \"West\", \"South\", \"South\", \"South\", \"West\", \"West\",\n",
    "    \"West\", \"West\", \"South\", \"South\", \"South\", \"West\",\n",
    "    \"Midwest\", \"Northeast\", \"South\", \"National\", \"West\", \"South\"\n",
    "  )\n",
    ")\n",
    "\n",
    "# Left join\n",
    "avd_cleaned <- left_join(avd_cleaned,\n",
    "                         region_groups,\n",
    "                         by = \"region\")\n",
    "\n",
    "# Check the results\n",
    "glimpse(avd_cleaned)\n"
   ]
  },
  {
   "cell_type": "markdown",
   "id": "5ba21234",
   "metadata": {},
   "source": [
    "#### 2.2.6 Convert character Columns to factor"
   ]
  },
  {
   "cell_type": "code",
   "execution_count": 73,
   "id": "e9938615",
   "metadata": {
    "vscode": {
     "languageId": "r"
    }
   },
   "outputs": [
    {
     "name": "stdout",
     "output_type": "stream",
     "text": [
      "Rows: 18,249\n",
      "Columns: 15\n",
      "$ date             \u001b[3m\u001b[90m<date>\u001b[39m\u001b[23m 2015-12-27, 2015-12-20, 2015-12-13, 2015-12-06, 2015…\n",
      "$ avg_price        \u001b[3m\u001b[90m<dbl>\u001b[39m\u001b[23m 1.33, 1.35, 0.93, 1.08, 1.28, 1.26, 0.99, 0.98, 1.02,…\n",
      "$ vol_total        \u001b[3m\u001b[90m<dbl>\u001b[39m\u001b[23m 64236.62, 54876.98, 118220.22, 78992.15, 51039.60, 55…\n",
      "$ vol_4046         \u001b[3m\u001b[90m<dbl>\u001b[39m\u001b[23m 1036.74, 674.28, 794.70, 1132.00, 941.48, 1184.27, 13…\n",
      "$ vol_4225         \u001b[3m\u001b[90m<dbl>\u001b[39m\u001b[23m 54454.85, 44638.81, 109149.67, 71976.41, 43838.39, 48…\n",
      "$ vol_4770         \u001b[3m\u001b[90m<dbl>\u001b[39m\u001b[23m 48.16, 58.33, 130.50, 72.58, 75.78, 43.61, 93.26, 80.…\n",
      "$ bags_total       \u001b[3m\u001b[90m<dbl>\u001b[39m\u001b[23m 8696.87, 9505.56, 8145.35, 5811.16, 6183.95, 6683.91,…\n",
      "$ bags_small       \u001b[3m\u001b[90m<dbl>\u001b[39m\u001b[23m 8603.62, 9408.07, 8042.21, 5677.40, 5986.26, 6556.47,…\n",
      "$ bags_large       \u001b[3m\u001b[90m<dbl>\u001b[39m\u001b[23m 93.25, 97.49, 103.14, 133.76, 197.69, 127.44, 122.05,…\n",
      "$ bags_xl          \u001b[3m\u001b[90m<dbl>\u001b[39m\u001b[23m 0.00, 0.00, 0.00, 0.00, 0.00, 0.00, 0.00, 0.00, 0.00,…\n",
      "$ pricing_strategy \u001b[3m\u001b[90m<fct>\u001b[39m\u001b[23m conventional, conventional, conventional, conventiona…\n",
      "$ year             \u001b[3m\u001b[90m<dbl>\u001b[39m\u001b[23m 2015, 2015, 2015, 2015, 2015, 2015, 2015, 2015, 2015,…\n",
      "$ region           \u001b[3m\u001b[90m<fct>\u001b[39m\u001b[23m Albany, Albany, Albany, Albany, Albany, Albany, Alban…\n",
      "$ month            \u001b[3m\u001b[90m<ord>\u001b[39m\u001b[23m December, December, December, December, November, Nov…\n",
      "$ region_group     \u001b[3m\u001b[90m<fct>\u001b[39m\u001b[23m Northeast, Northeast, Northeast, Northeast, Northeast…\n"
     ]
    }
   ],
   "source": [
    "# Convert character columns to factor\n",
    "avd_cleaned <- avd_cleaned |>\n",
    "  \n",
    "  # Convert to factor\n",
    "  mutate(across(where(is.character),\n",
    "                as.factor))\n",
    "\n",
    "# Check the results\n",
    "glimpse(avd_cleaned)"
   ]
  },
  {
   "cell_type": "markdown",
   "id": "1b524a6d",
   "metadata": {},
   "source": [
    "#### 2.2.7 Re-arrange the Columns"
   ]
  },
  {
   "cell_type": "code",
   "execution_count": null,
   "id": "bf90607e",
   "metadata": {
    "vscode": {
     "languageId": "r"
    }
   },
   "outputs": [
    {
     "name": "stdout",
     "output_type": "stream",
     "text": [
      "Rows: 18,249\n",
      "Columns: 15\n",
      "$ date             \u001b[3m\u001b[90m<date>\u001b[39m\u001b[23m 2015-12-27, 2015-12-20, 2015-12-13, 2015-12-06, 2015…\n",
      "$ year             \u001b[3m\u001b[90m<dbl>\u001b[39m\u001b[23m 2015, 2015, 2015, 2015, 2015, 2015, 2015, 2015, 2015,…\n",
      "$ month            \u001b[3m\u001b[90m<ord>\u001b[39m\u001b[23m December, December, December, December, November, Nov…\n",
      "$ region           \u001b[3m\u001b[90m<fct>\u001b[39m\u001b[23m Albany, Albany, Albany, Albany, Albany, Albany, Alban…\n",
      "$ region_group     \u001b[3m\u001b[90m<fct>\u001b[39m\u001b[23m Northeast, Northeast, Northeast, Northeast, Northeast…\n",
      "$ vol_total        \u001b[3m\u001b[90m<dbl>\u001b[39m\u001b[23m 64236.62, 54876.98, 118220.22, 78992.15, 51039.60, 55…\n",
      "$ vol_4046         \u001b[3m\u001b[90m<dbl>\u001b[39m\u001b[23m 1036.74, 674.28, 794.70, 1132.00, 941.48, 1184.27, 13…\n",
      "$ vol_4225         \u001b[3m\u001b[90m<dbl>\u001b[39m\u001b[23m 54454.85, 44638.81, 109149.67, 71976.41, 43838.39, 48…\n",
      "$ vol_4770         \u001b[3m\u001b[90m<dbl>\u001b[39m\u001b[23m 48.16, 58.33, 130.50, 72.58, 75.78, 43.61, 93.26, 80.…\n",
      "$ bags_total       \u001b[3m\u001b[90m<dbl>\u001b[39m\u001b[23m 8696.87, 9505.56, 8145.35, 5811.16, 6183.95, 6683.91,…\n",
      "$ bags_small       \u001b[3m\u001b[90m<dbl>\u001b[39m\u001b[23m 8603.62, 9408.07, 8042.21, 5677.40, 5986.26, 6556.47,…\n",
      "$ bags_large       \u001b[3m\u001b[90m<dbl>\u001b[39m\u001b[23m 93.25, 97.49, 103.14, 133.76, 197.69, 127.44, 122.05,…\n",
      "$ bags_xl          \u001b[3m\u001b[90m<dbl>\u001b[39m\u001b[23m 0.00, 0.00, 0.00, 0.00, 0.00, 0.00, 0.00, 0.00, 0.00,…\n",
      "$ pricing_strategy \u001b[3m\u001b[90m<fct>\u001b[39m\u001b[23m conventional, conventional, conventional, conventiona…\n",
      "$ avg_price        \u001b[3m\u001b[90m<dbl>\u001b[39m\u001b[23m 1.33, 1.35, 0.93, 1.08, 1.28, 1.26, 0.99, 0.98, 1.02,…\n"
     ]
    }
   ],
   "source": [
    "# Re-arrange the columns\n",
    "avd_cleaned <- avd_cleaned |>\n",
    "  \n",
    "  ## Select the columns\n",
    "  select(date, year, month, dow,\n",
    "         region_group, region,\n",
    "         vol_total, vol_4046, vol_4225, vol_4770,\n",
    "         bags_total, bags_small, bags_large, bags_xl,\n",
    "         pricing_strategy, avg_price)\n",
    "\n",
    "# Check the results\n",
    "glimpse(avd_cleaned)\n"
   ]
  },
  {
   "cell_type": "markdown",
   "id": "3f35ceeb",
   "metadata": {},
   "source": [
    "#### 2.2.8 Check for Missing Values"
   ]
  },
  {
   "cell_type": "code",
   "execution_count": 75,
   "id": "d2226562",
   "metadata": {
    "vscode": {
     "languageId": "r"
    }
   },
   "outputs": [
    {
     "data": {
      "text/html": [
       "FALSE"
      ],
      "text/latex": [
       "FALSE"
      ],
      "text/markdown": [
       "FALSE"
      ],
      "text/plain": [
       "[1] FALSE"
      ]
     },
     "metadata": {},
     "output_type": "display_data"
    }
   ],
   "source": [
    "# Check for missing values\n",
    "anyNA(avd_cleaned)"
   ]
  },
  {
   "cell_type": "markdown",
   "id": "1ba3a731",
   "metadata": {},
   "source": [
    "Comments:\n",
    "- No missing values found."
   ]
  },
  {
   "cell_type": "markdown",
   "id": "fd4cdd02",
   "metadata": {},
   "source": [
    "## 3. Exploratory Data Analaysis (EDA)"
   ]
  },
  {
   "cell_type": "markdown",
   "id": "a7222e56",
   "metadata": {},
   "source": [
    "### 3.1 Overview"
   ]
  },
  {
   "cell_type": "markdown",
   "id": "c4e6abea",
   "metadata": {},
   "source": [
    "#### 3.1.1 Summary Statistics"
   ]
  },
  {
   "cell_type": "code",
   "execution_count": 76,
   "id": "809eff95",
   "metadata": {
    "vscode": {
     "languageId": "r"
    }
   },
   "outputs": [
    {
     "data": {
      "text/plain": [
       "      date                 year           month     \n",
       " Min.   :2015-01-04   Min.   :2015   January :1944  \n",
       " 1st Qu.:2015-10-25   1st Qu.:2015   March   :1836  \n",
       " Median :2016-08-14   Median :2016   February:1728  \n",
       " Mean   :2016-08-13   Mean   :2016   May     :1512  \n",
       " 3rd Qu.:2017-06-04   3rd Qu.:2017   July    :1512  \n",
       " Max.   :2018-03-25   Max.   :2018   October :1512  \n",
       "                                     (Other) :8205  \n",
       "                 region         region_group    vol_total       \n",
       " Albany             :  338   Midwest  :3380   Min.   :      85  \n",
       " Atlanta            :  338   National : 338   1st Qu.:   10839  \n",
       " BaltimoreWashington:  338   Northeast:4056   Median :  107377  \n",
       " Boise              :  338   South    :6081   Mean   :  850644  \n",
       " Boston             :  338   West     :4394   3rd Qu.:  432962  \n",
       " BuffaloRochester   :  338                    Max.   :62505647  \n",
       " (Other)            :16221                                      \n",
       "    vol_4046           vol_4225           vol_4770         bags_total      \n",
       " Min.   :       0   Min.   :       0   Min.   :      0   Min.   :       0  \n",
       " 1st Qu.:     854   1st Qu.:    3009   1st Qu.:      0   1st Qu.:    5089  \n",
       " Median :    8645   Median :   29061   Median :    185   Median :   39744  \n",
       " Mean   :  293008   Mean   :  295155   Mean   :  22840   Mean   :  239639  \n",
       " 3rd Qu.:  111020   3rd Qu.:  150207   3rd Qu.:   6243   3rd Qu.:  110783  \n",
       " Max.   :22743616   Max.   :20470573   Max.   :2546439   Max.   :19373134  \n",
       "                                                                           \n",
       "   bags_small         bags_large         bags_xl             pricing_strategy\n",
       " Min.   :       0   Min.   :      0   Min.   :     0.0   conventional:9126   \n",
       " 1st Qu.:    2849   1st Qu.:    127   1st Qu.:     0.0   organic     :9123   \n",
       " Median :   26363   Median :   2648   Median :     0.0                       \n",
       " Mean   :  182195   Mean   :  54338   Mean   :  3106.4                       \n",
       " 3rd Qu.:   83338   3rd Qu.:  22029   3rd Qu.:   132.5                       \n",
       " Max.   :13384587   Max.   :5719097   Max.   :551693.7                       \n",
       "                                                                             \n",
       "   avg_price    \n",
       " Min.   :0.440  \n",
       " 1st Qu.:1.100  \n",
       " Median :1.370  \n",
       " Mean   :1.406  \n",
       " 3rd Qu.:1.660  \n",
       " Max.   :3.250  \n",
       "                "
      ]
     },
     "metadata": {},
     "output_type": "display_data"
    }
   ],
   "source": [
    "# See summary stats\n",
    "summary(avd_cleaned)"
   ]
  },
  {
   "cell_type": "markdown",
   "id": "f076b71a",
   "metadata": {},
   "source": [
    "#### 3.1.2 Correlation Matrix"
   ]
  },
  {
   "cell_type": "code",
   "execution_count": null,
   "id": "e4f0dcf7",
   "metadata": {
    "vscode": {
     "languageId": "r"
    }
   },
   "outputs": [
    {
     "data": {
      "image/png": "[encoded data removed]",
      "text/plain": [
       "plot without title"
      ]
     },
     "metadata": {
      "image/png": {
       "height": 420,
       "width": 420
      }
     },
     "output_type": "display_data"
    }
   ],
   "source": [
    "# Create a correlation matrix\n",
    "avd_cleaned |>\n",
    "  \n",
    "  # Select numeric columns\n",
    "  select(where(is.numeric)) |>\n",
    "  \n",
    "  # Create a correlation matrix\n",
    "  cor(use = \"complete.obs\") |>\n",
    "  \n",
    "  # Visualise\n",
    "  ggcorrplot(lab = TRUE,\n",
    "             type = \"lower\",\n",
    "             colors = c(\"skyblue\", \"white\", \"darkgreen\"),\n",
    "             lab_size = 2)"
   ]
  },
  {
   "cell_type": "markdown",
   "id": "ecf472d1",
   "metadata": {},
   "source": [
    "Comments:\n",
    "- The correlations between `avg_price` and other variables range from 0.08 to 0.21.\n",
    "- `year` shows the weakest correlation at 0.09.\n",
    "- `vol_4046` shows the strongest correlation at -0.21.\n",
    "- The magnitude of the correlations suggest that price may stem from a combination of factors, rather than any single factor alone.\n",
    "- Additionally, many factors overlap greatly, for example, `vol_total` and other factor related to the number of sales such as `vol_4046`."
   ]
  },
  {
   "cell_type": "markdown",
   "id": "8515cfad",
   "metadata": {},
   "source": [
    "### 3.1.3 Distribution of Price"
   ]
  },
  {
   "cell_type": "code",
   "execution_count": 78,
   "id": "72cb5242",
   "metadata": {
    "vscode": {
     "languageId": "r"
    }
   },
   "outputs": [
    {
     "data": {
      "image/png": "[encoded data removed]",
      "text/plain": [
       "plot without title"
      ]
     },
     "metadata": {
      "image/png": {
       "height": 420,
       "width": 420
      }
     },
     "output_type": "display_data"
    }
   ],
   "source": [
    "# Visualise the distribution of price\n",
    "avd_cleaned |>\n",
    "  \n",
    "  # Aesthetic mapping\n",
    "  ggplot(aes(x = avg_price)) +\n",
    "  \n",
    "  # Instantiate a box plot\n",
    "  geom_histogram(binwidth = 0.1,\n",
    "                 fill = \"#7ea122\") +\n",
    "  \n",
    "  # Add text elements\n",
    "  labs(title = \"Distribution of Average Price\") +\n",
    "  \n",
    "  # Adjust theme to minimal\n",
    "  theme_minimal()"
   ]
  },
  {
   "cell_type": "markdown",
   "id": "bd2d9bf4",
   "metadata": {},
   "source": [
    "Comments:\n",
    "- The distribution appears normally distributed.\n",
    "- This is in line with the `summary()` results which shows that median (1.370) and mean (1.406) are very close to one another."
   ]
  },
  {
   "cell_type": "markdown",
   "id": "7c5fc73b",
   "metadata": {},
   "source": [
    "### 3.2 Price vs Time"
   ]
  },
  {
   "cell_type": "markdown",
   "id": "acae2d96",
   "metadata": {},
   "source": [
    "#### 3.2.1 Price Across the Years"
   ]
  },
  {
   "cell_type": "code",
   "execution_count": 80,
   "id": "968f97f5",
   "metadata": {
    "vscode": {
     "languageId": "r"
    }
   },
   "outputs": [
    {
     "data": {
      "image/png": "[encoded data removed]",
      "text/plain": [
       "plot without title"
      ]
     },
     "metadata": {
      "image/png": {
       "height": 420,
       "width": 420
      }
     },
     "output_type": "display_data"
    }
   ],
   "source": [
    "# Price vs year\n",
    "avd_cleaned |>\n",
    "  \n",
    "  # Group by year\n",
    "  group_by(year) |>\n",
    "  \n",
    "  # Compute mean price per year\n",
    "  summarise(mean_price = mean(avg_price)) |>\n",
    "  \n",
    "  # Ungroup\n",
    "  ungroup() |>\n",
    "  \n",
    "  # Aesthetic mapping\n",
    "  ggplot(aes(x = year,\n",
    "             y = mean_price)) +\n",
    "  \n",
    "  # Instantiate a line plot\n",
    "  geom_line(color = \"#7ea122\") +\n",
    "  \n",
    "  # Add annotation\n",
    "  geom_text(aes(label = paste(round(mean_price, 2), \"USD\")),\n",
    "            nudge_y = 0.02,\n",
    "            size = 3) +\n",
    "  \n",
    "  # Add text elements\n",
    "  labs(title = \"Distribution of Average Price\",\n",
    "       x = \"Average Price (USD)\",\n",
    "       y = \"Frequency\") +\n",
    "  \n",
    "  # Adjust theme to minimal\n",
    "  theme_minimal()"
   ]
  },
  {
   "cell_type": "markdown",
   "id": "40e30064",
   "metadata": {},
   "source": [
    "Comments:\n",
    "- Avocado price was highest in 2017, at 1.52 USD, and lowest in 2016, at 1.34 USD."
   ]
  },
  {
   "cell_type": "markdown",
   "id": "831eb002",
   "metadata": {},
   "source": [
    "#### 3.2.2 Price Across the Months"
   ]
  },
  {
   "cell_type": "code",
   "execution_count": 81,
   "id": "fd10d1aa",
   "metadata": {
    "vscode": {
     "languageId": "r"
    }
   },
   "outputs": [
    {
     "data": {
      "image/png": "[encoded data removed]",
      "text/plain": [
       "plot without title"
      ]
     },
     "metadata": {
      "image/png": {
       "height": 420,
       "width": 420
      }
     },
     "output_type": "display_data"
    }
   ],
   "source": [
    "# Price vs month\n",
    "avd_cleaned |>\n",
    "  \n",
    "  # Group by month\n",
    "  group_by(month) |>\n",
    "  \n",
    "  # Compute mean price per month\n",
    "  summarise(mean_price = mean(avg_price)) |>\n",
    "  \n",
    "  # Ungroup\n",
    "  ungroup() |>\n",
    "  \n",
    "  # Aesthetic mapping\n",
    "  ggplot(aes(x = month,\n",
    "             y = mean_price,\n",
    "             fill = month)) +\n",
    "  \n",
    "  # Instantiate a bar plot\n",
    "  geom_col() +\n",
    "  \n",
    "  # Add a trend line\n",
    "  geom_line(aes(group = 1),\n",
    "            color = \"red\",\n",
    "            linewidth = 1) +\n",
    "  \n",
    "  # Add annotation\n",
    "  geom_text(aes(label = paste(round(mean_price, 2), \"USD\")),\n",
    "            position = position_dodge(width = 0.9),\n",
    "            vjust = -0.5,\n",
    "            size = 3) +\n",
    "  \n",
    "  # Add text elements\n",
    "  labs(title = \"Avocado Price Per month\",\n",
    "       x = \"Month\",\n",
    "       y = \"Average Price\") +\n",
    "  \n",
    "  # Adjust theme to minimal\n",
    "  theme_minimal() +\n",
    "  \n",
    "  # Adjust x ticks\n",
    "  theme(axis.text.x = element_text(angle = 45,\n",
    "                                   hjust = 1))"
   ]
  },
  {
   "cell_type": "markdown",
   "id": "e982c34f",
   "metadata": {},
   "source": [
    "Comments:\n",
    "- The lowest price is in February, at 1.27 USD.\n",
    "- The highest price is in October, at 1.58 USD.\n",
    "- Throughout a year, the average price rises steadily, dipping twice, in February and May, until reaching a peak in October and then drops steadily for the rest of the year."
   ]
  },
  {
   "cell_type": "markdown",
   "id": "09f1436f",
   "metadata": {},
   "source": [
    "### 3.3 Price vs Region Group"
   ]
  },
  {
   "cell_type": "code",
   "execution_count": 82,
   "id": "7b430257",
   "metadata": {
    "vscode": {
     "languageId": "r"
    }
   },
   "outputs": [
    {
     "data": {
      "image/png": "[encoded data removed]",
      "text/plain": [
       "plot without title"
      ]
     },
     "metadata": {
      "image/png": {
       "height": 420,
       "width": 420
      }
     },
     "output_type": "display_data"
    }
   ],
   "source": [
    "# Price vs region group\n",
    "avd_cleaned |>\n",
    "  \n",
    "  # Group by region group\n",
    "  group_by(region_group) |>\n",
    "  \n",
    "  # Compute mean price per region group\n",
    "  summarise(mean_price = mean(avg_price)) |>\n",
    "  \n",
    "  # Ungroup\n",
    "  ungroup() |>\n",
    "  \n",
    "  # Order by mean price\n",
    "  mutate(region_group = fct_reorder(region_group,\n",
    "                                    mean_price,\n",
    "                                    .desc = TRUE)) |>\n",
    "  \n",
    "  # Aesthetic mapping\n",
    "  ggplot(aes(x = region_group,\n",
    "             y = mean_price,\n",
    "             fill = region_group)) +\n",
    "  \n",
    "  # Instantiate a bar plot\n",
    "  geom_col() +\n",
    "  \n",
    "  # Add annotation\n",
    "  geom_text(aes(label = paste(round(mean_price, 2), \"USD\")),\n",
    "            position = position_dodge(width = 0.9),\n",
    "            vjust = -0.5,\n",
    "            size = 3) +\n",
    "  \n",
    "  # Add text elements\n",
    "  labs(title = \"Avocado Price Per Major Region\",\n",
    "       x = \"Major Region\",\n",
    "       y = \"Average Price\") +\n",
    "  \n",
    "  # Adjust theme to minimal\n",
    "  theme_minimal()\n"
   ]
  },
  {
   "cell_type": "markdown",
   "id": "8f68fc68",
   "metadata": {},
   "source": [
    "Comments:\n",
    "- Northeast region has the highest price on average (1.57 USD).\n",
    "- The other regions have similar pricing levels (between 1.32 and 1.39 USD)."
   ]
  },
  {
   "cell_type": "markdown",
   "id": "d816ddaf",
   "metadata": {},
   "source": [
    "### 3.4 Price vs Pricing Strategy"
   ]
  },
  {
   "cell_type": "code",
   "execution_count": 83,
   "id": "686afe56",
   "metadata": {
    "vscode": {
     "languageId": "r"
    }
   },
   "outputs": [
    {
     "data": {
      "image/png": "[encoded data removed]",
      "text/plain": [
       "plot without title"
      ]
     },
     "metadata": {
      "image/png": {
       "height": 420,
       "width": 420
      }
     },
     "output_type": "display_data"
    }
   ],
   "source": [
    "# Price vs pricing strategy\n",
    "avd_cleaned |>\n",
    "  \n",
    "  # Group by pricing strategy\n",
    "  group_by(pricing_strategy) |>\n",
    "  \n",
    "  # Compute mean price per pricing strategy\n",
    "  summarise(mean_price = mean(avg_price)) |>\n",
    "  \n",
    "  # Ungroup\n",
    "  ungroup() |>\n",
    "  \n",
    "  # Aesthetic mapping\n",
    "  ggplot(aes(x = pricing_strategy,\n",
    "             y = mean_price,\n",
    "             fill = pricing_strategy)) +\n",
    "  \n",
    "  # Instantiate a line plot\n",
    "  geom_col() +\n",
    "  \n",
    "  # Add text elements\n",
    "  labs(title = \"Avocado Price by Pricing Strategy\",\n",
    "       x = \"Pricing Strategy\",\n",
    "       y = \"Average Price\") +\n",
    "  \n",
    "  # Adjust theme to minimal\n",
    "  theme_minimal()"
   ]
  },
  {
   "cell_type": "markdown",
   "id": "92374b6f",
   "metadata": {},
   "source": [
    "Comments:\n",
    "- On average, organic pricing has a highper price than conventional.\n",
    "- This is not surprising as organic pricing is generally associated with higher product pricing."
   ]
  },
  {
   "cell_type": "markdown",
   "id": "e12b63aa",
   "metadata": {},
   "source": [
    "### 3.5 Price vs Volume"
   ]
  },
  {
   "cell_type": "markdown",
   "id": "6d6d9f39",
   "metadata": {},
   "source": [
    "#### 3.5.1 Price vs Total Volume"
   ]
  },
  {
   "cell_type": "code",
   "execution_count": null,
   "id": "c3acc14f",
   "metadata": {
    "vscode": {
     "languageId": "r"
    }
   },
   "outputs": [
    {
     "name": "stderr",
     "output_type": "stream",
     "text": [
      "\u001b[1m\u001b[22m`geom_smooth()` using formula = 'y ~ x'\n"
     ]
    },
    {
     "data": {
      "image/png": "[encoded data removed]",
      "text/plain": [
       "plot without title"
      ]
     },
     "metadata": {
      "image/png": {
       "height": 420,
       "width": 420
      }
     },
     "output_type": "display_data"
    }
   ],
   "source": [
    "# Price vs total volume\n",
    "avd_cleaned |>\n",
    "  \n",
    "  # Aesthetic mapping\n",
    "  ggplot(aes(x = vol_total,\n",
    "             y = avg_price)) +\n",
    "  \n",
    "  # Instantiate a scatter plot\n",
    "  geom_point(position = \"jitter\",\n",
    "             alpha = 0.5,\n",
    "             color = \"#7ea122\") +\n",
    "  \n",
    "  # Add a trend line\n",
    "  geom_smooth(method = \"loess\",\n",
    "              color = \"red\",\n",
    "              se = FALSE) +\n",
    "  \n",
    "  # Add text elements\n",
    "  labs(title = \"Relationship between Total Volume and Average Price\",\n",
    "       x = \"Total Volume\",\n",
    "       y = \"Average Price\") +\n",
    "  \n",
    "  # Adjust theme to minimal\n",
    "  theme_minimal() +\n",
    "  \n",
    "  # Log-transform the x scale\n",
    "  scale_x_log10()\n",
    "\n"
   ]
  },
  {
   "cell_type": "code",
   "execution_count": 85,
   "id": "c98a75df",
   "metadata": {
    "vscode": {
     "languageId": "r"
    }
   },
   "outputs": [
    {
     "data": {
      "text/plain": [
       "\n",
       "\tPearson's product-moment correlation\n",
       "\n",
       "data:  avd_cleaned$avg_price and avd_cleaned$vol_total\n",
       "t = -26.535, df = 18247, p-value < 2.2e-16\n",
       "alternative hypothesis: true correlation is not equal to 0\n",
       "95 percent confidence interval:\n",
       " -0.2066832 -0.1787434\n",
       "sample estimates:\n",
       "       cor \n",
       "-0.1927524 \n"
      ]
     },
     "metadata": {},
     "output_type": "display_data"
    }
   ],
   "source": [
    "# Conduct correlation test\n",
    "cor.test(avd_cleaned$avg_price,\n",
    "         avd_cleaned$vol_total,\n",
    "         method = \"pearson\")"
   ]
  },
  {
   "cell_type": "markdown",
   "id": "0528e2de",
   "metadata": {},
   "source": [
    "Comments:\n",
    "- There is a weak yet significant negative correlation between price and volume such that as volume increases, price decreases.\n",
    "- The magnitude of the correlation suggests that volume may not play a major role in avocado pricing."
   ]
  },
  {
   "cell_type": "markdown",
   "id": "a23681b0",
   "metadata": {},
   "source": [
    "#### 3.5.2 Explore Potential Moderator: Region Group"
   ]
  },
  {
   "cell_type": "code",
   "execution_count": 86,
   "id": "38f8af15",
   "metadata": {
    "vscode": {
     "languageId": "r"
    }
   },
   "outputs": [
    {
     "name": "stderr",
     "output_type": "stream",
     "text": [
      "\u001b[1m\u001b[22m`geom_smooth()` using formula = 'y ~ x'\n"
     ]
    },
    {
     "data": {
      "image/png": "[encoded data removed]",
      "text/plain": [
       "plot without title"
      ]
     },
     "metadata": {
      "image/png": {
       "height": 420,
       "width": 420
      }
     },
     "output_type": "display_data"
    }
   ],
   "source": [
    "# Explore potential moderators: Region Group\n",
    "avd_cleaned |>\n",
    "  \n",
    "  # Aesthetic mapping\n",
    "  ggplot(aes(x = vol_total,\n",
    "             y = avg_price)) +\n",
    "  \n",
    "  # Instantiate a scatter plot\n",
    "  geom_point(position = \"jitter\",\n",
    "             alpha = 0.5,\n",
    "             color = \"#7ea122\") +\n",
    "  \n",
    "  # Add a trend line\n",
    "  geom_smooth(method = \"loess\",\n",
    "              color = \"red\",\n",
    "              se = FALSE) +\n",
    "  \n",
    "  # Add text elements\n",
    "  labs(title = \"Relationship between Total Volume and Average Price\",\n",
    "       x = \"Total Volume\",\n",
    "       y = \"Average Price\") +\n",
    "  \n",
    "  # Adjust theme to minimal\n",
    "  theme_minimal() +\n",
    "  \n",
    "  # Log-transform the x scale\n",
    "  scale_x_log10() +\n",
    "  \n",
    "  # Facet by Region.Group\n",
    "  facet_wrap(~ region_group,\n",
    "             scales = \"free_y\")"
   ]
  },
  {
   "cell_type": "markdown",
   "id": "cd155536",
   "metadata": {},
   "source": [
    "Comments:\n",
    "- The relationship between pricing and volume is simiar across region groups, except for \"National.\"\n",
    "- This suggests that region groups may not be a moderator of this relationship."
   ]
  },
  {
   "cell_type": "markdown",
   "id": "ab550d18",
   "metadata": {},
   "source": [
    "#### 3.5.3 Explore Potential Moderator: Pricing Strategy"
   ]
  },
  {
   "cell_type": "code",
   "execution_count": 87,
   "id": "65d0abfa",
   "metadata": {
    "vscode": {
     "languageId": "r"
    }
   },
   "outputs": [
    {
     "name": "stderr",
     "output_type": "stream",
     "text": [
      "\u001b[1m\u001b[22m`geom_smooth()` using formula = 'y ~ x'\n"
     ]
    },
    {
     "data": {
      "image/png": "[encoded data removed]",
      "text/plain": [
       "plot without title"
      ]
     },
     "metadata": {
      "image/png": {
       "height": 420,
       "width": 420
      }
     },
     "output_type": "display_data"
    }
   ],
   "source": [
    "# Explore potential moderators: Pricing strategy\n",
    "avd_cleaned |>\n",
    "  \n",
    "  # Aesthetic mapping\n",
    "  ggplot(aes(x = vol_total,\n",
    "             y = avg_price)) +\n",
    "  \n",
    "  # Instantiate a scatter plot\n",
    "  geom_point(position = \"jitter\",\n",
    "             alpha = 0.5,\n",
    "             color = \"#7ea122\") +\n",
    "  \n",
    "  # Add a trend line\n",
    "  geom_smooth(method = \"loess\",\n",
    "              color = \"red\",\n",
    "              se = FALSE) +\n",
    "  \n",
    "  # Add text elements\n",
    "  labs(title = \"Relationship between Total Volume and Average Price\",\n",
    "       x = \"Total Volume\",\n",
    "       y = \"Average Price\") +\n",
    "  \n",
    "  # Adjust theme to minimal\n",
    "  theme_minimal() +\n",
    "  \n",
    "  # Log-transform the x scale\n",
    "  scale_x_log10() +\n",
    "  \n",
    "  # Facet by type\n",
    "  facet_wrap(~ pricing_strategy,\n",
    "             scales = \"free_y\")"
   ]
  },
  {
   "cell_type": "markdown",
   "id": "cf835b54",
   "metadata": {},
   "source": [
    "Comments:\n",
    "- The relationship between pricing and volume is simiar across pricing strategy.\n",
    "- This suggests that pricing strategy may not be a moderator of this relationship."
   ]
  },
  {
   "cell_type": "markdown",
   "id": "48fe1363",
   "metadata": {},
   "source": [
    "### 3.6 Explore Potential Interaction Effects"
   ]
  },
  {
   "cell_type": "markdown",
   "id": "8b33201a",
   "metadata": {},
   "source": [
    "#### 3.6.1 Pricing strategy x Region"
   ]
  },
  {
   "cell_type": "code",
   "execution_count": 88,
   "id": "04faa1bb",
   "metadata": {
    "vscode": {
     "languageId": "r"
    }
   },
   "outputs": [
    {
     "data": {
      "image/png": "[encoded data removed]",
      "text/plain": [
       "plot without title"
      ]
     },
     "metadata": {
      "image/png": {
       "height": 420,
       "width": 420
      }
     },
     "output_type": "display_data"
    }
   ],
   "source": [
    "# Pricing strategy vs region\n",
    "avd_cleaned |>\n",
    "  \n",
    "  # Group by type and major region\n",
    "  group_by(pricing_strategy,\n",
    "           region_group) |>\n",
    "  \n",
    "  # Compute mean price per type\n",
    "  summarise(mean_price = mean(avg_price),\n",
    "            .groups = \"drop\") |>\n",
    "  \n",
    "  # Aesthetic mapping\n",
    "  ggplot(aes(x = pricing_strategy,\n",
    "             y = mean_price,\n",
    "             fill = pricing_strategy)) +\n",
    "  \n",
    "  # Instantiate a line plot\n",
    "  geom_col() +\n",
    "  \n",
    "  # Add text elements\n",
    "  labs(title = \"Avocado Price by Pricing Strategy\",\n",
    "       x = \"Pricing Strategy\",\n",
    "       y = \"Average Price\") +\n",
    "  \n",
    "  # Adjust theme to minimal\n",
    "  theme_minimal() +\n",
    "  \n",
    "  # Facet by region\n",
    "  facet_wrap(~ region_group)"
   ]
  },
  {
   "cell_type": "markdown",
   "id": "779693fe",
   "metadata": {},
   "source": [
    "Comments:\n",
    "- Across all regions, organic pricing is consistently associated with higher price.\n",
    "- This suggests that there is no interaction effect between pricing strategy and region on pricing."
   ]
  },
  {
   "cell_type": "markdown",
   "id": "7ad05b8f",
   "metadata": {},
   "source": [
    "#### 3.6.2 Pricing Strategy x Month"
   ]
  },
  {
   "cell_type": "code",
   "execution_count": 89,
   "id": "2b77eda4",
   "metadata": {
    "vscode": {
     "languageId": "r"
    }
   },
   "outputs": [
    {
     "data": {
      "image/png": "[encoded data removed]",
      "text/plain": [
       "plot without title"
      ]
     },
     "metadata": {
      "image/png": {
       "height": 420,
       "width": 420
      }
     },
     "output_type": "display_data"
    }
   ],
   "source": [
    "# Pricing strategy vs month\n",
    "avd_cleaned |>\n",
    "  \n",
    "  # Group by type and major region\n",
    "  group_by(pricing_strategy,\n",
    "           month) |>\n",
    "  \n",
    "  # Compute mean price per type\n",
    "  summarise(mean_price = mean(avg_price),\n",
    "            .groups = \"drop\") |>\n",
    "  \n",
    "  # Aesthetic mapping\n",
    "  ggplot(aes(x = pricing_strategy,\n",
    "             y = mean_price,\n",
    "             fill = pricing_strategy)) +\n",
    "  \n",
    "  # Instantiate a line plot\n",
    "  geom_col() +\n",
    "  \n",
    "  # Add text elements\n",
    "  labs(title = \"Avocado Price by Pricing Strategy\",\n",
    "       x = \"Pricing Strategy\",\n",
    "       y = \"Average Price\") +\n",
    "  \n",
    "  # Adjust theme to minimal\n",
    "  theme_minimal() +\n",
    "  \n",
    "  # Facet by region\n",
    "  facet_wrap(~ month)"
   ]
  },
  {
   "cell_type": "markdown",
   "id": "93f1170e",
   "metadata": {},
   "source": [
    "Comments:\n",
    "- Across all months, organic pricing is consistently associated with higher price.\n",
    "- This suggests that there is no interaction effect between pricing strategy and month on pricing."
   ]
  },
  {
   "cell_type": "markdown",
   "id": "53fac4a7",
   "metadata": {},
   "source": [
    "## 4. Building a Predictive Model"
   ]
  },
  {
   "cell_type": "markdown",
   "id": "13a20380",
   "metadata": {},
   "source": [
    "I will build an exXtreme Gradient Boosting (XGBoost) model due to its high performance and explanability."
   ]
  },
  {
   "cell_type": "markdown",
   "id": "cbad4f95",
   "metadata": {},
   "source": [
    "### 4.1 Initial Model"
   ]
  },
  {
   "cell_type": "markdown",
   "id": "ea2e2349",
   "metadata": {},
   "source": [
    "#### 4.1.1 Split the Data"
   ]
  },
  {
   "cell_type": "code",
   "execution_count": null,
   "id": "0013082d",
   "metadata": {
    "vscode": {
     "languageId": "r"
    }
   },
   "outputs": [
    {
     "name": "stdout",
     "output_type": "stream",
     "text": [
      "Training set: 14597 \n",
      "Test set: 3652"
     ]
    }
   ],
   "source": [
    "# Set seed for reproducibility\n",
    "set.seed(888)\n",
    "\n",
    "# Create splitting index\n",
    "avd_split <- initial_split(avd_cleaned,\n",
    "                           prop = 0.8,\n",
    "                           strata = avg_price)\n",
    "\n",
    "# Create a training set\n",
    "avd_train <- training(avd_split)\n",
    "\n",
    "# Create a test set\n",
    "avd_test <- testing(avd_split)\n",
    "\n",
    "# Check the results\n",
    "cat(\"Training set:\", nrow(avd_train), \"\\n\")\n",
    "cat(\"Test set:\", nrow(avd_test))"
   ]
  },
  {
   "cell_type": "markdown",
   "id": "b41a5847",
   "metadata": {},
   "source": [
    "#### 4.1.2 Define the Recipe"
   ]
  },
  {
   "cell_type": "code",
   "execution_count": null,
   "id": "8634d763",
   "metadata": {
    "vscode": {
     "languageId": "r"
    }
   },
   "outputs": [
    {
     "name": "stderr",
     "output_type": "stream",
     "text": [
      "\n",
      "\n",
      "\u001b[36m──\u001b[39m \u001b[1mRecipe\u001b[22m \u001b[36m──────────────────────────────────────────────────────────────────────\u001b[39m\n",
      "\n",
      "\n",
      "\n",
      "── Inputs \n",
      "\n",
      "Number of variables by role\n",
      "\n",
      "outcome:    1\n",
      "predictor: 14\n",
      "\n",
      "\n",
      "\n",
      "── Operations \n",
      "\n",
      "\u001b[36m•\u001b[39m Variables removed: \u001b[34mdate\u001b[39m, \u001b[34myear\u001b[39m, \u001b[34mregion\u001b[39m, \u001b[34mvol_4046\u001b[39m, \u001b[34mvol_4225\u001b[39m, \u001b[34mvol_4770\u001b[39m, ...\n",
      "\n",
      "\u001b[36m•\u001b[39m Centering and scaling for: \u001b[34mall_numeric()\u001b[39m\n",
      "\n",
      "\u001b[36m•\u001b[39m Dummy variables from: \u001b[34mall_nominal()\u001b[39m\n",
      "\n"
     ]
    }
   ],
   "source": [
    "# Define the recipe\n",
    "avd_recipe <- recipe(avg_price ~ .,\n",
    "                     avd_train) |>\n",
    "  \n",
    "  # Remove redundant variables\n",
    "  step_rm(date, year, region,\n",
    "          vol_4046, vol_4225, vol_4770,\n",
    "          bags_small, bags_large, bags_xl) |>\n",
    "  \n",
    "  # Normalise all numeric variables\n",
    "  step_normalize(all_numeric()) |>\n",
    "\n",
    "  # Dummy-encode nominal variables\n",
    "  step_dummy(all_nominal())\n",
    "\n",
    "# Check the recipe\n",
    "avd_recipe"
   ]
  },
  {
   "cell_type": "markdown",
   "id": "20c92870",
   "metadata": {},
   "source": [
    "#### 4.1.3 Instantiate the Model"
   ]
  },
  {
   "cell_type": "code",
   "execution_count": 93,
   "id": "542d900e",
   "metadata": {
    "vscode": {
     "languageId": "r"
    }
   },
   "outputs": [],
   "source": [
    "# Instantiate an XGBoost model\n",
    "xgb_mod <- boost_tree() |>\n",
    "  \n",
    "  # Set engine\n",
    "  set_engine(\"xgboost\") |>\n",
    "  \n",
    "  # Set mode\n",
    "  set_mode(\"regression\")"
   ]
  },
  {
   "cell_type": "markdown",
   "id": "8c8d139d",
   "metadata": {},
   "source": [
    "#### 4.1.4 Bundle the Recipe and the Model"
   ]
  },
  {
   "cell_type": "code",
   "execution_count": 94,
   "id": "3d320bfa",
   "metadata": {
    "vscode": {
     "languageId": "r"
    }
   },
   "outputs": [],
   "source": [
    "# Bundle the recipe and the model\n",
    "xgb_wfl <- workflow() |>\n",
    "  \n",
    "  # Add recipe\n",
    "  add_recipe(avd_recipe) |>\n",
    "  \n",
    "  # Add model\n",
    "  add_model(xgb_mod)"
   ]
  },
  {
   "cell_type": "markdown",
   "id": "71fe70ea",
   "metadata": {},
   "source": [
    "#### 4.1.5 Fit the Model"
   ]
  },
  {
   "cell_type": "code",
   "execution_count": 95,
   "id": "0b9dc0ee",
   "metadata": {
    "vscode": {
     "languageId": "r"
    }
   },
   "outputs": [],
   "source": [
    "# Set the metrics\n",
    "xgb_metrics <-metric_set(mae,\n",
    "                         rmse,\n",
    "                         rsq)\n",
    "\n",
    "## Set seed for reproducibility\n",
    "set.seed(888)\n",
    "\n",
    "## Fit\n",
    "xgb_fit <- last_fit(xgb_wfl,\n",
    "                    split = avd_split,\n",
    "                    metrics = xgb_metrics)"
   ]
  },
  {
   "cell_type": "markdown",
   "id": "b3ecec89",
   "metadata": {},
   "source": [
    "#### 4.1.6 Evaluate the model"
   ]
  },
  {
   "cell_type": "code",
   "execution_count": 96,
   "id": "5d1b3a68",
   "metadata": {
    "vscode": {
     "languageId": "r"
    }
   },
   "outputs": [
    {
     "data": {
      "text/html": [
       "<table class=\"dataframe\">\n",
       "<caption>A tibble: 3 × 4</caption>\n",
       "<thead>\n",
       "\t<tr><th scope=col>.metric</th><th scope=col>.estimator</th><th scope=col>.estimate</th><th scope=col>.config</th></tr>\n",
       "\t<tr><th scope=col>&lt;chr&gt;</th><th scope=col>&lt;chr&gt;</th><th scope=col>&lt;dbl&gt;</th><th scope=col>&lt;chr&gt;</th></tr>\n",
       "</thead>\n",
       "<tbody>\n",
       "\t<tr><td>mae </td><td>standard</td><td>0.4449552</td><td>Preprocessor1_Model1</td></tr>\n",
       "\t<tr><td>rmse</td><td>standard</td><td>0.5817811</td><td>Preprocessor1_Model1</td></tr>\n",
       "\t<tr><td>rsq </td><td>standard</td><td>0.6493010</td><td>Preprocessor1_Model1</td></tr>\n",
       "</tbody>\n",
       "</table>\n"
      ],
      "text/latex": [
       "A tibble: 3 × 4\n",
       "\\begin{tabular}{llll}\n",
       " .metric & .estimator & .estimate & .config\\\\\n",
       " <chr> & <chr> & <dbl> & <chr>\\\\\n",
       "\\hline\n",
       "\t mae  & standard & 0.4449552 & Preprocessor1\\_Model1\\\\\n",
       "\t rmse & standard & 0.5817811 & Preprocessor1\\_Model1\\\\\n",
       "\t rsq  & standard & 0.6493010 & Preprocessor1\\_Model1\\\\\n",
       "\\end{tabular}\n"
      ],
      "text/markdown": [
       "\n",
       "A tibble: 3 × 4\n",
       "\n",
       "| .metric &lt;chr&gt; | .estimator &lt;chr&gt; | .estimate &lt;dbl&gt; | .config &lt;chr&gt; |\n",
       "|---|---|---|---|\n",
       "| mae  | standard | 0.4449552 | Preprocessor1_Model1 |\n",
       "| rmse | standard | 0.5817811 | Preprocessor1_Model1 |\n",
       "| rsq  | standard | 0.6493010 | Preprocessor1_Model1 |\n",
       "\n"
      ],
      "text/plain": [
       "  .metric .estimator .estimate .config             \n",
       "1 mae     standard   0.4449552 Preprocessor1_Model1\n",
       "2 rmse    standard   0.5817811 Preprocessor1_Model1\n",
       "3 rsq     standard   0.6493010 Preprocessor1_Model1"
      ]
     },
     "metadata": {},
     "output_type": "display_data"
    }
   ],
   "source": [
    "# Collect metrics\n",
    "xgb_performance <- collect_metrics(xgb_fit)\n",
    "\n",
    "# Print the results\n",
    "xgb_performance"
   ]
  }
 ],
 "metadata": {
  "kernelspec": {
   "display_name": "R",
   "language": "R",
   "name": "ir"
  },
  "language_info": {
   "codemirror_mode": "r",
   "file_extension": ".r",
   "mimetype": "text/x-r-source",
   "name": "R",
   "pygments_lexer": "r",
   "version": "4.4.3"
  }
 },
 "nbformat": 4,
 "nbformat_minor": 5
}
