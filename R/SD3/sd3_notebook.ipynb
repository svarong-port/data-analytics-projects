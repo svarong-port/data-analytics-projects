{
 "cells": [
  {
   "cell_type": "markdown",
   "id": "45713864",
   "metadata": {},
   "source": [
    "# Analysing a Psychometric Assessment in R"
   ]
  },
  {
   "cell_type": "markdown",
   "id": "ae08e173",
   "metadata": {},
   "source": [
    "## Prepared by\n",
    "\n",
    "**Author:** Shinin Varongchayakul\n",
    "\n",
    "**Date:** 31 May 2025\n",
    "\n",
    "**Language:** R"
   ]
  },
  {
   "cell_type": "markdown",
   "id": "65730bc4",
   "metadata": {},
   "source": [
    "## Dataset\n",
    "\n",
    "**Name:** SD3\n",
    "\n",
    "**Source:** http://openpsychometrics.org/_rawdata/SD3.zip\n",
    "\n",
    "**Retrived Date:** 31 May 2025"
   ]
  },
  {
   "cell_type": "markdown",
   "id": "3fafeee2",
   "metadata": {},
   "source": [
    "## Additional Info\n",
    "\n",
    "**SD-3 on Open-Source Psychometrics:** https://openpsychometrics.org/tests/SD3/\n",
    "\n",
    "**SD-3 Score Summary:** https://openpsychometrics.org/tests/SD3/results.php"
   ]
  },
  {
   "cell_type": "markdown",
   "id": "96b9d750",
   "metadata": {},
   "source": [
    "## 1. Install & Load Packages"
   ]
  },
  {
   "cell_type": "code",
   "execution_count": null,
   "id": "d1143ff0",
   "metadata": {
    "vscode": {
     "languageId": "r"
    }
   },
   "outputs": [
    {
     "name": "stderr",
     "output_type": "stream",
     "text": [
      "Installing package into 'C:/Users/sam_h/AppData/Local/R/win-library/4.5'\n",
      "(as 'lib' is unspecified)\n",
      "\n"
     ]
    },
    {
     "name": "stderr",
     "output_type": "stream",
     "text": [
      "also installing the dependencies 'bit', 'prettyunits', 'bit64', 'progress', 'clipr', 'hms', 'vroom', 'tzdb'\n",
      "\n",
      "\n"
     ]
    },
    {
     "name": "stdout",
     "output_type": "stream",
     "text": [
      "package 'bit' successfully unpacked and MD5 sums checked\n",
      "package 'prettyunits' successfully unpacked and MD5 sums checked\n",
      "package 'bit64' successfully unpacked and MD5 sums checked\n",
      "package 'progress' successfully unpacked and MD5 sums checked\n",
      "package 'clipr' successfully unpacked and MD5 sums checked\n",
      "package 'hms' successfully unpacked and MD5 sums checked\n",
      "package 'vroom' successfully unpacked and MD5 sums checked\n",
      "package 'tzdb' successfully unpacked and MD5 sums checked\n",
      "package 'readr' successfully unpacked and MD5 sums checked\n",
      "\n",
      "The downloaded binary packages are in\n",
      "\tC:\\Users\\sam_h\\AppData\\Local\\Temp\\Rtmp2xwg59\\downloaded_packages\n"
     ]
    },
    {
     "name": "stderr",
     "output_type": "stream",
     "text": [
      "Warning message:\n",
      "\"package 'dplyr' is in use and will not be installed\"\n",
      "Warning message:\n",
      "\"package 'ggplot2' is in use and will not be installed\"\n",
      "Warning message:\n",
      "\"package 'psych' is in use and will not be installed\"\n",
      "Warning message:\n",
      "\"package 'lavaan' is in use and will not be installed\"\n"
     ]
    }
   ],
   "source": [
    "# Install packages\n",
    "install.packages(\"readr\") # import data\n",
    "install.packages(\"dplyr\") # data manupulation\n",
    "install.packages(\"ggplot2\") # data visualisation\n",
    "install.packages(\"psych\") # EFA\n",
    "install.packages(\"lavaan\") # CFA"
   ]
  },
  {
   "cell_type": "code",
   "execution_count": null,
   "id": "f148452a",
   "metadata": {
    "vscode": {
     "languageId": "r"
    }
   },
   "outputs": [],
   "source": [
    "# Load packages\n",
    "library(readr)\n",
    "library(dplyr)\n",
    "library(ggplot2)\n",
    "library(psych)\n",
    "library(lavaan)"
   ]
  },
  {
   "cell_type": "markdown",
   "id": "537ff31b",
   "metadata": {},
   "source": [
    "## 2. Load & Prepare the Dataset"
   ]
  },
  {
   "cell_type": "markdown",
   "id": "a437fe04",
   "metadata": {},
   "source": [
    "### 2.1 Load the Dataset"
   ]
  },
  {
   "cell_type": "code",
   "execution_count": 13,
   "id": "be009c0e",
   "metadata": {
    "vscode": {
     "languageId": "r"
    }
   },
   "outputs": [
    {
     "name": "stderr",
     "output_type": "stream",
     "text": [
      "\u001b[1mRows: \u001b[22m\u001b[34m18192\u001b[39m \u001b[1mColumns: \u001b[22m\u001b[34m29\u001b[39m\n",
      "\u001b[36m──\u001b[39m \u001b[1mColumn specification\u001b[22m \u001b[36m────────────────────────────────────────────────────────\u001b[39m\n",
      "\u001b[1mDelimiter:\u001b[22m \"\\t\"\n",
      "\u001b[31mchr\u001b[39m  (1): country\n",
      "\u001b[32mdbl\u001b[39m (28): M1, M2, M3, M4, M5, M6, M7, M8, M9, N1, N2, N3, N4, N5, N6, N7, N8...\n",
      "\n",
      "\u001b[36mℹ\u001b[39m Use `spec()` to retrieve the full column specification for this data.\n",
      "\u001b[36mℹ\u001b[39m Specify the column types or set `show_col_types = FALSE` to quiet this message.\n"
     ]
    }
   ],
   "source": [
    "# Load the dataset\n",
    "sd3 <- read_tsv(\"sd3_dataset.csv\")"
   ]
  },
  {
   "cell_type": "code",
   "execution_count": 22,
   "id": "71948d95",
   "metadata": {
    "vscode": {
     "languageId": "r"
    }
   },
   "outputs": [
    {
     "data": {
      "text/html": [
       "<table class=\"dataframe\">\n",
       "<caption>A tibble: 10 × 29</caption>\n",
       "<thead>\n",
       "\t<tr><th scope=col>M1</th><th scope=col>M2</th><th scope=col>M3</th><th scope=col>M4</th><th scope=col>M5</th><th scope=col>M6</th><th scope=col>M7</th><th scope=col>M8</th><th scope=col>M9</th><th scope=col>N1</th><th scope=col>⋯</th><th scope=col>P2</th><th scope=col>P3</th><th scope=col>P4</th><th scope=col>P5</th><th scope=col>P6</th><th scope=col>P7</th><th scope=col>P8</th><th scope=col>P9</th><th scope=col>country</th><th scope=col>source</th></tr>\n",
       "\t<tr><th scope=col>&lt;dbl&gt;</th><th scope=col>&lt;dbl&gt;</th><th scope=col>&lt;dbl&gt;</th><th scope=col>&lt;dbl&gt;</th><th scope=col>&lt;dbl&gt;</th><th scope=col>&lt;dbl&gt;</th><th scope=col>&lt;dbl&gt;</th><th scope=col>&lt;dbl&gt;</th><th scope=col>&lt;dbl&gt;</th><th scope=col>&lt;dbl&gt;</th><th scope=col>⋯</th><th scope=col>&lt;dbl&gt;</th><th scope=col>&lt;dbl&gt;</th><th scope=col>&lt;dbl&gt;</th><th scope=col>&lt;dbl&gt;</th><th scope=col>&lt;dbl&gt;</th><th scope=col>&lt;dbl&gt;</th><th scope=col>&lt;dbl&gt;</th><th scope=col>&lt;dbl&gt;</th><th scope=col>&lt;fct&gt;</th><th scope=col>&lt;fct&gt;</th></tr>\n",
       "</thead>\n",
       "<tbody>\n",
       "\t<tr><td>4</td><td>4</td><td>4</td><td>4</td><td>4</td><td>4</td><td>4</td><td>3</td><td>4</td><td>2</td><td>⋯</td><td>2</td><td>3</td><td>2</td><td>4</td><td>4</td><td>2</td><td>4</td><td>4</td><td>GB</td><td>front page of website</td></tr>\n",
       "\t<tr><td>2</td><td>1</td><td>5</td><td>2</td><td>2</td><td>1</td><td>2</td><td>2</td><td>3</td><td>1</td><td>⋯</td><td>5</td><td>1</td><td>5</td><td>4</td><td>1</td><td>1</td><td>3</td><td>2</td><td>US</td><td>front page of website</td></tr>\n",
       "\t<tr><td>3</td><td>3</td><td>3</td><td>5</td><td>1</td><td>1</td><td>5</td><td>5</td><td>3</td><td>2</td><td>⋯</td><td>1</td><td>3</td><td>1</td><td>3</td><td>1</td><td>4</td><td>3</td><td>1</td><td>US</td><td>front page of website</td></tr>\n",
       "\t<tr><td>5</td><td>5</td><td>4</td><td>5</td><td>5</td><td>5</td><td>5</td><td>5</td><td>5</td><td>5</td><td>⋯</td><td>5</td><td>5</td><td>2</td><td>5</td><td>5</td><td>1</td><td>1</td><td>5</td><td>GB</td><td>Other                </td></tr>\n",
       "\t<tr><td>4</td><td>4</td><td>2</td><td>5</td><td>5</td><td>5</td><td>4</td><td>1</td><td>4</td><td>3</td><td>⋯</td><td>1</td><td>3</td><td>1</td><td>4</td><td>3</td><td>1</td><td>4</td><td>1</td><td>GB</td><td>Other                </td></tr>\n",
       "\t<tr><td>4</td><td>2</td><td>2</td><td>4</td><td>2</td><td>3</td><td>5</td><td>2</td><td>2</td><td>2</td><td>⋯</td><td>1</td><td>4</td><td>4</td><td>2</td><td>2</td><td>5</td><td>1</td><td>5</td><td>IT</td><td>front page of website</td></tr>\n",
       "\t<tr><td>4</td><td>4</td><td>4</td><td>2</td><td>4</td><td>4</td><td>4</td><td>3</td><td>5</td><td>4</td><td>⋯</td><td>4</td><td>4</td><td>2</td><td>4</td><td>3</td><td>2</td><td>4</td><td>3</td><td>GB</td><td>front page of website</td></tr>\n",
       "\t<tr><td>5</td><td>5</td><td>5</td><td>5</td><td>5</td><td>5</td><td>5</td><td>4</td><td>5</td><td>4</td><td>⋯</td><td>1</td><td>2</td><td>5</td><td>5</td><td>5</td><td>4</td><td>5</td><td>3</td><td>GB</td><td>front page of website</td></tr>\n",
       "\t<tr><td>5</td><td>3</td><td>4</td><td>4</td><td>4</td><td>4</td><td>4</td><td>2</td><td>4</td><td>3</td><td>⋯</td><td>4</td><td>4</td><td>3</td><td>4</td><td>4</td><td>5</td><td>2</td><td>1</td><td>US</td><td>front page of website</td></tr>\n",
       "\t<tr><td>5</td><td>5</td><td>5</td><td>3</td><td>5</td><td>5</td><td>5</td><td>5</td><td>5</td><td>5</td><td>⋯</td><td>4</td><td>5</td><td>5</td><td>5</td><td>5</td><td>1</td><td>3</td><td>5</td><td>US</td><td>front page of website</td></tr>\n",
       "</tbody>\n",
       "</table>\n"
      ],
      "text/latex": [
       "A tibble: 10 × 29\n",
       "\\begin{tabular}{lllllllllllllllllllll}\n",
       " M1 & M2 & M3 & M4 & M5 & M6 & M7 & M8 & M9 & N1 & ⋯ & P2 & P3 & P4 & P5 & P6 & P7 & P8 & P9 & country & source\\\\\n",
       " <dbl> & <dbl> & <dbl> & <dbl> & <dbl> & <dbl> & <dbl> & <dbl> & <dbl> & <dbl> & ⋯ & <dbl> & <dbl> & <dbl> & <dbl> & <dbl> & <dbl> & <dbl> & <dbl> & <fct> & <fct>\\\\\n",
       "\\hline\n",
       "\t 4 & 4 & 4 & 4 & 4 & 4 & 4 & 3 & 4 & 2 & ⋯ & 2 & 3 & 2 & 4 & 4 & 2 & 4 & 4 & GB & front page of website\\\\\n",
       "\t 2 & 1 & 5 & 2 & 2 & 1 & 2 & 2 & 3 & 1 & ⋯ & 5 & 1 & 5 & 4 & 1 & 1 & 3 & 2 & US & front page of website\\\\\n",
       "\t 3 & 3 & 3 & 5 & 1 & 1 & 5 & 5 & 3 & 2 & ⋯ & 1 & 3 & 1 & 3 & 1 & 4 & 3 & 1 & US & front page of website\\\\\n",
       "\t 5 & 5 & 4 & 5 & 5 & 5 & 5 & 5 & 5 & 5 & ⋯ & 5 & 5 & 2 & 5 & 5 & 1 & 1 & 5 & GB & Other                \\\\\n",
       "\t 4 & 4 & 2 & 5 & 5 & 5 & 4 & 1 & 4 & 3 & ⋯ & 1 & 3 & 1 & 4 & 3 & 1 & 4 & 1 & GB & Other                \\\\\n",
       "\t 4 & 2 & 2 & 4 & 2 & 3 & 5 & 2 & 2 & 2 & ⋯ & 1 & 4 & 4 & 2 & 2 & 5 & 1 & 5 & IT & front page of website\\\\\n",
       "\t 4 & 4 & 4 & 2 & 4 & 4 & 4 & 3 & 5 & 4 & ⋯ & 4 & 4 & 2 & 4 & 3 & 2 & 4 & 3 & GB & front page of website\\\\\n",
       "\t 5 & 5 & 5 & 5 & 5 & 5 & 5 & 4 & 5 & 4 & ⋯ & 1 & 2 & 5 & 5 & 5 & 4 & 5 & 3 & GB & front page of website\\\\\n",
       "\t 5 & 3 & 4 & 4 & 4 & 4 & 4 & 2 & 4 & 3 & ⋯ & 4 & 4 & 3 & 4 & 4 & 5 & 2 & 1 & US & front page of website\\\\\n",
       "\t 5 & 5 & 5 & 3 & 5 & 5 & 5 & 5 & 5 & 5 & ⋯ & 4 & 5 & 5 & 5 & 5 & 1 & 3 & 5 & US & front page of website\\\\\n",
       "\\end{tabular}\n"
      ],
      "text/markdown": [
       "\n",
       "A tibble: 10 × 29\n",
       "\n",
       "| M1 &lt;dbl&gt; | M2 &lt;dbl&gt; | M3 &lt;dbl&gt; | M4 &lt;dbl&gt; | M5 &lt;dbl&gt; | M6 &lt;dbl&gt; | M7 &lt;dbl&gt; | M8 &lt;dbl&gt; | M9 &lt;dbl&gt; | N1 &lt;dbl&gt; | ⋯ ⋯ | P2 &lt;dbl&gt; | P3 &lt;dbl&gt; | P4 &lt;dbl&gt; | P5 &lt;dbl&gt; | P6 &lt;dbl&gt; | P7 &lt;dbl&gt; | P8 &lt;dbl&gt; | P9 &lt;dbl&gt; | country &lt;fct&gt; | source &lt;fct&gt; |\n",
       "|---|---|---|---|---|---|---|---|---|---|---|---|---|---|---|---|---|---|---|---|---|\n",
       "| 4 | 4 | 4 | 4 | 4 | 4 | 4 | 3 | 4 | 2 | ⋯ | 2 | 3 | 2 | 4 | 4 | 2 | 4 | 4 | GB | front page of website |\n",
       "| 2 | 1 | 5 | 2 | 2 | 1 | 2 | 2 | 3 | 1 | ⋯ | 5 | 1 | 5 | 4 | 1 | 1 | 3 | 2 | US | front page of website |\n",
       "| 3 | 3 | 3 | 5 | 1 | 1 | 5 | 5 | 3 | 2 | ⋯ | 1 | 3 | 1 | 3 | 1 | 4 | 3 | 1 | US | front page of website |\n",
       "| 5 | 5 | 4 | 5 | 5 | 5 | 5 | 5 | 5 | 5 | ⋯ | 5 | 5 | 2 | 5 | 5 | 1 | 1 | 5 | GB | Other                 |\n",
       "| 4 | 4 | 2 | 5 | 5 | 5 | 4 | 1 | 4 | 3 | ⋯ | 1 | 3 | 1 | 4 | 3 | 1 | 4 | 1 | GB | Other                 |\n",
       "| 4 | 2 | 2 | 4 | 2 | 3 | 5 | 2 | 2 | 2 | ⋯ | 1 | 4 | 4 | 2 | 2 | 5 | 1 | 5 | IT | front page of website |\n",
       "| 4 | 4 | 4 | 2 | 4 | 4 | 4 | 3 | 5 | 4 | ⋯ | 4 | 4 | 2 | 4 | 3 | 2 | 4 | 3 | GB | front page of website |\n",
       "| 5 | 5 | 5 | 5 | 5 | 5 | 5 | 4 | 5 | 4 | ⋯ | 1 | 2 | 5 | 5 | 5 | 4 | 5 | 3 | GB | front page of website |\n",
       "| 5 | 3 | 4 | 4 | 4 | 4 | 4 | 2 | 4 | 3 | ⋯ | 4 | 4 | 3 | 4 | 4 | 5 | 2 | 1 | US | front page of website |\n",
       "| 5 | 5 | 5 | 3 | 5 | 5 | 5 | 5 | 5 | 5 | ⋯ | 4 | 5 | 5 | 5 | 5 | 1 | 3 | 5 | US | front page of website |\n",
       "\n"
      ],
      "text/plain": [
       "   M1 M2 M3 M4 M5 M6 M7 M8 M9 N1 ⋯ P2 P3 P4 P5 P6 P7 P8 P9 country\n",
       "1  4  4  4  4  4  4  4  3  4  2  ⋯ 2  3  2  4  4  2  4  4  GB     \n",
       "2  2  1  5  2  2  1  2  2  3  1  ⋯ 5  1  5  4  1  1  3  2  US     \n",
       "3  3  3  3  5  1  1  5  5  3  2  ⋯ 1  3  1  3  1  4  3  1  US     \n",
       "4  5  5  4  5  5  5  5  5  5  5  ⋯ 5  5  2  5  5  1  1  5  GB     \n",
       "5  4  4  2  5  5  5  4  1  4  3  ⋯ 1  3  1  4  3  1  4  1  GB     \n",
       "6  4  2  2  4  2  3  5  2  2  2  ⋯ 1  4  4  2  2  5  1  5  IT     \n",
       "7  4  4  4  2  4  4  4  3  5  4  ⋯ 4  4  2  4  3  2  4  3  GB     \n",
       "8  5  5  5  5  5  5  5  4  5  4  ⋯ 1  2  5  5  5  4  5  3  GB     \n",
       "9  5  3  4  4  4  4  4  2  4  3  ⋯ 4  4  3  4  4  5  2  1  US     \n",
       "10 5  5  5  3  5  5  5  5  5  5  ⋯ 4  5  5  5  5  1  3  5  US     \n",
       "   source               \n",
       "1  front page of website\n",
       "2  front page of website\n",
       "3  front page of website\n",
       "4  Other                \n",
       "5  Other                \n",
       "6  front page of website\n",
       "7  front page of website\n",
       "8  front page of website\n",
       "9  front page of website\n",
       "10 front page of website"
      ]
     },
     "metadata": {},
     "output_type": "display_data"
    }
   ],
   "source": [
    "# Preview the dataset\n",
    "head(sd3,\n",
    "     n = 10)"
   ]
  },
  {
   "cell_type": "code",
   "execution_count": 23,
   "id": "2fd0834f",
   "metadata": {
    "vscode": {
     "languageId": "r"
    }
   },
   "outputs": [
    {
     "name": "stdout",
     "output_type": "stream",
     "text": [
      "Rows: 18,192\n",
      "Columns: 29\n",
      "$ M1      \u001b[3m\u001b[90m<dbl>\u001b[39m\u001b[23m 4\u001b[90m, \u001b[39m2\u001b[90m, \u001b[39m3\u001b[90m, \u001b[39m5\u001b[90m, \u001b[39m4\u001b[90m, \u001b[39m4\u001b[90m, \u001b[39m4\u001b[90m, \u001b[39m5\u001b[90m, \u001b[39m5\u001b[90m, \u001b[39m5\u001b[90m, \u001b[39m5\u001b[90m, \u001b[39m5\u001b[90m, \u001b[39m5\u001b[90m, \u001b[39m2\u001b[90m, \u001b[39m5\u001b[90m, \u001b[39m4\u001b[90m, \u001b[39m4\u001b[90m, \u001b[39m5\u001b[90m, \u001b[39m5\u001b[90m, \u001b[39m4\u001b[90m, \u001b[39m5\u001b[90m,\u001b[39m…\n",
      "$ M2      \u001b[3m\u001b[90m<dbl>\u001b[39m\u001b[23m 4\u001b[90m, \u001b[39m1\u001b[90m, \u001b[39m3\u001b[90m, \u001b[39m5\u001b[90m, \u001b[39m4\u001b[90m, \u001b[39m2\u001b[90m, \u001b[39m4\u001b[90m, \u001b[39m5\u001b[90m, \u001b[39m3\u001b[90m, \u001b[39m5\u001b[90m, \u001b[39m5\u001b[90m, \u001b[39m4\u001b[90m, \u001b[39m1\u001b[90m, \u001b[39m2\u001b[90m, \u001b[39m3\u001b[90m, \u001b[39m5\u001b[90m, \u001b[39m3\u001b[90m, \u001b[39m2\u001b[90m, \u001b[39m4\u001b[90m, \u001b[39m4\u001b[90m, \u001b[39m3\u001b[90m,\u001b[39m…\n",
      "$ M3      \u001b[3m\u001b[90m<dbl>\u001b[39m\u001b[23m 4\u001b[90m, \u001b[39m5\u001b[90m, \u001b[39m3\u001b[90m, \u001b[39m4\u001b[90m, \u001b[39m2\u001b[90m, \u001b[39m2\u001b[90m, \u001b[39m4\u001b[90m, \u001b[39m5\u001b[90m, \u001b[39m4\u001b[90m, \u001b[39m5\u001b[90m, \u001b[39m5\u001b[90m, \u001b[39m4\u001b[90m, \u001b[39m2\u001b[90m, \u001b[39m3\u001b[90m, \u001b[39m4\u001b[90m, \u001b[39m4\u001b[90m, \u001b[39m3\u001b[90m, \u001b[39m4\u001b[90m, \u001b[39m0\u001b[90m, \u001b[39m3\u001b[90m, \u001b[39m4\u001b[90m,\u001b[39m…\n",
      "$ M4      \u001b[3m\u001b[90m<dbl>\u001b[39m\u001b[23m 4\u001b[90m, \u001b[39m2\u001b[90m, \u001b[39m5\u001b[90m, \u001b[39m5\u001b[90m, \u001b[39m5\u001b[90m, \u001b[39m4\u001b[90m, \u001b[39m2\u001b[90m, \u001b[39m5\u001b[90m, \u001b[39m4\u001b[90m, \u001b[39m3\u001b[90m, \u001b[39m5\u001b[90m, \u001b[39m3\u001b[90m, \u001b[39m2\u001b[90m, \u001b[39m4\u001b[90m, \u001b[39m4\u001b[90m, \u001b[39m5\u001b[90m, \u001b[39m4\u001b[90m, \u001b[39m4\u001b[90m, \u001b[39m2\u001b[90m, \u001b[39m2\u001b[90m, \u001b[39m4\u001b[90m,\u001b[39m…\n",
      "$ M5      \u001b[3m\u001b[90m<dbl>\u001b[39m\u001b[23m 4\u001b[90m, \u001b[39m2\u001b[90m, \u001b[39m1\u001b[90m, \u001b[39m5\u001b[90m, \u001b[39m5\u001b[90m, \u001b[39m2\u001b[90m, \u001b[39m4\u001b[90m, \u001b[39m5\u001b[90m, \u001b[39m4\u001b[90m, \u001b[39m5\u001b[90m, \u001b[39m5\u001b[90m, \u001b[39m5\u001b[90m, \u001b[39m1\u001b[90m, \u001b[39m3\u001b[90m, \u001b[39m3\u001b[90m, \u001b[39m4\u001b[90m, \u001b[39m2\u001b[90m, \u001b[39m5\u001b[90m, \u001b[39m4\u001b[90m, \u001b[39m1\u001b[90m, \u001b[39m4\u001b[90m,\u001b[39m…\n",
      "$ M6      \u001b[3m\u001b[90m<dbl>\u001b[39m\u001b[23m 4\u001b[90m, \u001b[39m1\u001b[90m, \u001b[39m1\u001b[90m, \u001b[39m5\u001b[90m, \u001b[39m5\u001b[90m, \u001b[39m3\u001b[90m, \u001b[39m4\u001b[90m, \u001b[39m5\u001b[90m, \u001b[39m4\u001b[90m, \u001b[39m5\u001b[90m, \u001b[39m4\u001b[90m, \u001b[39m5\u001b[90m, \u001b[39m2\u001b[90m, \u001b[39m3\u001b[90m, \u001b[39m4\u001b[90m, \u001b[39m4\u001b[90m, \u001b[39m2\u001b[90m, \u001b[39m4\u001b[90m, \u001b[39m4\u001b[90m, \u001b[39m1\u001b[90m, \u001b[39m3\u001b[90m,\u001b[39m…\n",
      "$ M7      \u001b[3m\u001b[90m<dbl>\u001b[39m\u001b[23m 4\u001b[90m, \u001b[39m2\u001b[90m, \u001b[39m5\u001b[90m, \u001b[39m5\u001b[90m, \u001b[39m4\u001b[90m, \u001b[39m5\u001b[90m, \u001b[39m4\u001b[90m, \u001b[39m5\u001b[90m, \u001b[39m4\u001b[90m, \u001b[39m5\u001b[90m, \u001b[39m1\u001b[90m, \u001b[39m5\u001b[90m, \u001b[39m4\u001b[90m, \u001b[39m4\u001b[90m, \u001b[39m5\u001b[90m, \u001b[39m5\u001b[90m, \u001b[39m5\u001b[90m, \u001b[39m5\u001b[90m, \u001b[39m4\u001b[90m, \u001b[39m4\u001b[90m, \u001b[39m5\u001b[90m,\u001b[39m…\n",
      "$ M8      \u001b[3m\u001b[90m<dbl>\u001b[39m\u001b[23m 3\u001b[90m, \u001b[39m2\u001b[90m, \u001b[39m5\u001b[90m, \u001b[39m5\u001b[90m, \u001b[39m1\u001b[90m, \u001b[39m2\u001b[90m, \u001b[39m3\u001b[90m, \u001b[39m4\u001b[90m, \u001b[39m2\u001b[90m, \u001b[39m5\u001b[90m, \u001b[39m5\u001b[90m, \u001b[39m3\u001b[90m, \u001b[39m1\u001b[90m, \u001b[39m2\u001b[90m, \u001b[39m4\u001b[90m, \u001b[39m4\u001b[90m, \u001b[39m2\u001b[90m, \u001b[39m3\u001b[90m, \u001b[39m4\u001b[90m, \u001b[39m2\u001b[90m, \u001b[39m3\u001b[90m,\u001b[39m…\n",
      "$ M9      \u001b[3m\u001b[90m<dbl>\u001b[39m\u001b[23m 4\u001b[90m, \u001b[39m3\u001b[90m, \u001b[39m3\u001b[90m, \u001b[39m5\u001b[90m, \u001b[39m4\u001b[90m, \u001b[39m2\u001b[90m, \u001b[39m5\u001b[90m, \u001b[39m5\u001b[90m, \u001b[39m4\u001b[90m, \u001b[39m5\u001b[90m, \u001b[39m4\u001b[90m, \u001b[39m5\u001b[90m, \u001b[39m2\u001b[90m, \u001b[39m4\u001b[90m, \u001b[39m5\u001b[90m, \u001b[39m5\u001b[90m, \u001b[39m4\u001b[90m, \u001b[39m4\u001b[90m, \u001b[39m5\u001b[90m, \u001b[39m4\u001b[90m, \u001b[39m5\u001b[90m,\u001b[39m…\n",
      "$ N1      \u001b[3m\u001b[90m<dbl>\u001b[39m\u001b[23m 2\u001b[90m, \u001b[39m1\u001b[90m, \u001b[39m2\u001b[90m, \u001b[39m5\u001b[90m, \u001b[39m3\u001b[90m, \u001b[39m2\u001b[90m, \u001b[39m4\u001b[90m, \u001b[39m4\u001b[90m, \u001b[39m3\u001b[90m, \u001b[39m5\u001b[90m, \u001b[39m4\u001b[90m, \u001b[39m5\u001b[90m, \u001b[39m2\u001b[90m, \u001b[39m2\u001b[90m, \u001b[39m5\u001b[90m, \u001b[39m3\u001b[90m, \u001b[39m3\u001b[90m, \u001b[39m1\u001b[90m, \u001b[39m3\u001b[90m, \u001b[39m3\u001b[90m, \u001b[39m4\u001b[90m,\u001b[39m…\n",
      "$ N2      \u001b[3m\u001b[90m<dbl>\u001b[39m\u001b[23m 2\u001b[90m, \u001b[39m1\u001b[90m, \u001b[39m1\u001b[90m, \u001b[39m5\u001b[90m, \u001b[39m2\u001b[90m, \u001b[39m1\u001b[90m, \u001b[39m2\u001b[90m, \u001b[39m5\u001b[90m, \u001b[39m1\u001b[90m, \u001b[39m5\u001b[90m, \u001b[39m3\u001b[90m, \u001b[39m4\u001b[90m, \u001b[39m2\u001b[90m, \u001b[39m4\u001b[90m, \u001b[39m4\u001b[90m, \u001b[39m2\u001b[90m, \u001b[39m3\u001b[90m, \u001b[39m4\u001b[90m, \u001b[39m4\u001b[90m, \u001b[39m2\u001b[90m, \u001b[39m1\u001b[90m,\u001b[39m…\n",
      "$ N3      \u001b[3m\u001b[90m<dbl>\u001b[39m\u001b[23m 2\u001b[90m, \u001b[39m1\u001b[90m, \u001b[39m1\u001b[90m, \u001b[39m5\u001b[90m, \u001b[39m3\u001b[90m, \u001b[39m2\u001b[90m, \u001b[39m3\u001b[90m, \u001b[39m5\u001b[90m, \u001b[39m2\u001b[90m, \u001b[39m5\u001b[90m, \u001b[39m4\u001b[90m, \u001b[39m5\u001b[90m, \u001b[39m2\u001b[90m, \u001b[39m2\u001b[90m, \u001b[39m4\u001b[90m, \u001b[39m2\u001b[90m, \u001b[39m2\u001b[90m, \u001b[39m1\u001b[90m, \u001b[39m3\u001b[90m, \u001b[39m2\u001b[90m, \u001b[39m3\u001b[90m,\u001b[39m…\n",
      "$ N4      \u001b[3m\u001b[90m<dbl>\u001b[39m\u001b[23m 3\u001b[90m, \u001b[39m1\u001b[90m, \u001b[39m1\u001b[90m, \u001b[39m5\u001b[90m, \u001b[39m1\u001b[90m, \u001b[39m2\u001b[90m, \u001b[39m3\u001b[90m, \u001b[39m5\u001b[90m, \u001b[39m1\u001b[90m, \u001b[39m5\u001b[90m, \u001b[39m3\u001b[90m, \u001b[39m5\u001b[90m, \u001b[39m1\u001b[90m, \u001b[39m2\u001b[90m, \u001b[39m3\u001b[90m, \u001b[39m4\u001b[90m, \u001b[39m1\u001b[90m, \u001b[39m1\u001b[90m, \u001b[39m2\u001b[90m, \u001b[39m2\u001b[90m, \u001b[39m3\u001b[90m,\u001b[39m…\n",
      "$ N5      \u001b[3m\u001b[90m<dbl>\u001b[39m\u001b[23m 4\u001b[90m, \u001b[39m5\u001b[90m, \u001b[39m1\u001b[90m, \u001b[39m5\u001b[90m, \u001b[39m5\u001b[90m, \u001b[39m2\u001b[90m, \u001b[39m4\u001b[90m, \u001b[39m5\u001b[90m, \u001b[39m4\u001b[90m, \u001b[39m5\u001b[90m, \u001b[39m5\u001b[90m, \u001b[39m3\u001b[90m, \u001b[39m2\u001b[90m, \u001b[39m3\u001b[90m, \u001b[39m4\u001b[90m, \u001b[39m5\u001b[90m, \u001b[39m3\u001b[90m, \u001b[39m3\u001b[90m, \u001b[39m4\u001b[90m, \u001b[39m3\u001b[90m, \u001b[39m4\u001b[90m,\u001b[39m…\n",
      "$ N6      \u001b[3m\u001b[90m<dbl>\u001b[39m\u001b[23m 2\u001b[90m, \u001b[39m1\u001b[90m, \u001b[39m1\u001b[90m, \u001b[39m5\u001b[90m, \u001b[39m2\u001b[90m, \u001b[39m2\u001b[90m, \u001b[39m3\u001b[90m, \u001b[39m5\u001b[90m, \u001b[39m1\u001b[90m, \u001b[39m5\u001b[90m, \u001b[39m5\u001b[90m, \u001b[39m5\u001b[90m, \u001b[39m4\u001b[90m, \u001b[39m3\u001b[90m, \u001b[39m1\u001b[90m, \u001b[39m1\u001b[90m, \u001b[39m2\u001b[90m, \u001b[39m2\u001b[90m, \u001b[39m2\u001b[90m, \u001b[39m6\u001b[90m, \u001b[39m1\u001b[90m,\u001b[39m…\n",
      "$ N7      \u001b[3m\u001b[90m<dbl>\u001b[39m\u001b[23m 2\u001b[90m, \u001b[39m1\u001b[90m, \u001b[39m1\u001b[90m, \u001b[39m5\u001b[90m, \u001b[39m3\u001b[90m, \u001b[39m1\u001b[90m, \u001b[39m2\u001b[90m, \u001b[39m4\u001b[90m, \u001b[39m2\u001b[90m, \u001b[39m5\u001b[90m, \u001b[39m4\u001b[90m, \u001b[39m4\u001b[90m, \u001b[39m4\u001b[90m, \u001b[39m2\u001b[90m, \u001b[39m2\u001b[90m, \u001b[39m5\u001b[90m, \u001b[39m3\u001b[90m, \u001b[39m1\u001b[90m, \u001b[39m3\u001b[90m, \u001b[39m2\u001b[90m, \u001b[39m3\u001b[90m,\u001b[39m…\n",
      "$ N8      \u001b[3m\u001b[90m<dbl>\u001b[39m\u001b[23m 3\u001b[90m, \u001b[39m1\u001b[90m, \u001b[39m1\u001b[90m, \u001b[39m5\u001b[90m, \u001b[39m4\u001b[90m, \u001b[39m3\u001b[90m, \u001b[39m2\u001b[90m, \u001b[39m5\u001b[90m, \u001b[39m3\u001b[90m, \u001b[39m5\u001b[90m, \u001b[39m4\u001b[90m, \u001b[39m5\u001b[90m, \u001b[39m2\u001b[90m, \u001b[39m4\u001b[90m, \u001b[39m2\u001b[90m, \u001b[39m2\u001b[90m, \u001b[39m4\u001b[90m, \u001b[39m2\u001b[90m, \u001b[39m2\u001b[90m, \u001b[39m3\u001b[90m, \u001b[39m2\u001b[90m,\u001b[39m…\n",
      "$ N9      \u001b[3m\u001b[90m<dbl>\u001b[39m\u001b[23m 4\u001b[90m, \u001b[39m2\u001b[90m, \u001b[39m5\u001b[90m, \u001b[39m5\u001b[90m, \u001b[39m5\u001b[90m, \u001b[39m5\u001b[90m, \u001b[39m4\u001b[90m, \u001b[39m5\u001b[90m, \u001b[39m4\u001b[90m, \u001b[39m5\u001b[90m, \u001b[39m3\u001b[90m, \u001b[39m5\u001b[90m, \u001b[39m4\u001b[90m, \u001b[39m3\u001b[90m, \u001b[39m3\u001b[90m, \u001b[39m3\u001b[90m, \u001b[39m4\u001b[90m, \u001b[39m3\u001b[90m, \u001b[39m4\u001b[90m, \u001b[39m3\u001b[90m, \u001b[39m3\u001b[90m,\u001b[39m…\n",
      "$ P1      \u001b[3m\u001b[90m<dbl>\u001b[39m\u001b[23m 3\u001b[90m, \u001b[39m1\u001b[90m, \u001b[39m3\u001b[90m, \u001b[39m5\u001b[90m, \u001b[39m4\u001b[90m, \u001b[39m3\u001b[90m, \u001b[39m3\u001b[90m, \u001b[39m2\u001b[90m, \u001b[39m5\u001b[90m, \u001b[39m5\u001b[90m, \u001b[39m3\u001b[90m, \u001b[39m4\u001b[90m, \u001b[39m2\u001b[90m, \u001b[39m1\u001b[90m, \u001b[39m5\u001b[90m, \u001b[39m2\u001b[90m, \u001b[39m2\u001b[90m, \u001b[39m1\u001b[90m, \u001b[39m4\u001b[90m, \u001b[39m2\u001b[90m, \u001b[39m1\u001b[90m,\u001b[39m…\n",
      "$ P2      \u001b[3m\u001b[90m<dbl>\u001b[39m\u001b[23m 2\u001b[90m, \u001b[39m5\u001b[90m, \u001b[39m1\u001b[90m, \u001b[39m5\u001b[90m, \u001b[39m1\u001b[90m, \u001b[39m1\u001b[90m, \u001b[39m4\u001b[90m, \u001b[39m1\u001b[90m, \u001b[39m4\u001b[90m, \u001b[39m4\u001b[90m, \u001b[39m3\u001b[90m, \u001b[39m4\u001b[90m, \u001b[39m4\u001b[90m, \u001b[39m3\u001b[90m, \u001b[39m4\u001b[90m, \u001b[39m4\u001b[90m, \u001b[39m3\u001b[90m, \u001b[39m2\u001b[90m, \u001b[39m2\u001b[90m, \u001b[39m3\u001b[90m, \u001b[39m2\u001b[90m,\u001b[39m…\n",
      "$ P3      \u001b[3m\u001b[90m<dbl>\u001b[39m\u001b[23m 3\u001b[90m, \u001b[39m1\u001b[90m, \u001b[39m3\u001b[90m, \u001b[39m5\u001b[90m, \u001b[39m3\u001b[90m, \u001b[39m4\u001b[90m, \u001b[39m4\u001b[90m, \u001b[39m2\u001b[90m, \u001b[39m4\u001b[90m, \u001b[39m5\u001b[90m, \u001b[39m3\u001b[90m, \u001b[39m2\u001b[90m, \u001b[39m2\u001b[90m, \u001b[39m3\u001b[90m, \u001b[39m3\u001b[90m, \u001b[39m2\u001b[90m, \u001b[39m1\u001b[90m, \u001b[39m3\u001b[90m, \u001b[39m4\u001b[90m, \u001b[39m3\u001b[90m, \u001b[39m2\u001b[90m,\u001b[39m…\n",
      "$ P4      \u001b[3m\u001b[90m<dbl>\u001b[39m\u001b[23m 2\u001b[90m, \u001b[39m5\u001b[90m, \u001b[39m1\u001b[90m, \u001b[39m2\u001b[90m, \u001b[39m1\u001b[90m, \u001b[39m4\u001b[90m, \u001b[39m2\u001b[90m, \u001b[39m5\u001b[90m, \u001b[39m3\u001b[90m, \u001b[39m5\u001b[90m, \u001b[39m3\u001b[90m, \u001b[39m1\u001b[90m, \u001b[39m4\u001b[90m, \u001b[39m1\u001b[90m, \u001b[39m3\u001b[90m, \u001b[39m1\u001b[90m, \u001b[39m2\u001b[90m, \u001b[39m2\u001b[90m, \u001b[39m2\u001b[90m, \u001b[39m1\u001b[90m, \u001b[39m1\u001b[90m,\u001b[39m…\n",
      "$ P5      \u001b[3m\u001b[90m<dbl>\u001b[39m\u001b[23m 4\u001b[90m, \u001b[39m4\u001b[90m, \u001b[39m3\u001b[90m, \u001b[39m5\u001b[90m, \u001b[39m4\u001b[90m, \u001b[39m2\u001b[90m, \u001b[39m4\u001b[90m, \u001b[39m5\u001b[90m, \u001b[39m4\u001b[90m, \u001b[39m5\u001b[90m, \u001b[39m4\u001b[90m, \u001b[39m5\u001b[90m, \u001b[39m4\u001b[90m, \u001b[39m4\u001b[90m, \u001b[39m2\u001b[90m, \u001b[39m2\u001b[90m, \u001b[39m3\u001b[90m, \u001b[39m1\u001b[90m, \u001b[39m4\u001b[90m, \u001b[39m3\u001b[90m, \u001b[39m2\u001b[90m,\u001b[39m…\n",
      "$ P6      \u001b[3m\u001b[90m<dbl>\u001b[39m\u001b[23m 4\u001b[90m, \u001b[39m1\u001b[90m, \u001b[39m1\u001b[90m, \u001b[39m5\u001b[90m, \u001b[39m3\u001b[90m, \u001b[39m2\u001b[90m, \u001b[39m3\u001b[90m, \u001b[39m5\u001b[90m, \u001b[39m4\u001b[90m, \u001b[39m5\u001b[90m, \u001b[39m3\u001b[90m, \u001b[39m5\u001b[90m, \u001b[39m2\u001b[90m, \u001b[39m4\u001b[90m, \u001b[39m3\u001b[90m, \u001b[39m1\u001b[90m, \u001b[39m2\u001b[90m, \u001b[39m2\u001b[90m, \u001b[39m2\u001b[90m, \u001b[39m4\u001b[90m, \u001b[39m2\u001b[90m,\u001b[39m…\n",
      "$ P7      \u001b[3m\u001b[90m<dbl>\u001b[39m\u001b[23m 2\u001b[90m, \u001b[39m1\u001b[90m, \u001b[39m4\u001b[90m, \u001b[39m1\u001b[90m, \u001b[39m1\u001b[90m, \u001b[39m5\u001b[90m, \u001b[39m2\u001b[90m, \u001b[39m4\u001b[90m, \u001b[39m5\u001b[90m, \u001b[39m1\u001b[90m, \u001b[39m4\u001b[90m, \u001b[39m4\u001b[90m, \u001b[39m2\u001b[90m, \u001b[39m5\u001b[90m, \u001b[39m3\u001b[90m, \u001b[39m1\u001b[90m, \u001b[39m3\u001b[90m, \u001b[39m1\u001b[90m, \u001b[39m4\u001b[90m, \u001b[39m1\u001b[90m, \u001b[39m5\u001b[90m,\u001b[39m…\n",
      "$ P8      \u001b[3m\u001b[90m<dbl>\u001b[39m\u001b[23m 4\u001b[90m, \u001b[39m3\u001b[90m, \u001b[39m3\u001b[90m, \u001b[39m1\u001b[90m, \u001b[39m4\u001b[90m, \u001b[39m1\u001b[90m, \u001b[39m4\u001b[90m, \u001b[39m5\u001b[90m, \u001b[39m2\u001b[90m, \u001b[39m3\u001b[90m, \u001b[39m3\u001b[90m, \u001b[39m1\u001b[90m, \u001b[39m1\u001b[90m, \u001b[39m1\u001b[90m, \u001b[39m3\u001b[90m, \u001b[39m1\u001b[90m, \u001b[39m3\u001b[90m, \u001b[39m1\u001b[90m, \u001b[39m2\u001b[90m, \u001b[39m5\u001b[90m, \u001b[39m3\u001b[90m,\u001b[39m…\n",
      "$ P9      \u001b[3m\u001b[90m<dbl>\u001b[39m\u001b[23m 4\u001b[90m, \u001b[39m2\u001b[90m, \u001b[39m1\u001b[90m, \u001b[39m5\u001b[90m, \u001b[39m1\u001b[90m, \u001b[39m5\u001b[90m, \u001b[39m3\u001b[90m, \u001b[39m3\u001b[90m, \u001b[39m1\u001b[90m, \u001b[39m5\u001b[90m, \u001b[39m4\u001b[90m, \u001b[39m1\u001b[90m, \u001b[39m1\u001b[90m, \u001b[39m2\u001b[90m, \u001b[39m3\u001b[90m, \u001b[39m1\u001b[90m, \u001b[39m2\u001b[90m, \u001b[39m2\u001b[90m, \u001b[39m2\u001b[90m, \u001b[39m2\u001b[90m, \u001b[39m1\u001b[90m,\u001b[39m…\n",
      "$ country \u001b[3m\u001b[90m<fct>\u001b[39m\u001b[23m GB\u001b[90m, \u001b[39mUS\u001b[90m, \u001b[39mUS\u001b[90m, \u001b[39mGB\u001b[90m, \u001b[39mGB\u001b[90m, \u001b[39mIT\u001b[90m, \u001b[39mGB\u001b[90m, \u001b[39mGB\u001b[90m, \u001b[39mUS\u001b[90m, \u001b[39mUS\u001b[90m, \u001b[39mUS\u001b[90m, \u001b[39mGB\u001b[90m, \u001b[39mSE\u001b[90m, \u001b[39mGB\u001b[90m, \u001b[39mGB\u001b[90m, \u001b[39mUS…\n",
      "$ source  \u001b[3m\u001b[90m<fct>\u001b[39m\u001b[23m front page of website\u001b[90m, \u001b[39mfront page of website\u001b[90m, \u001b[39mfront page of we…\n"
     ]
    }
   ],
   "source": [
    "# View the structure\n",
    "glimpse(sd3)"
   ]
  },
  {
   "cell_type": "markdown",
   "id": "32639616",
   "metadata": {},
   "source": [
    "### 2.2 Correct the Data Types"
   ]
  },
  {
   "cell_type": "code",
   "execution_count": 16,
   "id": "d62fe766",
   "metadata": {
    "vscode": {
     "languageId": "r"
    }
   },
   "outputs": [
    {
     "name": "stdout",
     "output_type": "stream",
     "text": [
      "Rows: 18,192\n",
      "Columns: 29\n",
      "$ M1      \u001b[3m\u001b[90m<dbl>\u001b[39m\u001b[23m 4\u001b[90m, \u001b[39m2\u001b[90m, \u001b[39m3\u001b[90m, \u001b[39m5\u001b[90m, \u001b[39m4\u001b[90m, \u001b[39m4\u001b[90m, \u001b[39m4\u001b[90m, \u001b[39m5\u001b[90m, \u001b[39m5\u001b[90m, \u001b[39m5\u001b[90m, \u001b[39m5\u001b[90m, \u001b[39m5\u001b[90m, \u001b[39m5\u001b[90m, \u001b[39m2\u001b[90m, \u001b[39m5\u001b[90m, \u001b[39m4\u001b[90m, \u001b[39m4\u001b[90m, \u001b[39m5\u001b[90m, \u001b[39m5\u001b[90m, \u001b[39m4\u001b[90m, \u001b[39m5\u001b[90m,\u001b[39m…\n",
      "$ M2      \u001b[3m\u001b[90m<dbl>\u001b[39m\u001b[23m 4\u001b[90m, \u001b[39m1\u001b[90m, \u001b[39m3\u001b[90m, \u001b[39m5\u001b[90m, \u001b[39m4\u001b[90m, \u001b[39m2\u001b[90m, \u001b[39m4\u001b[90m, \u001b[39m5\u001b[90m, \u001b[39m3\u001b[90m, \u001b[39m5\u001b[90m, \u001b[39m5\u001b[90m, \u001b[39m4\u001b[90m, \u001b[39m1\u001b[90m, \u001b[39m2\u001b[90m, \u001b[39m3\u001b[90m, \u001b[39m5\u001b[90m, \u001b[39m3\u001b[90m, \u001b[39m2\u001b[90m, \u001b[39m4\u001b[90m, \u001b[39m4\u001b[90m, \u001b[39m3\u001b[90m,\u001b[39m…\n",
      "$ M3      \u001b[3m\u001b[90m<dbl>\u001b[39m\u001b[23m 4\u001b[90m, \u001b[39m5\u001b[90m, \u001b[39m3\u001b[90m, \u001b[39m4\u001b[90m, \u001b[39m2\u001b[90m, \u001b[39m2\u001b[90m, \u001b[39m4\u001b[90m, \u001b[39m5\u001b[90m, \u001b[39m4\u001b[90m, \u001b[39m5\u001b[90m, \u001b[39m5\u001b[90m, \u001b[39m4\u001b[90m, \u001b[39m2\u001b[90m, \u001b[39m3\u001b[90m, \u001b[39m4\u001b[90m, \u001b[39m4\u001b[90m, \u001b[39m3\u001b[90m, \u001b[39m4\u001b[90m, \u001b[39m0\u001b[90m, \u001b[39m3\u001b[90m, \u001b[39m4\u001b[90m,\u001b[39m…\n",
      "$ M4      \u001b[3m\u001b[90m<dbl>\u001b[39m\u001b[23m 4\u001b[90m, \u001b[39m2\u001b[90m, \u001b[39m5\u001b[90m, \u001b[39m5\u001b[90m, \u001b[39m5\u001b[90m, \u001b[39m4\u001b[90m, \u001b[39m2\u001b[90m, \u001b[39m5\u001b[90m, \u001b[39m4\u001b[90m, \u001b[39m3\u001b[90m, \u001b[39m5\u001b[90m, \u001b[39m3\u001b[90m, \u001b[39m2\u001b[90m, \u001b[39m4\u001b[90m, \u001b[39m4\u001b[90m, \u001b[39m5\u001b[90m, \u001b[39m4\u001b[90m, \u001b[39m4\u001b[90m, \u001b[39m2\u001b[90m, \u001b[39m2\u001b[90m, \u001b[39m4\u001b[90m,\u001b[39m…\n",
      "$ M5      \u001b[3m\u001b[90m<dbl>\u001b[39m\u001b[23m 4\u001b[90m, \u001b[39m2\u001b[90m, \u001b[39m1\u001b[90m, \u001b[39m5\u001b[90m, \u001b[39m5\u001b[90m, \u001b[39m2\u001b[90m, \u001b[39m4\u001b[90m, \u001b[39m5\u001b[90m, \u001b[39m4\u001b[90m, \u001b[39m5\u001b[90m, \u001b[39m5\u001b[90m, \u001b[39m5\u001b[90m, \u001b[39m1\u001b[90m, \u001b[39m3\u001b[90m, \u001b[39m3\u001b[90m, \u001b[39m4\u001b[90m, \u001b[39m2\u001b[90m, \u001b[39m5\u001b[90m, \u001b[39m4\u001b[90m, \u001b[39m1\u001b[90m, \u001b[39m4\u001b[90m,\u001b[39m…\n",
      "$ M6      \u001b[3m\u001b[90m<dbl>\u001b[39m\u001b[23m 4\u001b[90m, \u001b[39m1\u001b[90m, \u001b[39m1\u001b[90m, \u001b[39m5\u001b[90m, \u001b[39m5\u001b[90m, \u001b[39m3\u001b[90m, \u001b[39m4\u001b[90m, \u001b[39m5\u001b[90m, \u001b[39m4\u001b[90m, \u001b[39m5\u001b[90m, \u001b[39m4\u001b[90m, \u001b[39m5\u001b[90m, \u001b[39m2\u001b[90m, \u001b[39m3\u001b[90m, \u001b[39m4\u001b[90m, \u001b[39m4\u001b[90m, \u001b[39m2\u001b[90m, \u001b[39m4\u001b[90m, \u001b[39m4\u001b[90m, \u001b[39m1\u001b[90m, \u001b[39m3\u001b[90m,\u001b[39m…\n",
      "$ M7      \u001b[3m\u001b[90m<dbl>\u001b[39m\u001b[23m 4\u001b[90m, \u001b[39m2\u001b[90m, \u001b[39m5\u001b[90m, \u001b[39m5\u001b[90m, \u001b[39m4\u001b[90m, \u001b[39m5\u001b[90m, \u001b[39m4\u001b[90m, \u001b[39m5\u001b[90m, \u001b[39m4\u001b[90m, \u001b[39m5\u001b[90m, \u001b[39m1\u001b[90m, \u001b[39m5\u001b[90m, \u001b[39m4\u001b[90m, \u001b[39m4\u001b[90m, \u001b[39m5\u001b[90m, \u001b[39m5\u001b[90m, \u001b[39m5\u001b[90m, \u001b[39m5\u001b[90m, \u001b[39m4\u001b[90m, \u001b[39m4\u001b[90m, \u001b[39m5\u001b[90m,\u001b[39m…\n",
      "$ M8      \u001b[3m\u001b[90m<dbl>\u001b[39m\u001b[23m 3\u001b[90m, \u001b[39m2\u001b[90m, \u001b[39m5\u001b[90m, \u001b[39m5\u001b[90m, \u001b[39m1\u001b[90m, \u001b[39m2\u001b[90m, \u001b[39m3\u001b[90m, \u001b[39m4\u001b[90m, \u001b[39m2\u001b[90m, \u001b[39m5\u001b[90m, \u001b[39m5\u001b[90m, \u001b[39m3\u001b[90m, \u001b[39m1\u001b[90m, \u001b[39m2\u001b[90m, \u001b[39m4\u001b[90m, \u001b[39m4\u001b[90m, \u001b[39m2\u001b[90m, \u001b[39m3\u001b[90m, \u001b[39m4\u001b[90m, \u001b[39m2\u001b[90m, \u001b[39m3\u001b[90m,\u001b[39m…\n",
      "$ M9      \u001b[3m\u001b[90m<dbl>\u001b[39m\u001b[23m 4\u001b[90m, \u001b[39m3\u001b[90m, \u001b[39m3\u001b[90m, \u001b[39m5\u001b[90m, \u001b[39m4\u001b[90m, \u001b[39m2\u001b[90m, \u001b[39m5\u001b[90m, \u001b[39m5\u001b[90m, \u001b[39m4\u001b[90m, \u001b[39m5\u001b[90m, \u001b[39m4\u001b[90m, \u001b[39m5\u001b[90m, \u001b[39m2\u001b[90m, \u001b[39m4\u001b[90m, \u001b[39m5\u001b[90m, \u001b[39m5\u001b[90m, \u001b[39m4\u001b[90m, \u001b[39m4\u001b[90m, \u001b[39m5\u001b[90m, \u001b[39m4\u001b[90m, \u001b[39m5\u001b[90m,\u001b[39m…\n",
      "$ N1      \u001b[3m\u001b[90m<dbl>\u001b[39m\u001b[23m 2\u001b[90m, \u001b[39m1\u001b[90m, \u001b[39m2\u001b[90m, \u001b[39m5\u001b[90m, \u001b[39m3\u001b[90m, \u001b[39m2\u001b[90m, \u001b[39m4\u001b[90m, \u001b[39m4\u001b[90m, \u001b[39m3\u001b[90m, \u001b[39m5\u001b[90m, \u001b[39m4\u001b[90m, \u001b[39m5\u001b[90m, \u001b[39m2\u001b[90m, \u001b[39m2\u001b[90m, \u001b[39m5\u001b[90m, \u001b[39m3\u001b[90m, \u001b[39m3\u001b[90m, \u001b[39m1\u001b[90m, \u001b[39m3\u001b[90m, \u001b[39m3\u001b[90m, \u001b[39m4\u001b[90m,\u001b[39m…\n",
      "$ N2      \u001b[3m\u001b[90m<dbl>\u001b[39m\u001b[23m 4\u001b[90m, \u001b[39m5\u001b[90m, \u001b[39m5\u001b[90m, \u001b[39m1\u001b[90m, \u001b[39m4\u001b[90m, \u001b[39m5\u001b[90m, \u001b[39m4\u001b[90m, \u001b[39m1\u001b[90m, \u001b[39m5\u001b[90m, \u001b[39m1\u001b[90m, \u001b[39m3\u001b[90m, \u001b[39m2\u001b[90m, \u001b[39m4\u001b[90m, \u001b[39m2\u001b[90m, \u001b[39m2\u001b[90m, \u001b[39m4\u001b[90m, \u001b[39m3\u001b[90m, \u001b[39m2\u001b[90m, \u001b[39m2\u001b[90m, \u001b[39m4\u001b[90m, \u001b[39m5\u001b[90m,\u001b[39m…\n",
      "$ N3      \u001b[3m\u001b[90m<dbl>\u001b[39m\u001b[23m 2\u001b[90m, \u001b[39m1\u001b[90m, \u001b[39m1\u001b[90m, \u001b[39m5\u001b[90m, \u001b[39m3\u001b[90m, \u001b[39m2\u001b[90m, \u001b[39m3\u001b[90m, \u001b[39m5\u001b[90m, \u001b[39m2\u001b[90m, \u001b[39m5\u001b[90m, \u001b[39m4\u001b[90m, \u001b[39m5\u001b[90m, \u001b[39m2\u001b[90m, \u001b[39m2\u001b[90m, \u001b[39m4\u001b[90m, \u001b[39m2\u001b[90m, \u001b[39m2\u001b[90m, \u001b[39m1\u001b[90m, \u001b[39m3\u001b[90m, \u001b[39m2\u001b[90m, \u001b[39m3\u001b[90m,\u001b[39m…\n",
      "$ N4      \u001b[3m\u001b[90m<dbl>\u001b[39m\u001b[23m 3\u001b[90m, \u001b[39m1\u001b[90m, \u001b[39m1\u001b[90m, \u001b[39m5\u001b[90m, \u001b[39m1\u001b[90m, \u001b[39m2\u001b[90m, \u001b[39m3\u001b[90m, \u001b[39m5\u001b[90m, \u001b[39m1\u001b[90m, \u001b[39m5\u001b[90m, \u001b[39m3\u001b[90m, \u001b[39m5\u001b[90m, \u001b[39m1\u001b[90m, \u001b[39m2\u001b[90m, \u001b[39m3\u001b[90m, \u001b[39m4\u001b[90m, \u001b[39m1\u001b[90m, \u001b[39m1\u001b[90m, \u001b[39m2\u001b[90m, \u001b[39m2\u001b[90m, \u001b[39m3\u001b[90m,\u001b[39m…\n",
      "$ N5      \u001b[3m\u001b[90m<dbl>\u001b[39m\u001b[23m 4\u001b[90m, \u001b[39m5\u001b[90m, \u001b[39m1\u001b[90m, \u001b[39m5\u001b[90m, \u001b[39m5\u001b[90m, \u001b[39m2\u001b[90m, \u001b[39m4\u001b[90m, \u001b[39m5\u001b[90m, \u001b[39m4\u001b[90m, \u001b[39m5\u001b[90m, \u001b[39m5\u001b[90m, \u001b[39m3\u001b[90m, \u001b[39m2\u001b[90m, \u001b[39m3\u001b[90m, \u001b[39m4\u001b[90m, \u001b[39m5\u001b[90m, \u001b[39m3\u001b[90m, \u001b[39m3\u001b[90m, \u001b[39m4\u001b[90m, \u001b[39m3\u001b[90m, \u001b[39m4\u001b[90m,\u001b[39m…\n",
      "$ N6      \u001b[3m\u001b[90m<dbl>\u001b[39m\u001b[23m 4\u001b[90m, \u001b[39m5\u001b[90m, \u001b[39m5\u001b[90m, \u001b[39m1\u001b[90m, \u001b[39m4\u001b[90m, \u001b[39m4\u001b[90m, \u001b[39m3\u001b[90m, \u001b[39m1\u001b[90m, \u001b[39m5\u001b[90m, \u001b[39m1\u001b[90m, \u001b[39m1\u001b[90m, \u001b[39m1\u001b[90m, \u001b[39m2\u001b[90m, \u001b[39m3\u001b[90m, \u001b[39m5\u001b[90m, \u001b[39m5\u001b[90m, \u001b[39m4\u001b[90m, \u001b[39m4\u001b[90m, \u001b[39m4\u001b[90m, \u001b[39m0\u001b[90m, \u001b[39m5\u001b[90m,\u001b[39m…\n",
      "$ N7      \u001b[3m\u001b[90m<dbl>\u001b[39m\u001b[23m 2\u001b[90m, \u001b[39m1\u001b[90m, \u001b[39m1\u001b[90m, \u001b[39m5\u001b[90m, \u001b[39m3\u001b[90m, \u001b[39m1\u001b[90m, \u001b[39m2\u001b[90m, \u001b[39m4\u001b[90m, \u001b[39m2\u001b[90m, \u001b[39m5\u001b[90m, \u001b[39m4\u001b[90m, \u001b[39m4\u001b[90m, \u001b[39m4\u001b[90m, \u001b[39m2\u001b[90m, \u001b[39m2\u001b[90m, \u001b[39m5\u001b[90m, \u001b[39m3\u001b[90m, \u001b[39m1\u001b[90m, \u001b[39m3\u001b[90m, \u001b[39m2\u001b[90m, \u001b[39m3\u001b[90m,\u001b[39m…\n",
      "$ N8      \u001b[3m\u001b[90m<dbl>\u001b[39m\u001b[23m 3\u001b[90m, \u001b[39m5\u001b[90m, \u001b[39m5\u001b[90m, \u001b[39m1\u001b[90m, \u001b[39m2\u001b[90m, \u001b[39m3\u001b[90m, \u001b[39m4\u001b[90m, \u001b[39m1\u001b[90m, \u001b[39m3\u001b[90m, \u001b[39m1\u001b[90m, \u001b[39m2\u001b[90m, \u001b[39m1\u001b[90m, \u001b[39m4\u001b[90m, \u001b[39m2\u001b[90m, \u001b[39m4\u001b[90m, \u001b[39m4\u001b[90m, \u001b[39m2\u001b[90m, \u001b[39m4\u001b[90m, \u001b[39m4\u001b[90m, \u001b[39m3\u001b[90m, \u001b[39m4\u001b[90m,\u001b[39m…\n",
      "$ N9      \u001b[3m\u001b[90m<dbl>\u001b[39m\u001b[23m 4\u001b[90m, \u001b[39m2\u001b[90m, \u001b[39m5\u001b[90m, \u001b[39m5\u001b[90m, \u001b[39m5\u001b[90m, \u001b[39m5\u001b[90m, \u001b[39m4\u001b[90m, \u001b[39m5\u001b[90m, \u001b[39m4\u001b[90m, \u001b[39m5\u001b[90m, \u001b[39m3\u001b[90m, \u001b[39m5\u001b[90m, \u001b[39m4\u001b[90m, \u001b[39m3\u001b[90m, \u001b[39m3\u001b[90m, \u001b[39m3\u001b[90m, \u001b[39m4\u001b[90m, \u001b[39m3\u001b[90m, \u001b[39m4\u001b[90m, \u001b[39m3\u001b[90m, \u001b[39m3\u001b[90m,\u001b[39m…\n",
      "$ P1      \u001b[3m\u001b[90m<dbl>\u001b[39m\u001b[23m 3\u001b[90m, \u001b[39m1\u001b[90m, \u001b[39m3\u001b[90m, \u001b[39m5\u001b[90m, \u001b[39m4\u001b[90m, \u001b[39m3\u001b[90m, \u001b[39m3\u001b[90m, \u001b[39m2\u001b[90m, \u001b[39m5\u001b[90m, \u001b[39m5\u001b[90m, \u001b[39m3\u001b[90m, \u001b[39m4\u001b[90m, \u001b[39m2\u001b[90m, \u001b[39m1\u001b[90m, \u001b[39m5\u001b[90m, \u001b[39m2\u001b[90m, \u001b[39m2\u001b[90m, \u001b[39m1\u001b[90m, \u001b[39m4\u001b[90m, \u001b[39m2\u001b[90m, \u001b[39m1\u001b[90m,\u001b[39m…\n",
      "$ P2      \u001b[3m\u001b[90m<dbl>\u001b[39m\u001b[23m 4\u001b[90m, \u001b[39m1\u001b[90m, \u001b[39m5\u001b[90m, \u001b[39m1\u001b[90m, \u001b[39m5\u001b[90m, \u001b[39m5\u001b[90m, \u001b[39m2\u001b[90m, \u001b[39m5\u001b[90m, \u001b[39m2\u001b[90m, \u001b[39m2\u001b[90m, \u001b[39m3\u001b[90m, \u001b[39m2\u001b[90m, \u001b[39m2\u001b[90m, \u001b[39m3\u001b[90m, \u001b[39m2\u001b[90m, \u001b[39m2\u001b[90m, \u001b[39m3\u001b[90m, \u001b[39m4\u001b[90m, \u001b[39m4\u001b[90m, \u001b[39m3\u001b[90m, \u001b[39m4\u001b[90m,\u001b[39m…\n",
      "$ P3      \u001b[3m\u001b[90m<dbl>\u001b[39m\u001b[23m 3\u001b[90m, \u001b[39m1\u001b[90m, \u001b[39m3\u001b[90m, \u001b[39m5\u001b[90m, \u001b[39m3\u001b[90m, \u001b[39m4\u001b[90m, \u001b[39m4\u001b[90m, \u001b[39m2\u001b[90m, \u001b[39m4\u001b[90m, \u001b[39m5\u001b[90m, \u001b[39m3\u001b[90m, \u001b[39m2\u001b[90m, \u001b[39m2\u001b[90m, \u001b[39m3\u001b[90m, \u001b[39m3\u001b[90m, \u001b[39m2\u001b[90m, \u001b[39m1\u001b[90m, \u001b[39m3\u001b[90m, \u001b[39m4\u001b[90m, \u001b[39m3\u001b[90m, \u001b[39m2\u001b[90m,\u001b[39m…\n",
      "$ P4      \u001b[3m\u001b[90m<dbl>\u001b[39m\u001b[23m 2\u001b[90m, \u001b[39m5\u001b[90m, \u001b[39m1\u001b[90m, \u001b[39m2\u001b[90m, \u001b[39m1\u001b[90m, \u001b[39m4\u001b[90m, \u001b[39m2\u001b[90m, \u001b[39m5\u001b[90m, \u001b[39m3\u001b[90m, \u001b[39m5\u001b[90m, \u001b[39m3\u001b[90m, \u001b[39m1\u001b[90m, \u001b[39m4\u001b[90m, \u001b[39m1\u001b[90m, \u001b[39m3\u001b[90m, \u001b[39m1\u001b[90m, \u001b[39m2\u001b[90m, \u001b[39m2\u001b[90m, \u001b[39m2\u001b[90m, \u001b[39m1\u001b[90m, \u001b[39m1\u001b[90m,\u001b[39m…\n",
      "$ P5      \u001b[3m\u001b[90m<dbl>\u001b[39m\u001b[23m 4\u001b[90m, \u001b[39m4\u001b[90m, \u001b[39m3\u001b[90m, \u001b[39m5\u001b[90m, \u001b[39m4\u001b[90m, \u001b[39m2\u001b[90m, \u001b[39m4\u001b[90m, \u001b[39m5\u001b[90m, \u001b[39m4\u001b[90m, \u001b[39m5\u001b[90m, \u001b[39m4\u001b[90m, \u001b[39m5\u001b[90m, \u001b[39m4\u001b[90m, \u001b[39m4\u001b[90m, \u001b[39m2\u001b[90m, \u001b[39m2\u001b[90m, \u001b[39m3\u001b[90m, \u001b[39m1\u001b[90m, \u001b[39m4\u001b[90m, \u001b[39m3\u001b[90m, \u001b[39m2\u001b[90m,\u001b[39m…\n",
      "$ P6      \u001b[3m\u001b[90m<dbl>\u001b[39m\u001b[23m 4\u001b[90m, \u001b[39m1\u001b[90m, \u001b[39m1\u001b[90m, \u001b[39m5\u001b[90m, \u001b[39m3\u001b[90m, \u001b[39m2\u001b[90m, \u001b[39m3\u001b[90m, \u001b[39m5\u001b[90m, \u001b[39m4\u001b[90m, \u001b[39m5\u001b[90m, \u001b[39m3\u001b[90m, \u001b[39m5\u001b[90m, \u001b[39m2\u001b[90m, \u001b[39m4\u001b[90m, \u001b[39m3\u001b[90m, \u001b[39m1\u001b[90m, \u001b[39m2\u001b[90m, \u001b[39m2\u001b[90m, \u001b[39m2\u001b[90m, \u001b[39m4\u001b[90m, \u001b[39m2\u001b[90m,\u001b[39m…\n",
      "$ P7      \u001b[3m\u001b[90m<dbl>\u001b[39m\u001b[23m 4\u001b[90m, \u001b[39m5\u001b[90m, \u001b[39m2\u001b[90m, \u001b[39m5\u001b[90m, \u001b[39m5\u001b[90m, \u001b[39m1\u001b[90m, \u001b[39m4\u001b[90m, \u001b[39m2\u001b[90m, \u001b[39m1\u001b[90m, \u001b[39m5\u001b[90m, \u001b[39m2\u001b[90m, \u001b[39m2\u001b[90m, \u001b[39m4\u001b[90m, \u001b[39m1\u001b[90m, \u001b[39m3\u001b[90m, \u001b[39m5\u001b[90m, \u001b[39m3\u001b[90m, \u001b[39m5\u001b[90m, \u001b[39m2\u001b[90m, \u001b[39m5\u001b[90m, \u001b[39m1\u001b[90m,\u001b[39m…\n",
      "$ P8      \u001b[3m\u001b[90m<dbl>\u001b[39m\u001b[23m 4\u001b[90m, \u001b[39m3\u001b[90m, \u001b[39m3\u001b[90m, \u001b[39m1\u001b[90m, \u001b[39m4\u001b[90m, \u001b[39m1\u001b[90m, \u001b[39m4\u001b[90m, \u001b[39m5\u001b[90m, \u001b[39m2\u001b[90m, \u001b[39m3\u001b[90m, \u001b[39m3\u001b[90m, \u001b[39m1\u001b[90m, \u001b[39m1\u001b[90m, \u001b[39m1\u001b[90m, \u001b[39m3\u001b[90m, \u001b[39m1\u001b[90m, \u001b[39m3\u001b[90m, \u001b[39m1\u001b[90m, \u001b[39m2\u001b[90m, \u001b[39m5\u001b[90m, \u001b[39m3\u001b[90m,\u001b[39m…\n",
      "$ P9      \u001b[3m\u001b[90m<dbl>\u001b[39m\u001b[23m 4\u001b[90m, \u001b[39m2\u001b[90m, \u001b[39m1\u001b[90m, \u001b[39m5\u001b[90m, \u001b[39m1\u001b[90m, \u001b[39m5\u001b[90m, \u001b[39m3\u001b[90m, \u001b[39m3\u001b[90m, \u001b[39m1\u001b[90m, \u001b[39m5\u001b[90m, \u001b[39m4\u001b[90m, \u001b[39m1\u001b[90m, \u001b[39m1\u001b[90m, \u001b[39m2\u001b[90m, \u001b[39m3\u001b[90m, \u001b[39m1\u001b[90m, \u001b[39m2\u001b[90m, \u001b[39m2\u001b[90m, \u001b[39m2\u001b[90m, \u001b[39m2\u001b[90m, \u001b[39m1\u001b[90m,\u001b[39m…\n",
      "$ country \u001b[3m\u001b[90m<fct>\u001b[39m\u001b[23m GB\u001b[90m, \u001b[39mUS\u001b[90m, \u001b[39mUS\u001b[90m, \u001b[39mGB\u001b[90m, \u001b[39mGB\u001b[90m, \u001b[39mIT\u001b[90m, \u001b[39mGB\u001b[90m, \u001b[39mGB\u001b[90m, \u001b[39mUS\u001b[90m, \u001b[39mUS\u001b[90m, \u001b[39mUS\u001b[90m, \u001b[39mGB\u001b[90m, \u001b[39mSE\u001b[90m, \u001b[39mGB\u001b[90m, \u001b[39mGB\u001b[90m, \u001b[39mUS…\n",
      "$ source  \u001b[3m\u001b[90m<fct>\u001b[39m\u001b[23m front page of website\u001b[90m, \u001b[39mfront page of website\u001b[90m, \u001b[39mfront page of we…\n"
     ]
    }
   ],
   "source": [
    "# Convert `country` and `source` to factor\n",
    "\n",
    "## Convert `country` to factor\n",
    "sd3$country <- as.factor(sd3$country)\n",
    "\n",
    "## Convert `source` to factor\n",
    "sd3$source <- factor(sd3$source,\n",
    "                     levels = c(1, 2, 3),\n",
    "                     labels = c(\"front page of website\", \"Google search\", \"Other\"))\n",
    "\n",
    "## Check the results\n",
    "glimpse(sd3)"
   ]
  },
  {
   "cell_type": "markdown",
   "id": "5f2455b1",
   "metadata": {},
   "source": [
    "### 2.3 Handle Missing Values"
   ]
  },
  {
   "cell_type": "code",
   "execution_count": 20,
   "id": "53b5448c",
   "metadata": {
    "vscode": {
     "languageId": "r"
    }
   },
   "outputs": [
    {
     "data": {
      "text/html": [
       "TRUE"
      ],
      "text/latex": [
       "TRUE"
      ],
      "text/markdown": [
       "TRUE"
      ],
      "text/plain": [
       "[1] TRUE"
      ]
     },
     "metadata": {},
     "output_type": "display_data"
    }
   ],
   "source": [
    "# Check for missing values\n",
    "anyNA(sd3)"
   ]
  },
  {
   "cell_type": "code",
   "execution_count": 21,
   "id": "1f2897be",
   "metadata": {
    "vscode": {
     "languageId": "r"
    }
   },
   "outputs": [
    {
     "data": {
      "text/html": [
       "<style>\n",
       ".dl-inline {width: auto; margin:0; padding: 0}\n",
       ".dl-inline>dt, .dl-inline>dd {float: none; width: auto; display: inline-block}\n",
       ".dl-inline>dt::after {content: \":\\0020\"; padding-right: .5ex}\n",
       ".dl-inline>dt:not(:first-of-type) {padding-left: .5ex}\n",
       "</style><dl class=dl-inline><dt>M1</dt><dd>0</dd><dt>M2</dt><dd>0</dd><dt>M3</dt><dd>0</dd><dt>M4</dt><dd>0</dd><dt>M5</dt><dd>0</dd><dt>M6</dt><dd>0</dd><dt>M7</dt><dd>0</dd><dt>M8</dt><dd>0</dd><dt>M9</dt><dd>0</dd><dt>N1</dt><dd>0</dd><dt>N2</dt><dd>0</dd><dt>N3</dt><dd>0</dd><dt>N4</dt><dd>0</dd><dt>N5</dt><dd>0</dd><dt>N6</dt><dd>0</dd><dt>N7</dt><dd>0</dd><dt>N8</dt><dd>0</dd><dt>N9</dt><dd>0</dd><dt>P1</dt><dd>0</dd><dt>P2</dt><dd>0</dd><dt>P3</dt><dd>0</dd><dt>P4</dt><dd>0</dd><dt>P5</dt><dd>0</dd><dt>P6</dt><dd>0</dd><dt>P7</dt><dd>0</dd><dt>P8</dt><dd>0</dd><dt>P9</dt><dd>0</dd><dt>country</dt><dd>2</dd><dt>source</dt><dd>0</dd></dl>\n"
      ],
      "text/latex": [
       "\\begin{description*}\n",
       "\\item[M1] 0\n",
       "\\item[M2] 0\n",
       "\\item[M3] 0\n",
       "\\item[M4] 0\n",
       "\\item[M5] 0\n",
       "\\item[M6] 0\n",
       "\\item[M7] 0\n",
       "\\item[M8] 0\n",
       "\\item[M9] 0\n",
       "\\item[N1] 0\n",
       "\\item[N2] 0\n",
       "\\item[N3] 0\n",
       "\\item[N4] 0\n",
       "\\item[N5] 0\n",
       "\\item[N6] 0\n",
       "\\item[N7] 0\n",
       "\\item[N8] 0\n",
       "\\item[N9] 0\n",
       "\\item[P1] 0\n",
       "\\item[P2] 0\n",
       "\\item[P3] 0\n",
       "\\item[P4] 0\n",
       "\\item[P5] 0\n",
       "\\item[P6] 0\n",
       "\\item[P7] 0\n",
       "\\item[P8] 0\n",
       "\\item[P9] 0\n",
       "\\item[country] 2\n",
       "\\item[source] 0\n",
       "\\end{description*}\n"
      ],
      "text/markdown": [
       "M1\n",
       ":   0M2\n",
       ":   0M3\n",
       ":   0M4\n",
       ":   0M5\n",
       ":   0M6\n",
       ":   0M7\n",
       ":   0M8\n",
       ":   0M9\n",
       ":   0N1\n",
       ":   0N2\n",
       ":   0N3\n",
       ":   0N4\n",
       ":   0N5\n",
       ":   0N6\n",
       ":   0N7\n",
       ":   0N8\n",
       ":   0N9\n",
       ":   0P1\n",
       ":   0P2\n",
       ":   0P3\n",
       ":   0P4\n",
       ":   0P5\n",
       ":   0P6\n",
       ":   0P7\n",
       ":   0P8\n",
       ":   0P9\n",
       ":   0country\n",
       ":   2source\n",
       ":   0\n",
       "\n"
      ],
      "text/plain": [
       "     M1      M2      M3      M4      M5      M6      M7      M8      M9      N1 \n",
       "      0       0       0       0       0       0       0       0       0       0 \n",
       "     N2      N3      N4      N5      N6      N7      N8      N9      P1      P2 \n",
       "      0       0       0       0       0       0       0       0       0       0 \n",
       "     P3      P4      P5      P6      P7      P8      P9 country  source \n",
       "      0       0       0       0       0       0       0       2       0 "
      ]
     },
     "metadata": {},
     "output_type": "display_data"
    }
   ],
   "source": [
    "# Check for mising values in each column\n",
    "colSums(is.na(sd3))"
   ]
  },
  {
   "cell_type": "markdown",
   "id": "a0d83c41",
   "metadata": {},
   "source": [
    "**Comments:**\n",
    "\n",
    "I choose to keep the records as is because:\n",
    "1. Only one column, `source`, contains missing values.\n",
    "2. There are only two missing values.\n",
    "3. `source` is not a main feature."
   ]
  },
  {
   "cell_type": "markdown",
   "id": "17c0c752",
   "metadata": {},
   "source": [
    "### 2.4 Handle Out-of-Bound Scores"
   ]
  },
  {
   "cell_type": "code",
   "execution_count": 29,
   "id": "749baf83",
   "metadata": {
    "vscode": {
     "languageId": "r"
    }
   },
   "outputs": [
    {
     "data": {
      "text/html": [
       "<style>\n",
       ".list-inline {list-style: none; margin:0; padding: 0}\n",
       ".list-inline>li {display: inline-block}\n",
       ".list-inline>li:not(:last-child)::after {content: \"\\00b7\"; padding: 0 .5ex}\n",
       "</style>\n",
       "<ol class=list-inline><li>'M1'</li><li>'M2'</li><li>'M3'</li><li>'M4'</li><li>'M5'</li><li>'M6'</li><li>'M7'</li><li>'M8'</li><li>'M9'</li><li>'N1'</li><li>'N2'</li><li>'N3'</li><li>'N4'</li><li>'N5'</li><li>'N6'</li><li>'N7'</li><li>'N8'</li><li>'N9'</li><li>'P1'</li><li>'P2'</li><li>'P3'</li><li>'P4'</li><li>'P5'</li><li>'P6'</li><li>'P7'</li><li>'P8'</li><li>'P9'</li></ol>\n"
      ],
      "text/latex": [
       "\\begin{enumerate*}\n",
       "\\item 'M1'\n",
       "\\item 'M2'\n",
       "\\item 'M3'\n",
       "\\item 'M4'\n",
       "\\item 'M5'\n",
       "\\item 'M6'\n",
       "\\item 'M7'\n",
       "\\item 'M8'\n",
       "\\item 'M9'\n",
       "\\item 'N1'\n",
       "\\item 'N2'\n",
       "\\item 'N3'\n",
       "\\item 'N4'\n",
       "\\item 'N5'\n",
       "\\item 'N6'\n",
       "\\item 'N7'\n",
       "\\item 'N8'\n",
       "\\item 'N9'\n",
       "\\item 'P1'\n",
       "\\item 'P2'\n",
       "\\item 'P3'\n",
       "\\item 'P4'\n",
       "\\item 'P5'\n",
       "\\item 'P6'\n",
       "\\item 'P7'\n",
       "\\item 'P8'\n",
       "\\item 'P9'\n",
       "\\end{enumerate*}\n"
      ],
      "text/markdown": [
       "1. 'M1'\n",
       "2. 'M2'\n",
       "3. 'M3'\n",
       "4. 'M4'\n",
       "5. 'M5'\n",
       "6. 'M6'\n",
       "7. 'M7'\n",
       "8. 'M8'\n",
       "9. 'M9'\n",
       "10. 'N1'\n",
       "11. 'N2'\n",
       "12. 'N3'\n",
       "13. 'N4'\n",
       "14. 'N5'\n",
       "15. 'N6'\n",
       "16. 'N7'\n",
       "17. 'N8'\n",
       "18. 'N9'\n",
       "19. 'P1'\n",
       "20. 'P2'\n",
       "21. 'P3'\n",
       "22. 'P4'\n",
       "23. 'P5'\n",
       "24. 'P6'\n",
       "25. 'P7'\n",
       "26. 'P8'\n",
       "27. 'P9'\n",
       "\n",
       "\n"
      ],
      "text/plain": [
       " [1] \"M1\" \"M2\" \"M3\" \"M4\" \"M5\" \"M6\" \"M7\" \"M8\" \"M9\" \"N1\" \"N2\" \"N3\" \"N4\" \"N5\" \"N6\"\n",
       "[16] \"N7\" \"N8\" \"N9\" \"P1\" \"P2\" \"P3\" \"P4\" \"P5\" \"P6\" \"P7\" \"P8\" \"P9\""
      ]
     },
     "metadata": {},
     "output_type": "display_data"
    }
   ],
   "source": [
    "# Check for out-of-bound scores\n",
    "\n",
    "## Define the columns to check\n",
    "items <- sd3 |>\n",
    "  select(-last_col(),\n",
    "         -last_col(offset = 1))\n",
    "\n",
    "## Check the items\n",
    "colnames(items)"
   ]
  },
  {
   "cell_type": "markdown",
   "id": "c08c375b",
   "metadata": {},
   "source": [
    "### 2.5 Reverse-Score the Items"
   ]
  },
  {
   "cell_type": "code",
   "execution_count": 18,
   "id": "af753e4d",
   "metadata": {
    "vscode": {
     "languageId": "r"
    }
   },
   "outputs": [
    {
     "data": {
      "text/plain": [
       "       N2              N6              N8              P2       \n",
       " Min.   :0.000   Min.   :0.000   Min.   :0.000   Min.   :0.000  \n",
       " 1st Qu.:2.000   1st Qu.:2.000   1st Qu.:1.000   1st Qu.:2.000  \n",
       " Median :3.000   Median :3.000   Median :2.000   Median :3.000  \n",
       " Mean   :3.116   Mean   :3.095   Mean   :2.597   Mean   :3.205  \n",
       " 3rd Qu.:4.000   3rd Qu.:4.000   3rd Qu.:4.000   3rd Qu.:4.000  \n",
       " Max.   :5.000   Max.   :5.000   Max.   :5.000   Max.   :5.000  \n",
       "       P7       \n",
       " Min.   :0.000  \n",
       " 1st Qu.:2.000  \n",
       " Median :4.000  \n",
       " Mean   :3.537  \n",
       " 3rd Qu.:5.000  \n",
       " Max.   :5.000  "
      ]
     },
     "metadata": {},
     "output_type": "display_data"
    }
   ],
   "source": [
    "# Reverse-score items\n",
    "\n",
    "## Define the items to reverse-score\n",
    "rs_items <- c(\"N2\", \"N6\", \"N8\", \"P2\", \"P7\")\n",
    "\n",
    "## Check the distribution of the items before reverse-scoring\n",
    "summary(sd3[, rs_items])"
   ]
  },
  {
   "cell_type": "code",
   "execution_count": 19,
   "id": "a4dba1b5",
   "metadata": {
    "vscode": {
     "languageId": "r"
    }
   },
   "outputs": [
    {
     "data": {
      "text/plain": [
       "       N2              N6              N8              P2       \n",
       " Min.   :1.000   Min.   :1.000   Min.   :1.000   Min.   :1.000  \n",
       " 1st Qu.:2.000   1st Qu.:2.000   1st Qu.:2.000   1st Qu.:2.000  \n",
       " Median :3.000   Median :3.000   Median :4.000   Median :3.000  \n",
       " Mean   :2.884   Mean   :2.905   Mean   :3.403   Mean   :2.795  \n",
       " 3rd Qu.:4.000   3rd Qu.:4.000   3rd Qu.:5.000   3rd Qu.:4.000  \n",
       " Max.   :6.000   Max.   :6.000   Max.   :6.000   Max.   :6.000  \n",
       "       P7       \n",
       " Min.   :1.000  \n",
       " 1st Qu.:1.000  \n",
       " Median :2.000  \n",
       " Mean   :2.463  \n",
       " 3rd Qu.:4.000  \n",
       " Max.   :6.000  "
      ]
     },
     "metadata": {},
     "output_type": "display_data"
    }
   ],
   "source": [
    "## Loop through the items\n",
    "for (x in rs_items) {\n",
    "    sd3[[x]] <- 6 - sd3[[x]]\n",
    "}\n",
    "\n",
    "## Check the results\n",
    "summary(sd3[, rs_items])"
   ]
  }
 ],
 "metadata": {
  "kernelspec": {
   "display_name": "R 4.5.0",
   "language": "R",
   "name": "ir45"
  },
  "language_info": {
   "codemirror_mode": "r",
   "file_extension": ".r",
   "mimetype": "text/x-r-source",
   "name": "R",
   "pygments_lexer": "r",
   "version": "4.5.0"
  }
 },
 "nbformat": 4,
 "nbformat_minor": 5
}
