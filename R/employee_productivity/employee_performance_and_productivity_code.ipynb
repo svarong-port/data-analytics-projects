{
 "cells": [
  {
   "cell_type": "markdown",
   "id": "ec3054a3",
   "metadata": {},
   "source": [
    "# Exploring & Predicting Employee Productivity With Machine Learning"
   ]
  },
  {
   "cell_type": "markdown",
   "id": "f75e234d",
   "metadata": {},
   "source": [
    "## Prepared by\n",
    "**Author:** Shinin Varongchayakul\n",
    "\n",
    "**Date:** 10 Apr 2025\n",
    "\n",
    "**Language:** R  \n"
   ]
  },
  {
   "cell_type": "markdown",
   "id": "969207d7",
   "metadata": {},
   "source": [
    "## Dataset\n",
    "**Name:** Employee Performance and Productivity Data\n",
    "\n",
    "**Source:** https://www.kaggle.com/datasets/mexwell/employee-performance-and-productivity-data\n",
    "\n",
    "**Retrieved Date:** 10 Apr 2025"
   ]
  },
  {
   "cell_type": "markdown",
   "id": "8a6e005f",
   "metadata": {},
   "source": [
    "## 1. Install & Load Necessary Packages"
   ]
  },
  {
   "cell_type": "code",
   "execution_count": null,
   "id": "fe15e050",
   "metadata": {
    "vscode": {
     "languageId": "r"
    }
   },
   "outputs": [],
   "source": [
    "# Install packages\n",
    "install.packages(\"tidyverse\") # data manipulation\n",
    "install.packages(\"tidymodels\") # machine learning\n",
    "install.packages(\"data.table\") # data manipulation\n",
    "install.packages(\"dtplyr\") # data manipulation"
   ]
  },
  {
   "cell_type": "code",
   "execution_count": 62,
   "id": "c76c1312",
   "metadata": {
    "vscode": {
     "languageId": "r"
    }
   },
   "outputs": [],
   "source": [
    "# Load packages\n",
    "library(tidyverse)\n",
    "library(tidymodels)\n",
    "library(data.table)\n",
    "library(dtplyr)"
   ]
  },
  {
   "cell_type": "markdown",
   "id": "950f320c",
   "metadata": {},
   "source": [
    "## 2. Prepare the Dataset"
   ]
  },
  {
   "cell_type": "markdown",
   "id": "9618af49",
   "metadata": {},
   "source": [
    "### 2.1 Load the Dataset"
   ]
  },
  {
   "cell_type": "code",
   "execution_count": 63,
   "id": "ff64d511",
   "metadata": {
    "vscode": {
     "languageId": "r"
    }
   },
   "outputs": [],
   "source": [
    "# Store raw CSV URL from GitHub\n",
    "raw_url <- \"https://raw.githubusercontent.com/svarong-port/data-analytics-projects/refs/heads/main/R/employee_productivity/employee_performance_and_productivity_extended_dataset.csv\"\n",
    "\n",
    "# Load the data with fread()\n",
    "prod <- fread(raw_url)"
   ]
  },
  {
   "cell_type": "code",
   "execution_count": 64,
   "id": "09e03d8a",
   "metadata": {
    "vscode": {
     "languageId": "r"
    }
   },
   "outputs": [
    {
     "data": {
      "text/html": [
       "<table class=\"dataframe\">\n",
       "<caption>A data.table: 6 × 20</caption>\n",
       "<thead>\n",
       "\t<tr><th scope=col>Employee_ID</th><th scope=col>Department</th><th scope=col>Gender</th><th scope=col>Age</th><th scope=col>Job_Title</th><th scope=col>Hire_Date</th><th scope=col>Years_At_Company</th><th scope=col>Education_Level</th><th scope=col>Performance_Score</th><th scope=col>Monthly_Salary</th><th scope=col>Work_Hours_Per_Week</th><th scope=col>Projects_Handled</th><th scope=col>Overtime_Hours</th><th scope=col>Sick_Days</th><th scope=col>Remote_Work_Frequency</th><th scope=col>Team_Size</th><th scope=col>Training_Hours</th><th scope=col>Promotions</th><th scope=col>Employee_Satisfaction_Score</th><th scope=col>Resigned</th></tr>\n",
       "\t<tr><th scope=col>&lt;int&gt;</th><th scope=col>&lt;chr&gt;</th><th scope=col>&lt;chr&gt;</th><th scope=col>&lt;int&gt;</th><th scope=col>&lt;chr&gt;</th><th scope=col>&lt;dttm&gt;</th><th scope=col>&lt;int&gt;</th><th scope=col>&lt;chr&gt;</th><th scope=col>&lt;int&gt;</th><th scope=col>&lt;dbl&gt;</th><th scope=col>&lt;int&gt;</th><th scope=col>&lt;int&gt;</th><th scope=col>&lt;int&gt;</th><th scope=col>&lt;int&gt;</th><th scope=col>&lt;int&gt;</th><th scope=col>&lt;int&gt;</th><th scope=col>&lt;int&gt;</th><th scope=col>&lt;int&gt;</th><th scope=col>&lt;dbl&gt;</th><th scope=col>&lt;lgl&gt;</th></tr>\n",
       "</thead>\n",
       "<tbody>\n",
       "\t<tr><td>1</td><td>IT              </td><td>Male  </td><td>55</td><td>Specialist</td><td>2022-01-19 08:03:05</td><td>2</td><td>High School</td><td>5</td><td>6750</td><td>33</td><td>32</td><td>22</td><td> 2</td><td>  0</td><td>14</td><td>66</td><td>0</td><td>2.63</td><td>FALSE</td></tr>\n",
       "\t<tr><td>2</td><td>Finance         </td><td>Male  </td><td>29</td><td>Developer </td><td>2024-04-18 08:03:05</td><td>0</td><td>High School</td><td>5</td><td>7500</td><td>34</td><td>34</td><td>13</td><td>14</td><td>100</td><td>12</td><td>61</td><td>2</td><td>1.72</td><td>FALSE</td></tr>\n",
       "\t<tr><td>3</td><td>Finance         </td><td>Male  </td><td>55</td><td>Specialist</td><td>2015-10-26 08:03:05</td><td>8</td><td>High School</td><td>3</td><td>5850</td><td>37</td><td>27</td><td> 6</td><td> 3</td><td> 50</td><td>10</td><td> 1</td><td>0</td><td>3.17</td><td>FALSE</td></tr>\n",
       "\t<tr><td>4</td><td>Customer Support</td><td>Female</td><td>48</td><td>Analyst   </td><td>2016-10-22 08:03:05</td><td>7</td><td>Bachelor   </td><td>2</td><td>4800</td><td>52</td><td>10</td><td>28</td><td>12</td><td>100</td><td>10</td><td> 0</td><td>1</td><td>1.86</td><td>FALSE</td></tr>\n",
       "\t<tr><td>5</td><td>Engineering     </td><td>Female</td><td>36</td><td>Analyst   </td><td>2021-07-23 08:03:05</td><td>3</td><td>Bachelor   </td><td>2</td><td>4800</td><td>38</td><td>11</td><td>29</td><td>13</td><td>100</td><td>15</td><td> 9</td><td>1</td><td>1.25</td><td>FALSE</td></tr>\n",
       "\t<tr><td>6</td><td>IT              </td><td>Male  </td><td>43</td><td>Manager   </td><td>2016-08-14 08:03:05</td><td>8</td><td>High School</td><td>3</td><td>7800</td><td>46</td><td>31</td><td> 8</td><td> 0</td><td>100</td><td>15</td><td>95</td><td>0</td><td>2.77</td><td>FALSE</td></tr>\n",
       "</tbody>\n",
       "</table>\n"
      ],
      "text/latex": [
       "A data.table: 6 × 20\n",
       "\\begin{tabular}{llllllllllllllllllll}\n",
       " Employee\\_ID & Department & Gender & Age & Job\\_Title & Hire\\_Date & Years\\_At\\_Company & Education\\_Level & Performance\\_Score & Monthly\\_Salary & Work\\_Hours\\_Per\\_Week & Projects\\_Handled & Overtime\\_Hours & Sick\\_Days & Remote\\_Work\\_Frequency & Team\\_Size & Training\\_Hours & Promotions & Employee\\_Satisfaction\\_Score & Resigned\\\\\n",
       " <int> & <chr> & <chr> & <int> & <chr> & <dttm> & <int> & <chr> & <int> & <dbl> & <int> & <int> & <int> & <int> & <int> & <int> & <int> & <int> & <dbl> & <lgl>\\\\\n",
       "\\hline\n",
       "\t 1 & IT               & Male   & 55 & Specialist & 2022-01-19 08:03:05 & 2 & High School & 5 & 6750 & 33 & 32 & 22 &  2 &   0 & 14 & 66 & 0 & 2.63 & FALSE\\\\\n",
       "\t 2 & Finance          & Male   & 29 & Developer  & 2024-04-18 08:03:05 & 0 & High School & 5 & 7500 & 34 & 34 & 13 & 14 & 100 & 12 & 61 & 2 & 1.72 & FALSE\\\\\n",
       "\t 3 & Finance          & Male   & 55 & Specialist & 2015-10-26 08:03:05 & 8 & High School & 3 & 5850 & 37 & 27 &  6 &  3 &  50 & 10 &  1 & 0 & 3.17 & FALSE\\\\\n",
       "\t 4 & Customer Support & Female & 48 & Analyst    & 2016-10-22 08:03:05 & 7 & Bachelor    & 2 & 4800 & 52 & 10 & 28 & 12 & 100 & 10 &  0 & 1 & 1.86 & FALSE\\\\\n",
       "\t 5 & Engineering      & Female & 36 & Analyst    & 2021-07-23 08:03:05 & 3 & Bachelor    & 2 & 4800 & 38 & 11 & 29 & 13 & 100 & 15 &  9 & 1 & 1.25 & FALSE\\\\\n",
       "\t 6 & IT               & Male   & 43 & Manager    & 2016-08-14 08:03:05 & 8 & High School & 3 & 7800 & 46 & 31 &  8 &  0 & 100 & 15 & 95 & 0 & 2.77 & FALSE\\\\\n",
       "\\end{tabular}\n"
      ],
      "text/markdown": [
       "\n",
       "A data.table: 6 × 20\n",
       "\n",
       "| Employee_ID &lt;int&gt; | Department &lt;chr&gt; | Gender &lt;chr&gt; | Age &lt;int&gt; | Job_Title &lt;chr&gt; | Hire_Date &lt;dttm&gt; | Years_At_Company &lt;int&gt; | Education_Level &lt;chr&gt; | Performance_Score &lt;int&gt; | Monthly_Salary &lt;dbl&gt; | Work_Hours_Per_Week &lt;int&gt; | Projects_Handled &lt;int&gt; | Overtime_Hours &lt;int&gt; | Sick_Days &lt;int&gt; | Remote_Work_Frequency &lt;int&gt; | Team_Size &lt;int&gt; | Training_Hours &lt;int&gt; | Promotions &lt;int&gt; | Employee_Satisfaction_Score &lt;dbl&gt; | Resigned &lt;lgl&gt; |\n",
       "|---|---|---|---|---|---|---|---|---|---|---|---|---|---|---|---|---|---|---|---|\n",
       "| 1 | IT               | Male   | 55 | Specialist | 2022-01-19 08:03:05 | 2 | High School | 5 | 6750 | 33 | 32 | 22 |  2 |   0 | 14 | 66 | 0 | 2.63 | FALSE |\n",
       "| 2 | Finance          | Male   | 29 | Developer  | 2024-04-18 08:03:05 | 0 | High School | 5 | 7500 | 34 | 34 | 13 | 14 | 100 | 12 | 61 | 2 | 1.72 | FALSE |\n",
       "| 3 | Finance          | Male   | 55 | Specialist | 2015-10-26 08:03:05 | 8 | High School | 3 | 5850 | 37 | 27 |  6 |  3 |  50 | 10 |  1 | 0 | 3.17 | FALSE |\n",
       "| 4 | Customer Support | Female | 48 | Analyst    | 2016-10-22 08:03:05 | 7 | Bachelor    | 2 | 4800 | 52 | 10 | 28 | 12 | 100 | 10 |  0 | 1 | 1.86 | FALSE |\n",
       "| 5 | Engineering      | Female | 36 | Analyst    | 2021-07-23 08:03:05 | 3 | Bachelor    | 2 | 4800 | 38 | 11 | 29 | 13 | 100 | 15 |  9 | 1 | 1.25 | FALSE |\n",
       "| 6 | IT               | Male   | 43 | Manager    | 2016-08-14 08:03:05 | 8 | High School | 3 | 7800 | 46 | 31 |  8 |  0 | 100 | 15 | 95 | 0 | 2.77 | FALSE |\n",
       "\n"
      ],
      "text/plain": [
       "  Employee_ID Department       Gender Age Job_Title  Hire_Date          \n",
       "1 1           IT               Male   55  Specialist 2022-01-19 08:03:05\n",
       "2 2           Finance          Male   29  Developer  2024-04-18 08:03:05\n",
       "3 3           Finance          Male   55  Specialist 2015-10-26 08:03:05\n",
       "4 4           Customer Support Female 48  Analyst    2016-10-22 08:03:05\n",
       "5 5           Engineering      Female 36  Analyst    2021-07-23 08:03:05\n",
       "6 6           IT               Male   43  Manager    2016-08-14 08:03:05\n",
       "  Years_At_Company Education_Level Performance_Score Monthly_Salary\n",
       "1 2                High School     5                 6750          \n",
       "2 0                High School     5                 7500          \n",
       "3 8                High School     3                 5850          \n",
       "4 7                Bachelor        2                 4800          \n",
       "5 3                Bachelor        2                 4800          \n",
       "6 8                High School     3                 7800          \n",
       "  Work_Hours_Per_Week Projects_Handled Overtime_Hours Sick_Days\n",
       "1 33                  32               22              2       \n",
       "2 34                  34               13             14       \n",
       "3 37                  27                6              3       \n",
       "4 52                  10               28             12       \n",
       "5 38                  11               29             13       \n",
       "6 46                  31                8              0       \n",
       "  Remote_Work_Frequency Team_Size Training_Hours Promotions\n",
       "1   0                   14        66             0         \n",
       "2 100                   12        61             2         \n",
       "3  50                   10         1             0         \n",
       "4 100                   10         0             1         \n",
       "5 100                   15         9             1         \n",
       "6 100                   15        95             0         \n",
       "  Employee_Satisfaction_Score Resigned\n",
       "1 2.63                        FALSE   \n",
       "2 1.72                        FALSE   \n",
       "3 3.17                        FALSE   \n",
       "4 1.86                        FALSE   \n",
       "5 1.25                        FALSE   \n",
       "6 2.77                        FALSE   "
      ]
     },
     "metadata": {},
     "output_type": "display_data"
    }
   ],
   "source": [
    "# Preview the data\n",
    "head(prod)"
   ]
  },
  {
   "cell_type": "code",
   "execution_count": 65,
   "id": "15d28733",
   "metadata": {
    "vscode": {
     "languageId": "r"
    }
   },
   "outputs": [
    {
     "name": "stdout",
     "output_type": "stream",
     "text": [
      "Rows: 100,000\n",
      "Columns: 20\n",
      "$ Employee_ID                 \u001b[3m\u001b[90m<int>\u001b[39m\u001b[23m 1, 2, 3, 4, 5, 6, 7, 8, 9, 10, 11, 12, 13,…\n",
      "$ Department                  \u001b[3m\u001b[90m<chr>\u001b[39m\u001b[23m \"IT\", \"Finance\", \"Finance\", \"Customer Supp…\n",
      "$ Gender                      \u001b[3m\u001b[90m<chr>\u001b[39m\u001b[23m \"Male\", \"Male\", \"Male\", \"Female\", \"Female\"…\n",
      "$ Age                         \u001b[3m\u001b[90m<int>\u001b[39m\u001b[23m 55, 29, 55, 48, 36, 43, 37, 55, 55, 45, 52…\n",
      "$ Job_Title                   \u001b[3m\u001b[90m<chr>\u001b[39m\u001b[23m \"Specialist\", \"Developer\", \"Specialist\", \"…\n",
      "$ Hire_Date                   \u001b[3m\u001b[90m<dttm>\u001b[39m\u001b[23m 2022-01-19 08:03:05, 2024-04-18 08:03:05,…\n",
      "$ Years_At_Company            \u001b[3m\u001b[90m<int>\u001b[39m\u001b[23m 2, 0, 8, 7, 3, 8, 1, 9, 1, 7, 4, 9, 5, 9, …\n",
      "$ Education_Level             \u001b[3m\u001b[90m<chr>\u001b[39m\u001b[23m \"High School\", \"High School\", \"High School…\n",
      "$ Performance_Score           \u001b[3m\u001b[90m<int>\u001b[39m\u001b[23m 5, 5, 3, 2, 2, 3, 5, 2, 2, 1, 3, 5, 4, 4, …\n",
      "$ Monthly_Salary              \u001b[3m\u001b[90m<dbl>\u001b[39m\u001b[23m 6750, 7500, 5850, 4800, 4800, 7800, 5250, …\n",
      "$ Work_Hours_Per_Week         \u001b[3m\u001b[90m<int>\u001b[39m\u001b[23m 33, 34, 37, 52, 38, 46, 55, 42, 51, 41, 38…\n",
      "$ Projects_Handled            \u001b[3m\u001b[90m<int>\u001b[39m\u001b[23m 32, 34, 27, 10, 11, 31, 20, 46, 23, 33, 1,…\n",
      "$ Overtime_Hours              \u001b[3m\u001b[90m<int>\u001b[39m\u001b[23m 22, 13, 6, 28, 29, 8, 29, 7, 21, 2, 5, 2, …\n",
      "$ Sick_Days                   \u001b[3m\u001b[90m<int>\u001b[39m\u001b[23m 2, 14, 3, 12, 13, 0, 2, 8, 14, 6, 0, 13, 1…\n",
      "$ Remote_Work_Frequency       \u001b[3m\u001b[90m<int>\u001b[39m\u001b[23m 0, 100, 50, 100, 100, 100, 0, 100, 0, 75, …\n",
      "$ Team_Size                   \u001b[3m\u001b[90m<int>\u001b[39m\u001b[23m 14, 12, 10, 10, 15, 15, 16, 7, 1, 4, 4, 5,…\n",
      "$ Training_Hours              \u001b[3m\u001b[90m<int>\u001b[39m\u001b[23m 66, 61, 1, 0, 9, 95, 27, 64, 0, 53, 90, 88…\n",
      "$ Promotions                  \u001b[3m\u001b[90m<int>\u001b[39m\u001b[23m 0, 2, 0, 1, 1, 0, 0, 0, 1, 2, 1, 0, 2, 1, …\n",
      "$ Employee_Satisfaction_Score \u001b[3m\u001b[90m<dbl>\u001b[39m\u001b[23m 2.63, 1.72, 3.17, 1.86, 1.25, 2.77, 4.46, …\n",
      "$ Resigned                    \u001b[3m\u001b[90m<lgl>\u001b[39m\u001b[23m FALSE, FALSE, FALSE, FALSE, FALSE, FALSE, …\n"
     ]
    }
   ],
   "source": [
    "# View the structure\n",
    "glimpse(prod)"
   ]
  },
  {
   "cell_type": "markdown",
   "id": "be53c3aa",
   "metadata": {},
   "source": [
    "### 2.2 Clean the Dataset"
   ]
  },
  {
   "cell_type": "markdown",
   "id": "30a9d2dd",
   "metadata": {},
   "source": [
    "#### 2.2.1 Remove Unnecessary Columns"
   ]
  },
  {
   "cell_type": "code",
   "execution_count": 66,
   "id": "bcd722b6",
   "metadata": {
    "vscode": {
     "languageId": "r"
    }
   },
   "outputs": [
    {
     "name": "stdout",
     "output_type": "stream",
     "text": [
      "Rows: 100,000\n",
      "Columns: 19\n",
      "$ Department                  \u001b[3m\u001b[90m<chr>\u001b[39m\u001b[23m \"IT\", \"Finance\", \"Finance\", \"Customer Supp…\n",
      "$ Gender                      \u001b[3m\u001b[90m<chr>\u001b[39m\u001b[23m \"Male\", \"Male\", \"Male\", \"Female\", \"Female\"…\n",
      "$ Age                         \u001b[3m\u001b[90m<int>\u001b[39m\u001b[23m 55, 29, 55, 48, 36, 43, 37, 55, 55, 45, 52…\n",
      "$ Job_Title                   \u001b[3m\u001b[90m<chr>\u001b[39m\u001b[23m \"Specialist\", \"Developer\", \"Specialist\", \"…\n",
      "$ Hire_Date                   \u001b[3m\u001b[90m<dttm>\u001b[39m\u001b[23m 2022-01-19 08:03:05, 2024-04-18 08:03:05,…\n",
      "$ Years_At_Company            \u001b[3m\u001b[90m<int>\u001b[39m\u001b[23m 2, 0, 8, 7, 3, 8, 1, 9, 1, 7, 4, 9, 5, 9, …\n",
      "$ Education_Level             \u001b[3m\u001b[90m<chr>\u001b[39m\u001b[23m \"High School\", \"High School\", \"High School…\n",
      "$ Performance_Score           \u001b[3m\u001b[90m<int>\u001b[39m\u001b[23m 5, 5, 3, 2, 2, 3, 5, 2, 2, 1, 3, 5, 4, 4, …\n",
      "$ Monthly_Salary              \u001b[3m\u001b[90m<dbl>\u001b[39m\u001b[23m 6750, 7500, 5850, 4800, 4800, 7800, 5250, …\n",
      "$ Work_Hours_Per_Week         \u001b[3m\u001b[90m<int>\u001b[39m\u001b[23m 33, 34, 37, 52, 38, 46, 55, 42, 51, 41, 38…\n",
      "$ Projects_Handled            \u001b[3m\u001b[90m<int>\u001b[39m\u001b[23m 32, 34, 27, 10, 11, 31, 20, 46, 23, 33, 1,…\n",
      "$ Overtime_Hours              \u001b[3m\u001b[90m<int>\u001b[39m\u001b[23m 22, 13, 6, 28, 29, 8, 29, 7, 21, 2, 5, 2, …\n",
      "$ Sick_Days                   \u001b[3m\u001b[90m<int>\u001b[39m\u001b[23m 2, 14, 3, 12, 13, 0, 2, 8, 14, 6, 0, 13, 1…\n",
      "$ Remote_Work_Frequency       \u001b[3m\u001b[90m<int>\u001b[39m\u001b[23m 0, 100, 50, 100, 100, 100, 0, 100, 0, 75, …\n",
      "$ Team_Size                   \u001b[3m\u001b[90m<int>\u001b[39m\u001b[23m 14, 12, 10, 10, 15, 15, 16, 7, 1, 4, 4, 5,…\n",
      "$ Training_Hours              \u001b[3m\u001b[90m<int>\u001b[39m\u001b[23m 66, 61, 1, 0, 9, 95, 27, 64, 0, 53, 90, 88…\n",
      "$ Promotions                  \u001b[3m\u001b[90m<int>\u001b[39m\u001b[23m 0, 2, 0, 1, 1, 0, 0, 0, 1, 2, 1, 0, 2, 1, …\n",
      "$ Employee_Satisfaction_Score \u001b[3m\u001b[90m<dbl>\u001b[39m\u001b[23m 2.63, 1.72, 3.17, 1.86, 1.25, 2.77, 4.46, …\n",
      "$ Resigned                    \u001b[3m\u001b[90m<lgl>\u001b[39m\u001b[23m FALSE, FALSE, FALSE, FALSE, FALSE, FALSE, …\n"
     ]
    }
   ],
   "source": [
    "# Remove unnecessary columns\n",
    "prod_cleaned <- prod[, -\"Employee_ID\"]\n",
    "\n",
    "# Check the result\n",
    "glimpse(prod_cleaned)"
   ]
  },
  {
   "cell_type": "markdown",
   "id": "48f340c2",
   "metadata": {},
   "source": [
    "`Employee_ID` has been successfully removed."
   ]
  },
  {
   "cell_type": "markdown",
   "id": "89a77fcc",
   "metadata": {},
   "source": [
    "#### 2.2.2 Convert `character` Columns to `factor`"
   ]
  },
  {
   "cell_type": "code",
   "execution_count": 67,
   "id": "cbd621d2",
   "metadata": {
    "vscode": {
     "languageId": "r"
    }
   },
   "outputs": [
    {
     "name": "stdout",
     "output_type": "stream",
     "text": [
      "Rows: 100,000\n",
      "Columns: 19\n",
      "$ Department                  \u001b[3m\u001b[90m<fct>\u001b[39m\u001b[23m IT, Finance, Finance, Customer Support, En…\n",
      "$ Gender                      \u001b[3m\u001b[90m<fct>\u001b[39m\u001b[23m Male, Male, Male, Female, Female, Male, Ma…\n",
      "$ Age                         \u001b[3m\u001b[90m<int>\u001b[39m\u001b[23m 55, 29, 55, 48, 36, 43, 37, 55, 55, 45, 52…\n",
      "$ Job_Title                   \u001b[3m\u001b[90m<fct>\u001b[39m\u001b[23m Specialist, Developer, Specialist, Analyst…\n",
      "$ Hire_Date                   \u001b[3m\u001b[90m<dttm>\u001b[39m\u001b[23m 2022-01-19 08:03:05, 2024-04-18 08:03:05,…\n",
      "$ Years_At_Company            \u001b[3m\u001b[90m<int>\u001b[39m\u001b[23m 2, 0, 8, 7, 3, 8, 1, 9, 1, 7, 4, 9, 5, 9, …\n",
      "$ Education_Level             \u001b[3m\u001b[90m<fct>\u001b[39m\u001b[23m High School, High School, High School, Bac…\n",
      "$ Performance_Score           \u001b[3m\u001b[90m<int>\u001b[39m\u001b[23m 5, 5, 3, 2, 2, 3, 5, 2, 2, 1, 3, 5, 4, 4, …\n",
      "$ Monthly_Salary              \u001b[3m\u001b[90m<dbl>\u001b[39m\u001b[23m 6750, 7500, 5850, 4800, 4800, 7800, 5250, …\n",
      "$ Work_Hours_Per_Week         \u001b[3m\u001b[90m<int>\u001b[39m\u001b[23m 33, 34, 37, 52, 38, 46, 55, 42, 51, 41, 38…\n",
      "$ Projects_Handled            \u001b[3m\u001b[90m<int>\u001b[39m\u001b[23m 32, 34, 27, 10, 11, 31, 20, 46, 23, 33, 1,…\n",
      "$ Overtime_Hours              \u001b[3m\u001b[90m<int>\u001b[39m\u001b[23m 22, 13, 6, 28, 29, 8, 29, 7, 21, 2, 5, 2, …\n",
      "$ Sick_Days                   \u001b[3m\u001b[90m<int>\u001b[39m\u001b[23m 2, 14, 3, 12, 13, 0, 2, 8, 14, 6, 0, 13, 1…\n",
      "$ Remote_Work_Frequency       \u001b[3m\u001b[90m<int>\u001b[39m\u001b[23m 0, 100, 50, 100, 100, 100, 0, 100, 0, 75, …\n",
      "$ Team_Size                   \u001b[3m\u001b[90m<int>\u001b[39m\u001b[23m 14, 12, 10, 10, 15, 15, 16, 7, 1, 4, 4, 5,…\n",
      "$ Training_Hours              \u001b[3m\u001b[90m<int>\u001b[39m\u001b[23m 66, 61, 1, 0, 9, 95, 27, 64, 0, 53, 90, 88…\n",
      "$ Promotions                  \u001b[3m\u001b[90m<int>\u001b[39m\u001b[23m 0, 2, 0, 1, 1, 0, 0, 0, 1, 2, 1, 0, 2, 1, …\n",
      "$ Employee_Satisfaction_Score \u001b[3m\u001b[90m<dbl>\u001b[39m\u001b[23m 2.63, 1.72, 3.17, 1.86, 1.25, 2.77, 4.46, …\n",
      "$ Resigned                    \u001b[3m\u001b[90m<lgl>\u001b[39m\u001b[23m FALSE, FALSE, FALSE, FALSE, FALSE, FALSE, …\n"
     ]
    }
   ],
   "source": [
    "# Convert character columns to factor\n",
    "\n",
    "## Select character columns\n",
    "char_cols <- names(prod_cleaned)[sapply(prod_cleaned, is.character)]\n",
    "\n",
    "## Convert to factor\n",
    "prod_cleaned[, \n",
    "             (char_cols) := lapply(.SD, as.factor),\n",
    "             .SDcols = char_cols]\n",
    "\n",
    "## Check the result\n",
    "glimpse(prod_cleaned)"
   ]
  },
  {
   "cell_type": "markdown",
   "id": "efae55f8",
   "metadata": {},
   "source": [
    "All `character` columns have been successfully converted to `factor`."
   ]
  },
  {
   "cell_type": "markdown",
   "id": "4c0df084",
   "metadata": {},
   "source": [
    "#### 2.2.3 Convert `Resigned` to `factor`"
   ]
  },
  {
   "cell_type": "code",
   "execution_count": 68,
   "id": "7566e5d2",
   "metadata": {
    "vscode": {
     "languageId": "r"
    }
   },
   "outputs": [
    {
     "name": "stdout",
     "output_type": "stream",
     "text": [
      "Rows: 100,000\n",
      "Columns: 19\n",
      "$ Department                  \u001b[3m\u001b[90m<fct>\u001b[39m\u001b[23m IT, Finance, Finance, Customer Support, En…\n",
      "$ Gender                      \u001b[3m\u001b[90m<fct>\u001b[39m\u001b[23m Male, Male, Male, Female, Female, Male, Ma…\n",
      "$ Age                         \u001b[3m\u001b[90m<int>\u001b[39m\u001b[23m 55, 29, 55, 48, 36, 43, 37, 55, 55, 45, 52…\n",
      "$ Job_Title                   \u001b[3m\u001b[90m<fct>\u001b[39m\u001b[23m Specialist, Developer, Specialist, Analyst…\n",
      "$ Hire_Date                   \u001b[3m\u001b[90m<dttm>\u001b[39m\u001b[23m 2022-01-19 08:03:05, 2024-04-18 08:03:05,…\n",
      "$ Years_At_Company            \u001b[3m\u001b[90m<int>\u001b[39m\u001b[23m 2, 0, 8, 7, 3, 8, 1, 9, 1, 7, 4, 9, 5, 9, …\n",
      "$ Education_Level             \u001b[3m\u001b[90m<fct>\u001b[39m\u001b[23m High School, High School, High School, Bac…\n",
      "$ Performance_Score           \u001b[3m\u001b[90m<int>\u001b[39m\u001b[23m 5, 5, 3, 2, 2, 3, 5, 2, 2, 1, 3, 5, 4, 4, …\n",
      "$ Monthly_Salary              \u001b[3m\u001b[90m<dbl>\u001b[39m\u001b[23m 6750, 7500, 5850, 4800, 4800, 7800, 5250, …\n",
      "$ Work_Hours_Per_Week         \u001b[3m\u001b[90m<int>\u001b[39m\u001b[23m 33, 34, 37, 52, 38, 46, 55, 42, 51, 41, 38…\n",
      "$ Projects_Handled            \u001b[3m\u001b[90m<int>\u001b[39m\u001b[23m 32, 34, 27, 10, 11, 31, 20, 46, 23, 33, 1,…\n",
      "$ Overtime_Hours              \u001b[3m\u001b[90m<int>\u001b[39m\u001b[23m 22, 13, 6, 28, 29, 8, 29, 7, 21, 2, 5, 2, …\n",
      "$ Sick_Days                   \u001b[3m\u001b[90m<int>\u001b[39m\u001b[23m 2, 14, 3, 12, 13, 0, 2, 8, 14, 6, 0, 13, 1…\n",
      "$ Remote_Work_Frequency       \u001b[3m\u001b[90m<int>\u001b[39m\u001b[23m 0, 100, 50, 100, 100, 100, 0, 100, 0, 75, …\n",
      "$ Team_Size                   \u001b[3m\u001b[90m<int>\u001b[39m\u001b[23m 14, 12, 10, 10, 15, 15, 16, 7, 1, 4, 4, 5,…\n",
      "$ Training_Hours              \u001b[3m\u001b[90m<int>\u001b[39m\u001b[23m 66, 61, 1, 0, 9, 95, 27, 64, 0, 53, 90, 88…\n",
      "$ Promotions                  \u001b[3m\u001b[90m<int>\u001b[39m\u001b[23m 0, 2, 0, 1, 1, 0, 0, 0, 1, 2, 1, 0, 2, 1, …\n",
      "$ Employee_Satisfaction_Score \u001b[3m\u001b[90m<dbl>\u001b[39m\u001b[23m 2.63, 1.72, 3.17, 1.86, 1.25, 2.77, 4.46, …\n",
      "$ Resigned                    \u001b[3m\u001b[90m<fct>\u001b[39m\u001b[23m No, No, No, No, No, No, No, No, No, No, No…\n"
     ]
    }
   ],
   "source": [
    "# Convert `Resigned` to factor\n",
    "prod_cleaned$Resigned <- factor(prod_cleaned$Resigned,\n",
    "                                levels = c(FALSE, TRUE),\n",
    "                                labels = c(\"No\", \"Yes\"))\n",
    "\n",
    "# Check the result\n",
    "glimpse(prod_cleaned)"
   ]
  },
  {
   "cell_type": "markdown",
   "id": "018d8911",
   "metadata": {},
   "source": [
    "`Resigned` has been successfully convert to `factor`."
   ]
  },
  {
   "cell_type": "markdown",
   "id": "47076865",
   "metadata": {},
   "source": [
    "#### 2.2.4 Convert `Hire_Date` to `Date` Type"
   ]
  },
  {
   "cell_type": "code",
   "execution_count": 69,
   "id": "8462fa42",
   "metadata": {
    "vscode": {
     "languageId": "r"
    }
   },
   "outputs": [
    {
     "name": "stdout",
     "output_type": "stream",
     "text": [
      "Rows: 100,000\n",
      "Columns: 19\n",
      "$ Department                  \u001b[3m\u001b[90m<fct>\u001b[39m\u001b[23m IT, Finance, Finance, Customer Support, En…\n",
      "$ Gender                      \u001b[3m\u001b[90m<fct>\u001b[39m\u001b[23m Male, Male, Male, Female, Female, Male, Ma…\n",
      "$ Age                         \u001b[3m\u001b[90m<int>\u001b[39m\u001b[23m 55, 29, 55, 48, 36, 43, 37, 55, 55, 45, 52…\n",
      "$ Job_Title                   \u001b[3m\u001b[90m<fct>\u001b[39m\u001b[23m Specialist, Developer, Specialist, Analyst…\n",
      "$ Hire_Date                   \u001b[3m\u001b[90m<date>\u001b[39m\u001b[23m 2022-01-19, 2024-04-18, 2015-10-26, 2016-…\n",
      "$ Years_At_Company            \u001b[3m\u001b[90m<int>\u001b[39m\u001b[23m 2, 0, 8, 7, 3, 8, 1, 9, 1, 7, 4, 9, 5, 9, …\n",
      "$ Education_Level             \u001b[3m\u001b[90m<fct>\u001b[39m\u001b[23m High School, High School, High School, Bac…\n",
      "$ Performance_Score           \u001b[3m\u001b[90m<int>\u001b[39m\u001b[23m 5, 5, 3, 2, 2, 3, 5, 2, 2, 1, 3, 5, 4, 4, …\n",
      "$ Monthly_Salary              \u001b[3m\u001b[90m<dbl>\u001b[39m\u001b[23m 6750, 7500, 5850, 4800, 4800, 7800, 5250, …\n",
      "$ Work_Hours_Per_Week         \u001b[3m\u001b[90m<int>\u001b[39m\u001b[23m 33, 34, 37, 52, 38, 46, 55, 42, 51, 41, 38…\n",
      "$ Projects_Handled            \u001b[3m\u001b[90m<int>\u001b[39m\u001b[23m 32, 34, 27, 10, 11, 31, 20, 46, 23, 33, 1,…\n",
      "$ Overtime_Hours              \u001b[3m\u001b[90m<int>\u001b[39m\u001b[23m 22, 13, 6, 28, 29, 8, 29, 7, 21, 2, 5, 2, …\n",
      "$ Sick_Days                   \u001b[3m\u001b[90m<int>\u001b[39m\u001b[23m 2, 14, 3, 12, 13, 0, 2, 8, 14, 6, 0, 13, 1…\n",
      "$ Remote_Work_Frequency       \u001b[3m\u001b[90m<int>\u001b[39m\u001b[23m 0, 100, 50, 100, 100, 100, 0, 100, 0, 75, …\n",
      "$ Team_Size                   \u001b[3m\u001b[90m<int>\u001b[39m\u001b[23m 14, 12, 10, 10, 15, 15, 16, 7, 1, 4, 4, 5,…\n",
      "$ Training_Hours              \u001b[3m\u001b[90m<int>\u001b[39m\u001b[23m 66, 61, 1, 0, 9, 95, 27, 64, 0, 53, 90, 88…\n",
      "$ Promotions                  \u001b[3m\u001b[90m<int>\u001b[39m\u001b[23m 0, 2, 0, 1, 1, 0, 0, 0, 1, 2, 1, 0, 2, 1, …\n",
      "$ Employee_Satisfaction_Score \u001b[3m\u001b[90m<dbl>\u001b[39m\u001b[23m 2.63, 1.72, 3.17, 1.86, 1.25, 2.77, 4.46, …\n",
      "$ Resigned                    \u001b[3m\u001b[90m<fct>\u001b[39m\u001b[23m No, No, No, No, No, No, No, No, No, No, No…\n"
     ]
    }
   ],
   "source": [
    "# Convert `Hire_Date` to Date type\n",
    "prod_cleaned[, Hire_Date := as.Date(Hire_Date)]\n",
    "\n",
    "# Check the result\n",
    "glimpse(prod_cleaned)"
   ]
  },
  {
   "cell_type": "markdown",
   "id": "e8beeda9",
   "metadata": {},
   "source": [
    "`Hire_Date` has been successfully converted to `Date` type."
   ]
  },
  {
   "cell_type": "markdown",
   "id": "22ca1e0b",
   "metadata": {},
   "source": [
    "#### 2.2.5 Update `Years_At_Company`"
   ]
  },
  {
   "cell_type": "code",
   "execution_count": 70,
   "id": "4fb36769",
   "metadata": {
    "vscode": {
     "languageId": "r"
    }
   },
   "outputs": [
    {
     "name": "stdout",
     "output_type": "stream",
     "text": [
      "Rows: 100,000\n",
      "Columns: 19\n",
      "$ Department                  \u001b[3m\u001b[90m<fct>\u001b[39m\u001b[23m IT, Finance, Finance, Customer Support, En…\n",
      "$ Gender                      \u001b[3m\u001b[90m<fct>\u001b[39m\u001b[23m Male, Male, Male, Female, Female, Male, Ma…\n",
      "$ Age                         \u001b[3m\u001b[90m<int>\u001b[39m\u001b[23m 55, 29, 55, 48, 36, 43, 37, 55, 55, 45, 52…\n",
      "$ Job_Title                   \u001b[3m\u001b[90m<fct>\u001b[39m\u001b[23m Specialist, Developer, Specialist, Analyst…\n",
      "$ Hire_Date                   \u001b[3m\u001b[90m<date>\u001b[39m\u001b[23m 2022-01-19, 2024-04-18, 2015-10-26, 2016-…\n",
      "$ Years_At_Company            \u001b[3m\u001b[90m<int>\u001b[39m\u001b[23m 3, 1, 10, 9, 4, 9, 2, 11, 2, 9, 6, 10, 6, …\n",
      "$ Education_Level             \u001b[3m\u001b[90m<fct>\u001b[39m\u001b[23m High School, High School, High School, Bac…\n",
      "$ Performance_Score           \u001b[3m\u001b[90m<int>\u001b[39m\u001b[23m 5, 5, 3, 2, 2, 3, 5, 2, 2, 1, 3, 5, 4, 4, …\n",
      "$ Monthly_Salary              \u001b[3m\u001b[90m<dbl>\u001b[39m\u001b[23m 6750, 7500, 5850, 4800, 4800, 7800, 5250, …\n",
      "$ Work_Hours_Per_Week         \u001b[3m\u001b[90m<int>\u001b[39m\u001b[23m 33, 34, 37, 52, 38, 46, 55, 42, 51, 41, 38…\n",
      "$ Projects_Handled            \u001b[3m\u001b[90m<int>\u001b[39m\u001b[23m 32, 34, 27, 10, 11, 31, 20, 46, 23, 33, 1,…\n",
      "$ Overtime_Hours              \u001b[3m\u001b[90m<int>\u001b[39m\u001b[23m 22, 13, 6, 28, 29, 8, 29, 7, 21, 2, 5, 2, …\n",
      "$ Sick_Days                   \u001b[3m\u001b[90m<int>\u001b[39m\u001b[23m 2, 14, 3, 12, 13, 0, 2, 8, 14, 6, 0, 13, 1…\n",
      "$ Remote_Work_Frequency       \u001b[3m\u001b[90m<int>\u001b[39m\u001b[23m 0, 100, 50, 100, 100, 100, 0, 100, 0, 75, …\n",
      "$ Team_Size                   \u001b[3m\u001b[90m<int>\u001b[39m\u001b[23m 14, 12, 10, 10, 15, 15, 16, 7, 1, 4, 4, 5,…\n",
      "$ Training_Hours              \u001b[3m\u001b[90m<int>\u001b[39m\u001b[23m 66, 61, 1, 0, 9, 95, 27, 64, 0, 53, 90, 88…\n",
      "$ Promotions                  \u001b[3m\u001b[90m<int>\u001b[39m\u001b[23m 0, 2, 0, 1, 1, 0, 0, 0, 1, 2, 1, 0, 2, 1, …\n",
      "$ Employee_Satisfaction_Score \u001b[3m\u001b[90m<dbl>\u001b[39m\u001b[23m 2.63, 1.72, 3.17, 1.86, 1.25, 2.77, 4.46, …\n",
      "$ Resigned                    \u001b[3m\u001b[90m<fct>\u001b[39m\u001b[23m No, No, No, No, No, No, No, No, No, No, No…\n"
     ]
    }
   ],
   "source": [
    "# Update `Years_At_Company`\n",
    "\n",
    "## Store today's date\n",
    "today_date <- as.Date(\"2025-04-10\")\n",
    "\n",
    "## Update\n",
    "prod_cleaned[, Years_At_Company := as.integer(format(today_date, \"%Y\")) - year(Hire_Date)]\n",
    "\n",
    "## Check the result\n",
    "glimpse(prod_cleaned)"
   ]
  },
  {
   "cell_type": "markdown",
   "id": "56f7c3c5",
   "metadata": {},
   "source": [
    "`Years_At_Company` has been successfully updated."
   ]
  },
  {
   "cell_type": "markdown",
   "id": "084da704",
   "metadata": {},
   "source": [
    "## 3. EDA, Part 1 – Demopgrahic Variables"
   ]
  },
  {
   "cell_type": "markdown",
   "id": "f7273033",
   "metadata": {},
   "source": [
    "In this section, I will explore the demographic characteristics of the sample:\n",
    "1. Gender\n",
    "2. Age\n",
    "3. Education level"
   ]
  },
  {
   "cell_type": "code",
   "execution_count": 71,
   "id": "f204bee0",
   "metadata": {
    "vscode": {
     "languageId": "r"
    }
   },
   "outputs": [],
   "source": [
    "# Create a copy of the dataset for EDA\n",
    "prod_eda <- copy(prod_cleaned) "
   ]
  },
  {
   "cell_type": "markdown",
   "id": "fb25bbce",
   "metadata": {},
   "source": [
    "### 3.1 Gender"
   ]
  },
  {
   "cell_type": "code",
   "execution_count": 72,
   "id": "bdd58a4a",
   "metadata": {
    "vscode": {
     "languageId": "r"
    }
   },
   "outputs": [
    {
     "data": {
      "text/html": [
       "<table class=\"dataframe\">\n",
       "<caption>A data.table: 3 × 3</caption>\n",
       "<thead>\n",
       "\t<tr><th scope=col>Gender</th><th scope=col>Total</th><th scope=col>Percent</th></tr>\n",
       "\t<tr><th scope=col>&lt;fct&gt;</th><th scope=col>&lt;int&gt;</th><th scope=col>&lt;dbl&gt;</th></tr>\n",
       "</thead>\n",
       "<tbody>\n",
       "\t<tr><td>Male  </td><td>48031</td><td>48.031</td></tr>\n",
       "\t<tr><td>Female</td><td>48001</td><td>48.001</td></tr>\n",
       "\t<tr><td>Other </td><td> 3968</td><td> 3.968</td></tr>\n",
       "</tbody>\n",
       "</table>\n"
      ],
      "text/latex": [
       "A data.table: 3 × 3\n",
       "\\begin{tabular}{lll}\n",
       " Gender & Total & Percent\\\\\n",
       " <fct> & <int> & <dbl>\\\\\n",
       "\\hline\n",
       "\t Male   & 48031 & 48.031\\\\\n",
       "\t Female & 48001 & 48.001\\\\\n",
       "\t Other  &  3968 &  3.968\\\\\n",
       "\\end{tabular}\n"
      ],
      "text/markdown": [
       "\n",
       "A data.table: 3 × 3\n",
       "\n",
       "| Gender &lt;fct&gt; | Total &lt;int&gt; | Percent &lt;dbl&gt; |\n",
       "|---|---|---|\n",
       "| Male   | 48031 | 48.031 |\n",
       "| Female | 48001 | 48.001 |\n",
       "| Other  |  3968 |  3.968 |\n",
       "\n"
      ],
      "text/plain": [
       "  Gender Total Percent\n",
       "1 Male   48031 48.031 \n",
       "2 Female 48001 48.001 \n",
       "3 Other   3968  3.968 "
      ]
     },
     "metadata": {},
     "output_type": "display_data"
    }
   ],
   "source": [
    "# Compute the number of employees by gender\n",
    "prod_eda[,\n",
    "         .(Total = .N,\n",
    "           Percent = .N / nrow(prod_eda) * 100),\n",
    "         by = Gender][order(-Percent)]"
   ]
  },
  {
   "cell_type": "markdown",
   "id": "c2466490",
   "metadata": {},
   "source": [
    "There is the same number of employees in across the two genders."
   ]
  },
  {
   "cell_type": "markdown",
   "id": "5e5470d1",
   "metadata": {},
   "source": [
    "### 3.2 Age"
   ]
  },
  {
   "cell_type": "code",
   "execution_count": 73,
   "id": "ae61a100",
   "metadata": {
    "vscode": {
     "languageId": "r"
    }
   },
   "outputs": [
    {
     "data": {
      "text/html": [
       "<table class=\"dataframe\">\n",
       "<caption>A data.table: 1 × 4</caption>\n",
       "<thead>\n",
       "\t<tr><th scope=col>Min</th><th scope=col>Mean</th><th scope=col>Max</th><th scope=col>SD</th></tr>\n",
       "\t<tr><th scope=col>&lt;dbl&gt;</th><th scope=col>&lt;dbl&gt;</th><th scope=col>&lt;dbl&gt;</th><th scope=col>&lt;dbl&gt;</th></tr>\n",
       "</thead>\n",
       "<tbody>\n",
       "\t<tr><td>22</td><td>41.03</td><td>60</td><td>11.24</td></tr>\n",
       "</tbody>\n",
       "</table>\n"
      ],
      "text/latex": [
       "A data.table: 1 × 4\n",
       "\\begin{tabular}{llll}\n",
       " Min & Mean & Max & SD\\\\\n",
       " <dbl> & <dbl> & <dbl> & <dbl>\\\\\n",
       "\\hline\n",
       "\t 22 & 41.03 & 60 & 11.24\\\\\n",
       "\\end{tabular}\n"
      ],
      "text/markdown": [
       "\n",
       "A data.table: 1 × 4\n",
       "\n",
       "| Min &lt;dbl&gt; | Mean &lt;dbl&gt; | Max &lt;dbl&gt; | SD &lt;dbl&gt; |\n",
       "|---|---|---|---|\n",
       "| 22 | 41.03 | 60 | 11.24 |\n",
       "\n"
      ],
      "text/plain": [
       "  Min Mean  Max SD   \n",
       "1 22  41.03 60  11.24"
      ]
     },
     "metadata": {},
     "output_type": "display_data"
    }
   ],
   "source": [
    "# Compute the mean and SD of age\n",
    "prod_eda[, .(Min = round(min(Age), 2),\n",
    "             Mean = round(mean(Age), 2),\n",
    "             Max = round(max(Age), 2),\n",
    "             SD = round(sd(Age), 2))]"
   ]
  },
  {
   "cell_type": "markdown",
   "id": "929fd5a0",
   "metadata": {},
   "source": [
    "The youngest employee is 22 and the oldest 60.\n",
    "\n",
    "The mean age is 60 with SD of 11.24."
   ]
  },
  {
   "cell_type": "code",
   "execution_count": 74,
   "id": "0309ea3b",
   "metadata": {
    "vscode": {
     "languageId": "r"
    }
   },
   "outputs": [
    {
     "data": {
      "image/png": "[encoded data removed]",
      "text/plain": [
       "plot without title"
      ]
     },
     "metadata": {
      "image/png": {
       "height": 420,
       "width": 420
      }
     },
     "output_type": "display_data"
    }
   ],
   "source": [
    "# Visualise age distribution\n",
    "prod_eda |>\n",
    "  \n",
    "  ## Aesthetic mapping\n",
    "  ggplot(aes(x = Age)) +\n",
    "  \n",
    "  ## Instantiate a histogram\n",
    "  geom_histogram(binwidth = 10,\n",
    "                 color = \"blue\",\n",
    "                 fill = \"steelblue\") +\n",
    "  \n",
    "  ## Add text elements\n",
    "  labs(title = \"Age Distribution\",\n",
    "       x = \"Age (Years)\") +\n",
    "  \n",
    "  ## Apply classic theme\n",
    "  theme_classic()"
   ]
  },
  {
   "cell_type": "markdown",
   "id": "b78388dd",
   "metadata": {},
   "source": [
    "Age appears normally distributed, with most employees clustering between the age of 30 and 60."
   ]
  },
  {
   "cell_type": "markdown",
   "id": "bda15aee",
   "metadata": {},
   "source": [
    "### 3.3 Education Level"
   ]
  },
  {
   "cell_type": "code",
   "execution_count": 75,
   "id": "0aadf6fa",
   "metadata": {
    "vscode": {
     "languageId": "r"
    }
   },
   "outputs": [
    {
     "data": {
      "text/html": [
       "<table class=\"dataframe\">\n",
       "<caption>A data.table: 4 × 3</caption>\n",
       "<thead>\n",
       "\t<tr><th scope=col>Education_Level</th><th scope=col>Total</th><th scope=col>Percent</th></tr>\n",
       "\t<tr><th scope=col>&lt;fct&gt;</th><th scope=col>&lt;int&gt;</th><th scope=col>&lt;dbl&gt;</th></tr>\n",
       "</thead>\n",
       "<tbody>\n",
       "\t<tr><td>High School</td><td>30004</td><td>30.004</td></tr>\n",
       "\t<tr><td>Bachelor   </td><td>50041</td><td>50.041</td></tr>\n",
       "\t<tr><td>Master     </td><td>14904</td><td>14.904</td></tr>\n",
       "\t<tr><td>PhD        </td><td> 5051</td><td> 5.051</td></tr>\n",
       "</tbody>\n",
       "</table>\n"
      ],
      "text/latex": [
       "A data.table: 4 × 3\n",
       "\\begin{tabular}{lll}\n",
       " Education\\_Level & Total & Percent\\\\\n",
       " <fct> & <int> & <dbl>\\\\\n",
       "\\hline\n",
       "\t High School & 30004 & 30.004\\\\\n",
       "\t Bachelor    & 50041 & 50.041\\\\\n",
       "\t Master      & 14904 & 14.904\\\\\n",
       "\t PhD         &  5051 &  5.051\\\\\n",
       "\\end{tabular}\n"
      ],
      "text/markdown": [
       "\n",
       "A data.table: 4 × 3\n",
       "\n",
       "| Education_Level &lt;fct&gt; | Total &lt;int&gt; | Percent &lt;dbl&gt; |\n",
       "|---|---|---|\n",
       "| High School | 30004 | 30.004 |\n",
       "| Bachelor    | 50041 | 50.041 |\n",
       "| Master      | 14904 | 14.904 |\n",
       "| PhD         |  5051 |  5.051 |\n",
       "\n"
      ],
      "text/plain": [
       "  Education_Level Total Percent\n",
       "1 High School     30004 30.004 \n",
       "2 Bachelor        50041 50.041 \n",
       "3 Master          14904 14.904 \n",
       "4 PhD              5051  5.051 "
      ]
     },
     "metadata": {},
     "output_type": "display_data"
    }
   ],
   "source": [
    "# Compute the number of employees by education level\n",
    "\n",
    "## Reorder the education level factors\n",
    "prod_eda[, Education_Level := factor(Education_Level,\n",
    "                                     levels = c(\"High School\",\n",
    "                                                \"Bachelor\",\n",
    "                                                \"Master\",\n",
    "                                                \"PhD\"))]\n",
    "\n",
    "## Compute\n",
    "prod_eda[, \n",
    "         .(Total = .N,\n",
    "           Percent = .N / nrow(prod_eda) * 100),\n",
    "         by = Education_Level][order(Education_Level)]"
   ]
  },
  {
   "cell_type": "markdown",
   "id": "9d73bd4d",
   "metadata": {},
   "source": [
    "Most of the employees graduated either with a Bachelor's degree (50%) or a High School certificate (30%).\n",
    "\n",
    "The rest hold a graduate degree (Master's degree = 15%; PhD = 5%)."
   ]
  },
  {
   "cell_type": "markdown",
   "id": "f8d23d2a",
   "metadata": {},
   "source": [
    "## 4. EDA, Part 2 – Job-Related Variables"
   ]
  },
  {
   "cell_type": "markdown",
   "id": "29d718f7",
   "metadata": {},
   "source": [
    "In this section, I will explore the job-related characteristics:\n",
    "1. Department\n",
    "2. Team size\n",
    "3. Job title\n",
    "4. Hire date\n",
    "5. Resgination status"
   ]
  },
  {
   "cell_type": "markdown",
   "id": "c33aa53f",
   "metadata": {},
   "source": [
    "### 4.1 Department"
   ]
  },
  {
   "cell_type": "code",
   "execution_count": 76,
   "id": "0fc2e276",
   "metadata": {
    "vscode": {
     "languageId": "r"
    }
   },
   "outputs": [
    {
     "data": {
      "text/html": [
       "<table class=\"dataframe\">\n",
       "<caption>A data.table: 9 × 3</caption>\n",
       "<thead>\n",
       "\t<tr><th scope=col>Department</th><th scope=col>Total</th><th scope=col>Percent</th></tr>\n",
       "\t<tr><th scope=col>&lt;fct&gt;</th><th scope=col>&lt;int&gt;</th><th scope=col>&lt;dbl&gt;</th></tr>\n",
       "</thead>\n",
       "<tbody>\n",
       "\t<tr><td>Marketing       </td><td>11216</td><td>11.216</td></tr>\n",
       "\t<tr><td>Finance         </td><td>11200</td><td>11.200</td></tr>\n",
       "\t<tr><td>Operations      </td><td>11181</td><td>11.181</td></tr>\n",
       "\t<tr><td>IT              </td><td>11131</td><td>11.131</td></tr>\n",
       "\t<tr><td>Sales           </td><td>11122</td><td>11.122</td></tr>\n",
       "\t<tr><td>Legal           </td><td>11118</td><td>11.118</td></tr>\n",
       "\t<tr><td>Customer Support</td><td>11116</td><td>11.116</td></tr>\n",
       "\t<tr><td>HR              </td><td>10960</td><td>10.960</td></tr>\n",
       "\t<tr><td>Engineering     </td><td>10956</td><td>10.956</td></tr>\n",
       "</tbody>\n",
       "</table>\n"
      ],
      "text/latex": [
       "A data.table: 9 × 3\n",
       "\\begin{tabular}{lll}\n",
       " Department & Total & Percent\\\\\n",
       " <fct> & <int> & <dbl>\\\\\n",
       "\\hline\n",
       "\t Marketing        & 11216 & 11.216\\\\\n",
       "\t Finance          & 11200 & 11.200\\\\\n",
       "\t Operations       & 11181 & 11.181\\\\\n",
       "\t IT               & 11131 & 11.131\\\\\n",
       "\t Sales            & 11122 & 11.122\\\\\n",
       "\t Legal            & 11118 & 11.118\\\\\n",
       "\t Customer Support & 11116 & 11.116\\\\\n",
       "\t HR               & 10960 & 10.960\\\\\n",
       "\t Engineering      & 10956 & 10.956\\\\\n",
       "\\end{tabular}\n"
      ],
      "text/markdown": [
       "\n",
       "A data.table: 9 × 3\n",
       "\n",
       "| Department &lt;fct&gt; | Total &lt;int&gt; | Percent &lt;dbl&gt; |\n",
       "|---|---|---|\n",
       "| Marketing        | 11216 | 11.216 |\n",
       "| Finance          | 11200 | 11.200 |\n",
       "| Operations       | 11181 | 11.181 |\n",
       "| IT               | 11131 | 11.131 |\n",
       "| Sales            | 11122 | 11.122 |\n",
       "| Legal            | 11118 | 11.118 |\n",
       "| Customer Support | 11116 | 11.116 |\n",
       "| HR               | 10960 | 10.960 |\n",
       "| Engineering      | 10956 | 10.956 |\n",
       "\n"
      ],
      "text/plain": [
       "  Department       Total Percent\n",
       "1 Marketing        11216 11.216 \n",
       "2 Finance          11200 11.200 \n",
       "3 Operations       11181 11.181 \n",
       "4 IT               11131 11.131 \n",
       "5 Sales            11122 11.122 \n",
       "6 Legal            11118 11.118 \n",
       "7 Customer Support 11116 11.116 \n",
       "8 HR               10960 10.960 \n",
       "9 Engineering      10956 10.956 "
      ]
     },
     "metadata": {},
     "output_type": "display_data"
    }
   ],
   "source": [
    "# Compute the number of employees by department\n",
    "prod_eda[,\n",
    "         .(Total = .N,\n",
    "           Percent = .N / nrow(prod_eda) * 100),\n",
    "         by = Department][order(-Percent)]"
   ]
  },
  {
   "cell_type": "markdown",
   "id": "cef59c70",
   "metadata": {},
   "source": [
    "There is about the same number of employees in each department."
   ]
  },
  {
   "cell_type": "markdown",
   "id": "8f68aac7",
   "metadata": {},
   "source": [
    "### 4.2 Team Size"
   ]
  },
  {
   "cell_type": "code",
   "execution_count": 77,
   "id": "32181fbf",
   "metadata": {
    "vscode": {
     "languageId": "r"
    }
   },
   "outputs": [
    {
     "data": {
      "text/html": [
       "<table class=\"dataframe\">\n",
       "<caption>A data.table: 19 × 3</caption>\n",
       "<thead>\n",
       "\t<tr><th scope=col>Team_Size</th><th scope=col>Total</th><th scope=col>Percent</th></tr>\n",
       "\t<tr><th scope=col>&lt;int&gt;</th><th scope=col>&lt;int&gt;</th><th scope=col>&lt;dbl&gt;</th></tr>\n",
       "</thead>\n",
       "<tbody>\n",
       "\t<tr><td> 1</td><td>5287</td><td>5.287</td></tr>\n",
       "\t<tr><td> 2</td><td>5272</td><td>5.272</td></tr>\n",
       "\t<tr><td> 3</td><td>5298</td><td>5.298</td></tr>\n",
       "\t<tr><td> 4</td><td>5309</td><td>5.309</td></tr>\n",
       "\t<tr><td> 5</td><td>5279</td><td>5.279</td></tr>\n",
       "\t<tr><td> 6</td><td>5164</td><td>5.164</td></tr>\n",
       "\t<tr><td> 7</td><td>5218</td><td>5.218</td></tr>\n",
       "\t<tr><td> 8</td><td>5242</td><td>5.242</td></tr>\n",
       "\t<tr><td> 9</td><td>5159</td><td>5.159</td></tr>\n",
       "\t<tr><td>10</td><td>5251</td><td>5.251</td></tr>\n",
       "\t<tr><td>11</td><td>5323</td><td>5.323</td></tr>\n",
       "\t<tr><td>12</td><td>5244</td><td>5.244</td></tr>\n",
       "\t<tr><td>13</td><td>5233</td><td>5.233</td></tr>\n",
       "\t<tr><td>14</td><td>5210</td><td>5.210</td></tr>\n",
       "\t<tr><td>15</td><td>5214</td><td>5.214</td></tr>\n",
       "\t<tr><td>16</td><td>5356</td><td>5.356</td></tr>\n",
       "\t<tr><td>17</td><td>5149</td><td>5.149</td></tr>\n",
       "\t<tr><td>18</td><td>5324</td><td>5.324</td></tr>\n",
       "\t<tr><td>19</td><td>5468</td><td>5.468</td></tr>\n",
       "</tbody>\n",
       "</table>\n"
      ],
      "text/latex": [
       "A data.table: 19 × 3\n",
       "\\begin{tabular}{lll}\n",
       " Team\\_Size & Total & Percent\\\\\n",
       " <int> & <int> & <dbl>\\\\\n",
       "\\hline\n",
       "\t  1 & 5287 & 5.287\\\\\n",
       "\t  2 & 5272 & 5.272\\\\\n",
       "\t  3 & 5298 & 5.298\\\\\n",
       "\t  4 & 5309 & 5.309\\\\\n",
       "\t  5 & 5279 & 5.279\\\\\n",
       "\t  6 & 5164 & 5.164\\\\\n",
       "\t  7 & 5218 & 5.218\\\\\n",
       "\t  8 & 5242 & 5.242\\\\\n",
       "\t  9 & 5159 & 5.159\\\\\n",
       "\t 10 & 5251 & 5.251\\\\\n",
       "\t 11 & 5323 & 5.323\\\\\n",
       "\t 12 & 5244 & 5.244\\\\\n",
       "\t 13 & 5233 & 5.233\\\\\n",
       "\t 14 & 5210 & 5.210\\\\\n",
       "\t 15 & 5214 & 5.214\\\\\n",
       "\t 16 & 5356 & 5.356\\\\\n",
       "\t 17 & 5149 & 5.149\\\\\n",
       "\t 18 & 5324 & 5.324\\\\\n",
       "\t 19 & 5468 & 5.468\\\\\n",
       "\\end{tabular}\n"
      ],
      "text/markdown": [
       "\n",
       "A data.table: 19 × 3\n",
       "\n",
       "| Team_Size &lt;int&gt; | Total &lt;int&gt; | Percent &lt;dbl&gt; |\n",
       "|---|---|---|\n",
       "|  1 | 5287 | 5.287 |\n",
       "|  2 | 5272 | 5.272 |\n",
       "|  3 | 5298 | 5.298 |\n",
       "|  4 | 5309 | 5.309 |\n",
       "|  5 | 5279 | 5.279 |\n",
       "|  6 | 5164 | 5.164 |\n",
       "|  7 | 5218 | 5.218 |\n",
       "|  8 | 5242 | 5.242 |\n",
       "|  9 | 5159 | 5.159 |\n",
       "| 10 | 5251 | 5.251 |\n",
       "| 11 | 5323 | 5.323 |\n",
       "| 12 | 5244 | 5.244 |\n",
       "| 13 | 5233 | 5.233 |\n",
       "| 14 | 5210 | 5.210 |\n",
       "| 15 | 5214 | 5.214 |\n",
       "| 16 | 5356 | 5.356 |\n",
       "| 17 | 5149 | 5.149 |\n",
       "| 18 | 5324 | 5.324 |\n",
       "| 19 | 5468 | 5.468 |\n",
       "\n"
      ],
      "text/plain": [
       "   Team_Size Total Percent\n",
       "1   1        5287  5.287  \n",
       "2   2        5272  5.272  \n",
       "3   3        5298  5.298  \n",
       "4   4        5309  5.309  \n",
       "5   5        5279  5.279  \n",
       "6   6        5164  5.164  \n",
       "7   7        5218  5.218  \n",
       "8   8        5242  5.242  \n",
       "9   9        5159  5.159  \n",
       "10 10        5251  5.251  \n",
       "11 11        5323  5.323  \n",
       "12 12        5244  5.244  \n",
       "13 13        5233  5.233  \n",
       "14 14        5210  5.210  \n",
       "15 15        5214  5.214  \n",
       "16 16        5356  5.356  \n",
       "17 17        5149  5.149  \n",
       "18 18        5324  5.324  \n",
       "19 19        5468  5.468  "
      ]
     },
     "metadata": {},
     "output_type": "display_data"
    }
   ],
   "source": [
    "# Compute the number of employees by team size\n",
    "prod_eda[, \n",
    "         .(Total = .N,\n",
    "           Percent = .N / nrow(prod_eda) * 100),\n",
    "         by = Team_Size][order(Team_Size)]"
   ]
  },
  {
   "cell_type": "markdown",
   "id": "b23b3115",
   "metadata": {},
   "source": [
    "There is around the same number of employees across team sizes.\n",
    "\n",
    "The minimum team size is 1 and the largest 19."
   ]
  },
  {
   "cell_type": "markdown",
   "id": "8ee17757",
   "metadata": {},
   "source": [
    "### 4.3 Job Title"
   ]
  },
  {
   "cell_type": "code",
   "execution_count": 78,
   "id": "90125341",
   "metadata": {
    "vscode": {
     "languageId": "r"
    }
   },
   "outputs": [
    {
     "data": {
      "text/html": [
       "<table class=\"dataframe\">\n",
       "<caption>A data.table: 7 × 3</caption>\n",
       "<thead>\n",
       "\t<tr><th scope=col>Job_Title</th><th scope=col>Total</th><th scope=col>Percent</th></tr>\n",
       "\t<tr><th scope=col>&lt;fct&gt;</th><th scope=col>&lt;int&gt;</th><th scope=col>&lt;dbl&gt;</th></tr>\n",
       "</thead>\n",
       "<tbody>\n",
       "\t<tr><td>Analyst   </td><td>14261</td><td>14.261</td></tr>\n",
       "\t<tr><td>Consultant</td><td>14210</td><td>14.210</td></tr>\n",
       "\t<tr><td>Developer </td><td>14195</td><td>14.195</td></tr>\n",
       "\t<tr><td>Engineer  </td><td>14217</td><td>14.217</td></tr>\n",
       "\t<tr><td>Manager   </td><td>14325</td><td>14.325</td></tr>\n",
       "\t<tr><td>Specialist</td><td>14507</td><td>14.507</td></tr>\n",
       "\t<tr><td>Technician</td><td>14285</td><td>14.285</td></tr>\n",
       "</tbody>\n",
       "</table>\n"
      ],
      "text/latex": [
       "A data.table: 7 × 3\n",
       "\\begin{tabular}{lll}\n",
       " Job\\_Title & Total & Percent\\\\\n",
       " <fct> & <int> & <dbl>\\\\\n",
       "\\hline\n",
       "\t Analyst    & 14261 & 14.261\\\\\n",
       "\t Consultant & 14210 & 14.210\\\\\n",
       "\t Developer  & 14195 & 14.195\\\\\n",
       "\t Engineer   & 14217 & 14.217\\\\\n",
       "\t Manager    & 14325 & 14.325\\\\\n",
       "\t Specialist & 14507 & 14.507\\\\\n",
       "\t Technician & 14285 & 14.285\\\\\n",
       "\\end{tabular}\n"
      ],
      "text/markdown": [
       "\n",
       "A data.table: 7 × 3\n",
       "\n",
       "| Job_Title &lt;fct&gt; | Total &lt;int&gt; | Percent &lt;dbl&gt; |\n",
       "|---|---|---|\n",
       "| Analyst    | 14261 | 14.261 |\n",
       "| Consultant | 14210 | 14.210 |\n",
       "| Developer  | 14195 | 14.195 |\n",
       "| Engineer   | 14217 | 14.217 |\n",
       "| Manager    | 14325 | 14.325 |\n",
       "| Specialist | 14507 | 14.507 |\n",
       "| Technician | 14285 | 14.285 |\n",
       "\n"
      ],
      "text/plain": [
       "  Job_Title  Total Percent\n",
       "1 Analyst    14261 14.261 \n",
       "2 Consultant 14210 14.210 \n",
       "3 Developer  14195 14.195 \n",
       "4 Engineer   14217 14.217 \n",
       "5 Manager    14325 14.325 \n",
       "6 Specialist 14507 14.507 \n",
       "7 Technician 14285 14.285 "
      ]
     },
     "metadata": {},
     "output_type": "display_data"
    }
   ],
   "source": [
    "# Compute the number of employees by job title\n",
    "prod_eda[,\n",
    "         .(Total = .N,\n",
    "           Percent = .N / nrow(prod_eda) * 100),\n",
    "         by = Job_Title][order(Job_Title)]"
   ]
  },
  {
   "cell_type": "markdown",
   "id": "0b43f7a1",
   "metadata": {},
   "source": [
    "There is the similar number of employees in each job title."
   ]
  },
  {
   "cell_type": "markdown",
   "id": "9d113183",
   "metadata": {},
   "source": [
    "### 4.4 Hire Date"
   ]
  },
  {
   "cell_type": "code",
   "execution_count": 79,
   "id": "d3716e77",
   "metadata": {
    "vscode": {
     "languageId": "r"
    }
   },
   "outputs": [],
   "source": [
    "# Find hire year and hire month\n",
    "prod_eda[, `:=` (Hire_Year = year(Hire_Date),\n",
    "                 Hire_Month_Name = month(Hire_Date))]"
   ]
  },
  {
   "cell_type": "code",
   "execution_count": 80,
   "id": "c7d6aca3",
   "metadata": {
    "vscode": {
     "languageId": "r"
    }
   },
   "outputs": [
    {
     "data": {
      "text/html": [
       "<table class=\"dataframe\">\n",
       "<caption>A data.table: 11 × 2</caption>\n",
       "<thead>\n",
       "\t<tr><th scope=col>Hire_Year</th><th scope=col>Count</th></tr>\n",
       "\t<tr><th scope=col>&lt;int&gt;</th><th scope=col>&lt;int&gt;</th></tr>\n",
       "</thead>\n",
       "<tbody>\n",
       "\t<tr><td>2014</td><td> 3097</td></tr>\n",
       "\t<tr><td>2015</td><td> 9886</td></tr>\n",
       "\t<tr><td>2016</td><td> 9874</td></tr>\n",
       "\t<tr><td>2017</td><td>10004</td></tr>\n",
       "\t<tr><td>2018</td><td>10005</td></tr>\n",
       "\t<tr><td>2019</td><td> 9936</td></tr>\n",
       "\t<tr><td>2020</td><td>10096</td></tr>\n",
       "\t<tr><td>2021</td><td>10094</td></tr>\n",
       "\t<tr><td>2022</td><td>10145</td></tr>\n",
       "\t<tr><td>2023</td><td> 9973</td></tr>\n",
       "\t<tr><td>2024</td><td> 6890</td></tr>\n",
       "</tbody>\n",
       "</table>\n"
      ],
      "text/latex": [
       "A data.table: 11 × 2\n",
       "\\begin{tabular}{ll}\n",
       " Hire\\_Year & Count\\\\\n",
       " <int> & <int>\\\\\n",
       "\\hline\n",
       "\t 2014 &  3097\\\\\n",
       "\t 2015 &  9886\\\\\n",
       "\t 2016 &  9874\\\\\n",
       "\t 2017 & 10004\\\\\n",
       "\t 2018 & 10005\\\\\n",
       "\t 2019 &  9936\\\\\n",
       "\t 2020 & 10096\\\\\n",
       "\t 2021 & 10094\\\\\n",
       "\t 2022 & 10145\\\\\n",
       "\t 2023 &  9973\\\\\n",
       "\t 2024 &  6890\\\\\n",
       "\\end{tabular}\n"
      ],
      "text/markdown": [
       "\n",
       "A data.table: 11 × 2\n",
       "\n",
       "| Hire_Year &lt;int&gt; | Count &lt;int&gt; |\n",
       "|---|---|\n",
       "| 2014 |  3097 |\n",
       "| 2015 |  9886 |\n",
       "| 2016 |  9874 |\n",
       "| 2017 | 10004 |\n",
       "| 2018 | 10005 |\n",
       "| 2019 |  9936 |\n",
       "| 2020 | 10096 |\n",
       "| 2021 | 10094 |\n",
       "| 2022 | 10145 |\n",
       "| 2023 |  9973 |\n",
       "| 2024 |  6890 |\n",
       "\n"
      ],
      "text/plain": [
       "   Hire_Year Count\n",
       "1  2014       3097\n",
       "2  2015       9886\n",
       "3  2016       9874\n",
       "4  2017      10004\n",
       "5  2018      10005\n",
       "6  2019       9936\n",
       "7  2020      10096\n",
       "8  2021      10094\n",
       "9  2022      10145\n",
       "10 2023       9973\n",
       "11 2024       6890"
      ]
     },
     "metadata": {},
     "output_type": "display_data"
    }
   ],
   "source": [
    "# Compute the number of hires per year\n",
    "hires_by_year <- prod_eda[,\n",
    "                          .(Count = .N),\n",
    "                          by = Hire_Year][order(Hire_Year)]\n",
    "\n",
    "# Print the results\n",
    "hires_by_year"
   ]
  },
  {
   "cell_type": "code",
   "execution_count": 81,
   "id": "fc34fbc6",
   "metadata": {
    "vscode": {
     "languageId": "r"
    }
   },
   "outputs": [
    {
     "data": {
      "image/png": "[encoded data removed]",
      "text/plain": [
       "plot without title"
      ]
     },
     "metadata": {
      "image/png": {
       "height": 420,
       "width": 420
      }
     },
     "output_type": "display_data"
    }
   ],
   "source": [
    "# Plot the number of employees by hire year\n",
    "hires_by_year |>\n",
    "  \n",
    "  ## Aesthetic mapping\n",
    "  ggplot(aes(x = Hire_Year,\n",
    "             y = Count)) +\n",
    "  \n",
    "  ## Instantiate a line plot\n",
    "  geom_col(fill = \"steelblue\") +\n",
    "  \n",
    "  ## Add text elements\n",
    "  labs(title = \"The Number of Hires by Year\",\n",
    "       x = \"Year\",\n",
    "       y = \"Hires\") +\n",
    "  \n",
    "  ## Adjust classic theme\n",
    "  theme_classic() +\n",
    "  \n",
    "  ## Add x scale\n",
    "  scale_x_continuous(breaks = 2014:2024)"
   ]
  },
  {
   "cell_type": "markdown",
   "id": "6751ed51",
   "metadata": {},
   "source": [
    "The data ranges between 2014 and 2024.\n",
    "\n",
    "For all years, excep 2014 and 2024, there were around 1,000 hires a year.\n",
    "\n",
    "The year 2014 saw the lowest number of hires at around 3,000 hires.\n",
    "\n",
    "In 2024, there were around 7,000 hires."
   ]
  },
  {
   "cell_type": "code",
   "execution_count": 82,
   "id": "5f2878e4",
   "metadata": {
    "vscode": {
     "languageId": "r"
    }
   },
   "outputs": [
    {
     "data": {
      "text/html": [
       "<table class=\"dataframe\">\n",
       "<caption>A data.table: 12 × 2</caption>\n",
       "<thead>\n",
       "\t<tr><th scope=col>Hire_Month_Name</th><th scope=col>Avg_Hires</th></tr>\n",
       "\t<tr><th scope=col>&lt;fct&gt;</th><th scope=col>&lt;dbl&gt;</th></tr>\n",
       "</thead>\n",
       "<tbody>\n",
       "\t<tr><td>1 </td><td>840.6000</td></tr>\n",
       "\t<tr><td>2 </td><td>781.5000</td></tr>\n",
       "\t<tr><td>3 </td><td>840.2000</td></tr>\n",
       "\t<tr><td>4 </td><td>816.7000</td></tr>\n",
       "\t<tr><td>5 </td><td>849.0000</td></tr>\n",
       "\t<tr><td>6 </td><td>825.4000</td></tr>\n",
       "\t<tr><td>7 </td><td>847.7000</td></tr>\n",
       "\t<tr><td>8 </td><td>844.5000</td></tr>\n",
       "\t<tr><td>9 </td><td>754.5455</td></tr>\n",
       "\t<tr><td>10</td><td>866.2000</td></tr>\n",
       "\t<tr><td>11</td><td>814.0000</td></tr>\n",
       "\t<tr><td>12</td><td>844.2000</td></tr>\n",
       "</tbody>\n",
       "</table>\n"
      ],
      "text/latex": [
       "A data.table: 12 × 2\n",
       "\\begin{tabular}{ll}\n",
       " Hire\\_Month\\_Name & Avg\\_Hires\\\\\n",
       " <fct> & <dbl>\\\\\n",
       "\\hline\n",
       "\t 1  & 840.6000\\\\\n",
       "\t 2  & 781.5000\\\\\n",
       "\t 3  & 840.2000\\\\\n",
       "\t 4  & 816.7000\\\\\n",
       "\t 5  & 849.0000\\\\\n",
       "\t 6  & 825.4000\\\\\n",
       "\t 7  & 847.7000\\\\\n",
       "\t 8  & 844.5000\\\\\n",
       "\t 9  & 754.5455\\\\\n",
       "\t 10 & 866.2000\\\\\n",
       "\t 11 & 814.0000\\\\\n",
       "\t 12 & 844.2000\\\\\n",
       "\\end{tabular}\n"
      ],
      "text/markdown": [
       "\n",
       "A data.table: 12 × 2\n",
       "\n",
       "| Hire_Month_Name &lt;fct&gt; | Avg_Hires &lt;dbl&gt; |\n",
       "|---|---|\n",
       "| 1  | 840.6000 |\n",
       "| 2  | 781.5000 |\n",
       "| 3  | 840.2000 |\n",
       "| 4  | 816.7000 |\n",
       "| 5  | 849.0000 |\n",
       "| 6  | 825.4000 |\n",
       "| 7  | 847.7000 |\n",
       "| 8  | 844.5000 |\n",
       "| 9  | 754.5455 |\n",
       "| 10 | 866.2000 |\n",
       "| 11 | 814.0000 |\n",
       "| 12 | 844.2000 |\n",
       "\n"
      ],
      "text/plain": [
       "   Hire_Month_Name Avg_Hires\n",
       "1  1               840.6000 \n",
       "2  2               781.5000 \n",
       "3  3               840.2000 \n",
       "4  4               816.7000 \n",
       "5  5               849.0000 \n",
       "6  6               825.4000 \n",
       "7  7               847.7000 \n",
       "8  8               844.5000 \n",
       "9  9               754.5455 \n",
       "10 10              866.2000 \n",
       "11 11              814.0000 \n",
       "12 12              844.2000 "
      ]
     },
     "metadata": {},
     "output_type": "display_data"
    }
   ],
   "source": [
    "# Compute the average number of hires by month\n",
    "hires_by_month <- prod_eda[,\n",
    "                           Hire_Month_Name := as.factor(Hire_Month_Name)][,\n",
    "                                                                          .(Avg_Hires = .N / uniqueN(year(Hire_Date))),\n",
    "                                                                          by = Hire_Month_Name][order(Hire_Month_Name)]\n",
    "\n",
    "# Print the results\n",
    "hires_by_month"
   ]
  },
  {
   "cell_type": "code",
   "execution_count": 83,
   "id": "e23b99ff",
   "metadata": {
    "vscode": {
     "languageId": "r"
    }
   },
   "outputs": [
    {
     "data": {
      "image/png": "[encoded data removed]",
      "text/plain": [
       "plot without title"
      ]
     },
     "metadata": {
      "image/png": {
       "height": 420,
       "width": 420
      }
     },
     "output_type": "display_data"
    }
   ],
   "source": [
    "# Plot the number of employees by month\n",
    "hires_by_month |>\n",
    "\n",
    "  ## Aesthetic mapping\n",
    "  ggplot(aes(x = Hire_Month_Name,\n",
    "             y = Avg_Hires)) +\n",
    "  \n",
    "  ## Instantiate a line plot\n",
    "  geom_col(fill = \"steelblue\") +\n",
    "  \n",
    "  ## Add text elements\n",
    "  labs(title = \"Average Number of Employees Hired by Month\",\n",
    "       x = \"Month\",\n",
    "       y = \"Average Hires\") +\n",
    "  \n",
    "  ## Adjust classic theme\n",
    "  theme_classic()"
   ]
  },
  {
   "cell_type": "markdown",
   "id": "e18b2ea0",
   "metadata": {},
   "source": [
    "The number of monthly hires is between 750 and 860.\n",
    "\n",
    "Feburary and September have the lowest average number of hires.\n",
    "\n",
    "The other months have on average over 800 hires."
   ]
  },
  {
   "cell_type": "markdown",
   "id": "63b989e7",
   "metadata": {},
   "source": [
    "### 4.3 Resignation Status"
   ]
  },
  {
   "cell_type": "code",
   "execution_count": 84,
   "id": "11073d1e",
   "metadata": {
    "vscode": {
     "languageId": "r"
    }
   },
   "outputs": [
    {
     "data": {
      "text/html": [
       "<table class=\"dataframe\">\n",
       "<caption>A data.table: 2 × 3</caption>\n",
       "<thead>\n",
       "\t<tr><th scope=col>Resigned</th><th scope=col>Count</th><th scope=col>Percent</th></tr>\n",
       "\t<tr><th scope=col>&lt;fct&gt;</th><th scope=col>&lt;int&gt;</th><th scope=col>&lt;dbl&gt;</th></tr>\n",
       "</thead>\n",
       "<tbody>\n",
       "\t<tr><td>No </td><td>89990</td><td>89.99</td></tr>\n",
       "\t<tr><td>Yes</td><td>10010</td><td>10.01</td></tr>\n",
       "</tbody>\n",
       "</table>\n"
      ],
      "text/latex": [
       "A data.table: 2 × 3\n",
       "\\begin{tabular}{lll}\n",
       " Resigned & Count & Percent\\\\\n",
       " <fct> & <int> & <dbl>\\\\\n",
       "\\hline\n",
       "\t No  & 89990 & 89.99\\\\\n",
       "\t Yes & 10010 & 10.01\\\\\n",
       "\\end{tabular}\n"
      ],
      "text/markdown": [
       "\n",
       "A data.table: 2 × 3\n",
       "\n",
       "| Resigned &lt;fct&gt; | Count &lt;int&gt; | Percent &lt;dbl&gt; |\n",
       "|---|---|---|\n",
       "| No  | 89990 | 89.99 |\n",
       "| Yes | 10010 | 10.01 |\n",
       "\n"
      ],
      "text/plain": [
       "  Resigned Count Percent\n",
       "1 No       89990 89.99  \n",
       "2 Yes      10010 10.01  "
      ]
     },
     "metadata": {},
     "output_type": "display_data"
    }
   ],
   "source": [
    "# Compute the number of employees by resignation status\n",
    "prod_eda[,\n",
    "         .(Count = .N,\n",
    "             Percent = .N / nrow(prod_eda) * 100),\n",
    "         by = Resigned]"
   ]
  },
  {
   "cell_type": "markdown",
   "id": "e7bfe529",
   "metadata": {},
   "source": [
    "The majority of the employees (around 90%) are still working for the company."
   ]
  },
  {
   "cell_type": "markdown",
   "id": "e1c007a8",
   "metadata": {},
   "source": [
    "## 5. EDA, Part 3 – Performance & Engagement"
   ]
  },
  {
   "cell_type": "markdown",
   "id": "01bbc26e",
   "metadata": {},
   "source": [
    "In this section, I will explore the variables related to performance and engagement:\n",
    "1. Performance score\n",
    "2. Monthly salary\n",
    "3. Promotions\n",
    "4. Projects handled\n",
    "5. Work hours per week\n",
    "6. Overtime hours\n",
    "7. Sick days\n",
    "8. Training hours\n",
    "9. Remote work frequency\n",
    "10. Satisfaction scores"
   ]
  },
  {
   "cell_type": "markdown",
   "id": "5601a1ef",
   "metadata": {},
   "source": [
    "### 5.1 Performance Score"
   ]
  },
  {
   "cell_type": "code",
   "execution_count": null,
   "id": "3fcc740e",
   "metadata": {
    "vscode": {
     "languageId": "r"
    }
   },
   "outputs": [],
   "source": []
  },
  {
   "cell_type": "markdown",
   "id": "f8ee4aa3",
   "metadata": {},
   "source": [
    "### 5.2 Monthly Salary"
   ]
  },
  {
   "cell_type": "code",
   "execution_count": null,
   "id": "7d89b280",
   "metadata": {
    "vscode": {
     "languageId": "r"
    }
   },
   "outputs": [],
   "source": []
  },
  {
   "cell_type": "markdown",
   "id": "a90c3ab4",
   "metadata": {},
   "source": [
    "### 5.3 Promotions"
   ]
  },
  {
   "cell_type": "code",
   "execution_count": null,
   "id": "e2ab60e7",
   "metadata": {
    "vscode": {
     "languageId": "r"
    }
   },
   "outputs": [],
   "source": []
  },
  {
   "cell_type": "markdown",
   "id": "d18bf54e",
   "metadata": {},
   "source": [
    "### 5.4 Projects Handled"
   ]
  },
  {
   "cell_type": "code",
   "execution_count": null,
   "id": "723a8728",
   "metadata": {
    "vscode": {
     "languageId": "r"
    }
   },
   "outputs": [],
   "source": []
  },
  {
   "cell_type": "markdown",
   "id": "5f1a5641",
   "metadata": {},
   "source": [
    "### 5.5 Work Hours Per Week"
   ]
  },
  {
   "cell_type": "code",
   "execution_count": null,
   "id": "e11ba9eb",
   "metadata": {
    "vscode": {
     "languageId": "r"
    }
   },
   "outputs": [],
   "source": []
  },
  {
   "cell_type": "markdown",
   "id": "904070aa",
   "metadata": {},
   "source": [
    "### 5.6 Overtime Hours"
   ]
  },
  {
   "cell_type": "code",
   "execution_count": null,
   "id": "289d9a4c",
   "metadata": {
    "vscode": {
     "languageId": "r"
    }
   },
   "outputs": [],
   "source": []
  },
  {
   "cell_type": "markdown",
   "id": "1cf7cf79",
   "metadata": {},
   "source": [
    "### 5.7 Sick Days"
   ]
  },
  {
   "cell_type": "code",
   "execution_count": null,
   "id": "d6fed285",
   "metadata": {
    "vscode": {
     "languageId": "r"
    }
   },
   "outputs": [],
   "source": []
  },
  {
   "cell_type": "markdown",
   "id": "8a71a451",
   "metadata": {},
   "source": [
    "### 5.8 Training Hours"
   ]
  },
  {
   "cell_type": "code",
   "execution_count": null,
   "id": "7203d439",
   "metadata": {
    "vscode": {
     "languageId": "r"
    }
   },
   "outputs": [],
   "source": []
  },
  {
   "cell_type": "markdown",
   "id": "73373188",
   "metadata": {},
   "source": [
    "### 5.9 Remote Work Frequency"
   ]
  },
  {
   "cell_type": "code",
   "execution_count": null,
   "id": "ca60e008",
   "metadata": {
    "vscode": {
     "languageId": "r"
    }
   },
   "outputs": [],
   "source": []
  },
  {
   "cell_type": "markdown",
   "id": "c78902c5",
   "metadata": {},
   "source": [
    "### 5.10 Satisfaction Scores"
   ]
  },
  {
   "cell_type": "code",
   "execution_count": null,
   "id": "2ef52dea",
   "metadata": {
    "vscode": {
     "languageId": "r"
    }
   },
   "outputs": [],
   "source": []
  },
  {
   "cell_type": "markdown",
   "id": "16b1339c",
   "metadata": {},
   "source": [
    "## 6. EDA, Part 4 – Potential Predictors of Performance"
   ]
  },
  {
   "cell_type": "markdown",
   "id": "f388d5ec",
   "metadata": {},
   "source": [
    "In this section, I will explore potential predictors of performance:\n",
    "1. Work hours\n",
    "2. Overtime hours\n",
    "3. Sick days\n",
    "\n",
    "4. Remote work frequency\n",
    "5. Team size\n",
    "\n",
    "6. Education level\n",
    "7. Training hours\n",
    "8. Project handled\n",
    "9. Years at company\n",
    "\n",
    "9. Age\n",
    "10. Monthly salary"
   ]
  }
 ],
 "metadata": {
  "kernelspec": {
   "display_name": "R",
   "language": "R",
   "name": "ir"
  },
  "language_info": {
   "codemirror_mode": "r",
   "file_extension": ".r",
   "mimetype": "text/x-r-source",
   "name": "R",
   "pygments_lexer": "r",
   "version": "4.4.3"
  }
 },
 "nbformat": 4,
 "nbformat_minor": 5
}
