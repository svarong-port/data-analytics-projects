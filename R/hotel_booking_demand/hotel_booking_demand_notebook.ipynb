{
 "cells": [
  {
   "cell_type": "markdown",
   "id": "273e6d12",
   "metadata": {},
   "source": [
    "## Prepared by\n",
    "\n",
    "**Author:** Shinin Varongchayakul\n",
    "\n",
    "**Date:** 05 May 2025\n",
    "\n",
    "**Language:** R"
   ]
  },
  {
   "cell_type": "markdown",
   "id": "ae8e8b5d",
   "metadata": {},
   "source": [
    "## Dataset\n",
    "\n",
    "**Name:** Hotel booking demand\n",
    "\n",
    "**Source:** https://www.kaggle.com/datasets/jessemostipak/hotel-booking-demand\n",
    "\n",
    "**Retrived Date:** 05 May 2025"
   ]
  }
 ],
 "metadata": {
  "language_info": {
   "name": "python"
  }
 },
 "nbformat": 4,
 "nbformat_minor": 5
}
