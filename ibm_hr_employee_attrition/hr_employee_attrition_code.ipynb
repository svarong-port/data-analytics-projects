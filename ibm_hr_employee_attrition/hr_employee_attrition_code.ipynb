{
 "cells": [
  {
   "cell_type": "markdown",
   "metadata": {},
   "source": [
    "# HR Employee Attrition Analysis\n",
    "\n",
    "**Author:** Shinin Varongchayakul\n",
    "\n",
    "**Date:** 17 Feb 2025"
   ]
  },
  {
   "cell_type": "markdown",
   "metadata": {},
   "source": [
    "**Language:** R\n",
    "\n",
    "**Dataset:** IBM HR Analytics Employee Attrition & Performance\n",
    "\n",
    "**From:** https://www.kaggle.com/datasets/pavansubhasht/ibm-hr-analytics-attrition-dataset"
   ]
  },
  {
   "cell_type": "markdown",
   "metadata": {},
   "source": [
    "## Business Questions\n",
    "**Q1. Attrition Risk by Department & Role**\n",
    "- We’ve been noticing an increase in employee turnover.\n",
    "- Which departments and job roles have the highest attrition rates?\n",
    "\n",
    "**Q2. Work-Life Balance & Overtime**\n",
    "- Employees have expressed concerns about work-life balance.\n",
    "- How does overtime impact attrition?\n",
    "- Are employees who work overtime more likely to leave?\n",
    "\n",
    "**Q3. Salary vs. Attrition: The Pay Gap Dilemma**\n",
    "- Do employees who earn less tend to leave more frequently?\n",
    "- What’s the average monthly income of those who stay vs. those who leave?\n",
    "- Are we paying our high-performing employees enough to retain them?\n",
    "\n",
    "**Q4. Age & Experience: Who is Most at Risk?**\n",
    "- Are younger employees leaving at a higher rate than older employees?\n",
    "- How does total working experience influence attrition?\n",
    "\n",
    "**Q5. Promotion & Career Growth Opportunities**\n",
    "- We want to ensure that employees see long-term career growth in our company.\n",
    "- How does the number of promotions (YearsSinceLastPromotion) relate to attrition?\n",
    "- Are employees with fewer promotions more likely to leave?\n",
    "\n",
    "**Q6. Job Satisfaction vs. Attrition**\n",
    "- How does job satisfaction affect attrition rates?\n",
    "- Are employees with lower satisfaction scores leaving more often?\n",
    "\n",
    "**Q7. Remote Work vs. Travel Frequency**\n",
    "- With more employees requesting remote work, does business travel influence attrition?\n",
    "- Are those who travel frequently more likely to leave?\n",
    "\n",
    "**Q8. High Performers & Attrition**\n",
    "- Are we losing our top-performing employees?\n",
    "- How does Performance Rating relate to attrition?"
   ]
  },
  {
   "cell_type": "markdown",
   "metadata": {},
   "source": [
    "## 1. Import & Load Libraries"
   ]
  },
  {
   "cell_type": "code",
   "execution_count": null,
   "metadata": {
    "vscode": {
     "languageId": "r"
    }
   },
   "outputs": [
    {
     "name": "stderr",
     "output_type": "stream",
     "text": [
      "Warning message:\n",
      "\"package 'tidyverse' is in use and will not be installed\"\n"
     ]
    },
    {
     "data": {
      "text/html": [
       "<table class=\"dataframe\">\n",
       "<caption>A matrix: 0 × 17 of type chr</caption>\n",
       "<thead>\n",
       "\t<tr><th scope=col>Package</th><th scope=col>LibPath</th><th scope=col>Version</th><th scope=col>Priority</th><th scope=col>Depends</th><th scope=col>Imports</th><th scope=col>LinkingTo</th><th scope=col>Suggests</th><th scope=col>Enhances</th><th scope=col>License</th><th scope=col>License_is_FOSS</th><th scope=col>License_restricts_use</th><th scope=col>OS_type</th><th scope=col>Archs</th><th scope=col>MD5sum</th><th scope=col>NeedsCompilation</th><th scope=col>Built</th></tr>\n",
       "</thead>\n",
       "<tbody>\n",
       "</tbody>\n",
       "</table>\n"
      ],
      "text/latex": [
       "A matrix: 0 × 17 of type chr\n",
       "\\begin{tabular}{lllllllllllllllll}\n",
       " Package & LibPath & Version & Priority & Depends & Imports & LinkingTo & Suggests & Enhances & License & License\\_is\\_FOSS & License\\_restricts\\_use & OS\\_type & Archs & MD5sum & NeedsCompilation & Built\\\\\n",
       "\\hline\n",
       "\\end{tabular}\n"
      ],
      "text/markdown": [
       "\n",
       "A matrix: 0 × 17 of type chr\n",
       "\n",
       "| Package | LibPath | Version | Priority | Depends | Imports | LinkingTo | Suggests | Enhances | License | License_is_FOSS | License_restricts_use | OS_type | Archs | MD5sum | NeedsCompilation | Built |\n",
       "|---|---|---|---|---|---|---|---|---|---|---|---|---|---|---|---|---|\n",
       "\n"
      ],
      "text/plain": [
       "     Package LibPath Version Priority Depends Imports LinkingTo Suggests\n",
       "     Enhances License License_is_FOSS License_restricts_use OS_type Archs\n",
       "     MD5sum NeedsCompilation Built"
      ]
     },
     "metadata": {},
     "output_type": "display_data"
    }
   ],
   "source": [
    "# Install\n",
    "install.packages(\"tidyverse\")"
   ]
  },
  {
   "cell_type": "code",
   "execution_count": 38,
   "metadata": {
    "vscode": {
     "languageId": "r"
    }
   },
   "outputs": [],
   "source": [
    "# Load\n",
    "library(tidyverse)"
   ]
  },
  {
   "cell_type": "markdown",
   "metadata": {},
   "source": [
    "## 2. Load the Dataset"
   ]
  },
  {
   "cell_type": "code",
   "execution_count": 40,
   "metadata": {
    "vscode": {
     "languageId": "r"
    }
   },
   "outputs": [],
   "source": [
    "# Load the dataset\n",
    "hr <- read.csv(\"hr_employee_attrition_dataset.csv\")"
   ]
  },
  {
   "cell_type": "code",
   "execution_count": 41,
   "metadata": {
    "vscode": {
     "languageId": "r"
    }
   },
   "outputs": [
    {
     "data": {
      "text/html": [
       "<table class=\"dataframe\">\n",
       "<caption>A data.frame: 6 × 35</caption>\n",
       "<thead>\n",
       "\t<tr><th></th><th scope=col>Age</th><th scope=col>Attrition</th><th scope=col>BusinessTravel</th><th scope=col>DailyRate</th><th scope=col>Department</th><th scope=col>DistanceFromHome</th><th scope=col>Education</th><th scope=col>EducationField</th><th scope=col>EmployeeCount</th><th scope=col>EmployeeNumber</th><th scope=col>⋯</th><th scope=col>RelationshipSatisfaction</th><th scope=col>StandardHours</th><th scope=col>StockOptionLevel</th><th scope=col>TotalWorkingYears</th><th scope=col>TrainingTimesLastYear</th><th scope=col>WorkLifeBalance</th><th scope=col>YearsAtCompany</th><th scope=col>YearsInCurrentRole</th><th scope=col>YearsSinceLastPromotion</th><th scope=col>YearsWithCurrManager</th></tr>\n",
       "\t<tr><th></th><th scope=col>&lt;int&gt;</th><th scope=col>&lt;chr&gt;</th><th scope=col>&lt;chr&gt;</th><th scope=col>&lt;int&gt;</th><th scope=col>&lt;chr&gt;</th><th scope=col>&lt;int&gt;</th><th scope=col>&lt;int&gt;</th><th scope=col>&lt;chr&gt;</th><th scope=col>&lt;int&gt;</th><th scope=col>&lt;int&gt;</th><th scope=col>⋯</th><th scope=col>&lt;int&gt;</th><th scope=col>&lt;int&gt;</th><th scope=col>&lt;int&gt;</th><th scope=col>&lt;int&gt;</th><th scope=col>&lt;int&gt;</th><th scope=col>&lt;int&gt;</th><th scope=col>&lt;int&gt;</th><th scope=col>&lt;int&gt;</th><th scope=col>&lt;int&gt;</th><th scope=col>&lt;int&gt;</th></tr>\n",
       "</thead>\n",
       "<tbody>\n",
       "\t<tr><th scope=row>1</th><td>41</td><td>Yes</td><td>Travel_Rarely    </td><td>1102</td><td>Sales                 </td><td>1</td><td>2</td><td>Life Sciences</td><td>1</td><td>1</td><td>⋯</td><td>1</td><td>80</td><td>0</td><td> 8</td><td>0</td><td>1</td><td> 6</td><td>4</td><td>0</td><td>5</td></tr>\n",
       "\t<tr><th scope=row>2</th><td>49</td><td>No </td><td>Travel_Frequently</td><td> 279</td><td>Research &amp; Development</td><td>8</td><td>1</td><td>Life Sciences</td><td>1</td><td>2</td><td>⋯</td><td>4</td><td>80</td><td>1</td><td>10</td><td>3</td><td>3</td><td>10</td><td>7</td><td>1</td><td>7</td></tr>\n",
       "\t<tr><th scope=row>3</th><td>37</td><td>Yes</td><td><span style=white-space:pre-wrap>Travel_Rarely    </span></td><td>1373</td><td>Research &amp; Development</td><td>2</td><td>2</td><td><span style=white-space:pre-wrap>Other        </span></td><td>1</td><td>4</td><td>⋯</td><td>2</td><td>80</td><td>0</td><td> 7</td><td>3</td><td>3</td><td> 0</td><td>0</td><td>0</td><td>0</td></tr>\n",
       "\t<tr><th scope=row>4</th><td>33</td><td>No </td><td>Travel_Frequently</td><td>1392</td><td>Research &amp; Development</td><td>3</td><td>4</td><td>Life Sciences</td><td>1</td><td>5</td><td>⋯</td><td>3</td><td>80</td><td>0</td><td> 8</td><td>3</td><td>3</td><td> 8</td><td>7</td><td>3</td><td>0</td></tr>\n",
       "\t<tr><th scope=row>5</th><td>27</td><td>No </td><td><span style=white-space:pre-wrap>Travel_Rarely    </span></td><td> 591</td><td>Research &amp; Development</td><td>2</td><td>1</td><td><span style=white-space:pre-wrap>Medical      </span></td><td>1</td><td>7</td><td>⋯</td><td>4</td><td>80</td><td>1</td><td> 6</td><td>3</td><td>3</td><td> 2</td><td>2</td><td>2</td><td>2</td></tr>\n",
       "\t<tr><th scope=row>6</th><td>32</td><td>No </td><td>Travel_Frequently</td><td>1005</td><td>Research &amp; Development</td><td>2</td><td>2</td><td>Life Sciences</td><td>1</td><td>8</td><td>⋯</td><td>3</td><td>80</td><td>0</td><td> 8</td><td>2</td><td>2</td><td> 7</td><td>7</td><td>3</td><td>6</td></tr>\n",
       "</tbody>\n",
       "</table>\n"
      ],
      "text/latex": [
       "A data.frame: 6 × 35\n",
       "\\begin{tabular}{r|lllllllllllllllllllll}\n",
       "  & Age & Attrition & BusinessTravel & DailyRate & Department & DistanceFromHome & Education & EducationField & EmployeeCount & EmployeeNumber & ⋯ & RelationshipSatisfaction & StandardHours & StockOptionLevel & TotalWorkingYears & TrainingTimesLastYear & WorkLifeBalance & YearsAtCompany & YearsInCurrentRole & YearsSinceLastPromotion & YearsWithCurrManager\\\\\n",
       "  & <int> & <chr> & <chr> & <int> & <chr> & <int> & <int> & <chr> & <int> & <int> & ⋯ & <int> & <int> & <int> & <int> & <int> & <int> & <int> & <int> & <int> & <int>\\\\\n",
       "\\hline\n",
       "\t1 & 41 & Yes & Travel\\_Rarely     & 1102 & Sales                  & 1 & 2 & Life Sciences & 1 & 1 & ⋯ & 1 & 80 & 0 &  8 & 0 & 1 &  6 & 4 & 0 & 5\\\\\n",
       "\t2 & 49 & No  & Travel\\_Frequently &  279 & Research \\& Development & 8 & 1 & Life Sciences & 1 & 2 & ⋯ & 4 & 80 & 1 & 10 & 3 & 3 & 10 & 7 & 1 & 7\\\\\n",
       "\t3 & 37 & Yes & Travel\\_Rarely     & 1373 & Research \\& Development & 2 & 2 & Other         & 1 & 4 & ⋯ & 2 & 80 & 0 &  7 & 3 & 3 &  0 & 0 & 0 & 0\\\\\n",
       "\t4 & 33 & No  & Travel\\_Frequently & 1392 & Research \\& Development & 3 & 4 & Life Sciences & 1 & 5 & ⋯ & 3 & 80 & 0 &  8 & 3 & 3 &  8 & 7 & 3 & 0\\\\\n",
       "\t5 & 27 & No  & Travel\\_Rarely     &  591 & Research \\& Development & 2 & 1 & Medical       & 1 & 7 & ⋯ & 4 & 80 & 1 &  6 & 3 & 3 &  2 & 2 & 2 & 2\\\\\n",
       "\t6 & 32 & No  & Travel\\_Frequently & 1005 & Research \\& Development & 2 & 2 & Life Sciences & 1 & 8 & ⋯ & 3 & 80 & 0 &  8 & 2 & 2 &  7 & 7 & 3 & 6\\\\\n",
       "\\end{tabular}\n"
      ],
      "text/markdown": [
       "\n",
       "A data.frame: 6 × 35\n",
       "\n",
       "| <!--/--> | Age &lt;int&gt; | Attrition &lt;chr&gt; | BusinessTravel &lt;chr&gt; | DailyRate &lt;int&gt; | Department &lt;chr&gt; | DistanceFromHome &lt;int&gt; | Education &lt;int&gt; | EducationField &lt;chr&gt; | EmployeeCount &lt;int&gt; | EmployeeNumber &lt;int&gt; | ⋯ ⋯ | RelationshipSatisfaction &lt;int&gt; | StandardHours &lt;int&gt; | StockOptionLevel &lt;int&gt; | TotalWorkingYears &lt;int&gt; | TrainingTimesLastYear &lt;int&gt; | WorkLifeBalance &lt;int&gt; | YearsAtCompany &lt;int&gt; | YearsInCurrentRole &lt;int&gt; | YearsSinceLastPromotion &lt;int&gt; | YearsWithCurrManager &lt;int&gt; |\n",
       "|---|---|---|---|---|---|---|---|---|---|---|---|---|---|---|---|---|---|---|---|---|---|\n",
       "| 1 | 41 | Yes | Travel_Rarely     | 1102 | Sales                  | 1 | 2 | Life Sciences | 1 | 1 | ⋯ | 1 | 80 | 0 |  8 | 0 | 1 |  6 | 4 | 0 | 5 |\n",
       "| 2 | 49 | No  | Travel_Frequently |  279 | Research &amp; Development | 8 | 1 | Life Sciences | 1 | 2 | ⋯ | 4 | 80 | 1 | 10 | 3 | 3 | 10 | 7 | 1 | 7 |\n",
       "| 3 | 37 | Yes | Travel_Rarely     | 1373 | Research &amp; Development | 2 | 2 | Other         | 1 | 4 | ⋯ | 2 | 80 | 0 |  7 | 3 | 3 |  0 | 0 | 0 | 0 |\n",
       "| 4 | 33 | No  | Travel_Frequently | 1392 | Research &amp; Development | 3 | 4 | Life Sciences | 1 | 5 | ⋯ | 3 | 80 | 0 |  8 | 3 | 3 |  8 | 7 | 3 | 0 |\n",
       "| 5 | 27 | No  | Travel_Rarely     |  591 | Research &amp; Development | 2 | 1 | Medical       | 1 | 7 | ⋯ | 4 | 80 | 1 |  6 | 3 | 3 |  2 | 2 | 2 | 2 |\n",
       "| 6 | 32 | No  | Travel_Frequently | 1005 | Research &amp; Development | 2 | 2 | Life Sciences | 1 | 8 | ⋯ | 3 | 80 | 0 |  8 | 2 | 2 |  7 | 7 | 3 | 6 |\n",
       "\n"
      ],
      "text/plain": [
       "  Age Attrition BusinessTravel    DailyRate Department            \n",
       "1 41  Yes       Travel_Rarely     1102      Sales                 \n",
       "2 49  No        Travel_Frequently  279      Research & Development\n",
       "3 37  Yes       Travel_Rarely     1373      Research & Development\n",
       "4 33  No        Travel_Frequently 1392      Research & Development\n",
       "5 27  No        Travel_Rarely      591      Research & Development\n",
       "6 32  No        Travel_Frequently 1005      Research & Development\n",
       "  DistanceFromHome Education EducationField EmployeeCount EmployeeNumber ⋯\n",
       "1 1                2         Life Sciences  1             1              ⋯\n",
       "2 8                1         Life Sciences  1             2              ⋯\n",
       "3 2                2         Other          1             4              ⋯\n",
       "4 3                4         Life Sciences  1             5              ⋯\n",
       "5 2                1         Medical        1             7              ⋯\n",
       "6 2                2         Life Sciences  1             8              ⋯\n",
       "  RelationshipSatisfaction StandardHours StockOptionLevel TotalWorkingYears\n",
       "1 1                        80            0                 8               \n",
       "2 4                        80            1                10               \n",
       "3 2                        80            0                 7               \n",
       "4 3                        80            0                 8               \n",
       "5 4                        80            1                 6               \n",
       "6 3                        80            0                 8               \n",
       "  TrainingTimesLastYear WorkLifeBalance YearsAtCompany YearsInCurrentRole\n",
       "1 0                     1                6             4                 \n",
       "2 3                     3               10             7                 \n",
       "3 3                     3                0             0                 \n",
       "4 3                     3                8             7                 \n",
       "5 3                     3                2             2                 \n",
       "6 2                     2                7             7                 \n",
       "  YearsSinceLastPromotion YearsWithCurrManager\n",
       "1 0                       5                   \n",
       "2 1                       7                   \n",
       "3 0                       0                   \n",
       "4 3                       0                   \n",
       "5 2                       2                   \n",
       "6 3                       6                   "
      ]
     },
     "metadata": {},
     "output_type": "display_data"
    }
   ],
   "source": [
    "# Check the result\n",
    "head(hr)"
   ]
  },
  {
   "cell_type": "code",
   "execution_count": 42,
   "metadata": {
    "vscode": {
     "languageId": "r"
    }
   },
   "outputs": [
    {
     "name": "stdout",
     "output_type": "stream",
     "text": [
      "Rows: 1,470\n",
      "Columns: 35\n",
      "$ Age                      \u001b[3m\u001b[90m<int>\u001b[39m\u001b[23m 41, 49, 37, 33, 27, 32, 59, 30, 38, 36, 35, 2…\n",
      "$ Attrition                \u001b[3m\u001b[90m<chr>\u001b[39m\u001b[23m \"Yes\", \"No\", \"Yes\", \"No\", \"No\", \"No\", \"No\", \"…\n",
      "$ BusinessTravel           \u001b[3m\u001b[90m<chr>\u001b[39m\u001b[23m \"Travel_Rarely\", \"Travel_Frequently\", \"Travel…\n",
      "$ DailyRate                \u001b[3m\u001b[90m<int>\u001b[39m\u001b[23m 1102, 279, 1373, 1392, 591, 1005, 1324, 1358,…\n",
      "$ Department               \u001b[3m\u001b[90m<chr>\u001b[39m\u001b[23m \"Sales\", \"Research & Development\", \"Research …\n",
      "$ DistanceFromHome         \u001b[3m\u001b[90m<int>\u001b[39m\u001b[23m 1, 8, 2, 3, 2, 2, 3, 24, 23, 27, 16, 15, 26, …\n",
      "$ Education                \u001b[3m\u001b[90m<int>\u001b[39m\u001b[23m 2, 1, 2, 4, 1, 2, 3, 1, 3, 3, 3, 2, 1, 2, 3, …\n",
      "$ EducationField           \u001b[3m\u001b[90m<chr>\u001b[39m\u001b[23m \"Life Sciences\", \"Life Sciences\", \"Other\", \"L…\n",
      "$ EmployeeCount            \u001b[3m\u001b[90m<int>\u001b[39m\u001b[23m 1, 1, 1, 1, 1, 1, 1, 1, 1, 1, 1, 1, 1, 1, 1, …\n",
      "$ EmployeeNumber           \u001b[3m\u001b[90m<int>\u001b[39m\u001b[23m 1, 2, 4, 5, 7, 8, 10, 11, 12, 13, 14, 15, 16,…\n",
      "$ EnvironmentSatisfaction  \u001b[3m\u001b[90m<int>\u001b[39m\u001b[23m 2, 3, 4, 4, 1, 4, 3, 4, 4, 3, 1, 4, 1, 2, 3, …\n",
      "$ Gender                   \u001b[3m\u001b[90m<chr>\u001b[39m\u001b[23m \"Female\", \"Male\", \"Male\", \"Female\", \"Male\", \"…\n",
      "$ HourlyRate               \u001b[3m\u001b[90m<int>\u001b[39m\u001b[23m 94, 61, 92, 56, 40, 79, 81, 67, 44, 94, 84, 4…\n",
      "$ JobInvolvement           \u001b[3m\u001b[90m<int>\u001b[39m\u001b[23m 3, 2, 2, 3, 3, 3, 4, 3, 2, 3, 4, 2, 3, 3, 2, …\n",
      "$ JobLevel                 \u001b[3m\u001b[90m<int>\u001b[39m\u001b[23m 2, 2, 1, 1, 1, 1, 1, 1, 3, 2, 1, 2, 1, 1, 1, …\n",
      "$ JobRole                  \u001b[3m\u001b[90m<chr>\u001b[39m\u001b[23m \"Sales Executive\", \"Research Scientist\", \"Lab…\n",
      "$ JobSatisfaction          \u001b[3m\u001b[90m<int>\u001b[39m\u001b[23m 4, 2, 3, 3, 2, 4, 1, 3, 3, 3, 2, 3, 3, 4, 3, …\n",
      "$ MaritalStatus            \u001b[3m\u001b[90m<chr>\u001b[39m\u001b[23m \"Single\", \"Married\", \"Single\", \"Married\", \"Ma…\n",
      "$ MonthlyIncome            \u001b[3m\u001b[90m<int>\u001b[39m\u001b[23m 5993, 5130, 2090, 2909, 3468, 3068, 2670, 269…\n",
      "$ MonthlyRate              \u001b[3m\u001b[90m<int>\u001b[39m\u001b[23m 19479, 24907, 2396, 23159, 16632, 11864, 9964…\n",
      "$ NumCompaniesWorked       \u001b[3m\u001b[90m<int>\u001b[39m\u001b[23m 8, 1, 6, 1, 9, 0, 4, 1, 0, 6, 0, 0, 1, 0, 5, …\n",
      "$ Over18                   \u001b[3m\u001b[90m<chr>\u001b[39m\u001b[23m \"Y\", \"Y\", \"Y\", \"Y\", \"Y\", \"Y\", \"Y\", \"Y\", \"Y\", …\n",
      "$ OverTime                 \u001b[3m\u001b[90m<chr>\u001b[39m\u001b[23m \"Yes\", \"No\", \"Yes\", \"Yes\", \"No\", \"No\", \"Yes\",…\n",
      "$ PercentSalaryHike        \u001b[3m\u001b[90m<int>\u001b[39m\u001b[23m 11, 23, 15, 11, 12, 13, 20, 22, 21, 13, 13, 1…\n",
      "$ PerformanceRating        \u001b[3m\u001b[90m<int>\u001b[39m\u001b[23m 3, 4, 3, 3, 3, 3, 4, 4, 4, 3, 3, 3, 3, 3, 3, …\n",
      "$ RelationshipSatisfaction \u001b[3m\u001b[90m<int>\u001b[39m\u001b[23m 1, 4, 2, 3, 4, 3, 1, 2, 2, 2, 3, 4, 4, 3, 2, …\n",
      "$ StandardHours            \u001b[3m\u001b[90m<int>\u001b[39m\u001b[23m 80, 80, 80, 80, 80, 80, 80, 80, 80, 80, 80, 8…\n",
      "$ StockOptionLevel         \u001b[3m\u001b[90m<int>\u001b[39m\u001b[23m 0, 1, 0, 0, 1, 0, 3, 1, 0, 2, 1, 0, 1, 1, 0, …\n",
      "$ TotalWorkingYears        \u001b[3m\u001b[90m<int>\u001b[39m\u001b[23m 8, 10, 7, 8, 6, 8, 12, 1, 10, 17, 6, 10, 5, 3…\n",
      "$ TrainingTimesLastYear    \u001b[3m\u001b[90m<int>\u001b[39m\u001b[23m 0, 3, 3, 3, 3, 2, 3, 2, 2, 3, 5, 3, 1, 2, 4, …\n",
      "$ WorkLifeBalance          \u001b[3m\u001b[90m<int>\u001b[39m\u001b[23m 1, 3, 3, 3, 3, 2, 2, 3, 3, 2, 3, 3, 2, 3, 3, …\n",
      "$ YearsAtCompany           \u001b[3m\u001b[90m<int>\u001b[39m\u001b[23m 6, 10, 0, 8, 2, 7, 1, 1, 9, 7, 5, 9, 5, 2, 4,…\n",
      "$ YearsInCurrentRole       \u001b[3m\u001b[90m<int>\u001b[39m\u001b[23m 4, 7, 0, 7, 2, 7, 0, 0, 7, 7, 4, 5, 2, 2, 2, …\n",
      "$ YearsSinceLastPromotion  \u001b[3m\u001b[90m<int>\u001b[39m\u001b[23m 0, 1, 0, 3, 2, 3, 0, 0, 1, 7, 0, 0, 4, 1, 0, …\n",
      "$ YearsWithCurrManager     \u001b[3m\u001b[90m<int>\u001b[39m\u001b[23m 5, 7, 0, 0, 2, 6, 0, 0, 8, 7, 3, 8, 3, 2, 3, …\n"
     ]
    }
   ],
   "source": [
    "# Glimpse the dataset\n",
    "glimpse(hr)"
   ]
  },
  {
   "cell_type": "markdown",
   "metadata": {},
   "source": [
    "I notice that the categorical columns need to be converted to factor."
   ]
  },
  {
   "cell_type": "markdown",
   "metadata": {},
   "source": [
    "## 3. Data Cleaning"
   ]
  },
  {
   "cell_type": "code",
   "execution_count": 43,
   "metadata": {
    "vscode": {
     "languageId": "r"
    }
   },
   "outputs": [],
   "source": [
    "# Make a copy of hr\n",
    "hr_cleaned <- data.frame(hr)"
   ]
  },
  {
   "cell_type": "markdown",
   "metadata": {},
   "source": [
    "### 3.1 Data Types"
   ]
  },
  {
   "cell_type": "code",
   "execution_count": 46,
   "metadata": {
    "vscode": {
     "languageId": "r"
    }
   },
   "outputs": [],
   "source": [
    "# Create a vector for columns to be casted as factor\n",
    "factor_cols <- c(\"Attrition\", \"BusinessTravel\",\"Department\",\n",
    "                    \"Education\", \"EducationField\", \"Gender\",\n",
    "                    \"JobLevel\", \"JobRole\", \"MaritalStatus\",\n",
    "                    \"Over18\", \"OverTime\", \"StockOptionLevel\")\n",
    "\n",
    "# Convert the columns to factor\n",
    "hr_cleaned <- hr_cleaned |>\n",
    "                mutate(across(factor_cols, as.factor))"
   ]
  },
  {
   "cell_type": "code",
   "execution_count": 49,
   "metadata": {
    "vscode": {
     "languageId": "r"
    }
   },
   "outputs": [
    {
     "name": "stdout",
     "output_type": "stream",
     "text": [
      "Rows: 1,470\n",
      "Columns: 12\n",
      "$ Attrition        \u001b[3m\u001b[90m<fct>\u001b[39m\u001b[23m Yes, No, Yes, No, No, No, No, No, No, No, No, No, No,…\n",
      "$ BusinessTravel   \u001b[3m\u001b[90m<fct>\u001b[39m\u001b[23m Travel_Rarely, Travel_Frequently, Travel_Rarely, Trav…\n",
      "$ Department       \u001b[3m\u001b[90m<fct>\u001b[39m\u001b[23m Sales, Research & Development, Research & Development…\n",
      "$ Education        \u001b[3m\u001b[90m<fct>\u001b[39m\u001b[23m 2, 1, 2, 4, 1, 2, 3, 1, 3, 3, 3, 2, 1, 2, 3, 4, 2, 2,…\n",
      "$ EducationField   \u001b[3m\u001b[90m<fct>\u001b[39m\u001b[23m Life Sciences, Life Sciences, Other, Life Sciences, M…\n",
      "$ Gender           \u001b[3m\u001b[90m<fct>\u001b[39m\u001b[23m Female, Male, Male, Female, Male, Male, Female, Male,…\n",
      "$ JobLevel         \u001b[3m\u001b[90m<fct>\u001b[39m\u001b[23m 2, 2, 1, 1, 1, 1, 1, 1, 3, 2, 1, 2, 1, 1, 1, 3, 1, 1,…\n",
      "$ JobRole          \u001b[3m\u001b[90m<fct>\u001b[39m\u001b[23m Sales Executive, Research Scientist, Laboratory Techn…\n",
      "$ MaritalStatus    \u001b[3m\u001b[90m<fct>\u001b[39m\u001b[23m Single, Married, Single, Married, Married, Single, Ma…\n",
      "$ Over18           \u001b[3m\u001b[90m<fct>\u001b[39m\u001b[23m Y, Y, Y, Y, Y, Y, Y, Y, Y, Y, Y, Y, Y, Y, Y, Y, Y, Y,…\n",
      "$ OverTime         \u001b[3m\u001b[90m<fct>\u001b[39m\u001b[23m Yes, No, Yes, Yes, No, No, Yes, No, No, No, No, Yes, …\n",
      "$ StockOptionLevel \u001b[3m\u001b[90m<fct>\u001b[39m\u001b[23m 0, 1, 0, 0, 1, 0, 3, 1, 0, 2, 1, 0, 1, 1, 0, 1, 2, 2,…\n"
     ]
    }
   ],
   "source": [
    "# Check the results\n",
    "hr_cleaned |> \n",
    "    select(factor_cols) |>\n",
    "    glimpse()"
   ]
  },
  {
   "cell_type": "markdown",
   "metadata": {},
   "source": [
    "Twelve columns have been successfully converted to factor."
   ]
  },
  {
   "cell_type": "markdown",
   "metadata": {},
   "source": [
    "### 3.2 Missing Values"
   ]
  },
  {
   "cell_type": "code",
   "execution_count": 50,
   "metadata": {
    "vscode": {
     "languageId": "r"
    }
   },
   "outputs": [
    {
     "data": {
      "text/html": [
       "FALSE"
      ],
      "text/latex": [
       "FALSE"
      ],
      "text/markdown": [
       "FALSE"
      ],
      "text/plain": [
       "[1] FALSE"
      ]
     },
     "metadata": {},
     "output_type": "display_data"
    }
   ],
   "source": [
    "# Check if there are missing values\n",
    "anyNA(hr_cleaned)"
   ]
  },
  {
   "cell_type": "markdown",
   "metadata": {},
   "source": [
    "There appears to be no missing values."
   ]
  },
  {
   "cell_type": "markdown",
   "metadata": {},
   "source": [
    "## 4. Tackling the Business Questions"
   ]
  },
  {
   "cell_type": "markdown",
   "metadata": {},
   "source": [
    "### Q1. Attrition Risk by Department & Role\n",
    "- We’ve been noticing an increase in employee turnover.\n",
    "- Which departments and job roles have the highest attrition rates?"
   ]
  },
  {
   "cell_type": "code",
   "execution_count": null,
   "metadata": {
    "vscode": {
     "languageId": "r"
    }
   },
   "outputs": [
    {
     "name": "stderr",
     "output_type": "stream",
     "text": [
      "\u001b[1m\u001b[22m`summarise()` has grouped output by 'Department'. You can override using the\n",
      "`.groups` argument.\n"
     ]
    },
    {
     "data": {
      "image/png": "[encoded data removed]",
      "text/plain": [
       "plot without title"
      ]
     },
     "metadata": {
      "image/png": {
       "height": 420,
       "width": 420
      }
     },
     "output_type": "display_data"
    }
   ],
   "source": [
    "# Check the relationship between departments and attrition\n",
    "\n",
    "## Count the number of \"Yes\" and \"No\" by `Department` and `Attrition`\n",
    "hr_cleaned |>\n",
    "    group_by(Department, Attrition) |>\n",
    "    summarise(Count = n()) |>\n",
    "    ungroup() |>\n",
    "\n",
    "    ## Create a bar plot\n",
    "    ggplot(aes(x = Department,\n",
    "                y = Count,\n",
    "                fill = Attrition)) +\n",
    "        geom_bar(stat = \"identity\", position = \"dodge\") +\n",
    "        theme_light() +\n",
    "        theme(plot.title = element_text(size = 18, face = \"bold\"),\n",
    "                axis.title = element_text(size = 14, face = \"bold\"),\n",
    "                axis.text.x = element_text(size = 12),\n",
    "                axis.text.y = element_text(size = 12),\n",
    "                legend.title = element_text(size = 14, face = \"bold\"),\n",
    "                legend.text = element_text(size = 12)) +\n",
    "        labs(title = \"Attrition Risk by Department\",\n",
    "                x = \"Departments\",\n",
    "                y = \"Number of Employees\",\n",
    "                fill = \"Attrition Status\")"
   ]
  },
  {
   "cell_type": "markdown",
   "metadata": {},
   "source": [
    "Based on the bar plot:\n",
    "- R&D has the highest attrition risk and highest retention\n",
    "- HR has the lowest attrition risk"
   ]
  }
 ],
 "metadata": {
  "kernelspec": {
   "display_name": "R",
   "language": "R",
   "name": "ir"
  },
  "language_info": {
   "codemirror_mode": "r",
   "file_extension": ".r",
   "mimetype": "text/x-r-source",
   "name": "R",
   "pygments_lexer": "r",
   "version": "4.4.2"
  }
 },
 "nbformat": 4,
 "nbformat_minor": 2
}
