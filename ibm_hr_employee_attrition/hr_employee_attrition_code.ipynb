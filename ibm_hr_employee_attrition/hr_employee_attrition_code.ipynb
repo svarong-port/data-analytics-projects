{
 "cells": [
  {
   "cell_type": "markdown",
   "id": "8d1e28ce",
   "metadata": {},
   "source": [
    "# Predicting Employee Attrition With Machine Learning in R"
   ]
  },
  {
   "cell_type": "markdown",
   "id": "1e60fb6f",
   "metadata": {},
   "source": [
    "## Prepared by\n",
    "\n",
    "Author: Shinin Varongchayakul\n",
    "\n",
    "Date: 07 Apr 2025\n",
    "\n",
    "Language: R"
   ]
  },
  {
   "cell_type": "markdown",
   "id": "6b893804",
   "metadata": {},
   "source": [
    "## Dataset\n",
    "\n",
    "Name: IBM HR Analytics Employee Attrition & Performance\n",
    "\n",
    "Source: https://www.kaggle.com/datasets/pavansubhasht/ibm-hr-analytics-attrition-dataset"
   ]
  },
  {
   "cell_type": "markdown",
   "id": "ee50163d",
   "metadata": {},
   "source": [
    "## Business Problem\n",
    "- A company was experiencing employee attrition, losing key talents, productivity, and employee engagement.\n",
    "- The company wanted to understand factors related to attrition and how to predict attrition so that they may take steps to prevent their talents from leaving."
   ]
  },
  {
   "cell_type": "markdown",
   "id": "d86d1b37",
   "metadata": {},
   "source": [
    "## Objectives of the Present Analysis\n",
    "Given the business problem, the goals of the present analysis are twofolds:\n",
    "1. Explore the pattern of attrition in related to employee and job characteristics.\n",
    "2. Build a machine learning model to predict employee attrition."
   ]
  },
  {
   "cell_type": "markdown",
   "id": "697ec4d8",
   "metadata": {},
   "source": [
    "## Analysis Steps\n",
    "1. Install and load necessary packages\n",
    "2. Prepare the dataset\n",
    "3. Exploratory data analysis (EDA)\n",
    "4. Building a predictive model\n",
    "5. Summary and recommendations"
   ]
  },
  {
   "cell_type": "markdown",
   "id": "d4658635",
   "metadata": {},
   "source": [
    "## 1. Install & Load Necessary Packages"
   ]
  },
  {
   "cell_type": "code",
   "execution_count": 84,
   "id": "86925f29",
   "metadata": {
    "vscode": {
     "languageId": "r"
    }
   },
   "outputs": [
    {
     "name": "stderr",
     "output_type": "stream",
     "text": [
      "Warning message:\n",
      "\"package 'tidyverse' is in use and will not be installed\"\n",
      "Warning message:\n",
      "\"package 'effsize' is in use and will not be installed\"\n",
      "Warning message:\n",
      "\"package 'ggcorrplot' is in use and will not be installed\"\n",
      "Warning message:\n",
      "\"package 'tidymodels' is in use and will not be installed\"\n",
      "Warning message:\n",
      "\"package 'themis' is in use and will not be installed\"\n",
      "Warning message:\n",
      "\"package 'vip' is in use and will not be installed\"\n",
      "Warning message:\n",
      "\"package 'pdp' is in use and will not be installed\"\n"
     ]
    }
   ],
   "source": [
    "# Install packages\n",
    "install.packages(\"tidyverse\") # data manipulation\n",
    "install.packages(\"effsize\") # effect size calculation\n",
    "install.packages(\"ggcorrplot\") # correlation matrix\n",
    "install.packages(\"tidymodels\") # machine learning\n",
    "install.packages(\"themis\") # upsampling technique\n",
    "install.packages(\"vip\") # feature importance in ML models\n",
    "install.packages(\"pdp\") # plotting partial dependencies"
   ]
  },
  {
   "cell_type": "code",
   "execution_count": 85,
   "id": "06f1683a",
   "metadata": {
    "vscode": {
     "languageId": "r"
    }
   },
   "outputs": [],
   "source": [
    "# Load packages\n",
    "library(tidyverse)\n",
    "library(effsize)\n",
    "library(ggcorrplot)\n",
    "library(tidymodels)\n",
    "library(themis)\n",
    "library(vip)\n",
    "library(pdp)"
   ]
  },
  {
   "cell_type": "markdown",
   "id": "8f19d5dc",
   "metadata": {},
   "source": [
    "## 2. Prepare the Dataset"
   ]
  },
  {
   "cell_type": "markdown",
   "id": "34ebfc9e",
   "metadata": {},
   "source": [
    "### 2.1 Load & Preview"
   ]
  },
  {
   "cell_type": "code",
   "execution_count": 86,
   "id": "20d6129e",
   "metadata": {
    "vscode": {
     "languageId": "r"
    }
   },
   "outputs": [],
   "source": [
    "# Load the dataset\n",
    "hr <- read.csv(\"https://raw.githubusercontent.com/svarong-port/data-analytics-projects/refs/heads/main/ibm_hr_employee_attrition/hr_employee_attrition_dataset.csv\")"
   ]
  },
  {
   "cell_type": "code",
   "execution_count": 87,
   "id": "10024e7c",
   "metadata": {
    "vscode": {
     "languageId": "r"
    }
   },
   "outputs": [
    {
     "data": {
      "text/html": [
       "<table class=\"dataframe\">\n",
       "<caption>A data.frame: 6 × 35</caption>\n",
       "<thead>\n",
       "\t<tr><th></th><th scope=col>Age</th><th scope=col>Attrition</th><th scope=col>BusinessTravel</th><th scope=col>DailyRate</th><th scope=col>Department</th><th scope=col>DistanceFromHome</th><th scope=col>Education</th><th scope=col>EducationField</th><th scope=col>EmployeeCount</th><th scope=col>EmployeeNumber</th><th scope=col>⋯</th><th scope=col>RelationshipSatisfaction</th><th scope=col>StandardHours</th><th scope=col>StockOptionLevel</th><th scope=col>TotalWorkingYears</th><th scope=col>TrainingTimesLastYear</th><th scope=col>WorkLifeBalance</th><th scope=col>YearsAtCompany</th><th scope=col>YearsInCurrentRole</th><th scope=col>YearsSinceLastPromotion</th><th scope=col>YearsWithCurrManager</th></tr>\n",
       "\t<tr><th></th><th scope=col>&lt;int&gt;</th><th scope=col>&lt;chr&gt;</th><th scope=col>&lt;chr&gt;</th><th scope=col>&lt;int&gt;</th><th scope=col>&lt;chr&gt;</th><th scope=col>&lt;int&gt;</th><th scope=col>&lt;int&gt;</th><th scope=col>&lt;chr&gt;</th><th scope=col>&lt;int&gt;</th><th scope=col>&lt;int&gt;</th><th scope=col>⋯</th><th scope=col>&lt;int&gt;</th><th scope=col>&lt;int&gt;</th><th scope=col>&lt;int&gt;</th><th scope=col>&lt;int&gt;</th><th scope=col>&lt;int&gt;</th><th scope=col>&lt;int&gt;</th><th scope=col>&lt;int&gt;</th><th scope=col>&lt;int&gt;</th><th scope=col>&lt;int&gt;</th><th scope=col>&lt;int&gt;</th></tr>\n",
       "</thead>\n",
       "<tbody>\n",
       "\t<tr><th scope=row>1</th><td>41</td><td>Yes</td><td>Travel_Rarely    </td><td>1102</td><td>Sales                 </td><td>1</td><td>2</td><td>Life Sciences</td><td>1</td><td>1</td><td>⋯</td><td>1</td><td>80</td><td>0</td><td> 8</td><td>0</td><td>1</td><td> 6</td><td>4</td><td>0</td><td>5</td></tr>\n",
       "\t<tr><th scope=row>2</th><td>49</td><td>No </td><td>Travel_Frequently</td><td> 279</td><td>Research &amp; Development</td><td>8</td><td>1</td><td>Life Sciences</td><td>1</td><td>2</td><td>⋯</td><td>4</td><td>80</td><td>1</td><td>10</td><td>3</td><td>3</td><td>10</td><td>7</td><td>1</td><td>7</td></tr>\n",
       "\t<tr><th scope=row>3</th><td>37</td><td>Yes</td><td><span style=white-space:pre-wrap>Travel_Rarely    </span></td><td>1373</td><td>Research &amp; Development</td><td>2</td><td>2</td><td><span style=white-space:pre-wrap>Other        </span></td><td>1</td><td>4</td><td>⋯</td><td>2</td><td>80</td><td>0</td><td> 7</td><td>3</td><td>3</td><td> 0</td><td>0</td><td>0</td><td>0</td></tr>\n",
       "\t<tr><th scope=row>4</th><td>33</td><td>No </td><td>Travel_Frequently</td><td>1392</td><td>Research &amp; Development</td><td>3</td><td>4</td><td>Life Sciences</td><td>1</td><td>5</td><td>⋯</td><td>3</td><td>80</td><td>0</td><td> 8</td><td>3</td><td>3</td><td> 8</td><td>7</td><td>3</td><td>0</td></tr>\n",
       "\t<tr><th scope=row>5</th><td>27</td><td>No </td><td><span style=white-space:pre-wrap>Travel_Rarely    </span></td><td> 591</td><td>Research &amp; Development</td><td>2</td><td>1</td><td><span style=white-space:pre-wrap>Medical      </span></td><td>1</td><td>7</td><td>⋯</td><td>4</td><td>80</td><td>1</td><td> 6</td><td>3</td><td>3</td><td> 2</td><td>2</td><td>2</td><td>2</td></tr>\n",
       "\t<tr><th scope=row>6</th><td>32</td><td>No </td><td>Travel_Frequently</td><td>1005</td><td>Research &amp; Development</td><td>2</td><td>2</td><td>Life Sciences</td><td>1</td><td>8</td><td>⋯</td><td>3</td><td>80</td><td>0</td><td> 8</td><td>2</td><td>2</td><td> 7</td><td>7</td><td>3</td><td>6</td></tr>\n",
       "</tbody>\n",
       "</table>\n"
      ],
      "text/latex": [
       "A data.frame: 6 × 35\n",
       "\\begin{tabular}{r|lllllllllllllllllllll}\n",
       "  & Age & Attrition & BusinessTravel & DailyRate & Department & DistanceFromHome & Education & EducationField & EmployeeCount & EmployeeNumber & ⋯ & RelationshipSatisfaction & StandardHours & StockOptionLevel & TotalWorkingYears & TrainingTimesLastYear & WorkLifeBalance & YearsAtCompany & YearsInCurrentRole & YearsSinceLastPromotion & YearsWithCurrManager\\\\\n",
       "  & <int> & <chr> & <chr> & <int> & <chr> & <int> & <int> & <chr> & <int> & <int> & ⋯ & <int> & <int> & <int> & <int> & <int> & <int> & <int> & <int> & <int> & <int>\\\\\n",
       "\\hline\n",
       "\t1 & 41 & Yes & Travel\\_Rarely     & 1102 & Sales                  & 1 & 2 & Life Sciences & 1 & 1 & ⋯ & 1 & 80 & 0 &  8 & 0 & 1 &  6 & 4 & 0 & 5\\\\\n",
       "\t2 & 49 & No  & Travel\\_Frequently &  279 & Research \\& Development & 8 & 1 & Life Sciences & 1 & 2 & ⋯ & 4 & 80 & 1 & 10 & 3 & 3 & 10 & 7 & 1 & 7\\\\\n",
       "\t3 & 37 & Yes & Travel\\_Rarely     & 1373 & Research \\& Development & 2 & 2 & Other         & 1 & 4 & ⋯ & 2 & 80 & 0 &  7 & 3 & 3 &  0 & 0 & 0 & 0\\\\\n",
       "\t4 & 33 & No  & Travel\\_Frequently & 1392 & Research \\& Development & 3 & 4 & Life Sciences & 1 & 5 & ⋯ & 3 & 80 & 0 &  8 & 3 & 3 &  8 & 7 & 3 & 0\\\\\n",
       "\t5 & 27 & No  & Travel\\_Rarely     &  591 & Research \\& Development & 2 & 1 & Medical       & 1 & 7 & ⋯ & 4 & 80 & 1 &  6 & 3 & 3 &  2 & 2 & 2 & 2\\\\\n",
       "\t6 & 32 & No  & Travel\\_Frequently & 1005 & Research \\& Development & 2 & 2 & Life Sciences & 1 & 8 & ⋯ & 3 & 80 & 0 &  8 & 2 & 2 &  7 & 7 & 3 & 6\\\\\n",
       "\\end{tabular}\n"
      ],
      "text/markdown": [
       "\n",
       "A data.frame: 6 × 35\n",
       "\n",
       "| <!--/--> | Age &lt;int&gt; | Attrition &lt;chr&gt; | BusinessTravel &lt;chr&gt; | DailyRate &lt;int&gt; | Department &lt;chr&gt; | DistanceFromHome &lt;int&gt; | Education &lt;int&gt; | EducationField &lt;chr&gt; | EmployeeCount &lt;int&gt; | EmployeeNumber &lt;int&gt; | ⋯ ⋯ | RelationshipSatisfaction &lt;int&gt; | StandardHours &lt;int&gt; | StockOptionLevel &lt;int&gt; | TotalWorkingYears &lt;int&gt; | TrainingTimesLastYear &lt;int&gt; | WorkLifeBalance &lt;int&gt; | YearsAtCompany &lt;int&gt; | YearsInCurrentRole &lt;int&gt; | YearsSinceLastPromotion &lt;int&gt; | YearsWithCurrManager &lt;int&gt; |\n",
       "|---|---|---|---|---|---|---|---|---|---|---|---|---|---|---|---|---|---|---|---|---|---|\n",
       "| 1 | 41 | Yes | Travel_Rarely     | 1102 | Sales                  | 1 | 2 | Life Sciences | 1 | 1 | ⋯ | 1 | 80 | 0 |  8 | 0 | 1 |  6 | 4 | 0 | 5 |\n",
       "| 2 | 49 | No  | Travel_Frequently |  279 | Research &amp; Development | 8 | 1 | Life Sciences | 1 | 2 | ⋯ | 4 | 80 | 1 | 10 | 3 | 3 | 10 | 7 | 1 | 7 |\n",
       "| 3 | 37 | Yes | Travel_Rarely     | 1373 | Research &amp; Development | 2 | 2 | Other         | 1 | 4 | ⋯ | 2 | 80 | 0 |  7 | 3 | 3 |  0 | 0 | 0 | 0 |\n",
       "| 4 | 33 | No  | Travel_Frequently | 1392 | Research &amp; Development | 3 | 4 | Life Sciences | 1 | 5 | ⋯ | 3 | 80 | 0 |  8 | 3 | 3 |  8 | 7 | 3 | 0 |\n",
       "| 5 | 27 | No  | Travel_Rarely     |  591 | Research &amp; Development | 2 | 1 | Medical       | 1 | 7 | ⋯ | 4 | 80 | 1 |  6 | 3 | 3 |  2 | 2 | 2 | 2 |\n",
       "| 6 | 32 | No  | Travel_Frequently | 1005 | Research &amp; Development | 2 | 2 | Life Sciences | 1 | 8 | ⋯ | 3 | 80 | 0 |  8 | 2 | 2 |  7 | 7 | 3 | 6 |\n",
       "\n"
      ],
      "text/plain": [
       "  Age Attrition BusinessTravel    DailyRate Department            \n",
       "1 41  Yes       Travel_Rarely     1102      Sales                 \n",
       "2 49  No        Travel_Frequently  279      Research & Development\n",
       "3 37  Yes       Travel_Rarely     1373      Research & Development\n",
       "4 33  No        Travel_Frequently 1392      Research & Development\n",
       "5 27  No        Travel_Rarely      591      Research & Development\n",
       "6 32  No        Travel_Frequently 1005      Research & Development\n",
       "  DistanceFromHome Education EducationField EmployeeCount EmployeeNumber ⋯\n",
       "1 1                2         Life Sciences  1             1              ⋯\n",
       "2 8                1         Life Sciences  1             2              ⋯\n",
       "3 2                2         Other          1             4              ⋯\n",
       "4 3                4         Life Sciences  1             5              ⋯\n",
       "5 2                1         Medical        1             7              ⋯\n",
       "6 2                2         Life Sciences  1             8              ⋯\n",
       "  RelationshipSatisfaction StandardHours StockOptionLevel TotalWorkingYears\n",
       "1 1                        80            0                 8               \n",
       "2 4                        80            1                10               \n",
       "3 2                        80            0                 7               \n",
       "4 3                        80            0                 8               \n",
       "5 4                        80            1                 6               \n",
       "6 3                        80            0                 8               \n",
       "  TrainingTimesLastYear WorkLifeBalance YearsAtCompany YearsInCurrentRole\n",
       "1 0                     1                6             4                 \n",
       "2 3                     3               10             7                 \n",
       "3 3                     3                0             0                 \n",
       "4 3                     3                8             7                 \n",
       "5 3                     3                2             2                 \n",
       "6 2                     2                7             7                 \n",
       "  YearsSinceLastPromotion YearsWithCurrManager\n",
       "1 0                       5                   \n",
       "2 1                       7                   \n",
       "3 0                       0                   \n",
       "4 3                       0                   \n",
       "5 2                       2                   \n",
       "6 3                       6                   "
      ]
     },
     "metadata": {},
     "output_type": "display_data"
    }
   ],
   "source": [
    "# Preview the first 6 rows\n",
    "head(hr)"
   ]
  },
  {
   "cell_type": "code",
   "execution_count": 88,
   "id": "b00265f2",
   "metadata": {
    "vscode": {
     "languageId": "r"
    }
   },
   "outputs": [
    {
     "name": "stdout",
     "output_type": "stream",
     "text": [
      "Rows: 1,470\n",
      "Columns: 35\n",
      "$ Age                      \u001b[3m\u001b[90m<int>\u001b[39m\u001b[23m 41, 49, 37, 33, 27, 32, 59, 30, 38, 36, 35, 2…\n",
      "$ Attrition                \u001b[3m\u001b[90m<chr>\u001b[39m\u001b[23m \"Yes\", \"No\", \"Yes\", \"No\", \"No\", \"No\", \"No\", \"…\n",
      "$ BusinessTravel           \u001b[3m\u001b[90m<chr>\u001b[39m\u001b[23m \"Travel_Rarely\", \"Travel_Frequently\", \"Travel…\n",
      "$ DailyRate                \u001b[3m\u001b[90m<int>\u001b[39m\u001b[23m 1102, 279, 1373, 1392, 591, 1005, 1324, 1358,…\n",
      "$ Department               \u001b[3m\u001b[90m<chr>\u001b[39m\u001b[23m \"Sales\", \"Research & Development\", \"Research …\n",
      "$ DistanceFromHome         \u001b[3m\u001b[90m<int>\u001b[39m\u001b[23m 1, 8, 2, 3, 2, 2, 3, 24, 23, 27, 16, 15, 26, …\n",
      "$ Education                \u001b[3m\u001b[90m<int>\u001b[39m\u001b[23m 2, 1, 2, 4, 1, 2, 3, 1, 3, 3, 3, 2, 1, 2, 3, …\n",
      "$ EducationField           \u001b[3m\u001b[90m<chr>\u001b[39m\u001b[23m \"Life Sciences\", \"Life Sciences\", \"Other\", \"L…\n",
      "$ EmployeeCount            \u001b[3m\u001b[90m<int>\u001b[39m\u001b[23m 1, 1, 1, 1, 1, 1, 1, 1, 1, 1, 1, 1, 1, 1, 1, …\n",
      "$ EmployeeNumber           \u001b[3m\u001b[90m<int>\u001b[39m\u001b[23m 1, 2, 4, 5, 7, 8, 10, 11, 12, 13, 14, 15, 16,…\n",
      "$ EnvironmentSatisfaction  \u001b[3m\u001b[90m<int>\u001b[39m\u001b[23m 2, 3, 4, 4, 1, 4, 3, 4, 4, 3, 1, 4, 1, 2, 3, …\n",
      "$ Gender                   \u001b[3m\u001b[90m<chr>\u001b[39m\u001b[23m \"Female\", \"Male\", \"Male\", \"Female\", \"Male\", \"…\n",
      "$ HourlyRate               \u001b[3m\u001b[90m<int>\u001b[39m\u001b[23m 94, 61, 92, 56, 40, 79, 81, 67, 44, 94, 84, 4…\n",
      "$ JobInvolvement           \u001b[3m\u001b[90m<int>\u001b[39m\u001b[23m 3, 2, 2, 3, 3, 3, 4, 3, 2, 3, 4, 2, 3, 3, 2, …\n",
      "$ JobLevel                 \u001b[3m\u001b[90m<int>\u001b[39m\u001b[23m 2, 2, 1, 1, 1, 1, 1, 1, 3, 2, 1, 2, 1, 1, 1, …\n",
      "$ JobRole                  \u001b[3m\u001b[90m<chr>\u001b[39m\u001b[23m \"Sales Executive\", \"Research Scientist\", \"Lab…\n",
      "$ JobSatisfaction          \u001b[3m\u001b[90m<int>\u001b[39m\u001b[23m 4, 2, 3, 3, 2, 4, 1, 3, 3, 3, 2, 3, 3, 4, 3, …\n",
      "$ MaritalStatus            \u001b[3m\u001b[90m<chr>\u001b[39m\u001b[23m \"Single\", \"Married\", \"Single\", \"Married\", \"Ma…\n",
      "$ MonthlyIncome            \u001b[3m\u001b[90m<int>\u001b[39m\u001b[23m 5993, 5130, 2090, 2909, 3468, 3068, 2670, 269…\n",
      "$ MonthlyRate              \u001b[3m\u001b[90m<int>\u001b[39m\u001b[23m 19479, 24907, 2396, 23159, 16632, 11864, 9964…\n",
      "$ NumCompaniesWorked       \u001b[3m\u001b[90m<int>\u001b[39m\u001b[23m 8, 1, 6, 1, 9, 0, 4, 1, 0, 6, 0, 0, 1, 0, 5, …\n",
      "$ Over18                   \u001b[3m\u001b[90m<chr>\u001b[39m\u001b[23m \"Y\", \"Y\", \"Y\", \"Y\", \"Y\", \"Y\", \"Y\", \"Y\", \"Y\", …\n",
      "$ OverTime                 \u001b[3m\u001b[90m<chr>\u001b[39m\u001b[23m \"Yes\", \"No\", \"Yes\", \"Yes\", \"No\", \"No\", \"Yes\",…\n",
      "$ PercentSalaryHike        \u001b[3m\u001b[90m<int>\u001b[39m\u001b[23m 11, 23, 15, 11, 12, 13, 20, 22, 21, 13, 13, 1…\n",
      "$ PerformanceRating        \u001b[3m\u001b[90m<int>\u001b[39m\u001b[23m 3, 4, 3, 3, 3, 3, 4, 4, 4, 3, 3, 3, 3, 3, 3, …\n",
      "$ RelationshipSatisfaction \u001b[3m\u001b[90m<int>\u001b[39m\u001b[23m 1, 4, 2, 3, 4, 3, 1, 2, 2, 2, 3, 4, 4, 3, 2, …\n",
      "$ StandardHours            \u001b[3m\u001b[90m<int>\u001b[39m\u001b[23m 80, 80, 80, 80, 80, 80, 80, 80, 80, 80, 80, 8…\n",
      "$ StockOptionLevel         \u001b[3m\u001b[90m<int>\u001b[39m\u001b[23m 0, 1, 0, 0, 1, 0, 3, 1, 0, 2, 1, 0, 1, 1, 0, …\n",
      "$ TotalWorkingYears        \u001b[3m\u001b[90m<int>\u001b[39m\u001b[23m 8, 10, 7, 8, 6, 8, 12, 1, 10, 17, 6, 10, 5, 3…\n",
      "$ TrainingTimesLastYear    \u001b[3m\u001b[90m<int>\u001b[39m\u001b[23m 0, 3, 3, 3, 3, 2, 3, 2, 2, 3, 5, 3, 1, 2, 4, …\n",
      "$ WorkLifeBalance          \u001b[3m\u001b[90m<int>\u001b[39m\u001b[23m 1, 3, 3, 3, 3, 2, 2, 3, 3, 2, 3, 3, 2, 3, 3, …\n",
      "$ YearsAtCompany           \u001b[3m\u001b[90m<int>\u001b[39m\u001b[23m 6, 10, 0, 8, 2, 7, 1, 1, 9, 7, 5, 9, 5, 2, 4,…\n",
      "$ YearsInCurrentRole       \u001b[3m\u001b[90m<int>\u001b[39m\u001b[23m 4, 7, 0, 7, 2, 7, 0, 0, 7, 7, 4, 5, 2, 2, 2, …\n",
      "$ YearsSinceLastPromotion  \u001b[3m\u001b[90m<int>\u001b[39m\u001b[23m 0, 1, 0, 3, 2, 3, 0, 0, 1, 7, 0, 0, 4, 1, 0, …\n",
      "$ YearsWithCurrManager     \u001b[3m\u001b[90m<int>\u001b[39m\u001b[23m 5, 7, 0, 0, 2, 6, 0, 0, 8, 7, 3, 8, 3, 2, 3, …\n"
     ]
    }
   ],
   "source": [
    "# View the structure\n",
    "glimpse(hr)"
   ]
  },
  {
   "cell_type": "markdown",
   "id": "efb61e29",
   "metadata": {},
   "source": [
    "### 2.2 Explore & Clean the Data"
   ]
  },
  {
   "cell_type": "code",
   "execution_count": 89,
   "id": "578375ab",
   "metadata": {
    "vscode": {
     "languageId": "r"
    }
   },
   "outputs": [
    {
     "name": "stdout",
     "output_type": "stream",
     "text": [
      "Rows: 1,470\n",
      "Columns: 35\n",
      "$ Age                      \u001b[3m\u001b[90m<int>\u001b[39m\u001b[23m 41, 49, 37, 33, 27, 32, 59, 30, 38, 36, 35, 2…\n",
      "$ Attrition                \u001b[3m\u001b[90m<fct>\u001b[39m\u001b[23m Yes, No, Yes, No, No, No, No, No, No, No, No,…\n",
      "$ BusinessTravel           \u001b[3m\u001b[90m<fct>\u001b[39m\u001b[23m Travel_Rarely, Travel_Frequently, Travel_Rare…\n",
      "$ DailyRate                \u001b[3m\u001b[90m<int>\u001b[39m\u001b[23m 1102, 279, 1373, 1392, 591, 1005, 1324, 1358,…\n",
      "$ Department               \u001b[3m\u001b[90m<fct>\u001b[39m\u001b[23m Sales, Research & Development, Research & Dev…\n",
      "$ DistanceFromHome         \u001b[3m\u001b[90m<int>\u001b[39m\u001b[23m 1, 8, 2, 3, 2, 2, 3, 24, 23, 27, 16, 15, 26, …\n",
      "$ Education                \u001b[3m\u001b[90m<fct>\u001b[39m\u001b[23m 2, 1, 2, 4, 1, 2, 3, 1, 3, 3, 3, 2, 1, 2, 3, …\n",
      "$ EducationField           \u001b[3m\u001b[90m<fct>\u001b[39m\u001b[23m Life Sciences, Life Sciences, Other, Life Sci…\n",
      "$ EmployeeCount            \u001b[3m\u001b[90m<int>\u001b[39m\u001b[23m 1, 1, 1, 1, 1, 1, 1, 1, 1, 1, 1, 1, 1, 1, 1, …\n",
      "$ EmployeeNumber           \u001b[3m\u001b[90m<int>\u001b[39m\u001b[23m 1, 2, 4, 5, 7, 8, 10, 11, 12, 13, 14, 15, 16,…\n",
      "$ EnvironmentSatisfaction  \u001b[3m\u001b[90m<int>\u001b[39m\u001b[23m 2, 3, 4, 4, 1, 4, 3, 4, 4, 3, 1, 4, 1, 2, 3, …\n",
      "$ Gender                   \u001b[3m\u001b[90m<fct>\u001b[39m\u001b[23m Female, Male, Male, Female, Male, Male, Femal…\n",
      "$ HourlyRate               \u001b[3m\u001b[90m<int>\u001b[39m\u001b[23m 94, 61, 92, 56, 40, 79, 81, 67, 44, 94, 84, 4…\n",
      "$ JobInvolvement           \u001b[3m\u001b[90m<int>\u001b[39m\u001b[23m 3, 2, 2, 3, 3, 3, 4, 3, 2, 3, 4, 2, 3, 3, 2, …\n",
      "$ JobLevel                 \u001b[3m\u001b[90m<fct>\u001b[39m\u001b[23m 2, 2, 1, 1, 1, 1, 1, 1, 3, 2, 1, 2, 1, 1, 1, …\n",
      "$ JobRole                  \u001b[3m\u001b[90m<fct>\u001b[39m\u001b[23m Sales Executive, Research Scientist, Laborato…\n",
      "$ JobSatisfaction          \u001b[3m\u001b[90m<int>\u001b[39m\u001b[23m 4, 2, 3, 3, 2, 4, 1, 3, 3, 3, 2, 3, 3, 4, 3, …\n",
      "$ MaritalStatus            \u001b[3m\u001b[90m<fct>\u001b[39m\u001b[23m Single, Married, Single, Married, Married, Si…\n",
      "$ MonthlyIncome            \u001b[3m\u001b[90m<int>\u001b[39m\u001b[23m 5993, 5130, 2090, 2909, 3468, 3068, 2670, 269…\n",
      "$ MonthlyRate              \u001b[3m\u001b[90m<int>\u001b[39m\u001b[23m 19479, 24907, 2396, 23159, 16632, 11864, 9964…\n",
      "$ NumCompaniesWorked       \u001b[3m\u001b[90m<int>\u001b[39m\u001b[23m 8, 1, 6, 1, 9, 0, 4, 1, 0, 6, 0, 0, 1, 0, 5, …\n",
      "$ Over18                   \u001b[3m\u001b[90m<fct>\u001b[39m\u001b[23m Y, Y, Y, Y, Y, Y, Y, Y, Y, Y, Y, Y, Y, Y, Y, …\n",
      "$ OverTime                 \u001b[3m\u001b[90m<fct>\u001b[39m\u001b[23m Yes, No, Yes, Yes, No, No, Yes, No, No, No, N…\n",
      "$ PercentSalaryHike        \u001b[3m\u001b[90m<int>\u001b[39m\u001b[23m 11, 23, 15, 11, 12, 13, 20, 22, 21, 13, 13, 1…\n",
      "$ PerformanceRating        \u001b[3m\u001b[90m<int>\u001b[39m\u001b[23m 3, 4, 3, 3, 3, 3, 4, 4, 4, 3, 3, 3, 3, 3, 3, …\n",
      "$ RelationshipSatisfaction \u001b[3m\u001b[90m<int>\u001b[39m\u001b[23m 1, 4, 2, 3, 4, 3, 1, 2, 2, 2, 3, 4, 4, 3, 2, …\n",
      "$ StandardHours            \u001b[3m\u001b[90m<int>\u001b[39m\u001b[23m 80, 80, 80, 80, 80, 80, 80, 80, 80, 80, 80, 8…\n",
      "$ StockOptionLevel         \u001b[3m\u001b[90m<fct>\u001b[39m\u001b[23m 0, 1, 0, 0, 1, 0, 3, 1, 0, 2, 1, 0, 1, 1, 0, …\n",
      "$ TotalWorkingYears        \u001b[3m\u001b[90m<int>\u001b[39m\u001b[23m 8, 10, 7, 8, 6, 8, 12, 1, 10, 17, 6, 10, 5, 3…\n",
      "$ TrainingTimesLastYear    \u001b[3m\u001b[90m<int>\u001b[39m\u001b[23m 0, 3, 3, 3, 3, 2, 3, 2, 2, 3, 5, 3, 1, 2, 4, …\n",
      "$ WorkLifeBalance          \u001b[3m\u001b[90m<int>\u001b[39m\u001b[23m 1, 3, 3, 3, 3, 2, 2, 3, 3, 2, 3, 3, 2, 3, 3, …\n",
      "$ YearsAtCompany           \u001b[3m\u001b[90m<int>\u001b[39m\u001b[23m 6, 10, 0, 8, 2, 7, 1, 1, 9, 7, 5, 9, 5, 2, 4,…\n",
      "$ YearsInCurrentRole       \u001b[3m\u001b[90m<int>\u001b[39m\u001b[23m 4, 7, 0, 7, 2, 7, 0, 0, 7, 7, 4, 5, 2, 2, 2, …\n",
      "$ YearsSinceLastPromotion  \u001b[3m\u001b[90m<int>\u001b[39m\u001b[23m 0, 1, 0, 3, 2, 3, 0, 0, 1, 7, 0, 0, 4, 1, 0, …\n",
      "$ YearsWithCurrManager     \u001b[3m\u001b[90m<int>\u001b[39m\u001b[23m 5, 7, 0, 0, 2, 6, 0, 0, 8, 7, 3, 8, 3, 2, 3, …\n"
     ]
    }
   ],
   "source": [
    "# Convert categorical variables to factor\n",
    "\n",
    "## Define categorical variables\n",
    "cat_vars <- c(\"Attrition\", \"BusinessTravel\", \"Department\",\n",
    "              \"Education\", \"EducationField\", \"Gender\",\n",
    "              \"JobLevel\", \"JobRole\", \"MaritalStatus\",\n",
    "              \"Over18\", \"OverTime\", \"StockOptionLevel\")\n",
    "\n",
    "## Convert to factor\n",
    "hr_cleaned <- hr |>\n",
    "  \n",
    "  ### Mutate across\n",
    "  mutate(across(all_of(cat_vars), as.factor))\n",
    "\n",
    "## Set attrition factor levels\n",
    "hr_cleaned$Attrition <- factor(hr_cleaned$Attrition,\n",
    "                               levels = c(\"Yes\", \"No\"))\n",
    "\n",
    "## Check the results\n",
    "glimpse(hr_cleaned)\n"
   ]
  },
  {
   "cell_type": "markdown",
   "id": "aad0fa60",
   "metadata": {},
   "source": [
    "Comment: The categorical columns are successfully converted to `factor`."
   ]
  },
  {
   "cell_type": "code",
   "execution_count": 90,
   "id": "fe4ecd03",
   "metadata": {
    "vscode": {
     "languageId": "r"
    }
   },
   "outputs": [
    {
     "name": "stdout",
     "output_type": "stream",
     "text": [
      "Rows: 1,470\n",
      "Columns: 32\n",
      "$ Age                      \u001b[3m\u001b[90m<int>\u001b[39m\u001b[23m 41, 49, 37, 33, 27, 32, 59, 30, 38, 36, 35, 2…\n",
      "$ Attrition                \u001b[3m\u001b[90m<fct>\u001b[39m\u001b[23m Yes, No, Yes, No, No, No, No, No, No, No, No,…\n",
      "$ BusinessTravel           \u001b[3m\u001b[90m<fct>\u001b[39m\u001b[23m Travel_Rarely, Travel_Frequently, Travel_Rare…\n",
      "$ DailyRate                \u001b[3m\u001b[90m<int>\u001b[39m\u001b[23m 1102, 279, 1373, 1392, 591, 1005, 1324, 1358,…\n",
      "$ Department               \u001b[3m\u001b[90m<fct>\u001b[39m\u001b[23m Sales, Research & Development, Research & Dev…\n",
      "$ DistanceFromHome         \u001b[3m\u001b[90m<int>\u001b[39m\u001b[23m 1, 8, 2, 3, 2, 2, 3, 24, 23, 27, 16, 15, 26, …\n",
      "$ Education                \u001b[3m\u001b[90m<fct>\u001b[39m\u001b[23m 2, 1, 2, 4, 1, 2, 3, 1, 3, 3, 3, 2, 1, 2, 3, …\n",
      "$ EducationField           \u001b[3m\u001b[90m<fct>\u001b[39m\u001b[23m Life Sciences, Life Sciences, Other, Life Sci…\n",
      "$ EnvironmentSatisfaction  \u001b[3m\u001b[90m<int>\u001b[39m\u001b[23m 2, 3, 4, 4, 1, 4, 3, 4, 4, 3, 1, 4, 1, 2, 3, …\n",
      "$ Gender                   \u001b[3m\u001b[90m<fct>\u001b[39m\u001b[23m Female, Male, Male, Female, Male, Male, Femal…\n",
      "$ HourlyRate               \u001b[3m\u001b[90m<int>\u001b[39m\u001b[23m 94, 61, 92, 56, 40, 79, 81, 67, 44, 94, 84, 4…\n",
      "$ JobInvolvement           \u001b[3m\u001b[90m<int>\u001b[39m\u001b[23m 3, 2, 2, 3, 3, 3, 4, 3, 2, 3, 4, 2, 3, 3, 2, …\n",
      "$ JobLevel                 \u001b[3m\u001b[90m<fct>\u001b[39m\u001b[23m 2, 2, 1, 1, 1, 1, 1, 1, 3, 2, 1, 2, 1, 1, 1, …\n",
      "$ JobRole                  \u001b[3m\u001b[90m<fct>\u001b[39m\u001b[23m Sales Executive, Research Scientist, Laborato…\n",
      "$ JobSatisfaction          \u001b[3m\u001b[90m<int>\u001b[39m\u001b[23m 4, 2, 3, 3, 2, 4, 1, 3, 3, 3, 2, 3, 3, 4, 3, …\n",
      "$ MaritalStatus            \u001b[3m\u001b[90m<fct>\u001b[39m\u001b[23m Single, Married, Single, Married, Married, Si…\n",
      "$ MonthlyIncome            \u001b[3m\u001b[90m<int>\u001b[39m\u001b[23m 5993, 5130, 2090, 2909, 3468, 3068, 2670, 269…\n",
      "$ MonthlyRate              \u001b[3m\u001b[90m<int>\u001b[39m\u001b[23m 19479, 24907, 2396, 23159, 16632, 11864, 9964…\n",
      "$ NumCompaniesWorked       \u001b[3m\u001b[90m<int>\u001b[39m\u001b[23m 8, 1, 6, 1, 9, 0, 4, 1, 0, 6, 0, 0, 1, 0, 5, …\n",
      "$ OverTime                 \u001b[3m\u001b[90m<fct>\u001b[39m\u001b[23m Yes, No, Yes, Yes, No, No, Yes, No, No, No, N…\n",
      "$ PercentSalaryHike        \u001b[3m\u001b[90m<int>\u001b[39m\u001b[23m 11, 23, 15, 11, 12, 13, 20, 22, 21, 13, 13, 1…\n",
      "$ PerformanceRating        \u001b[3m\u001b[90m<int>\u001b[39m\u001b[23m 3, 4, 3, 3, 3, 3, 4, 4, 4, 3, 3, 3, 3, 3, 3, …\n",
      "$ RelationshipSatisfaction \u001b[3m\u001b[90m<int>\u001b[39m\u001b[23m 1, 4, 2, 3, 4, 3, 1, 2, 2, 2, 3, 4, 4, 3, 2, …\n",
      "$ StandardHours            \u001b[3m\u001b[90m<int>\u001b[39m\u001b[23m 80, 80, 80, 80, 80, 80, 80, 80, 80, 80, 80, 8…\n",
      "$ StockOptionLevel         \u001b[3m\u001b[90m<fct>\u001b[39m\u001b[23m 0, 1, 0, 0, 1, 0, 3, 1, 0, 2, 1, 0, 1, 1, 0, …\n",
      "$ TotalWorkingYears        \u001b[3m\u001b[90m<int>\u001b[39m\u001b[23m 8, 10, 7, 8, 6, 8, 12, 1, 10, 17, 6, 10, 5, 3…\n",
      "$ TrainingTimesLastYear    \u001b[3m\u001b[90m<int>\u001b[39m\u001b[23m 0, 3, 3, 3, 3, 2, 3, 2, 2, 3, 5, 3, 1, 2, 4, …\n",
      "$ WorkLifeBalance          \u001b[3m\u001b[90m<int>\u001b[39m\u001b[23m 1, 3, 3, 3, 3, 2, 2, 3, 3, 2, 3, 3, 2, 3, 3, …\n",
      "$ YearsAtCompany           \u001b[3m\u001b[90m<int>\u001b[39m\u001b[23m 6, 10, 0, 8, 2, 7, 1, 1, 9, 7, 5, 9, 5, 2, 4,…\n",
      "$ YearsInCurrentRole       \u001b[3m\u001b[90m<int>\u001b[39m\u001b[23m 4, 7, 0, 7, 2, 7, 0, 0, 7, 7, 4, 5, 2, 2, 2, …\n",
      "$ YearsSinceLastPromotion  \u001b[3m\u001b[90m<int>\u001b[39m\u001b[23m 0, 1, 0, 3, 2, 3, 0, 0, 1, 7, 0, 0, 4, 1, 0, …\n",
      "$ YearsWithCurrManager     \u001b[3m\u001b[90m<int>\u001b[39m\u001b[23m 5, 7, 0, 0, 2, 6, 0, 0, 8, 7, 3, 8, 3, 2, 3, …\n"
     ]
    }
   ],
   "source": [
    "### Remove non-predictive variables\n",
    "hr_cleaned <- hr_cleaned |>\n",
    "  \n",
    "  #### Deselect\n",
    "  select(-EmployeeCount,\n",
    "         -EmployeeNumber,\n",
    "         -Over18)\n",
    "\n",
    "### Check the results\n",
    "glimpse(hr_cleaned)"
   ]
  },
  {
   "cell_type": "markdown",
   "id": "2cf5db32",
   "metadata": {},
   "source": [
    "Comment: `EmployeeCount`, `EmployeeNumber`, and `Over18` are successfully removed."
   ]
  },
  {
   "cell_type": "code",
   "execution_count": 91,
   "id": "f1b1267e",
   "metadata": {
    "vscode": {
     "languageId": "r"
    }
   },
   "outputs": [
    {
     "data": {
      "text/html": [
       "FALSE"
      ],
      "text/latex": [
       "FALSE"
      ],
      "text/markdown": [
       "FALSE"
      ],
      "text/plain": [
       "[1] FALSE"
      ]
     },
     "metadata": {},
     "output_type": "display_data"
    }
   ],
   "source": [
    "# Handle missing values\n",
    "\n",
    "## Check for missing values\n",
    "anyNA(hr_cleaned)"
   ]
  },
  {
   "cell_type": "markdown",
   "id": "4121046c",
   "metadata": {},
   "source": [
    "Comment: There are no missing values in this dataset."
   ]
  },
  {
   "cell_type": "code",
   "execution_count": null,
   "id": "04cf209d",
   "metadata": {
    "vscode": {
     "languageId": "r"
    }
   },
   "outputs": [
    {
     "data": {
      "text/html": [
       "<table class=\"dataframe\">\n",
       "<caption>A data.frame: 2 × 3</caption>\n",
       "<thead>\n",
       "\t<tr><th scope=col>Attrition</th><th scope=col>Count</th><th scope=col>Percent</th></tr>\n",
       "\t<tr><th scope=col>&lt;fct&gt;</th><th scope=col>&lt;int&gt;</th><th scope=col>&lt;dbl&gt;</th></tr>\n",
       "</thead>\n",
       "<tbody>\n",
       "\t<tr><td>Yes</td><td> 237</td><td>16.12</td></tr>\n",
       "\t<tr><td>No </td><td>1233</td><td>83.88</td></tr>\n",
       "</tbody>\n",
       "</table>\n"
      ],
      "text/latex": [
       "A data.frame: 2 × 3\n",
       "\\begin{tabular}{lll}\n",
       " Attrition & Count & Percent\\\\\n",
       " <fct> & <int> & <dbl>\\\\\n",
       "\\hline\n",
       "\t Yes &  237 & 16.12\\\\\n",
       "\t No  & 1233 & 83.88\\\\\n",
       "\\end{tabular}\n"
      ],
      "text/markdown": [
       "\n",
       "A data.frame: 2 × 3\n",
       "\n",
       "| Attrition &lt;fct&gt; | Count &lt;int&gt; | Percent &lt;dbl&gt; |\n",
       "|---|---|---|\n",
       "| Yes |  237 | 16.12 |\n",
       "| No  | 1233 | 83.88 |\n",
       "\n"
      ],
      "text/plain": [
       "  Attrition Count Percent\n",
       "1 Yes        237  16.12  \n",
       "2 No        1233  83.88  "
      ]
     },
     "metadata": {},
     "output_type": "display_data"
    }
   ],
   "source": [
    "# Summarise the attrition rate\n",
    "hr_cleaned |>\n",
    "  \n",
    "  ## Group and count by attrition\n",
    "  count(Attrition,\n",
    "        name = \"Count\") |>\n",
    "  \n",
    "  ## Compute percentage\n",
    "  mutate(Percent = round(Count / sum(Count) * 100, 2))"
   ]
  },
  {
   "cell_type": "markdown",
   "id": "4288e834",
   "metadata": {},
   "source": [
    "Comment: The outcome has class imbalance where the positive class makes up around 1/4 of the observations."
   ]
  },
  {
   "cell_type": "markdown",
   "id": "6121a3b1",
   "metadata": {},
   "source": [
    "# 3. Exploratory Data Analysis (EDA)"
   ]
  },
  {
   "cell_type": "markdown",
   "id": "f8942c34",
   "metadata": {},
   "source": [
    "### 3.1 Part I – Overview"
   ]
  },
  {
   "cell_type": "code",
   "execution_count": 93,
   "id": "ceda4671",
   "metadata": {
    "vscode": {
     "languageId": "r"
    }
   },
   "outputs": [
    {
     "name": "stderr",
     "output_type": "stream",
     "text": [
      "Warning message in cor(select(mutate(hr_cleaned, AttritionEncoded = if_else(Attrition == :\n",
      "\"the standard deviation is zero\"\n"
     ]
    },
    {
     "data": {
      "image/png": "[encoded data removed]",
      "text/plain": [
       "plot without title"
      ]
     },
     "metadata": {
      "image/png": {
       "height": 420,
       "width": 420
      }
     },
     "output_type": "display_data"
    }
   ],
   "source": [
    "# Get an overview of the relationships in the data\n",
    "hr_cleaned |>\n",
    "  \n",
    "  ## Encode attrition to numeric\n",
    "  mutate(AttritionEncoded = if_else(Attrition == \"Yes\", 1, 0)) |>\n",
    "  \n",
    "  ## Select only numeric variables\n",
    "  select(where(is.numeric)) |>\n",
    "  \n",
    "  ## Create a correlation matrix\n",
    "  cor(use = \"complete.obs\") |>\n",
    "  \n",
    "  ## Visualise the correlation matrix\n",
    "  ggcorrplot(lab = TRUE,\n",
    "             type = \"lower\",\n",
    "             colors = c(\"blue\", \"white\", \"red\"),\n",
    "             lab_size = 2.0)"
   ]
  },
  {
   "cell_type": "markdown",
   "id": "496a60c3",
   "metadata": {},
   "source": [
    "Comments:\n",
    "- All correlations between attrition and other variables are low (min = 0; max = -0.17).\n",
    "- This suggests that attrition may be a result of a combination of several factors rather than any single factor alone."
   ]
  },
  {
   "cell_type": "markdown",
   "id": "83df7a9a",
   "metadata": {},
   "source": [
    "### 3.2 Part II - The Three Likely Predictors"
   ]
  },
  {
   "cell_type": "markdown",
   "id": "719fbdca",
   "metadata": {},
   "source": [
    "Explore 3 factors that are likely to contribute to attrition:\n",
    "1. **Monlthy income:** Employees may leave due to insufficient financial incentive, where lower income associated with higher attrition rate.\n",
    "2. **Overtime:** Employees may leave because of workload, where those with more overtime more likely to leave.\n",
    "3. **Environment satisfaction:** Those unsatisfied with their workplace conditions may be more likely to leave."
   ]
  },
  {
   "cell_type": "markdown",
   "id": "53e8d531",
   "metadata": {},
   "source": [
    "#### 3.2.1 Factor 1 – Monthly Income"
   ]
  },
  {
   "cell_type": "code",
   "execution_count": 94,
   "id": "a044b973",
   "metadata": {
    "vscode": {
     "languageId": "r"
    }
   },
   "outputs": [
    {
     "data": {
      "image/png": "[encoded data removed]",
      "text/plain": [
       "plot without title"
      ]
     },
     "metadata": {
      "image/png": {
       "height": 420,
       "width": 420
      }
     },
     "output_type": "display_data"
    }
   ],
   "source": [
    "# 1. Monlthy income vs attrition\n",
    "hr_cleaned |>\n",
    "  \n",
    "  ## Group by attrition\n",
    "  group_by(Attrition) |>\n",
    "  \n",
    "  ## Summarise\n",
    "  summarise(AVGMonthlyIncome = mean(MonthlyIncome)) |>\n",
    "  \n",
    "  ## Ungroup\n",
    "  ungroup() |>\n",
    "  \n",
    "  ## Aesthetic mapping\n",
    "  ggplot(aes(x = Attrition,\n",
    "             y = AVGMonthlyIncome,\n",
    "             fill = Attrition)) +\n",
    "  \n",
    "  ## Call bar plot\n",
    "  geom_col() +\n",
    "  \n",
    "  ## Add text elements\n",
    "  labs(title = \"Monthly Income by Attrition\",\n",
    "       x = \"Attrition Status\",\n",
    "       y = \"Average Monthly Income\",\n",
    "       fill = \"Attrition Status\") +\n",
    "  \n",
    "  ## Adjust x scale\n",
    "  scale_x_discrete() +\n",
    "  \n",
    "  ## Change theme to classic for easy viewing\n",
    "  theme_classic()"
   ]
  },
  {
   "cell_type": "markdown",
   "id": "e47692eb",
   "metadata": {},
   "source": [
    "Comments:\n",
    "- On average, those who stayed appear to earn more than those who left.\n",
    "- This suggests that monthly income is a contributing factor to attrition."
   ]
  },
  {
   "cell_type": "code",
   "execution_count": 95,
   "id": "3a48873d",
   "metadata": {
    "vscode": {
     "languageId": "r"
    }
   },
   "outputs": [
    {
     "data": {
      "image/png": "[encoded data removed]",
      "text/plain": [
       "plot without title"
      ]
     },
     "metadata": {
      "image/png": {
       "height": 420,
       "width": 420
      }
     },
     "output_type": "display_data"
    }
   ],
   "source": [
    "# Check the distribution of monthly income\n",
    "hr_cleaned |>\n",
    "  \n",
    "  ## Aesthetic mapping\n",
    "  ggplot(aes(x = MonthlyIncome,\n",
    "             fill = Attrition)) +\n",
    "  \n",
    "  ## Call density plot\n",
    "  geom_density(alpha = 0.5) +\n",
    "  \n",
    "  ## Add text elements\n",
    "  labs(title = \"Monthly Income Distribution\",\n",
    "       x = \"Monthly Income\",\n",
    "       fill = \"Attrition Status\") +\n",
    "  \n",
    "  ## Change theme to classic for easy viewing\n",
    "  theme_classic()"
   ]
  },
  {
   "cell_type": "markdown",
   "id": "239711b4",
   "metadata": {},
   "source": [
    "Comments:\n",
    "- The distributions of both attrition groups are positively skewed.\n",
    "- There are more proportionally more people who left in the lower end of the monthly income distribution.\n",
    "- This adds further support to the earlier analysis that monthly income is a contributor of attrition."
   ]
  },
  {
   "cell_type": "markdown",
   "id": "3377411e",
   "metadata": {},
   "source": [
    "#### 3.2.2 Factor 2 – Overtime"
   ]
  },
  {
   "cell_type": "code",
   "execution_count": 96,
   "id": "bdd205be",
   "metadata": {
    "vscode": {
     "languageId": "r"
    }
   },
   "outputs": [
    {
     "data": {
      "image/png": "[encoded data removed]",
      "text/plain": [
       "plot without title"
      ]
     },
     "metadata": {
      "image/png": {
       "height": 420,
       "width": 420
      }
     },
     "output_type": "display_data"
    }
   ],
   "source": [
    "# 2. Overtime vs attrition\n",
    "hr_cleaned |>\n",
    "  \n",
    "  ## Group by overtime and attrition\n",
    "  group_by(OverTime, Attrition) |>\n",
    "  \n",
    "  ## Count the observations in each group\n",
    "  summarise(Count = n(), .groups = \"drop\") |>\n",
    "  \n",
    "  ## Group by overtime\n",
    "  group_by(OverTime) |>\n",
    "  \n",
    "  ## Compute percentage\n",
    "  mutate(Percent = Count / sum(Count) * 100) |>\n",
    "  \n",
    "  ## Ungroup\n",
    "  ungroup() |>\n",
    "  \n",
    "  ## Aesthetic mapping\n",
    "  ggplot(aes(x = OverTime,\n",
    "             y = Percent,\n",
    "             fill = Attrition)) +\n",
    "  \n",
    "  ## Call count plot\n",
    "  geom_col(position = \"dodge\") +\n",
    "  \n",
    "  ## Add text elements\n",
    "  labs(title = \"Overtime vs Attrition\",\n",
    "       x = \"Overtime\",\n",
    "       y = \"Percentage\",\n",
    "       fill = \"Attrition Status\") +\n",
    "  \n",
    "  ## Adjust x scale\n",
    "  scale_x_discrete() +\n",
    "  \n",
    "  ## Change theme to classic for easy viewing\n",
    "  theme_classic()"
   ]
  },
  {
   "cell_type": "markdown",
   "id": "bc23d034",
   "metadata": {},
   "source": [
    "Comments:\n",
    "- In both overtime conditions, there were more people who stayed than who left.\n",
    "- The attrition rate was significantly higher in the overtime condition than in the no-overtime condition.\n",
    "- Conversely, the percentage of those who stayed was higher in no-overtime condition than in the overtime condition.\n",
    "- This suggests that overtime contributes to attrition."
   ]
  },
  {
   "cell_type": "markdown",
   "id": "6355dc98",
   "metadata": {},
   "source": [
    "#### 3.2.3 Factor 3 – Environment Satisfaction"
   ]
  },
  {
   "cell_type": "code",
   "execution_count": 97,
   "id": "55f15bf8",
   "metadata": {
    "vscode": {
     "languageId": "r"
    }
   },
   "outputs": [
    {
     "data": {
      "image/png": "[encoded data removed]",
      "text/plain": [
       "plot without title"
      ]
     },
     "metadata": {
      "image/png": {
       "height": 420,
       "width": 420
      }
     },
     "output_type": "display_data"
    }
   ],
   "source": [
    "# 3. Environment satisfaction vs attrition\n",
    "hr_cleaned |>\n",
    "  \n",
    "  ## Group by attrition\n",
    "  group_by(Attrition) |>\n",
    "  \n",
    "  ## Compute mean environment satisfaction\n",
    "  summarise(AVGEnvSat = mean(EnvironmentSatisfaction)) |>\n",
    "  \n",
    "  ## Ungroup\n",
    "  ungroup() |>\n",
    "  \n",
    "  ## Aesthetic mapping\n",
    "  ggplot(aes(x = Attrition,\n",
    "             y = AVGEnvSat,\n",
    "             fill = Attrition)) +\n",
    "  \n",
    "  ## Call bar plot\n",
    "  geom_col() +\n",
    "  \n",
    "  ## Add text elements\n",
    "  labs(title = \"Environment Satisfaction vs Attrition\",\n",
    "       x = \"Attrition Status\",\n",
    "       y = \"Average Environment Satisfaction\",\n",
    "       fill = \"Attrition Status\") +\n",
    "  \n",
    "  ## Adjust x scale\n",
    "  scale_x_discrete() +\n",
    "  \n",
    "  ## Change theme to classic for easy viewing\n",
    "  theme_classic()"
   ]
  },
  {
   "cell_type": "markdown",
   "id": "f01a6130",
   "metadata": {},
   "source": [
    "Comment: It is not clear whether there is a significant difference between the attrition groups."
   ]
  },
  {
   "cell_type": "code",
   "execution_count": 98,
   "id": "9746a531",
   "metadata": {
    "vscode": {
     "languageId": "r"
    }
   },
   "outputs": [
    {
     "data": {
      "text/plain": [
       "\n",
       "\tWelch Two Sample t-test\n",
       "\n",
       "data:  EnvironmentSatisfaction by Attrition\n",
       "t = -3.7513, df = 316.62, p-value = 0.0002092\n",
       "alternative hypothesis: true difference in means between group Yes and group No is not equal to 0\n",
       "95 percent confidence interval:\n",
       " -0.468253 -0.146056\n",
       "sample estimates:\n",
       "mean in group Yes  mean in group No \n",
       "         2.464135          2.771290 \n"
      ]
     },
     "metadata": {},
     "output_type": "display_data"
    }
   ],
   "source": [
    "# Conduct an independent t-test to test the difference\n",
    "t.test(EnvironmentSatisfaction ~ Attrition, data = hr_cleaned)"
   ]
  },
  {
   "cell_type": "code",
   "execution_count": 99,
   "id": "96c9b25e",
   "metadata": {
    "vscode": {
     "languageId": "r"
    }
   },
   "outputs": [
    {
     "data": {
      "text/plain": [
       "\n",
       "Cohen's d\n",
       "\n",
       "d estimate: -0.2824158 (small)\n",
       "95 percent confidence interval:\n",
       "     lower      upper \n",
       "-0.4219167 -0.1429148 \n"
      ]
     },
     "metadata": {},
     "output_type": "display_data"
    }
   ],
   "source": [
    "# Check the effect size\n",
    "cohen.d(EnvironmentSatisfaction ~ Attrition, data = hr_cleaned)"
   ]
  },
  {
   "cell_type": "markdown",
   "id": "b25ff5c7",
   "metadata": {},
   "source": [
    "Comments:\n",
    "- While there is a statistically significant difference in environment satisfaction between the attrition groups (t = -3.75, p < .001), its magnitude is small.\n",
    "- This suggests that while environment satisfaction may play a role in attrition, its influence may not be as importance as other factors such as monthly income and overtime."
   ]
  },
  {
   "cell_type": "markdown",
   "id": "c7004f18",
   "metadata": {},
   "source": [
    "### 3.3 Part III – Attrition by Department & Job Role"
   ]
  },
  {
   "cell_type": "markdown",
   "id": "63b14eac",
   "metadata": {},
   "source": [
    "#### 3.3.1 Attrition by Department"
   ]
  },
  {
   "cell_type": "code",
   "execution_count": 100,
   "id": "b2f79c83",
   "metadata": {
    "vscode": {
     "languageId": "r"
    }
   },
   "outputs": [
    {
     "data": {
      "image/png": "[encoded data removed]",
      "text/plain": [
       "plot without title"
      ]
     },
     "metadata": {
      "image/png": {
       "height": 420,
       "width": 420
      }
     },
     "output_type": "display_data"
    }
   ],
   "source": [
    "# Attrition by department\n",
    "hr_cleaned |>\n",
    "  \n",
    "  ## Group by department and attrition\n",
    "  group_by(Department, Attrition) |>\n",
    "  \n",
    "  ## Count the number of observations\n",
    "  summarise(Count = n(), .groups = \"drop\") |>\n",
    "  \n",
    "  ## Group by department\n",
    "  group_by(Department) |>\n",
    "  \n",
    "  ## Compute percentage\n",
    "  mutate(Percent = Count / sum(Count) * 100) |>\n",
    "  \n",
    "  ## Ungroup\n",
    "  ungroup() |>\n",
    "  \n",
    "  ## Aesthetic mapping\n",
    "  ggplot(aes(x = Department,\n",
    "             y = Percent,\n",
    "             fill = Attrition)) +\n",
    "  \n",
    "  ## Call on bar plot\n",
    "  geom_col(position = \"dodge\") +\n",
    "  \n",
    "  ## Add percent text\n",
    "  geom_text(aes(label = paste(round(Percent, 0), \"%\")),\n",
    "            position = position_dodge(width = 0.9),\n",
    "            vjust = -0.5,\n",
    "            size = 3) +\n",
    "  \n",
    "  ## Add text elements\n",
    "  labs(title = \"Attrition by Department\",\n",
    "       x = \"Departments\",\n",
    "       y = \"Attrition Percentage\",\n",
    "       fill = \"Attrition Status\") +\n",
    "  \n",
    "  ## Adjust x scale\n",
    "  scale_x_discrete() +\n",
    "  \n",
    "  ## Adjust theme to classic for easy viewing\n",
    "  theme_classic()"
   ]
  },
  {
   "cell_type": "markdown",
   "id": "2bd456bf",
   "metadata": {},
   "source": [
    "Comments:\n",
    "- All departments have a similar percentage of people leaving and staying.\n",
    "- Notably, however, R&D has a lower percent of people leaving and a slightly higher percentage of people staying compared to the other departments.\n",
    "- Additionally, Sales has the highest percentage of people leaving and lowest percetage of people staying. This suggests that the attrition may have the most impact in Sales."
   ]
  },
  {
   "cell_type": "markdown",
   "id": "f814d364",
   "metadata": {},
   "source": [
    "#### 3.3.2 Attrition by Job Role"
   ]
  },
  {
   "cell_type": "code",
   "execution_count": 101,
   "id": "01b476f9",
   "metadata": {
    "vscode": {
     "languageId": "r"
    }
   },
   "outputs": [
    {
     "data": {
      "image/png": "[encoded data removed]",
      "text/plain": [
       "plot without title"
      ]
     },
     "metadata": {
      "image/png": {
       "height": 420,
       "width": 420
      }
     },
     "output_type": "display_data"
    }
   ],
   "source": [
    "# Attrition by job role\n",
    "hr_cleaned |>\n",
    "  \n",
    "  ## Group by department and attrition\n",
    "  group_by(JobRole) |>\n",
    "  \n",
    "  ## Count the number of observations\n",
    "  summarise(AttritionRate = mean(Attrition == \"Yes\") * 100) |>\n",
    "  \n",
    "  ## Ungroup\n",
    "  ungroup() |>\n",
    "  \n",
    "  ## Reorder job role levels\n",
    "  mutate(JobRole = fct_reorder(JobRole,\n",
    "                               AttritionRate,\n",
    "                               .desc = TRUE)) |>\n",
    "  \n",
    "  ## Aesthetic mapping\n",
    "  ggplot(aes(x = JobRole,\n",
    "             y = AttritionRate,\n",
    "             fill = JobRole)) +\n",
    "  \n",
    "  ## Call on bar plot\n",
    "  geom_col() +\n",
    "  \n",
    "  ## Add percent text\n",
    "  geom_text(aes(label = paste(round(AttritionRate, 0), \"%\")),\n",
    "            vjust = -0.5,\n",
    "            size = 3) +\n",
    "  \n",
    "  ## Add text elements\n",
    "  labs(title = \"Attrition Rate by Job Role\",\n",
    "       x = \"Job Roles\",\n",
    "       y = \"Attrition Rate (%)\",\n",
    "       fill = \"Job Roles\") +\n",
    "  \n",
    "  ## Adjust x scale\n",
    "  scale_x_discrete() +\n",
    "  \n",
    "  ## Adjust theme to classic for easy viewing\n",
    "  theme_classic() +\n",
    "  \n",
    "  ## Adjust text elements\n",
    "  theme(axis.text.x = element_text(angle = 45,\n",
    "                                   hjust = 1))"
   ]
  },
  {
   "cell_type": "markdown",
   "id": "fd80123d",
   "metadata": {},
   "source": [
    "Comments:\n",
    "- The Sales Rep role has the highest percentage of attrition.\n",
    "- The Research Director role has the lowest percentage of attrition.\n",
    "- Given the job role titles, employees in lower job levels appear to leave more often."
   ]
  },
  {
   "cell_type": "code",
   "execution_count": 102,
   "id": "832f76d9",
   "metadata": {
    "vscode": {
     "languageId": "r"
    }
   },
   "outputs": [
    {
     "data": {
      "image/png": "[encoded data removed]",
      "text/plain": [
       "plot without title"
      ]
     },
     "metadata": {
      "image/png": {
       "height": 420,
       "width": 420
      }
     },
     "output_type": "display_data"
    }
   ],
   "source": [
    "# Confirm whether job level is associated with attrition\n",
    "hr_cleaned |>\n",
    "  \n",
    "  ## Group by job levels\n",
    "  group_by(JobLevel) |>\n",
    "  \n",
    "  ## Compute attrition rate\n",
    "  summarise(AttritionRate = mean(Attrition == \"Yes\") * 100) |>\n",
    "  \n",
    "  ## Ungroup\n",
    "  ungroup() |>\n",
    "\n",
    "  ## Aesthetic mapping\n",
    "  ggplot(aes(x = JobLevel,\n",
    "             y = AttritionRate,\n",
    "             fill = JobLevel)) +\n",
    "  \n",
    "  ## Call on bar plot\n",
    "  geom_col() +\n",
    "  \n",
    "  ## Add percent text\n",
    "  geom_text(aes(label = paste(round(AttritionRate, 0), \"%\")),\n",
    "            vjust = -0.5,\n",
    "            size = 3) +\n",
    "  \n",
    "  ## Add text elements\n",
    "  labs(title = \"Attrition Rate by Job Level\",\n",
    "       x = \"Job Levels\",\n",
    "       y = \"Attrition Rate (%)\",\n",
    "       fill = \"Job Levels\") +\n",
    "  \n",
    "  ## Adjust x scale\n",
    "  scale_x_discrete() +\n",
    "  \n",
    "  ## Adjust theme to classic for easy viewing\n",
    "  theme_classic()"
   ]
  },
  {
   "cell_type": "markdown",
   "id": "f6d04231",
   "metadata": {},
   "source": [
    "Comments:\n",
    "- Job level 1 has the highest attrition percentage, while job levels 4 and 5 have the lowest attrition percentages.\n",
    "- This supports the earlier notion that employees in lower job levels are more likely to leave the company."
   ]
  },
  {
   "cell_type": "markdown",
   "id": "44ec0e48",
   "metadata": {},
   "source": [
    "### 3.4 Part IV – Attrition by Gender & Age"
   ]
  },
  {
   "cell_type": "markdown",
   "id": "bfb59c4b",
   "metadata": {},
   "source": [
    "#### 3.4.1 Attrition by Gender"
   ]
  },
  {
   "cell_type": "code",
   "execution_count": 103,
   "id": "0c709ed7",
   "metadata": {
    "vscode": {
     "languageId": "r"
    }
   },
   "outputs": [
    {
     "data": {
      "image/png": "[encoded data removed]",
      "text/plain": [
       "plot without title"
      ]
     },
     "metadata": {
      "image/png": {
       "height": 420,
       "width": 420
      }
     },
     "output_type": "display_data"
    }
   ],
   "source": [
    "# Gender vs attrition\n",
    "hr_cleaned |>\n",
    "  \n",
    "  ## Group by gender and attritiom\n",
    "  group_by(Gender, Attrition) |>\n",
    "  \n",
    "  ## Count the number of observations\n",
    "  summarise(Count = n(), .groups = \"drop\") |>\n",
    "  \n",
    "  ## Group by gender\n",
    "  mutate(Percent = Count / sum(Count) * 100) |>\n",
    "  \n",
    "  ## Ungroup\n",
    "  ungroup() |>\n",
    "  \n",
    "  ## Aesthetic mapping\n",
    "  ggplot(aes(x = Gender,\n",
    "             y = Percent,\n",
    "             fill = Attrition)) +\n",
    "  \n",
    "  ## Call on bar plot\n",
    "  geom_col(position = \"dodge\") +\n",
    "  \n",
    "  ## Add percent text\n",
    "  geom_text(aes(label = paste(round(Percent, 0), \"%\")),\n",
    "            position = position_dodge(width = 0.9),\n",
    "            vjust = -0.5,\n",
    "            size = 3) +\n",
    "  \n",
    "  ## Add text elements\n",
    "  labs(title = \"Attrition by Gender\",\n",
    "       x = \"Gender\",\n",
    "       y = \"Attrition Percentage\",\n",
    "       fill = \"Attrition\") +\n",
    "  \n",
    "  ## Adjust x scale\n",
    "  scale_x_discrete() +\n",
    "  \n",
    "  ### Adjust theme to classic for easy viewing\n",
    "  theme_classic()"
   ]
  },
  {
   "cell_type": "markdown",
   "id": "fd15fc71",
   "metadata": {},
   "source": [
    "Comments:\n",
    "- In both attrition conditions, there were more males than females.\n",
    "- Among both genders, more people left than stayed.\n",
    "- Since the attrition patterns are similar across genders, this variable may contribute weakly to attrition."
   ]
  },
  {
   "cell_type": "markdown",
   "id": "21e4999d",
   "metadata": {},
   "source": [
    "#### 3.4.2 Attrition by Age"
   ]
  },
  {
   "cell_type": "code",
   "execution_count": 104,
   "id": "234585ea",
   "metadata": {
    "vscode": {
     "languageId": "r"
    }
   },
   "outputs": [
    {
     "data": {
      "image/png": "[encoded data removed]",
      "text/plain": [
       "plot without title"
      ]
     },
     "metadata": {
      "image/png": {
       "height": 420,
       "width": 420
      }
     },
     "output_type": "display_data"
    }
   ],
   "source": [
    "# Age vs attrition\n",
    "\n",
    "hr_cleaned |>\n",
    "  \n",
    "  ## Aesthetic mapping\n",
    "  ggplot(aes(x = Age,\n",
    "             fill = Attrition)) +\n",
    "  \n",
    "  ## Call on density plot\n",
    "  geom_density(alpha = 0.5) +\n",
    "  \n",
    "  ## Add text elements\n",
    "  labs(title = \"Attrition by Age\",\n",
    "       x = \"Age (Years)\",\n",
    "       y = \"Employee Count\",\n",
    "       fill = \"Attrition Status\") +\n",
    "  \n",
    "  ## Adjust theme to classic for easy viewing\n",
    "  theme_classic()"
   ]
  },
  {
   "cell_type": "markdown",
   "id": "29e26bd5",
   "metadata": {},
   "source": [
    "Comments:\n",
    "- The age distributions are similar across attrition conditions.\n",
    "- The age distribution for those who stayed is more normally distributed.\n",
    "- The peaks are close together.\n",
    "- As the peak for those who left leans more towards the left, it suggests that people who left tend to be younger.\n",
    "- This suggests that age may be a worthwhile predictor of attrition."
   ]
  },
  {
   "cell_type": "markdown",
   "id": "8b9080f8",
   "metadata": {},
   "source": [
    "# 4. Building a Predictive Model"
   ]
  },
  {
   "cell_type": "markdown",
   "id": "adfe880e",
   "metadata": {},
   "source": [
    "Guiding questions for this step:\n",
    "1. Can we predict attrition?\n",
    "2. If so, what is the accuracy of the model?\n",
    "3. What are the top five predictors of attrition?"
   ]
  },
  {
   "cell_type": "markdown",
   "id": "e60034bc",
   "metadata": {},
   "source": [
    "## 4.1 Split the Data"
   ]
  },
  {
   "cell_type": "code",
   "execution_count": 105,
   "id": "32609fb4",
   "metadata": {
    "vscode": {
     "languageId": "r"
    }
   },
   "outputs": [],
   "source": [
    "# Split the data\n",
    "\n",
    "## Set seed for reproducibility\n",
    "set.seed(1853)\n",
    "\n",
    "## Define splitting index\n",
    "hr_split <- initial_split(hr_cleaned,\n",
    "                          prop = 0.8,\n",
    "                          strata = Attrition)\n",
    "\n",
    "## Create a training set\n",
    "hr_train <- training(hr_split)\n",
    "\n",
    "## Create a training set\n",
    "hr_test <- testing(hr_split)"
   ]
  },
  {
   "cell_type": "markdown",
   "id": "3dd4d979",
   "metadata": {},
   "source": [
    "## 4.2 Build a Model"
   ]
  },
  {
   "cell_type": "markdown",
   "id": "b5a4a536",
   "metadata": {},
   "source": [
    "Here, I choose to build a random forest model because of its unique balance between accuracy and explainability."
   ]
  },
  {
   "cell_type": "markdown",
   "id": "6095a886",
   "metadata": {},
   "source": [
    "### 4.2.1 Tune the Model"
   ]
  },
  {
   "cell_type": "code",
   "execution_count": 106,
   "id": "2703466d",
   "metadata": {
    "vscode": {
     "languageId": "r"
    }
   },
   "outputs": [],
   "source": [
    "# Instantiate a random forest model\n",
    "rf_model <- rand_forest(mtry = tune(),\n",
    "                        min_n = tune(),\n",
    "                        trees = 500) |>\n",
    "  \n",
    "  ## Set engine\n",
    "  set_engine(\"ranger\",\n",
    "             importance = \"permutation\") |>\n",
    "  \n",
    "  ## Set mode\n",
    "  set_mode(\"classification\")"
   ]
  },
  {
   "cell_type": "code",
   "execution_count": 107,
   "id": "9658d3a3",
   "metadata": {
    "vscode": {
     "languageId": "r"
    }
   },
   "outputs": [],
   "source": [
    "# Create a model recipe\n",
    "rf_rec <- recipe(Attrition ~ .,\n",
    "                 data = hr_train) |>\n",
    "  \n",
    "  ## Remove near-zero variance predictors\n",
    "  step_nzv(all_numeric_predictors()) |>\n",
    "  \n",
    "  ## handle multicollinearity\n",
    "  step_corr(all_numeric_predictors(),\n",
    "            threshold = 0.7) |>\n",
    "  \n",
    "  ## Dummy encode categorical predictors\n",
    "  step_dummy(all_nominal_predictors()) |>\n",
    "  \n",
    "  ## Normalise numeric predictors\n",
    "  step_normalize(all_numeric_predictors())"
   ]
  },
  {
   "cell_type": "code",
   "execution_count": 108,
   "id": "fe8b767d",
   "metadata": {
    "vscode": {
     "languageId": "r"
    }
   },
   "outputs": [],
   "source": [
    "# Bundle model and recipe\n",
    "rf_wfl <- workflow() |>\n",
    "  \n",
    "  ## Add model\n",
    "  add_model(rf_model) |>\n",
    "  \n",
    "  ## Add recipe\n",
    "  add_recipe(rf_rec)"
   ]
  },
  {
   "cell_type": "code",
   "execution_count": 109,
   "id": "dad60664",
   "metadata": {
    "vscode": {
     "languageId": "r"
    }
   },
   "outputs": [],
   "source": [
    "# Define cross-validation\n",
    "\n",
    "## Set seed for reproducibility\n",
    "set.seed(1853)\n",
    "\n",
    "## Set CV\n",
    "rf_cv <- vfold_cv(hr_train,\n",
    "                  v = 10,\n",
    "                  strata = Attrition)"
   ]
  },
  {
   "cell_type": "code",
   "execution_count": 110,
   "id": "82249166",
   "metadata": {
    "vscode": {
     "languageId": "r"
    }
   },
   "outputs": [],
   "source": [
    "# Define tune grid\n",
    "\n",
    "## Set seed for reproducibility\n",
    "set.seed(1853)\n",
    "\n",
    "### Define the grid\n",
    "rf_grid <- grid_random(mtry(range = c(5, 10)),\n",
    "                       min_n(range = c(1, 25)),\n",
    "                       size = 30)"
   ]
  },
  {
   "cell_type": "code",
   "execution_count": 111,
   "id": "1c703739",
   "metadata": {
    "vscode": {
     "languageId": "r"
    }
   },
   "outputs": [],
   "source": [
    "# Define tune metrics\n",
    "rf_metrics <- metric_set(accuracy,\n",
    "                         recall,\n",
    "                         precision,\n",
    "                         roc_auc)"
   ]
  },
  {
   "cell_type": "code",
   "execution_count": 112,
   "id": "d906319a",
   "metadata": {
    "vscode": {
     "languageId": "r"
    }
   },
   "outputs": [
    {
     "name": "stderr",
     "output_type": "stream",
     "text": [
      "→ \u001b[33m\u001b[1mA\u001b[22m\u001b[39m | \u001b[33mwarning\u001b[39m: \u001b[1m\u001b[22mWhile computing binary `precision()`, no predicted events were detected (i.e.\n",
      "               `true_positive + false_positive = 0`).\n",
      "               Precision is undefined in this case, and `NA` will be returned.\n",
      "               Note that 19 true event(s) actually occurred for the problematic event level,\n",
      "               Yes\n",
      "\n",
      "There were issues with some computations   \u001b[1m\u001b[33mA\u001b[39m\u001b[22m: x1\n",
      "\n",
      "There were issues with some computations   \u001b[1m\u001b[33mA\u001b[39m\u001b[22m: x1\n",
      "\n",
      "\n",
      "\n"
     ]
    },
    {
     "data": {
      "text/plain": [
       "   user  system elapsed \n",
       "  99.37    1.64  289.52 "
      ]
     },
     "metadata": {},
     "output_type": "display_data"
    }
   ],
   "source": [
    "# Tune the model\n",
    "\n",
    "## Set seed for reproducibility\n",
    "set.seed(1853)\n",
    "\n",
    "## Tune\n",
    "system.time({rf_tune <- tune_grid(rf_wfl,\n",
    "                                  resamples = rf_cv,\n",
    "                                  grid = rf_grid,\n",
    "                                  metrics = rf_metrics)})"
   ]
  },
  {
   "cell_type": "markdown",
   "id": "81a8dcd8",
   "metadata": {},
   "source": [
    "### 4.2.2 Finalise the Model"
   ]
  },
  {
   "cell_type": "markdown",
   "id": "276c86bb",
   "metadata": {},
   "source": [
    "I will choose the best combination of hyperparameters based on recall, as we are working with an imbalanced dataset, where correctly identifying the positive class is more important than avoiding false positives."
   ]
  },
  {
   "cell_type": "code",
   "execution_count": 113,
   "id": "32eafc51",
   "metadata": {
    "vscode": {
     "languageId": "r"
    }
   },
   "outputs": [],
   "source": [
    "# Select the best hyperparametres\n",
    "rf_best_hp <- select_best(rf_tune,\n",
    "                          metric = \"recall\")\n",
    "\n",
    "# Apply the best hyperparametres\n",
    "rf_wfl_final <- finalize_workflow(rf_wfl,\n",
    "                                  rf_best_hp)"
   ]
  },
  {
   "cell_type": "code",
   "execution_count": 114,
   "id": "abfa205b",
   "metadata": {
    "vscode": {
     "languageId": "r"
    }
   },
   "outputs": [],
   "source": [
    "# Fit the model\n",
    "rf_wkl_fit <- last_fit(rf_wfl_final,\n",
    "                       split = hr_split,\n",
    "                       metrics = rf_metrics)"
   ]
  },
  {
   "cell_type": "markdown",
   "id": "9b9a71b1",
   "metadata": {},
   "source": [
    "### 4.2.3 Evaluate the Model Performance"
   ]
  },
  {
   "cell_type": "code",
   "execution_count": 115,
   "id": "09cbe450",
   "metadata": {
    "vscode": {
     "languageId": "r"
    }
   },
   "outputs": [
    {
     "data": {
      "text/html": [
       "<table class=\"dataframe\">\n",
       "<caption>A tibble: 6 × 7</caption>\n",
       "<thead>\n",
       "\t<tr><th scope=col>.pred_class</th><th scope=col>.pred_Yes</th><th scope=col>.pred_No</th><th scope=col>id</th><th scope=col>.row</th><th scope=col>Attrition</th><th scope=col>.config</th></tr>\n",
       "\t<tr><th scope=col>&lt;fct&gt;</th><th scope=col>&lt;dbl&gt;</th><th scope=col>&lt;dbl&gt;</th><th scope=col>&lt;chr&gt;</th><th scope=col>&lt;int&gt;</th><th scope=col>&lt;fct&gt;</th><th scope=col>&lt;chr&gt;</th></tr>\n",
       "</thead>\n",
       "<tbody>\n",
       "\t<tr><td>No</td><td>0.31360476</td><td>0.6863952</td><td>train/test split</td><td> 1</td><td>Yes</td><td>Preprocessor1_Model1</td></tr>\n",
       "\t<tr><td>No</td><td>0.22981429</td><td>0.7701857</td><td>train/test split</td><td> 5</td><td>No </td><td>Preprocessor1_Model1</td></tr>\n",
       "\t<tr><td>No</td><td>0.09338571</td><td>0.9066143</td><td>train/test split</td><td>10</td><td>No </td><td>Preprocessor1_Model1</td></tr>\n",
       "\t<tr><td>No</td><td>0.15583810</td><td>0.8441619</td><td>train/test split</td><td>22</td><td>Yes</td><td>Preprocessor1_Model1</td></tr>\n",
       "\t<tr><td>No</td><td>0.36792689</td><td>0.6320731</td><td>train/test split</td><td>24</td><td>No </td><td>Preprocessor1_Model1</td></tr>\n",
       "\t<tr><td>No</td><td>0.03867143</td><td>0.9613286</td><td>train/test split</td><td>28</td><td>No </td><td>Preprocessor1_Model1</td></tr>\n",
       "</tbody>\n",
       "</table>\n"
      ],
      "text/latex": [
       "A tibble: 6 × 7\n",
       "\\begin{tabular}{lllllll}\n",
       " .pred\\_class & .pred\\_Yes & .pred\\_No & id & .row & Attrition & .config\\\\\n",
       " <fct> & <dbl> & <dbl> & <chr> & <int> & <fct> & <chr>\\\\\n",
       "\\hline\n",
       "\t No & 0.31360476 & 0.6863952 & train/test split &  1 & Yes & Preprocessor1\\_Model1\\\\\n",
       "\t No & 0.22981429 & 0.7701857 & train/test split &  5 & No  & Preprocessor1\\_Model1\\\\\n",
       "\t No & 0.09338571 & 0.9066143 & train/test split & 10 & No  & Preprocessor1\\_Model1\\\\\n",
       "\t No & 0.15583810 & 0.8441619 & train/test split & 22 & Yes & Preprocessor1\\_Model1\\\\\n",
       "\t No & 0.36792689 & 0.6320731 & train/test split & 24 & No  & Preprocessor1\\_Model1\\\\\n",
       "\t No & 0.03867143 & 0.9613286 & train/test split & 28 & No  & Preprocessor1\\_Model1\\\\\n",
       "\\end{tabular}\n"
      ],
      "text/markdown": [
       "\n",
       "A tibble: 6 × 7\n",
       "\n",
       "| .pred_class &lt;fct&gt; | .pred_Yes &lt;dbl&gt; | .pred_No &lt;dbl&gt; | id &lt;chr&gt; | .row &lt;int&gt; | Attrition &lt;fct&gt; | .config &lt;chr&gt; |\n",
       "|---|---|---|---|---|---|---|\n",
       "| No | 0.31360476 | 0.6863952 | train/test split |  1 | Yes | Preprocessor1_Model1 |\n",
       "| No | 0.22981429 | 0.7701857 | train/test split |  5 | No  | Preprocessor1_Model1 |\n",
       "| No | 0.09338571 | 0.9066143 | train/test split | 10 | No  | Preprocessor1_Model1 |\n",
       "| No | 0.15583810 | 0.8441619 | train/test split | 22 | Yes | Preprocessor1_Model1 |\n",
       "| No | 0.36792689 | 0.6320731 | train/test split | 24 | No  | Preprocessor1_Model1 |\n",
       "| No | 0.03867143 | 0.9613286 | train/test split | 28 | No  | Preprocessor1_Model1 |\n",
       "\n"
      ],
      "text/plain": [
       "  .pred_class .pred_Yes  .pred_No  id               .row Attrition\n",
       "1 No          0.31360476 0.6863952 train/test split  1   Yes      \n",
       "2 No          0.22981429 0.7701857 train/test split  5   No       \n",
       "3 No          0.09338571 0.9066143 train/test split 10   No       \n",
       "4 No          0.15583810 0.8441619 train/test split 22   Yes      \n",
       "5 No          0.36792689 0.6320731 train/test split 24   No       \n",
       "6 No          0.03867143 0.9613286 train/test split 28   No       \n",
       "  .config             \n",
       "1 Preprocessor1_Model1\n",
       "2 Preprocessor1_Model1\n",
       "3 Preprocessor1_Model1\n",
       "4 Preprocessor1_Model1\n",
       "5 Preprocessor1_Model1\n",
       "6 Preprocessor1_Model1"
      ]
     },
     "metadata": {},
     "output_type": "display_data"
    }
   ],
   "source": [
    "# Collect predictions\n",
    "rf_predictions <- collect_predictions(rf_wkl_fit)\n",
    "\n",
    "# Print predictions\n",
    "head(rf_predictions)"
   ]
  },
  {
   "cell_type": "code",
   "execution_count": 116,
   "id": "949dba46",
   "metadata": {
    "vscode": {
     "languageId": "r"
    }
   },
   "outputs": [
    {
     "data": {
      "text/plain": [
       "          Truth\n",
       "Prediction Yes  No\n",
       "       Yes   3   2\n",
       "       No   45 245"
      ]
     },
     "metadata": {},
     "output_type": "display_data"
    }
   ],
   "source": [
    "# Create a confusion matrix\n",
    "rf_conf_mat <- conf_mat(rf_predictions,\n",
    "                        truth = Attrition,\n",
    "                        estimate = .pred_class)\n",
    "\n",
    "# Print the confusion matrix\n",
    "rf_conf_mat"
   ]
  },
  {
   "cell_type": "code",
   "execution_count": 117,
   "id": "1b3a7f0a",
   "metadata": {
    "vscode": {
     "languageId": "r"
    }
   },
   "outputs": [
    {
     "data": {
      "text/html": [
       "<table class=\"dataframe\">\n",
       "<caption>A tibble: 4 × 4</caption>\n",
       "<thead>\n",
       "\t<tr><th scope=col>.metric</th><th scope=col>.estimator</th><th scope=col>.estimate</th><th scope=col>.config</th></tr>\n",
       "\t<tr><th scope=col>&lt;chr&gt;</th><th scope=col>&lt;chr&gt;</th><th scope=col>&lt;dbl&gt;</th><th scope=col>&lt;chr&gt;</th></tr>\n",
       "</thead>\n",
       "<tbody>\n",
       "\t<tr><td>accuracy </td><td>binary</td><td>0.8406780</td><td>Preprocessor1_Model1</td></tr>\n",
       "\t<tr><td>recall   </td><td>binary</td><td>0.0625000</td><td>Preprocessor1_Model1</td></tr>\n",
       "\t<tr><td>precision</td><td>binary</td><td>0.6000000</td><td>Preprocessor1_Model1</td></tr>\n",
       "\t<tr><td>roc_auc  </td><td>binary</td><td>0.7837382</td><td>Preprocessor1_Model1</td></tr>\n",
       "</tbody>\n",
       "</table>\n"
      ],
      "text/latex": [
       "A tibble: 4 × 4\n",
       "\\begin{tabular}{llll}\n",
       " .metric & .estimator & .estimate & .config\\\\\n",
       " <chr> & <chr> & <dbl> & <chr>\\\\\n",
       "\\hline\n",
       "\t accuracy  & binary & 0.8406780 & Preprocessor1\\_Model1\\\\\n",
       "\t recall    & binary & 0.0625000 & Preprocessor1\\_Model1\\\\\n",
       "\t precision & binary & 0.6000000 & Preprocessor1\\_Model1\\\\\n",
       "\t roc\\_auc   & binary & 0.7837382 & Preprocessor1\\_Model1\\\\\n",
       "\\end{tabular}\n"
      ],
      "text/markdown": [
       "\n",
       "A tibble: 4 × 4\n",
       "\n",
       "| .metric &lt;chr&gt; | .estimator &lt;chr&gt; | .estimate &lt;dbl&gt; | .config &lt;chr&gt; |\n",
       "|---|---|---|---|\n",
       "| accuracy  | binary | 0.8406780 | Preprocessor1_Model1 |\n",
       "| recall    | binary | 0.0625000 | Preprocessor1_Model1 |\n",
       "| precision | binary | 0.6000000 | Preprocessor1_Model1 |\n",
       "| roc_auc   | binary | 0.7837382 | Preprocessor1_Model1 |\n",
       "\n"
      ],
      "text/plain": [
       "  .metric   .estimator .estimate .config             \n",
       "1 accuracy  binary     0.8406780 Preprocessor1_Model1\n",
       "2 recall    binary     0.0625000 Preprocessor1_Model1\n",
       "3 precision binary     0.6000000 Preprocessor1_Model1\n",
       "4 roc_auc   binary     0.7837382 Preprocessor1_Model1"
      ]
     },
     "metadata": {},
     "output_type": "display_data"
    }
   ],
   "source": [
    "# Collect metrics\n",
    "rf_perf_results <- collect_metrics(rf_wkl_fit)\n",
    "\n",
    "# Print metrics\n",
    "rf_perf_results"
   ]
  },
  {
   "cell_type": "markdown",
   "id": "46df906a",
   "metadata": {},
   "source": [
    "Comments:\n",
    "- While this initial model shows relatively high accuracy (84%), its recall is extremely poor (6%).\n",
    "- This suggests that the model is very adept at correctly identifying people who are staying but performs poorly when it comes to identifying people who are leaving.\n",
    "- This is clearly shown in the confusion matrix, where, when predicting with the negative class, the model correctly classified 245 out of 247 cases. In contrast, the model correctly identified only 3 out of 48 positive class instances.\n",
    "- Next, I will try to improve the model by using an upsampling method when tuning and training the model."
   ]
  },
  {
   "cell_type": "markdown",
   "id": "fda2e7e1",
   "metadata": {},
   "source": [
    "## 4.3 Retrain the Model"
   ]
  },
  {
   "cell_type": "markdown",
   "id": "69b0604b",
   "metadata": {},
   "source": [
    "### 4.3.1 Tune the Model"
   ]
  },
  {
   "cell_type": "code",
   "execution_count": 118,
   "id": "2f7dfdaf",
   "metadata": {
    "vscode": {
     "languageId": "r"
    }
   },
   "outputs": [],
   "source": [
    "# Instantiate a random forest model\n",
    "rf_model_1 <- rand_forest(mtry = tune(),\n",
    "                          min_n = tune(),\n",
    "                          trees = 500) |>\n",
    "  \n",
    "  ## Set engine\n",
    "  set_engine(\"ranger\",\n",
    "             importance = \"permutation\") |>\n",
    "  \n",
    "  ## Set mode\n",
    "  set_mode(\"classification\")"
   ]
  },
  {
   "cell_type": "code",
   "execution_count": 119,
   "id": "3e78a894",
   "metadata": {
    "vscode": {
     "languageId": "r"
    }
   },
   "outputs": [],
   "source": [
    "# Create the recipe\n",
    "\n",
    "## Set seed for reproducibility\n",
    "set.seed(1853)\n",
    "\n",
    "## Create the recipe\n",
    "rf_rec_1 <- recipe(Attrition ~ .,\n",
    "                   data = hr_train) |>\n",
    "  \n",
    "  ### Remove near-zero variance predictors\n",
    "  step_nzv(all_numeric_predictors()) |>\n",
    "  \n",
    "  ### handle multicollinearity\n",
    "  step_corr(all_numeric_predictors(),\n",
    "            threshold = 0.7) |>\n",
    "  \n",
    "  ### Dummy encode categorical predictors\n",
    "  step_dummy(all_nominal_predictors()) |>\n",
    "  \n",
    "  ### Normalise numeric predictors\n",
    "  step_normalize(all_numeric_predictors()) |>\n",
    "  \n",
    "  ### Oversample the outcome\n",
    "  step_upsample(Attrition)"
   ]
  },
  {
   "cell_type": "code",
   "execution_count": 120,
   "id": "b4764a41",
   "metadata": {
    "vscode": {
     "languageId": "r"
    }
   },
   "outputs": [],
   "source": [
    "# Bundle model and recipe\n",
    "rf_wfl_1 <- workflow() |>\n",
    "  \n",
    "  ## Add model\n",
    "  add_model(rf_model_1) |>\n",
    "  \n",
    "  ## Add recipe\n",
    "  add_recipe(rf_rec_1)"
   ]
  },
  {
   "cell_type": "code",
   "execution_count": 121,
   "id": "e4629679",
   "metadata": {
    "vscode": {
     "languageId": "r"
    }
   },
   "outputs": [],
   "source": [
    "# Define cross-validation\n",
    "\n",
    "## Set seed for reproducibility\n",
    "set.seed(1853)\n",
    "\n",
    "## Set CV\n",
    "rf_cv_1 <- vfold_cv(hr_train,\n",
    "                    v = 10,\n",
    "                    strata = Attrition)"
   ]
  },
  {
   "cell_type": "code",
   "execution_count": 122,
   "id": "c6ea921f",
   "metadata": {
    "vscode": {
     "languageId": "r"
    }
   },
   "outputs": [],
   "source": [
    "# Define tune grid\n",
    "\n",
    "## Set seed for reproducibility\n",
    "set.seed(1853)\n",
    "\n",
    "## Define the grid\n",
    "rf_grid_1 <- grid_random(mtry(range = c(5, 10)),\n",
    "                         min_n(range = c(1, 25)),\n",
    "                         size = 30)"
   ]
  },
  {
   "cell_type": "code",
   "execution_count": 123,
   "id": "46d25650",
   "metadata": {
    "vscode": {
     "languageId": "r"
    }
   },
   "outputs": [],
   "source": [
    "# Define tune metrics\n",
    "rf_metrics_1 <- metric_set(accuracy,\n",
    "                           recall,\n",
    "                           precision,\n",
    "                           roc_auc)"
   ]
  },
  {
   "cell_type": "code",
   "execution_count": 124,
   "id": "2b8f0ecf",
   "metadata": {
    "vscode": {
     "languageId": "r"
    }
   },
   "outputs": [
    {
     "data": {
      "text/plain": [
       "   user  system elapsed \n",
       " 244.18    2.83  596.37 "
      ]
     },
     "metadata": {},
     "output_type": "display_data"
    }
   ],
   "source": [
    "# Tune the model\n",
    "\n",
    "## Set seed for reproducibility\n",
    "set.seed(1853)\n",
    "\n",
    "## Tune\n",
    "system.time({rf_tune_1 <- tune_grid(rf_wfl_1,\n",
    "                                    resamples = rf_cv_1,\n",
    "                                    grid = rf_grid_1,\n",
    "                                    metrics = rf_metrics_1)})"
   ]
  },
  {
   "cell_type": "markdown",
   "id": "ad70fa9d",
   "metadata": {},
   "source": [
    "### 4.3.2 Finalise the Model"
   ]
  },
  {
   "cell_type": "code",
   "execution_count": 125,
   "id": "731bb91c",
   "metadata": {
    "vscode": {
     "languageId": "r"
    }
   },
   "outputs": [],
   "source": [
    "# Select the best hyperparametres\n",
    "rf_best_hp_1 <- select_best(rf_tune_1,\n",
    "                            metric = \"recall\")\n",
    "\n",
    "# Apply the best hyperparametres\n",
    "rf_wfl_final_1 <- finalize_workflow(rf_wfl_1,\n",
    "                                    rf_best_hp_1)"
   ]
  },
  {
   "cell_type": "code",
   "execution_count": 126,
   "id": "82d6fe5e",
   "metadata": {
    "vscode": {
     "languageId": "r"
    }
   },
   "outputs": [],
   "source": [
    "# Fit the model\n",
    "rf_wkl_fit_1 <- fit(rf_wfl_final_1,\n",
    "                    data = hr_train)"
   ]
  },
  {
   "cell_type": "markdown",
   "id": "dfbac30d",
   "metadata": {},
   "source": [
    "### 4.3.3 Evaluate the Model Performance"
   ]
  },
  {
   "cell_type": "code",
   "execution_count": 127,
   "id": "e09b58c8",
   "metadata": {
    "vscode": {
     "languageId": "r"
    }
   },
   "outputs": [
    {
     "data": {
      "text/html": [
       "<table class=\"dataframe\">\n",
       "<caption>A tibble: 6 × 4</caption>\n",
       "<thead>\n",
       "\t<tr><th scope=col>actual</th><th scope=col>predicted</th><th scope=col>pred_yes</th><th scope=col>pred_no</th></tr>\n",
       "\t<tr><th scope=col>&lt;fct&gt;</th><th scope=col>&lt;fct&gt;</th><th scope=col>&lt;dbl&gt;</th><th scope=col>&lt;dbl&gt;</th></tr>\n",
       "</thead>\n",
       "<tbody>\n",
       "\t<tr><td>Yes</td><td>No</td><td>0.41088605</td><td>0.5891139</td></tr>\n",
       "\t<tr><td>No </td><td>No</td><td>0.43683487</td><td>0.5631651</td></tr>\n",
       "\t<tr><td>No </td><td>No</td><td>0.11658088</td><td>0.8834191</td></tr>\n",
       "\t<tr><td>Yes</td><td>No</td><td>0.23102555</td><td>0.7689745</td></tr>\n",
       "\t<tr><td>No </td><td>No</td><td>0.48497614</td><td>0.5150239</td></tr>\n",
       "\t<tr><td>No </td><td>No</td><td>0.09219992</td><td>0.9078001</td></tr>\n",
       "</tbody>\n",
       "</table>\n"
      ],
      "text/latex": [
       "A tibble: 6 × 4\n",
       "\\begin{tabular}{llll}\n",
       " actual & predicted & pred\\_yes & pred\\_no\\\\\n",
       " <fct> & <fct> & <dbl> & <dbl>\\\\\n",
       "\\hline\n",
       "\t Yes & No & 0.41088605 & 0.5891139\\\\\n",
       "\t No  & No & 0.43683487 & 0.5631651\\\\\n",
       "\t No  & No & 0.11658088 & 0.8834191\\\\\n",
       "\t Yes & No & 0.23102555 & 0.7689745\\\\\n",
       "\t No  & No & 0.48497614 & 0.5150239\\\\\n",
       "\t No  & No & 0.09219992 & 0.9078001\\\\\n",
       "\\end{tabular}\n"
      ],
      "text/markdown": [
       "\n",
       "A tibble: 6 × 4\n",
       "\n",
       "| actual &lt;fct&gt; | predicted &lt;fct&gt; | pred_yes &lt;dbl&gt; | pred_no &lt;dbl&gt; |\n",
       "|---|---|---|---|\n",
       "| Yes | No | 0.41088605 | 0.5891139 |\n",
       "| No  | No | 0.43683487 | 0.5631651 |\n",
       "| No  | No | 0.11658088 | 0.8834191 |\n",
       "| Yes | No | 0.23102555 | 0.7689745 |\n",
       "| No  | No | 0.48497614 | 0.5150239 |\n",
       "| No  | No | 0.09219992 | 0.9078001 |\n",
       "\n"
      ],
      "text/plain": [
       "  actual predicted pred_yes   pred_no  \n",
       "1 Yes    No        0.41088605 0.5891139\n",
       "2 No     No        0.43683487 0.5631651\n",
       "3 No     No        0.11658088 0.8834191\n",
       "4 Yes    No        0.23102555 0.7689745\n",
       "5 No     No        0.48497614 0.5150239\n",
       "6 No     No        0.09219992 0.9078001"
      ]
     },
     "metadata": {},
     "output_type": "display_data"
    }
   ],
   "source": [
    "# Make predictions\n",
    "\n",
    "## Get prediction probabilities\n",
    "rf_pred_prob_1 <- predict(rf_wkl_fit_1,\n",
    "                          new_data = hr_test,\n",
    "                          type = \"prob\")\n",
    "\n",
    "## Get predicted classes\n",
    "rf_pred_class_1 <- predict(rf_wkl_fit_1,\n",
    "                           new_data = hr_test,\n",
    "                           type = \"class\")\n",
    "  \n",
    "## Combine the results\n",
    "rf_predictions_1 <- tibble(actual = hr_test$Attrition,\n",
    "                           predicted = rf_pred_class_1$.pred_class,\n",
    "                           pred_yes = rf_pred_prob_1$.pred_Yes,\n",
    "                           pred_no = rf_pred_prob_1$.pred_No)\n",
    "\n",
    "## Print the results\n",
    "head(rf_predictions_1)"
   ]
  },
  {
   "cell_type": "code",
   "execution_count": 128,
   "id": "887bee8a",
   "metadata": {
    "vscode": {
     "languageId": "r"
    }
   },
   "outputs": [
    {
     "data": {
      "text/plain": [
       "          Truth\n",
       "Prediction Yes  No\n",
       "       Yes  11   4\n",
       "       No   37 243"
      ]
     },
     "metadata": {},
     "output_type": "display_data"
    }
   ],
   "source": [
    "# Create a confusion matrix\n",
    "rf_conf_mat_1 <- conf_mat(rf_predictions_1,\n",
    "                          truth = actual,\n",
    "                          estimate = predicted)\n",
    "\n",
    "# Print the confusion matrix\n",
    "rf_conf_mat_1"
   ]
  },
  {
   "cell_type": "code",
   "execution_count": 129,
   "id": "9cf18143",
   "metadata": {
    "vscode": {
     "languageId": "r"
    }
   },
   "outputs": [
    {
     "data": {
      "text/html": [
       "<table class=\"dataframe\">\n",
       "<caption>A tibble: 13 × 3</caption>\n",
       "<thead>\n",
       "\t<tr><th scope=col>.metric</th><th scope=col>.estimator</th><th scope=col>.estimate</th></tr>\n",
       "\t<tr><th scope=col>&lt;chr&gt;</th><th scope=col>&lt;chr&gt;</th><th scope=col>&lt;dbl&gt;</th></tr>\n",
       "</thead>\n",
       "<tbody>\n",
       "\t<tr><td>accuracy            </td><td>binary</td><td>0.86101695</td></tr>\n",
       "\t<tr><td>kap                 </td><td>binary</td><td>0.29454652</td></tr>\n",
       "\t<tr><td>sens                </td><td>binary</td><td>0.22916667</td></tr>\n",
       "\t<tr><td>spec                </td><td>binary</td><td>0.98380567</td></tr>\n",
       "\t<tr><td>ppv                 </td><td>binary</td><td>0.73333333</td></tr>\n",
       "\t<tr><td>npv                 </td><td>binary</td><td>0.86785714</td></tr>\n",
       "\t<tr><td>mcc                 </td><td>binary</td><td>0.35782250</td></tr>\n",
       "\t<tr><td>j_index             </td><td>binary</td><td>0.21297233</td></tr>\n",
       "\t<tr><td>bal_accuracy        </td><td>binary</td><td>0.60648617</td></tr>\n",
       "\t<tr><td>detection_prevalence</td><td>binary</td><td>0.05084746</td></tr>\n",
       "\t<tr><td>precision           </td><td>binary</td><td>0.73333333</td></tr>\n",
       "\t<tr><td>recall              </td><td>binary</td><td>0.22916667</td></tr>\n",
       "\t<tr><td>f_meas              </td><td>binary</td><td>0.34920635</td></tr>\n",
       "</tbody>\n",
       "</table>\n"
      ],
      "text/latex": [
       "A tibble: 13 × 3\n",
       "\\begin{tabular}{lll}\n",
       " .metric & .estimator & .estimate\\\\\n",
       " <chr> & <chr> & <dbl>\\\\\n",
       "\\hline\n",
       "\t accuracy             & binary & 0.86101695\\\\\n",
       "\t kap                  & binary & 0.29454652\\\\\n",
       "\t sens                 & binary & 0.22916667\\\\\n",
       "\t spec                 & binary & 0.98380567\\\\\n",
       "\t ppv                  & binary & 0.73333333\\\\\n",
       "\t npv                  & binary & 0.86785714\\\\\n",
       "\t mcc                  & binary & 0.35782250\\\\\n",
       "\t j\\_index              & binary & 0.21297233\\\\\n",
       "\t bal\\_accuracy         & binary & 0.60648617\\\\\n",
       "\t detection\\_prevalence & binary & 0.05084746\\\\\n",
       "\t precision            & binary & 0.73333333\\\\\n",
       "\t recall               & binary & 0.22916667\\\\\n",
       "\t f\\_meas               & binary & 0.34920635\\\\\n",
       "\\end{tabular}\n"
      ],
      "text/markdown": [
       "\n",
       "A tibble: 13 × 3\n",
       "\n",
       "| .metric &lt;chr&gt; | .estimator &lt;chr&gt; | .estimate &lt;dbl&gt; |\n",
       "|---|---|---|\n",
       "| accuracy             | binary | 0.86101695 |\n",
       "| kap                  | binary | 0.29454652 |\n",
       "| sens                 | binary | 0.22916667 |\n",
       "| spec                 | binary | 0.98380567 |\n",
       "| ppv                  | binary | 0.73333333 |\n",
       "| npv                  | binary | 0.86785714 |\n",
       "| mcc                  | binary | 0.35782250 |\n",
       "| j_index              | binary | 0.21297233 |\n",
       "| bal_accuracy         | binary | 0.60648617 |\n",
       "| detection_prevalence | binary | 0.05084746 |\n",
       "| precision            | binary | 0.73333333 |\n",
       "| recall               | binary | 0.22916667 |\n",
       "| f_meas               | binary | 0.34920635 |\n",
       "\n"
      ],
      "text/plain": [
       "   .metric              .estimator .estimate \n",
       "1  accuracy             binary     0.86101695\n",
       "2  kap                  binary     0.29454652\n",
       "3  sens                 binary     0.22916667\n",
       "4  spec                 binary     0.98380567\n",
       "5  ppv                  binary     0.73333333\n",
       "6  npv                  binary     0.86785714\n",
       "7  mcc                  binary     0.35782250\n",
       "8  j_index              binary     0.21297233\n",
       "9  bal_accuracy         binary     0.60648617\n",
       "10 detection_prevalence binary     0.05084746\n",
       "11 precision            binary     0.73333333\n",
       "12 recall               binary     0.22916667\n",
       "13 f_meas               binary     0.34920635"
      ]
     },
     "metadata": {},
     "output_type": "display_data"
    }
   ],
   "source": [
    "# Get metrics\n",
    "summary(rf_conf_mat_1)"
   ]
  },
  {
   "cell_type": "code",
   "execution_count": 130,
   "id": "6ceb7ee5",
   "metadata": {
    "vscode": {
     "languageId": "r"
    }
   },
   "outputs": [
    {
     "data": {
      "text/html": [
       "<table class=\"dataframe\">\n",
       "<caption>A tibble: 1 × 3</caption>\n",
       "<thead>\n",
       "\t<tr><th scope=col>.metric</th><th scope=col>.estimator</th><th scope=col>.estimate</th></tr>\n",
       "\t<tr><th scope=col>&lt;chr&gt;</th><th scope=col>&lt;chr&gt;</th><th scope=col>&lt;dbl&gt;</th></tr>\n",
       "</thead>\n",
       "<tbody>\n",
       "\t<tr><td>roc_auc</td><td>binary</td><td>0.761724</td></tr>\n",
       "</tbody>\n",
       "</table>\n"
      ],
      "text/latex": [
       "A tibble: 1 × 3\n",
       "\\begin{tabular}{lll}\n",
       " .metric & .estimator & .estimate\\\\\n",
       " <chr> & <chr> & <dbl>\\\\\n",
       "\\hline\n",
       "\t roc\\_auc & binary & 0.761724\\\\\n",
       "\\end{tabular}\n"
      ],
      "text/markdown": [
       "\n",
       "A tibble: 1 × 3\n",
       "\n",
       "| .metric &lt;chr&gt; | .estimator &lt;chr&gt; | .estimate &lt;dbl&gt; |\n",
       "|---|---|---|\n",
       "| roc_auc | binary | 0.761724 |\n",
       "\n"
      ],
      "text/plain": [
       "  .metric .estimator .estimate\n",
       "1 roc_auc binary     0.761724 "
      ]
     },
     "metadata": {},
     "output_type": "display_data"
    }
   ],
   "source": [
    "# Compute ROC AUC\n",
    "roc_auc(rf_predictions_1,\n",
    "        truth = actual,\n",
    "        pred_yes)"
   ]
  },
  {
   "cell_type": "markdown",
   "id": "4883ccd0",
   "metadata": {},
   "source": [
    "Comments:\n",
    "- The upsampling method significantly improves the model's recall from 6% to close to 23%.\n",
    "- While this is remarkable improvement, the model may be further ehanced by adjusting the prediction threshold."
   ]
  },
  {
   "cell_type": "markdown",
   "id": "25c8e2c0",
   "metadata": {},
   "source": [
    "## 4.4 Threshold Calibration"
   ]
  },
  {
   "cell_type": "code",
   "execution_count": 131,
   "id": "c45cd4a8",
   "metadata": {
    "vscode": {
     "languageId": "r"
    }
   },
   "outputs": [
    {
     "name": "stderr",
     "output_type": "stream",
     "text": [
      "Warning message:\n",
      "\"\u001b[1m\u001b[22mWhile computing binary `precision()`, no predicted events were detected (i.e.\n",
      "`true_positive + false_positive = 0`).\n",
      "Precision is undefined in this case, and `NA` will be returned.\n",
      "Note that 48 true event(s) actually occurred for the problematic event level,\n",
      "Yes\"\n",
      "Warning message:\n",
      "\"\u001b[1m\u001b[22mWhile computing binary `precision()`, no predicted events were detected (i.e.\n",
      "`true_positive + false_positive = 0`).\n",
      "Precision is undefined in this case, and `NA` will be returned.\n",
      "Note that 48 true event(s) actually occurred for the problematic event level,\n",
      "Yes\"\n"
     ]
    },
    {
     "data": {
      "text/html": [
       "<table class=\"dataframe\">\n",
       "<caption>A tibble: 9 × 6</caption>\n",
       "<thead>\n",
       "\t<tr><th scope=col>threshold</th><th scope=col>recall</th><th scope=col>precision</th><th scope=col>total</th><th scope=col>flagged</th><th scope=col>true_pos</th></tr>\n",
       "\t<tr><th scope=col>&lt;dbl&gt;</th><th scope=col>&lt;dbl&gt;</th><th scope=col>&lt;dbl&gt;</th><th scope=col>&lt;dbl&gt;</th><th scope=col>&lt;dbl&gt;</th><th scope=col>&lt;dbl&gt;</th></tr>\n",
       "</thead>\n",
       "<tbody>\n",
       "\t<tr><td>0.1</td><td>0.93750000</td><td>0.1778656</td><td>295</td><td>253</td><td>45</td></tr>\n",
       "\t<tr><td>0.2</td><td>0.77083333</td><td>0.2740741</td><td>295</td><td>135</td><td>37</td></tr>\n",
       "\t<tr><td>0.3</td><td>0.58333333</td><td>0.3636364</td><td>295</td><td> 77</td><td>28</td></tr>\n",
       "\t<tr><td>0.4</td><td>0.41666667</td><td>0.6060606</td><td>295</td><td> 33</td><td>20</td></tr>\n",
       "\t<tr><td>0.5</td><td>0.22916667</td><td>0.7333333</td><td>295</td><td> 15</td><td>11</td></tr>\n",
       "\t<tr><td>0.6</td><td>0.10416667</td><td>0.7142857</td><td>295</td><td>  7</td><td> 5</td></tr>\n",
       "\t<tr><td>0.7</td><td>0.04166667</td><td>0.6666667</td><td>295</td><td>  3</td><td> 2</td></tr>\n",
       "\t<tr><td>0.8</td><td>0.00000000</td><td>       NA</td><td>295</td><td>  0</td><td> 0</td></tr>\n",
       "\t<tr><td>0.9</td><td>0.00000000</td><td>       NA</td><td>295</td><td>  0</td><td> 0</td></tr>\n",
       "</tbody>\n",
       "</table>\n"
      ],
      "text/latex": [
       "A tibble: 9 × 6\n",
       "\\begin{tabular}{llllll}\n",
       " threshold & recall & precision & total & flagged & true\\_pos\\\\\n",
       " <dbl> & <dbl> & <dbl> & <dbl> & <dbl> & <dbl>\\\\\n",
       "\\hline\n",
       "\t 0.1 & 0.93750000 & 0.1778656 & 295 & 253 & 45\\\\\n",
       "\t 0.2 & 0.77083333 & 0.2740741 & 295 & 135 & 37\\\\\n",
       "\t 0.3 & 0.58333333 & 0.3636364 & 295 &  77 & 28\\\\\n",
       "\t 0.4 & 0.41666667 & 0.6060606 & 295 &  33 & 20\\\\\n",
       "\t 0.5 & 0.22916667 & 0.7333333 & 295 &  15 & 11\\\\\n",
       "\t 0.6 & 0.10416667 & 0.7142857 & 295 &   7 &  5\\\\\n",
       "\t 0.7 & 0.04166667 & 0.6666667 & 295 &   3 &  2\\\\\n",
       "\t 0.8 & 0.00000000 &        NA & 295 &   0 &  0\\\\\n",
       "\t 0.9 & 0.00000000 &        NA & 295 &   0 &  0\\\\\n",
       "\\end{tabular}\n"
      ],
      "text/markdown": [
       "\n",
       "A tibble: 9 × 6\n",
       "\n",
       "| threshold &lt;dbl&gt; | recall &lt;dbl&gt; | precision &lt;dbl&gt; | total &lt;dbl&gt; | flagged &lt;dbl&gt; | true_pos &lt;dbl&gt; |\n",
       "|---|---|---|---|---|---|\n",
       "| 0.1 | 0.93750000 | 0.1778656 | 295 | 253 | 45 |\n",
       "| 0.2 | 0.77083333 | 0.2740741 | 295 | 135 | 37 |\n",
       "| 0.3 | 0.58333333 | 0.3636364 | 295 |  77 | 28 |\n",
       "| 0.4 | 0.41666667 | 0.6060606 | 295 |  33 | 20 |\n",
       "| 0.5 | 0.22916667 | 0.7333333 | 295 |  15 | 11 |\n",
       "| 0.6 | 0.10416667 | 0.7142857 | 295 |   7 |  5 |\n",
       "| 0.7 | 0.04166667 | 0.6666667 | 295 |   3 |  2 |\n",
       "| 0.8 | 0.00000000 |        NA | 295 |   0 |  0 |\n",
       "| 0.9 | 0.00000000 |        NA | 295 |   0 |  0 |\n",
       "\n"
      ],
      "text/plain": [
       "  threshold recall     precision total flagged true_pos\n",
       "1 0.1       0.93750000 0.1778656 295   253     45      \n",
       "2 0.2       0.77083333 0.2740741 295   135     37      \n",
       "3 0.3       0.58333333 0.3636364 295    77     28      \n",
       "4 0.4       0.41666667 0.6060606 295    33     20      \n",
       "5 0.5       0.22916667 0.7333333 295    15     11      \n",
       "6 0.6       0.10416667 0.7142857 295     7      5      \n",
       "7 0.7       0.04166667 0.6666667 295     3      2      \n",
       "8 0.8       0.00000000        NA 295     0      0      \n",
       "9 0.9       0.00000000        NA 295     0      0      "
      ]
     },
     "metadata": {},
     "output_type": "display_data"
    }
   ],
   "source": [
    "# Adjust the prediction threshold\n",
    "\n",
    "## Define a set of threshold\n",
    "thresholds <- seq(0.1, 0.9, by = 0.1)\n",
    "\n",
    "\n",
    "## Create empty vectors to store results from a for loop\n",
    "\n",
    "### Recall values\n",
    "recalls <- numeric(9)\n",
    "\n",
    "### Precision values\n",
    "precisions <- numeric(9)\n",
    "\n",
    "### The number of all cases\n",
    "all <- numeric(9)\n",
    "\n",
    "### The number of all positive classes\n",
    "all_positives <- numeric(9)\n",
    "\n",
    "### The number of true positives\n",
    "true_positives <- numeric(9)\n",
    "\n",
    "\n",
    "## Create a for loop to loop through the thresholds\n",
    "for (i in 1:length(thresholds)) {\n",
    "  \n",
    "  ### Make predictions with the threshold\n",
    "  new_pred <- if_else(rf_predictions_1$pred_yes > thresholds[i],\n",
    "                      \"Yes\",\n",
    "                      \"No\")\n",
    "  \n",
    "  ### Create a tibble to store the results\n",
    "  predictions <- tibble(actual = hr_test$Attrition,\n",
    "                        predicted = factor(new_pred, \n",
    "                                           levels = c(\"Yes\", \"No\")))\n",
    "  \n",
    "  ### Calculate recall\n",
    "  recalls[i] <- recall(predictions,\n",
    "                       truth = actual,\n",
    "                       estimate = predicted,\n",
    "                       event_level = \"first\") |>\n",
    "    pull(.estimate)\n",
    "  \n",
    "  ### Calculate precision\n",
    "  precisions[i] <- precision(predictions,\n",
    "                             truth = actual,\n",
    "                             estimate = predicted,\n",
    "                             event_level = \"first\") |>\n",
    "    pull(.estimate)\n",
    "\n",
    "  \n",
    "  ### Count all cases\n",
    "  all[i] <- nrow(predictions)\n",
    "  \n",
    "  ### Calculate all positive cases\n",
    "  all_positives[i] <- sum(predictions$predicted == \"Yes\")\n",
    "  \n",
    "  ### Calculate actual positive cases\n",
    "  true_positives[i] <- sum(predictions$predicted == \"Yes\" & predictions$actual == \"Yes\")\n",
    "  \n",
    "}\n",
    "\n",
    "## Store the thresholds and corresponding values\n",
    "thres_results <- tibble(threshold = thresholds,\n",
    "                        recall = recalls,\n",
    "                        precision = precisions,\n",
    "                        total = all,\n",
    "                        flagged = all_positives,\n",
    "                        true_pos = true_positives)\n",
    "\n",
    "## Print the for loop results\n",
    "thres_results"
   ]
  },
  {
   "cell_type": "code",
   "execution_count": 132,
   "id": "da4323c3",
   "metadata": {
    "vscode": {
     "languageId": "r"
    }
   },
   "outputs": [
    {
     "data": {
      "image/png": "[encoded data removed]",
      "text/plain": [
       "Plot with title \"Recall & Precision vs Threshold\""
      ]
     },
     "metadata": {
      "image/png": {
       "height": 420,
       "width": 420
      }
     },
     "output_type": "display_data"
    }
   ],
   "source": [
    "# Plot threshold vs recall and precision\n",
    "\n",
    "## Recall\n",
    "plot(thres_results$threshold,\n",
    "     thres_results$recall,\n",
    "     type = \"b\",\n",
    "     main = \"Recall & Precision vs Threshold\",\n",
    "     xlab = \"Threshold\",\n",
    "     ylab = \"Score\",\n",
    "     col = \"blue\",\n",
    "     pch = 16,\n",
    "     ylim = c(0, 1))\n",
    "\n",
    "## Precision\n",
    "lines(thres_results$threshold,\n",
    "      thres_results$precision,\n",
    "      type = \"b\",\n",
    "      col = \"red\",\n",
    "      pch = 17)\n",
    "\n",
    "## Add a legend\n",
    "legend(\"topright\",\n",
    "       legend = c(\"Recall\", \"Precision\"),\n",
    "       col = c(\"blue\", \"red\"),\n",
    "       pch = c(16, 17),\n",
    "       lty = 1)"
   ]
  },
  {
   "cell_type": "markdown",
   "id": "7924bc31",
   "metadata": {},
   "source": [
    "Comments:\n",
    "- Although we are prioritising recall to identify potential leavers, a high recall means we will also incorrectly classify employees who are staying as leavers.\n",
    "- A high number of false positives, while beneficial for retaining the company's talent, could lead to additional costs as resources are allocated to employees who are staying, instead of those who are leaving.\n",
    "- As such, while we emphasize recall, this should not come at too great a cost to precision.\n",
    "- Given this reasoning, I have chosen a threshold of 0.4, as it represents a good balance between recall and precision. Specifically, this threshold allows us to flag 33 employees out of 295, of which 20 are true positives.\n",
    "- If we adjust the threshold to 0.3, we would flag about twice as many (77 employees), but less than half of them (28) would be true positives.\n",
    "- With threshold of 0.4, the company would be able to identify a small yet concentrated number of employees who are likely to leave and will benefit from any invested intervention."
   ]
  },
  {
   "cell_type": "markdown",
   "id": "a833fb4b",
   "metadata": {},
   "source": [
    "## 4.5 Evaluate the Final Model"
   ]
  },
  {
   "cell_type": "code",
   "execution_count": 133,
   "id": "3ca24fb2",
   "metadata": {
    "vscode": {
     "languageId": "r"
    }
   },
   "outputs": [],
   "source": [
    "# Select the threshold\n",
    "selected_thres <- 0.4"
   ]
  },
  {
   "cell_type": "code",
   "execution_count": 134,
   "id": "a5483bab",
   "metadata": {
    "vscode": {
     "languageId": "r"
    }
   },
   "outputs": [
    {
     "data": {
      "text/html": [
       "<table class=\"dataframe\">\n",
       "<caption>A tibble: 13 × 3</caption>\n",
       "<thead>\n",
       "\t<tr><th scope=col>.metric</th><th scope=col>.estimator</th><th scope=col>.estimate</th></tr>\n",
       "\t<tr><th scope=col>&lt;chr&gt;</th><th scope=col>&lt;chr&gt;</th><th scope=col>&lt;dbl&gt;</th></tr>\n",
       "</thead>\n",
       "<tbody>\n",
       "\t<tr><td>accuracy            </td><td>binary</td><td>0.8610169</td></tr>\n",
       "\t<tr><td>kap                 </td><td>binary</td><td>0.4164616</td></tr>\n",
       "\t<tr><td>sens                </td><td>binary</td><td>0.4166667</td></tr>\n",
       "\t<tr><td>spec                </td><td>binary</td><td>0.9473684</td></tr>\n",
       "\t<tr><td>ppv                 </td><td>binary</td><td>0.6060606</td></tr>\n",
       "\t<tr><td>npv                 </td><td>binary</td><td>0.8931298</td></tr>\n",
       "\t<tr><td>mcc                 </td><td>binary</td><td>0.4262896</td></tr>\n",
       "\t<tr><td>j_index             </td><td>binary</td><td>0.3640351</td></tr>\n",
       "\t<tr><td>bal_accuracy        </td><td>binary</td><td>0.6820175</td></tr>\n",
       "\t<tr><td>detection_prevalence</td><td>binary</td><td>0.1118644</td></tr>\n",
       "\t<tr><td>precision           </td><td>binary</td><td>0.6060606</td></tr>\n",
       "\t<tr><td>recall              </td><td>binary</td><td>0.4166667</td></tr>\n",
       "\t<tr><td>f_meas              </td><td>binary</td><td>0.4938272</td></tr>\n",
       "</tbody>\n",
       "</table>\n"
      ],
      "text/latex": [
       "A tibble: 13 × 3\n",
       "\\begin{tabular}{lll}\n",
       " .metric & .estimator & .estimate\\\\\n",
       " <chr> & <chr> & <dbl>\\\\\n",
       "\\hline\n",
       "\t accuracy             & binary & 0.8610169\\\\\n",
       "\t kap                  & binary & 0.4164616\\\\\n",
       "\t sens                 & binary & 0.4166667\\\\\n",
       "\t spec                 & binary & 0.9473684\\\\\n",
       "\t ppv                  & binary & 0.6060606\\\\\n",
       "\t npv                  & binary & 0.8931298\\\\\n",
       "\t mcc                  & binary & 0.4262896\\\\\n",
       "\t j\\_index              & binary & 0.3640351\\\\\n",
       "\t bal\\_accuracy         & binary & 0.6820175\\\\\n",
       "\t detection\\_prevalence & binary & 0.1118644\\\\\n",
       "\t precision            & binary & 0.6060606\\\\\n",
       "\t recall               & binary & 0.4166667\\\\\n",
       "\t f\\_meas               & binary & 0.4938272\\\\\n",
       "\\end{tabular}\n"
      ],
      "text/markdown": [
       "\n",
       "A tibble: 13 × 3\n",
       "\n",
       "| .metric &lt;chr&gt; | .estimator &lt;chr&gt; | .estimate &lt;dbl&gt; |\n",
       "|---|---|---|\n",
       "| accuracy             | binary | 0.8610169 |\n",
       "| kap                  | binary | 0.4164616 |\n",
       "| sens                 | binary | 0.4166667 |\n",
       "| spec                 | binary | 0.9473684 |\n",
       "| ppv                  | binary | 0.6060606 |\n",
       "| npv                  | binary | 0.8931298 |\n",
       "| mcc                  | binary | 0.4262896 |\n",
       "| j_index              | binary | 0.3640351 |\n",
       "| bal_accuracy         | binary | 0.6820175 |\n",
       "| detection_prevalence | binary | 0.1118644 |\n",
       "| precision            | binary | 0.6060606 |\n",
       "| recall               | binary | 0.4166667 |\n",
       "| f_meas               | binary | 0.4938272 |\n",
       "\n"
      ],
      "text/plain": [
       "   .metric              .estimator .estimate\n",
       "1  accuracy             binary     0.8610169\n",
       "2  kap                  binary     0.4164616\n",
       "3  sens                 binary     0.4166667\n",
       "4  spec                 binary     0.9473684\n",
       "5  ppv                  binary     0.6060606\n",
       "6  npv                  binary     0.8931298\n",
       "7  mcc                  binary     0.4262896\n",
       "8  j_index              binary     0.3640351\n",
       "9  bal_accuracy         binary     0.6820175\n",
       "10 detection_prevalence binary     0.1118644\n",
       "11 precision            binary     0.6060606\n",
       "12 recall               binary     0.4166667\n",
       "13 f_meas               binary     0.4938272"
      ]
     },
     "metadata": {},
     "output_type": "display_data"
    }
   ],
   "source": [
    "# Make poredictions with threshold = 0.4\n",
    "rf_final_pred <- if_else(rf_predictions_1$pred_yes > selected_thres,\n",
    "                         \"Yes\",\n",
    "                         \"No\")\n",
    "\n",
    "# Store the results in a tibble\n",
    "rf_final_results <- tibble(actual = hr_test$Attrition,\n",
    "                           predicted = factor(rf_final_pred,\n",
    "                                              levels = c(\"Yes\", \"No\")))\n",
    "\n",
    "# Create a confusion matrix\n",
    "rf_final_conf_mat <- conf_mat(rf_final_results,\n",
    "                              truth = actual,\n",
    "                              estimate = predicted)\n",
    "\n",
    "# Get metrics\n",
    "summary(rf_final_conf_mat)"
   ]
  },
  {
   "cell_type": "markdown",
   "id": "854db6f7",
   "metadata": {},
   "source": [
    "## 4.6 Get Variable Importance"
   ]
  },
  {
   "cell_type": "markdown",
   "id": "0606fc57",
   "metadata": {},
   "source": [
    "### 4.6.1 Get Level of Importance"
   ]
  },
  {
   "cell_type": "code",
   "execution_count": 135,
   "id": "f3261a83",
   "metadata": {
    "vscode": {
     "languageId": "r"
    }
   },
   "outputs": [
    {
     "data": {
      "image/png": "[encoded data removed]",
      "text/plain": [
       "plot without title"
      ]
     },
     "metadata": {
      "image/png": {
       "height": 420,
       "width": 420
      }
     },
     "output_type": "display_data"
    }
   ],
   "source": [
    "# Get final fit model\n",
    "rf_final_model_1 <- extract_fit_parsnip(rf_wkl_fit_1)\n",
    "\n",
    "# Get levels of importance\n",
    "vip(rf_final_model_1)"
   ]
  },
  {
   "cell_type": "markdown",
   "id": "e35676ff",
   "metadata": {},
   "source": [
    "### 4.6.2 View the Relationships of the Top Predictors"
   ]
  },
  {
   "cell_type": "code",
   "execution_count": 136,
   "id": "0332754d",
   "metadata": {
    "vscode": {
     "languageId": "r"
    }
   },
   "outputs": [
    {
     "data": {
      "image/png": "[encoded data removed]",
      "text/plain": [
       "plot without title"
      ]
     },
     "metadata": {
      "image/png": {
       "height": 420,
       "width": 420
      }
     },
     "output_type": "display_data"
    },
    {
     "data": {
      "image/png": "[encoded data removed]",
      "text/plain": [
       "plot without title"
      ]
     },
     "metadata": {
      "image/png": {
       "height": 420,
       "width": 420
      }
     },
     "output_type": "display_data"
    },
    {
     "data": {
      "image/png": "[encoded data removed]",
      "text/plain": [
       "plot without title"
      ]
     },
     "metadata": {
      "image/png": {
       "height": 420,
       "width": 420
      }
     },
     "output_type": "display_data"
    },
    {
     "data": {
      "image/png": "[encoded data removed]",
      "text/plain": [
       "plot without title"
      ]
     },
     "metadata": {
      "image/png": {
       "height": 420,
       "width": 420
      }
     },
     "output_type": "display_data"
    },
    {
     "data": {
      "image/png": "[encoded data removed]",
      "text/plain": [
       "plot without title"
      ]
     },
     "metadata": {
      "image/png": {
       "height": 420,
       "width": 420
      }
     },
     "output_type": "display_data"
    }
   ],
   "source": [
    "# Create a vector of 5 most important predictors\n",
    "important_predictors <- c(\"MonthlyIncome\",\n",
    "                          \"OverTime_Yes\",\n",
    "                          \"Age\",\n",
    "                          \"YearsWithCurrManager\",\n",
    "                          \"EnvironmentSatisfaction\")\n",
    "\n",
    "# For-loop through the vector\n",
    "for (predictor in important_predictors) {\n",
    "  \n",
    "  ## Plot the relationship between predictor and attrition\n",
    "  pd <- partial(rf_final_model_1$fit,\n",
    "                pred.var = predictor,\n",
    "                train = juice(prep(rf_rec)))\n",
    "  \n",
    "  ## Print plot\n",
    "  print(autoplot(pd) + ggtitle(predictor))\n",
    "}\n"
   ]
  },
  {
   "cell_type": "markdown",
   "id": "3a2abec3",
   "metadata": {},
   "source": [
    "Comments:  \n",
    "Based on the random forest model, the top five predictors of attrition are:\n",
    "1. Monlthy income\n",
    "2. Overtime\n",
    "3. Age\n",
    "4. Years with current manager\n",
    "5. Environment satisfaction\n",
    "\n",
    "**Predictor 1. Monthly income**  \n",
    "Relationship with attrition: resembling U shape\n",
    "- This predictor is also not surprising as employment is a transactional relationship.\n",
    "- If employees feel the financial return is not sufficient for their effort, they may leave in search of a more satisfying contract.\n",
    "- Additionally, at a certain point, being paid more may lead employees to seek new opportunities where they may be able to earn even more.\n",
    "\n",
    "**Predictor 2. Overtime (yes)**  \n",
    "Relationship with attrition: linear (positive)\n",
    "- This is not surprising, given that overtime may be associated with workload or lead employees to perceive their work as more demanding.\n",
    "- This, in turn, may lead to more work-related stress, which makes employees more likely to leave the company.\n",
    "\n",
    "**Predictor 3. Age**  \n",
    "Relationship with attrition: resembling U shape\n",
    "- The relationship between this predictor and attrition suggests that younger people are more likely to leave.\n",
    "- As they age, they become less likely to leave, up to a certain point.\n",
    "- After that, they become more likely to leave, but not as likely as their younger counterparts.\n",
    "\n",
    "**Predictor 4. Years with current manager**  \n",
    "Relationship with attrition: resembling L shape\n",
    "- There are two ways to interpret this.\n",
    "- First, this predictor may not be the cause but a correlate of attrition, as people who leave early are likely to have fewer years with their managers.\n",
    "- Second, years with current managers may reflect stagnation in the employees' career, which may, in turn, motivate employees to seek career growth elsewhere.\n",
    "\n",
    "**Predictor 5. Environment satisfaction**  \n",
    "Relationship with attrition: relatively linear (negative)\n",
    "- This predictor is in line with the two-factor theory, which states that part of employees' motivation stems from the work environment.\n",
    "- The direction of the relationship suggests that the less satisfied the employees are with their environment, the more likely they are to leave."
   ]
  },
  {
   "cell_type": "markdown",
   "id": "bcf6077c",
   "metadata": {},
   "source": [
    "# 5. Summary & Recommendations"
   ]
  },
  {
   "cell_type": "markdown",
   "id": "35cfd5af",
   "metadata": {},
   "source": [
    "## 5.1 Project Recap"
   ]
  },
  {
   "cell_type": "markdown",
   "id": "5c1dfce5",
   "metadata": {},
   "source": [
    "This project aimed to explore and predict employee attrition to aid a company in retaining their talents.\n",
    "\n",
    "The project was successful in both regards."
   ]
  },
  {
   "cell_type": "markdown",
   "id": "926ba8b5",
   "metadata": {},
   "source": [
    "## 5.2 Exploring Attrition"
   ]
  },
  {
   "cell_type": "markdown",
   "id": "9655944e",
   "metadata": {},
   "source": [
    "### 5.2.1 Overview"
   ]
  },
  {
   "cell_type": "markdown",
   "id": "78880fd5",
   "metadata": {},
   "source": [
    "I first explored the relationships between numeric variables and attrition and found that these relationships are small, suggesting that attrition may not be easily attributable to any single factor."
   ]
  },
  {
   "cell_type": "markdown",
   "id": "6bfaee06",
   "metadata": {},
   "source": [
    "### 5.2.2 The Three Likely Predictors"
   ]
  },
  {
   "cell_type": "markdown",
   "id": "e6fad4c6",
   "metadata": {},
   "source": [
    "\n",
    "Next, I dived into the attrition patterns among three factors which are likely to contribute to attrition, namely monthly income, overtime, and environment satisfaction.\n",
    "\n",
    "**Monthly income**  \n",
    "I found that on average, people who left earned less than those who stayed, suggesting that monthly income may be a major predictor of attrition.\n",
    "\n",
    "**Overtime**  \n",
    "In the overtime group, there were a higher percentage of people leaving and a smaller percentage of people staying. This suggests that working overtime likely contributes to attrition.\n",
    "\n",
    "**Environment satisfaction**  \n",
    "There was a significant yet small difference between people who left and those who stayed in terms of environment satisfaction. This suggests that this factor may be a valid but has little relatively small influence on attrition. \n"
   ]
  },
  {
   "cell_type": "markdown",
   "id": "88965d52",
   "metadata": {},
   "source": [
    "### 5.2.3 Department & Job Role"
   ]
  },
  {
   "cell_type": "markdown",
   "id": "999c6cda",
   "metadata": {},
   "source": [
    "I also explored attrition in relation to job structures: department and job role.\n",
    "\n",
    "**Department**  \n",
    "I found that Sales had the highest percentage of people leaving and lowest percentage of people staying, suggesting that this department may be mostly heavily impacted by attrition.\n",
    "\n",
    "Reversed is true for R&D, where the percentage of people staying was the highest, and the percentage of people leaving the lowest.\n",
    "\n",
    "**Job role (and job level)**  \n",
    "I found that Sales Rep had the highest percentage of attrition, and Research Director had the lowest percentage of attrition.\n",
    "\n",
    "Furthermore, with an additional analysis that followed up on the observation that employees who left tended to cluster in the non-management positions, I found that lower job levels had higher percentage of attrition compared to higher job levels."
   ]
  },
  {
   "cell_type": "markdown",
   "id": "f4c6fe0d",
   "metadata": {},
   "source": [
    "### 5.2.4 Gender & Age\n",
    "Lastly, I explored attrition in relation to gender and age.\n",
    "\n",
    "**Gender**  \n",
    "For both gender, the percentage of attrition was similar, suggesting that gender may not be a contributor to attrition.\n",
    "\n",
    "**Age**  \n",
    "I found that in the younger employees, there were a higher number of people leaving than staying, suggesting that attrition may be predictable by age."
   ]
  },
  {
   "cell_type": "markdown",
   "id": "ab030707",
   "metadata": {},
   "source": [
    "## 5.3 Predicting Attrition"
   ]
  },
  {
   "cell_type": "markdown",
   "id": "52a574d5",
   "metadata": {},
   "source": [
    "I was able to build a predictive model using the random forest method.\n",
    "\n",
    "The model demonstrated good accuracy (86%) and moderate precision (60%) and recall (41%).\n",
    "\n",
    "The model also provided insights into the importance of each variable in the dataset. Specifically, it suggests that the top five predictors of attrition are:  \n",
    "1. Monthly income  \n",
    "2. Overtime (yes)  \n",
    "3. Age  \n",
    "4. Years with current manager  \n",
    "5. Environment satisfaction  "
   ]
  },
  {
   "cell_type": "markdown",
   "id": "530a0a6d",
   "metadata": {},
   "source": [
    "## 5.4 Recommendations"
   ]
  },
  {
   "cell_type": "markdown",
   "id": "9cc23b67",
   "metadata": {},
   "source": [
    "Based on the top five predictors from the model, I make the following business recommendations.\n",
    "\n",
    "**Predictor 1. Monthly income**  \n",
    "- **Recommendation 1:** Consider the salary structure by balancing the incentive with the workload. This may be done in conjunction with recommendation 1 from predictor 1.\n",
    "\n",
    "**Predictor 2. Overtime (yes)**  \n",
    "- **Recommendation 1:** Manage the workload by reviewing the company's overall workload and reallocating certain responsibilities, as well as cutting down on non-essential tasks to relieve employees of unnecessary workload.\n",
    "- **Recommendation 2:** Implement new technology or work procedures which may facilitate work processes, allowing employees to accomplish the same amount of work in less time. This is a win-win situation where the company enjoys the same level of productivity while the employees become happier.\n",
    "\n",
    "**Predictor 3. Age**  \n",
    "- **Recommendation 1:** The company may investigate whether the company culture is a good fit for younger hires, given that younger employees are more likely to leave the company. If the culture is a contributor, the company may implement a plan to adjust certain aspects of the company culture to be more attractive to younger hires.\n",
    "- **Recommendation 2:** Regarding older employees, the company may also explore what factors are driving these employees away. This may be due to culture or other job or workplace characteristics, such as career path or promotion opportunities.\n",
    "\n",
    "**Predictor 4. Years with current managers**  \n",
    "- **Recommendation 1:** Validate whether years with current managers are predictive of attrition. This may be done by selectively interviewing employees or reviewing additional employee data.\n",
    "- **Recommendation 2:** If years with current managers reflect stagnation, communicate a clear career path to employees to ensure that they are aware of the opportunities for professional growth.\n",
    "\n",
    "**Predictor 5. Environmental satisfaction**  \n",
    "- **Recommendation 1:** The company may dive deeper into which environmental factors may discourage employees from staying. These may be physical (e.g., workspace, common areas), social (e.g., peers, supervisors), or a combination of both. By analysing which contextual factors contribute to attrition, the company has a greater chance of successfully tackling attrition."
   ]
  }
 ],
 "metadata": {
  "kernelspec": {
   "display_name": "R",
   "language": "R",
   "name": "ir"
  },
  "language_info": {
   "codemirror_mode": "r",
   "file_extension": ".r",
   "mimetype": "text/x-r-source",
   "name": "R",
   "pygments_lexer": "r",
   "version": "4.4.3"
  }
 },
 "nbformat": 4,
 "nbformat_minor": 5
}
