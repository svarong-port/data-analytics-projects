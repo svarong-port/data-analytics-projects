{
 "cells": [
  {
   "cell_type": "markdown",
   "id": "8d1e28ce",
   "metadata": {},
   "source": [
    "# Predicting Employee Attrition With Machine Learning in R"
   ]
  },
  {
   "cell_type": "markdown",
   "id": "1e60fb6f",
   "metadata": {},
   "source": [
    "## Prepared by\n",
    "\n",
    "Author: Shinin Varongchayakul\n",
    "\n",
    "Date: 07 Apr 2025\n",
    "\n",
    "Language: R"
   ]
  },
  {
   "cell_type": "markdown",
   "id": "6b893804",
   "metadata": {},
   "source": [
    "## Dataset\n",
    "\n",
    "Name: IBM HR Analytics Employee Attrition & Performance\n",
    "\n",
    "Source: https://www.kaggle.com/datasets/pavansubhasht/ibm-hr-analytics-attrition-dataset"
   ]
  },
  {
   "cell_type": "markdown",
   "id": "ee50163d",
   "metadata": {},
   "source": [
    "## Business Problem\n",
    "- A company was experiencing employee attrition, losing key talents, productivity, and employee engagement.\n",
    "- The company wanted to understand factors related to attrition and how to predict attrition so that they may take steps to prevent their talents from leaving."
   ]
  },
  {
   "cell_type": "markdown",
   "id": "d86d1b37",
   "metadata": {},
   "source": [
    "## Objectives of the Present Analysis\n",
    "Given the business problem, the goals of the present analysis are twofolds:\n",
    "1. Explore the pattern of attrition in related to employee and job characteristics.\n",
    "2. Build a machine learning model to predict employee attrition."
   ]
  },
  {
   "cell_type": "markdown",
   "id": "697ec4d8",
   "metadata": {},
   "source": [
    "## Analysis Steps\n",
    "1. Install and load necessary packages\n",
    "2. Prepare the dataset\n",
    "3. Exploratory data analysis (EDA)\n",
    "4. Building a machine learning model\n",
    "5. Summary and recommendations"
   ]
  },
  {
   "cell_type": "markdown",
   "id": "d4658635",
   "metadata": {},
   "source": [
    "## 1. Install & Load Necessary Packages"
   ]
  },
  {
   "cell_type": "code",
   "execution_count": null,
   "id": "86925f29",
   "metadata": {
    "vscode": {
     "languageId": "r"
    }
   },
   "outputs": [
    {
     "name": "stderr",
     "output_type": "stream",
     "text": [
      "Installing package into 'C:/Users/sam_h/AppData/Local/R/win-library/4.4'\n",
      "(as 'lib' is unspecified)\n",
      "\n"
     ]
    },
    {
     "name": "stdout",
     "output_type": "stream",
     "text": [
      "package 'tidyverse' successfully unpacked and MD5 sums checked\n",
      "\n",
      "The downloaded binary packages are in\n",
      "\tC:\\Users\\sam_h\\AppData\\Local\\Temp\\RtmpgN9iUT\\downloaded_packages\n"
     ]
    },
    {
     "name": "stderr",
     "output_type": "stream",
     "text": [
      "Installing package into 'C:/Users/sam_h/AppData/Local/R/win-library/4.4'\n",
      "(as 'lib' is unspecified)\n",
      "\n"
     ]
    },
    {
     "name": "stdout",
     "output_type": "stream",
     "text": [
      "package 'effsize' successfully unpacked and MD5 sums checked\n",
      "\n",
      "The downloaded binary packages are in\n",
      "\tC:\\Users\\sam_h\\AppData\\Local\\Temp\\RtmpgN9iUT\\downloaded_packages\n"
     ]
    },
    {
     "name": "stderr",
     "output_type": "stream",
     "text": [
      "Installing package into 'C:/Users/sam_h/AppData/Local/R/win-library/4.4'\n",
      "(as 'lib' is unspecified)\n",
      "\n"
     ]
    },
    {
     "name": "stdout",
     "output_type": "stream",
     "text": [
      "package 'ggcorrplot' successfully unpacked and MD5 sums checked\n",
      "\n",
      "The downloaded binary packages are in\n",
      "\tC:\\Users\\sam_h\\AppData\\Local\\Temp\\RtmpgN9iUT\\downloaded_packages\n"
     ]
    },
    {
     "name": "stderr",
     "output_type": "stream",
     "text": [
      "Installing package into 'C:/Users/sam_h/AppData/Local/R/win-library/4.4'\n",
      "(as 'lib' is unspecified)\n",
      "\n"
     ]
    },
    {
     "name": "stdout",
     "output_type": "stream",
     "text": [
      "package 'tidymodels' successfully unpacked and MD5 sums checked\n",
      "\n",
      "The downloaded binary packages are in\n",
      "\tC:\\Users\\sam_h\\AppData\\Local\\Temp\\RtmpgN9iUT\\downloaded_packages\n"
     ]
    },
    {
     "name": "stderr",
     "output_type": "stream",
     "text": [
      "Installing package into 'C:/Users/sam_h/AppData/Local/R/win-library/4.4'\n",
      "(as 'lib' is unspecified)\n",
      "\n"
     ]
    },
    {
     "name": "stdout",
     "output_type": "stream",
     "text": [
      "package 'vip' successfully unpacked and MD5 sums checked\n",
      "\n",
      "The downloaded binary packages are in\n",
      "\tC:\\Users\\sam_h\\AppData\\Local\\Temp\\RtmpgN9iUT\\downloaded_packages\n"
     ]
    },
    {
     "name": "stderr",
     "output_type": "stream",
     "text": [
      "Installing package into 'C:/Users/sam_h/AppData/Local/R/win-library/4.4'\n",
      "(as 'lib' is unspecified)\n",
      "\n"
     ]
    },
    {
     "name": "stdout",
     "output_type": "stream",
     "text": [
      "package 'pdp' successfully unpacked and MD5 sums checked\n"
     ]
    },
    {
     "name": "stderr",
     "output_type": "stream",
     "text": [
      "Warning message:\n",
      "\"cannot remove prior installation of package 'pdp'\"\n",
      "Warning message in file.copy(savedcopy, lib, recursive = TRUE):\n",
      "\"problem copying C:\\Users\\sam_h\\AppData\\Local\\R\\win-library\\4.4\\00LOCK\\pdp\\libs\\x64\\pdp.dll to C:\\Users\\sam_h\\AppData\\Local\\R\\win-library\\4.4\\pdp\\libs\\x64\\pdp.dll: Permission denied\"\n",
      "Warning message:\n",
      "\"restored 'pdp'\"\n"
     ]
    },
    {
     "name": "stdout",
     "output_type": "stream",
     "text": [
      "\n",
      "The downloaded binary packages are in\n",
      "\tC:\\Users\\sam_h\\AppData\\Local\\Temp\\RtmpgN9iUT\\downloaded_packages\n"
     ]
    }
   ],
   "source": [
    "# Install packages\n",
    "install.packages(\"tidyverse\") # data manipulation\n",
    "install.packages(\"effsize\") # effect size calculation\n",
    "install.packages(\"ggcorrplot\") # correlation matrix\n",
    "install.packages(\"tidymodels\") # machine learning\n",
    "install.packages(\"vip\") # feature importance in ML models\n",
    "install.packages(\"pdp\") # plotting partial dependencies"
   ]
  },
  {
   "cell_type": "code",
   "execution_count": 2,
   "id": "06f1683a",
   "metadata": {
    "vscode": {
     "languageId": "r"
    }
   },
   "outputs": [
    {
     "name": "stderr",
     "output_type": "stream",
     "text": [
      "── \u001b[1mAttaching core tidyverse packages\u001b[22m ──────────────────────── tidyverse 2.0.0 ──\n",
      "\u001b[32m✔\u001b[39m \u001b[34mdplyr    \u001b[39m 1.1.4     \u001b[32m✔\u001b[39m \u001b[34mreadr    \u001b[39m 2.1.5\n",
      "\u001b[32m✔\u001b[39m \u001b[34mforcats  \u001b[39m 1.0.0     \u001b[32m✔\u001b[39m \u001b[34mstringr  \u001b[39m 1.5.1\n",
      "\u001b[32m✔\u001b[39m \u001b[34mggplot2  \u001b[39m 3.5.1     \u001b[32m✔\u001b[39m \u001b[34mtibble   \u001b[39m 3.2.1\n",
      "\u001b[32m✔\u001b[39m \u001b[34mlubridate\u001b[39m 1.9.3     \u001b[32m✔\u001b[39m \u001b[34mtidyr    \u001b[39m 1.3.1\n",
      "\u001b[32m✔\u001b[39m \u001b[34mpurrr    \u001b[39m 1.0.4     \n",
      "── \u001b[1mConflicts\u001b[22m ────────────────────────────────────────── tidyverse_conflicts() ──\n",
      "\u001b[31m✖\u001b[39m \u001b[34mdplyr\u001b[39m::\u001b[32mfilter()\u001b[39m masks \u001b[34mstats\u001b[39m::filter()\n",
      "\u001b[31m✖\u001b[39m \u001b[34mdplyr\u001b[39m::\u001b[32mlag()\u001b[39m    masks \u001b[34mstats\u001b[39m::lag()\n",
      "\u001b[36mℹ\u001b[39m Use the conflicted package (\u001b[3m\u001b[34m<http://conflicted.r-lib.org/>\u001b[39m\u001b[23m) to force all conflicts to become errors\n",
      "── \u001b[1mAttaching packages\u001b[22m ────────────────────────────────────── tidymodels 1.3.0 ──\n",
      "\n",
      "\u001b[32m✔\u001b[39m \u001b[34mbroom       \u001b[39m 1.0.7     \u001b[32m✔\u001b[39m \u001b[34mrsample     \u001b[39m 1.2.1\n",
      "\u001b[32m✔\u001b[39m \u001b[34mdials       \u001b[39m 1.4.0     \u001b[32m✔\u001b[39m \u001b[34mtune        \u001b[39m 1.3.0\n",
      "\u001b[32m✔\u001b[39m \u001b[34minfer       \u001b[39m 1.0.7     \u001b[32m✔\u001b[39m \u001b[34mworkflows   \u001b[39m 1.2.0\n",
      "\u001b[32m✔\u001b[39m \u001b[34mmodeldata   \u001b[39m 1.4.0     \u001b[32m✔\u001b[39m \u001b[34mworkflowsets\u001b[39m 1.1.0\n",
      "\u001b[32m✔\u001b[39m \u001b[34mparsnip     \u001b[39m 1.3.1     \u001b[32m✔\u001b[39m \u001b[34myardstick   \u001b[39m 1.3.2\n",
      "\u001b[32m✔\u001b[39m \u001b[34mrecipes     \u001b[39m 1.2.0     \n",
      "\n",
      "── \u001b[1mConflicts\u001b[22m ───────────────────────────────────────── tidymodels_conflicts() ──\n",
      "\u001b[31m✖\u001b[39m \u001b[34mscales\u001b[39m::\u001b[32mdiscard()\u001b[39m masks \u001b[34mpurrr\u001b[39m::discard()\n",
      "\u001b[31m✖\u001b[39m \u001b[34mdplyr\u001b[39m::\u001b[32mfilter()\u001b[39m   masks \u001b[34mstats\u001b[39m::filter()\n",
      "\u001b[31m✖\u001b[39m \u001b[34mrecipes\u001b[39m::\u001b[32mfixed()\u001b[39m  masks \u001b[34mstringr\u001b[39m::fixed()\n",
      "\u001b[31m✖\u001b[39m \u001b[34mdplyr\u001b[39m::\u001b[32mlag()\u001b[39m      masks \u001b[34mstats\u001b[39m::lag()\n",
      "\u001b[31m✖\u001b[39m \u001b[34myardstick\u001b[39m::\u001b[32mspec()\u001b[39m masks \u001b[34mreadr\u001b[39m::spec()\n",
      "\u001b[31m✖\u001b[39m \u001b[34mrecipes\u001b[39m::\u001b[32mstep()\u001b[39m   masks \u001b[34mstats\u001b[39m::step()\n",
      "\n",
      "\n",
      "Attaching package: 'vip'\n",
      "\n",
      "\n",
      "The following object is masked from 'package:utils':\n",
      "\n",
      "    vi\n",
      "\n",
      "\n",
      "\n",
      "Attaching package: 'pdp'\n",
      "\n",
      "\n",
      "The following object is masked from 'package:purrr':\n",
      "\n",
      "    partial\n",
      "\n",
      "\n"
     ]
    }
   ],
   "source": [
    "# Load packages\n",
    "library(tidyverse)\n",
    "library(effsize)\n",
    "library(ggcorrplot)\n",
    "library(tidymodels)\n",
    "library(vip)\n",
    "library(pdp)"
   ]
  },
  {
   "cell_type": "markdown",
   "id": "8f19d5dc",
   "metadata": {},
   "source": [
    "## 2. Prepare the Dataset"
   ]
  },
  {
   "cell_type": "markdown",
   "id": "34ebfc9e",
   "metadata": {},
   "source": [
    "### 2.1 Load & Preview"
   ]
  },
  {
   "cell_type": "code",
   "execution_count": 3,
   "id": "20d6129e",
   "metadata": {
    "vscode": {
     "languageId": "r"
    }
   },
   "outputs": [],
   "source": [
    "# Load the dataset\n",
    "hr <- read.csv(\"hr_employee_attrition_dataset.csv\")"
   ]
  },
  {
   "cell_type": "code",
   "execution_count": 4,
   "id": "10024e7c",
   "metadata": {
    "vscode": {
     "languageId": "r"
    }
   },
   "outputs": [
    {
     "data": {
      "text/html": [
       "<table class=\"dataframe\">\n",
       "<caption>A data.frame: 6 × 35</caption>\n",
       "<thead>\n",
       "\t<tr><th></th><th scope=col>Age</th><th scope=col>Attrition</th><th scope=col>BusinessTravel</th><th scope=col>DailyRate</th><th scope=col>Department</th><th scope=col>DistanceFromHome</th><th scope=col>Education</th><th scope=col>EducationField</th><th scope=col>EmployeeCount</th><th scope=col>EmployeeNumber</th><th scope=col>⋯</th><th scope=col>RelationshipSatisfaction</th><th scope=col>StandardHours</th><th scope=col>StockOptionLevel</th><th scope=col>TotalWorkingYears</th><th scope=col>TrainingTimesLastYear</th><th scope=col>WorkLifeBalance</th><th scope=col>YearsAtCompany</th><th scope=col>YearsInCurrentRole</th><th scope=col>YearsSinceLastPromotion</th><th scope=col>YearsWithCurrManager</th></tr>\n",
       "\t<tr><th></th><th scope=col>&lt;int&gt;</th><th scope=col>&lt;chr&gt;</th><th scope=col>&lt;chr&gt;</th><th scope=col>&lt;int&gt;</th><th scope=col>&lt;chr&gt;</th><th scope=col>&lt;int&gt;</th><th scope=col>&lt;int&gt;</th><th scope=col>&lt;chr&gt;</th><th scope=col>&lt;int&gt;</th><th scope=col>&lt;int&gt;</th><th scope=col>⋯</th><th scope=col>&lt;int&gt;</th><th scope=col>&lt;int&gt;</th><th scope=col>&lt;int&gt;</th><th scope=col>&lt;int&gt;</th><th scope=col>&lt;int&gt;</th><th scope=col>&lt;int&gt;</th><th scope=col>&lt;int&gt;</th><th scope=col>&lt;int&gt;</th><th scope=col>&lt;int&gt;</th><th scope=col>&lt;int&gt;</th></tr>\n",
       "</thead>\n",
       "<tbody>\n",
       "\t<tr><th scope=row>1</th><td>41</td><td>Yes</td><td>Travel_Rarely    </td><td>1102</td><td>Sales                 </td><td>1</td><td>2</td><td>Life Sciences</td><td>1</td><td>1</td><td>⋯</td><td>1</td><td>80</td><td>0</td><td> 8</td><td>0</td><td>1</td><td> 6</td><td>4</td><td>0</td><td>5</td></tr>\n",
       "\t<tr><th scope=row>2</th><td>49</td><td>No </td><td>Travel_Frequently</td><td> 279</td><td>Research &amp; Development</td><td>8</td><td>1</td><td>Life Sciences</td><td>1</td><td>2</td><td>⋯</td><td>4</td><td>80</td><td>1</td><td>10</td><td>3</td><td>3</td><td>10</td><td>7</td><td>1</td><td>7</td></tr>\n",
       "\t<tr><th scope=row>3</th><td>37</td><td>Yes</td><td><span style=white-space:pre-wrap>Travel_Rarely    </span></td><td>1373</td><td>Research &amp; Development</td><td>2</td><td>2</td><td><span style=white-space:pre-wrap>Other        </span></td><td>1</td><td>4</td><td>⋯</td><td>2</td><td>80</td><td>0</td><td> 7</td><td>3</td><td>3</td><td> 0</td><td>0</td><td>0</td><td>0</td></tr>\n",
       "\t<tr><th scope=row>4</th><td>33</td><td>No </td><td>Travel_Frequently</td><td>1392</td><td>Research &amp; Development</td><td>3</td><td>4</td><td>Life Sciences</td><td>1</td><td>5</td><td>⋯</td><td>3</td><td>80</td><td>0</td><td> 8</td><td>3</td><td>3</td><td> 8</td><td>7</td><td>3</td><td>0</td></tr>\n",
       "\t<tr><th scope=row>5</th><td>27</td><td>No </td><td><span style=white-space:pre-wrap>Travel_Rarely    </span></td><td> 591</td><td>Research &amp; Development</td><td>2</td><td>1</td><td><span style=white-space:pre-wrap>Medical      </span></td><td>1</td><td>7</td><td>⋯</td><td>4</td><td>80</td><td>1</td><td> 6</td><td>3</td><td>3</td><td> 2</td><td>2</td><td>2</td><td>2</td></tr>\n",
       "\t<tr><th scope=row>6</th><td>32</td><td>No </td><td>Travel_Frequently</td><td>1005</td><td>Research &amp; Development</td><td>2</td><td>2</td><td>Life Sciences</td><td>1</td><td>8</td><td>⋯</td><td>3</td><td>80</td><td>0</td><td> 8</td><td>2</td><td>2</td><td> 7</td><td>7</td><td>3</td><td>6</td></tr>\n",
       "</tbody>\n",
       "</table>\n"
      ],
      "text/latex": [
       "A data.frame: 6 × 35\n",
       "\\begin{tabular}{r|lllllllllllllllllllll}\n",
       "  & Age & Attrition & BusinessTravel & DailyRate & Department & DistanceFromHome & Education & EducationField & EmployeeCount & EmployeeNumber & ⋯ & RelationshipSatisfaction & StandardHours & StockOptionLevel & TotalWorkingYears & TrainingTimesLastYear & WorkLifeBalance & YearsAtCompany & YearsInCurrentRole & YearsSinceLastPromotion & YearsWithCurrManager\\\\\n",
       "  & <int> & <chr> & <chr> & <int> & <chr> & <int> & <int> & <chr> & <int> & <int> & ⋯ & <int> & <int> & <int> & <int> & <int> & <int> & <int> & <int> & <int> & <int>\\\\\n",
       "\\hline\n",
       "\t1 & 41 & Yes & Travel\\_Rarely     & 1102 & Sales                  & 1 & 2 & Life Sciences & 1 & 1 & ⋯ & 1 & 80 & 0 &  8 & 0 & 1 &  6 & 4 & 0 & 5\\\\\n",
       "\t2 & 49 & No  & Travel\\_Frequently &  279 & Research \\& Development & 8 & 1 & Life Sciences & 1 & 2 & ⋯ & 4 & 80 & 1 & 10 & 3 & 3 & 10 & 7 & 1 & 7\\\\\n",
       "\t3 & 37 & Yes & Travel\\_Rarely     & 1373 & Research \\& Development & 2 & 2 & Other         & 1 & 4 & ⋯ & 2 & 80 & 0 &  7 & 3 & 3 &  0 & 0 & 0 & 0\\\\\n",
       "\t4 & 33 & No  & Travel\\_Frequently & 1392 & Research \\& Development & 3 & 4 & Life Sciences & 1 & 5 & ⋯ & 3 & 80 & 0 &  8 & 3 & 3 &  8 & 7 & 3 & 0\\\\\n",
       "\t5 & 27 & No  & Travel\\_Rarely     &  591 & Research \\& Development & 2 & 1 & Medical       & 1 & 7 & ⋯ & 4 & 80 & 1 &  6 & 3 & 3 &  2 & 2 & 2 & 2\\\\\n",
       "\t6 & 32 & No  & Travel\\_Frequently & 1005 & Research \\& Development & 2 & 2 & Life Sciences & 1 & 8 & ⋯ & 3 & 80 & 0 &  8 & 2 & 2 &  7 & 7 & 3 & 6\\\\\n",
       "\\end{tabular}\n"
      ],
      "text/markdown": [
       "\n",
       "A data.frame: 6 × 35\n",
       "\n",
       "| <!--/--> | Age &lt;int&gt; | Attrition &lt;chr&gt; | BusinessTravel &lt;chr&gt; | DailyRate &lt;int&gt; | Department &lt;chr&gt; | DistanceFromHome &lt;int&gt; | Education &lt;int&gt; | EducationField &lt;chr&gt; | EmployeeCount &lt;int&gt; | EmployeeNumber &lt;int&gt; | ⋯ ⋯ | RelationshipSatisfaction &lt;int&gt; | StandardHours &lt;int&gt; | StockOptionLevel &lt;int&gt; | TotalWorkingYears &lt;int&gt; | TrainingTimesLastYear &lt;int&gt; | WorkLifeBalance &lt;int&gt; | YearsAtCompany &lt;int&gt; | YearsInCurrentRole &lt;int&gt; | YearsSinceLastPromotion &lt;int&gt; | YearsWithCurrManager &lt;int&gt; |\n",
       "|---|---|---|---|---|---|---|---|---|---|---|---|---|---|---|---|---|---|---|---|---|---|\n",
       "| 1 | 41 | Yes | Travel_Rarely     | 1102 | Sales                  | 1 | 2 | Life Sciences | 1 | 1 | ⋯ | 1 | 80 | 0 |  8 | 0 | 1 |  6 | 4 | 0 | 5 |\n",
       "| 2 | 49 | No  | Travel_Frequently |  279 | Research &amp; Development | 8 | 1 | Life Sciences | 1 | 2 | ⋯ | 4 | 80 | 1 | 10 | 3 | 3 | 10 | 7 | 1 | 7 |\n",
       "| 3 | 37 | Yes | Travel_Rarely     | 1373 | Research &amp; Development | 2 | 2 | Other         | 1 | 4 | ⋯ | 2 | 80 | 0 |  7 | 3 | 3 |  0 | 0 | 0 | 0 |\n",
       "| 4 | 33 | No  | Travel_Frequently | 1392 | Research &amp; Development | 3 | 4 | Life Sciences | 1 | 5 | ⋯ | 3 | 80 | 0 |  8 | 3 | 3 |  8 | 7 | 3 | 0 |\n",
       "| 5 | 27 | No  | Travel_Rarely     |  591 | Research &amp; Development | 2 | 1 | Medical       | 1 | 7 | ⋯ | 4 | 80 | 1 |  6 | 3 | 3 |  2 | 2 | 2 | 2 |\n",
       "| 6 | 32 | No  | Travel_Frequently | 1005 | Research &amp; Development | 2 | 2 | Life Sciences | 1 | 8 | ⋯ | 3 | 80 | 0 |  8 | 2 | 2 |  7 | 7 | 3 | 6 |\n",
       "\n"
      ],
      "text/plain": [
       "  Age Attrition BusinessTravel    DailyRate Department            \n",
       "1 41  Yes       Travel_Rarely     1102      Sales                 \n",
       "2 49  No        Travel_Frequently  279      Research & Development\n",
       "3 37  Yes       Travel_Rarely     1373      Research & Development\n",
       "4 33  No        Travel_Frequently 1392      Research & Development\n",
       "5 27  No        Travel_Rarely      591      Research & Development\n",
       "6 32  No        Travel_Frequently 1005      Research & Development\n",
       "  DistanceFromHome Education EducationField EmployeeCount EmployeeNumber ⋯\n",
       "1 1                2         Life Sciences  1             1              ⋯\n",
       "2 8                1         Life Sciences  1             2              ⋯\n",
       "3 2                2         Other          1             4              ⋯\n",
       "4 3                4         Life Sciences  1             5              ⋯\n",
       "5 2                1         Medical        1             7              ⋯\n",
       "6 2                2         Life Sciences  1             8              ⋯\n",
       "  RelationshipSatisfaction StandardHours StockOptionLevel TotalWorkingYears\n",
       "1 1                        80            0                 8               \n",
       "2 4                        80            1                10               \n",
       "3 2                        80            0                 7               \n",
       "4 3                        80            0                 8               \n",
       "5 4                        80            1                 6               \n",
       "6 3                        80            0                 8               \n",
       "  TrainingTimesLastYear WorkLifeBalance YearsAtCompany YearsInCurrentRole\n",
       "1 0                     1                6             4                 \n",
       "2 3                     3               10             7                 \n",
       "3 3                     3                0             0                 \n",
       "4 3                     3                8             7                 \n",
       "5 3                     3                2             2                 \n",
       "6 2                     2                7             7                 \n",
       "  YearsSinceLastPromotion YearsWithCurrManager\n",
       "1 0                       5                   \n",
       "2 1                       7                   \n",
       "3 0                       0                   \n",
       "4 3                       0                   \n",
       "5 2                       2                   \n",
       "6 3                       6                   "
      ]
     },
     "metadata": {},
     "output_type": "display_data"
    }
   ],
   "source": [
    "# Preview the first 6 rows\n",
    "head(hr)"
   ]
  },
  {
   "cell_type": "code",
   "execution_count": 5,
   "id": "b00265f2",
   "metadata": {
    "vscode": {
     "languageId": "r"
    }
   },
   "outputs": [
    {
     "name": "stdout",
     "output_type": "stream",
     "text": [
      "Rows: 1,470\n",
      "Columns: 35\n",
      "$ Age                      \u001b[3m\u001b[90m<int>\u001b[39m\u001b[23m 41, 49, 37, 33, 27, 32, 59, 30, 38, 36, 35, 2…\n",
      "$ Attrition                \u001b[3m\u001b[90m<chr>\u001b[39m\u001b[23m \"Yes\", \"No\", \"Yes\", \"No\", \"No\", \"No\", \"No\", \"…\n",
      "$ BusinessTravel           \u001b[3m\u001b[90m<chr>\u001b[39m\u001b[23m \"Travel_Rarely\", \"Travel_Frequently\", \"Travel…\n",
      "$ DailyRate                \u001b[3m\u001b[90m<int>\u001b[39m\u001b[23m 1102, 279, 1373, 1392, 591, 1005, 1324, 1358,…\n",
      "$ Department               \u001b[3m\u001b[90m<chr>\u001b[39m\u001b[23m \"Sales\", \"Research & Development\", \"Research …\n",
      "$ DistanceFromHome         \u001b[3m\u001b[90m<int>\u001b[39m\u001b[23m 1, 8, 2, 3, 2, 2, 3, 24, 23, 27, 16, 15, 26, …\n",
      "$ Education                \u001b[3m\u001b[90m<int>\u001b[39m\u001b[23m 2, 1, 2, 4, 1, 2, 3, 1, 3, 3, 3, 2, 1, 2, 3, …\n",
      "$ EducationField           \u001b[3m\u001b[90m<chr>\u001b[39m\u001b[23m \"Life Sciences\", \"Life Sciences\", \"Other\", \"L…\n",
      "$ EmployeeCount            \u001b[3m\u001b[90m<int>\u001b[39m\u001b[23m 1, 1, 1, 1, 1, 1, 1, 1, 1, 1, 1, 1, 1, 1, 1, …\n",
      "$ EmployeeNumber           \u001b[3m\u001b[90m<int>\u001b[39m\u001b[23m 1, 2, 4, 5, 7, 8, 10, 11, 12, 13, 14, 15, 16,…\n",
      "$ EnvironmentSatisfaction  \u001b[3m\u001b[90m<int>\u001b[39m\u001b[23m 2, 3, 4, 4, 1, 4, 3, 4, 4, 3, 1, 4, 1, 2, 3, …\n",
      "$ Gender                   \u001b[3m\u001b[90m<chr>\u001b[39m\u001b[23m \"Female\", \"Male\", \"Male\", \"Female\", \"Male\", \"…\n",
      "$ HourlyRate               \u001b[3m\u001b[90m<int>\u001b[39m\u001b[23m 94, 61, 92, 56, 40, 79, 81, 67, 44, 94, 84, 4…\n",
      "$ JobInvolvement           \u001b[3m\u001b[90m<int>\u001b[39m\u001b[23m 3, 2, 2, 3, 3, 3, 4, 3, 2, 3, 4, 2, 3, 3, 2, …\n",
      "$ JobLevel                 \u001b[3m\u001b[90m<int>\u001b[39m\u001b[23m 2, 2, 1, 1, 1, 1, 1, 1, 3, 2, 1, 2, 1, 1, 1, …\n",
      "$ JobRole                  \u001b[3m\u001b[90m<chr>\u001b[39m\u001b[23m \"Sales Executive\", \"Research Scientist\", \"Lab…\n",
      "$ JobSatisfaction          \u001b[3m\u001b[90m<int>\u001b[39m\u001b[23m 4, 2, 3, 3, 2, 4, 1, 3, 3, 3, 2, 3, 3, 4, 3, …\n",
      "$ MaritalStatus            \u001b[3m\u001b[90m<chr>\u001b[39m\u001b[23m \"Single\", \"Married\", \"Single\", \"Married\", \"Ma…\n",
      "$ MonthlyIncome            \u001b[3m\u001b[90m<int>\u001b[39m\u001b[23m 5993, 5130, 2090, 2909, 3468, 3068, 2670, 269…\n",
      "$ MonthlyRate              \u001b[3m\u001b[90m<int>\u001b[39m\u001b[23m 19479, 24907, 2396, 23159, 16632, 11864, 9964…\n",
      "$ NumCompaniesWorked       \u001b[3m\u001b[90m<int>\u001b[39m\u001b[23m 8, 1, 6, 1, 9, 0, 4, 1, 0, 6, 0, 0, 1, 0, 5, …\n",
      "$ Over18                   \u001b[3m\u001b[90m<chr>\u001b[39m\u001b[23m \"Y\", \"Y\", \"Y\", \"Y\", \"Y\", \"Y\", \"Y\", \"Y\", \"Y\", …\n",
      "$ OverTime                 \u001b[3m\u001b[90m<chr>\u001b[39m\u001b[23m \"Yes\", \"No\", \"Yes\", \"Yes\", \"No\", \"No\", \"Yes\",…\n",
      "$ PercentSalaryHike        \u001b[3m\u001b[90m<int>\u001b[39m\u001b[23m 11, 23, 15, 11, 12, 13, 20, 22, 21, 13, 13, 1…\n",
      "$ PerformanceRating        \u001b[3m\u001b[90m<int>\u001b[39m\u001b[23m 3, 4, 3, 3, 3, 3, 4, 4, 4, 3, 3, 3, 3, 3, 3, …\n",
      "$ RelationshipSatisfaction \u001b[3m\u001b[90m<int>\u001b[39m\u001b[23m 1, 4, 2, 3, 4, 3, 1, 2, 2, 2, 3, 4, 4, 3, 2, …\n",
      "$ StandardHours            \u001b[3m\u001b[90m<int>\u001b[39m\u001b[23m 80, 80, 80, 80, 80, 80, 80, 80, 80, 80, 80, 8…\n",
      "$ StockOptionLevel         \u001b[3m\u001b[90m<int>\u001b[39m\u001b[23m 0, 1, 0, 0, 1, 0, 3, 1, 0, 2, 1, 0, 1, 1, 0, …\n",
      "$ TotalWorkingYears        \u001b[3m\u001b[90m<int>\u001b[39m\u001b[23m 8, 10, 7, 8, 6, 8, 12, 1, 10, 17, 6, 10, 5, 3…\n",
      "$ TrainingTimesLastYear    \u001b[3m\u001b[90m<int>\u001b[39m\u001b[23m 0, 3, 3, 3, 3, 2, 3, 2, 2, 3, 5, 3, 1, 2, 4, …\n",
      "$ WorkLifeBalance          \u001b[3m\u001b[90m<int>\u001b[39m\u001b[23m 1, 3, 3, 3, 3, 2, 2, 3, 3, 2, 3, 3, 2, 3, 3, …\n",
      "$ YearsAtCompany           \u001b[3m\u001b[90m<int>\u001b[39m\u001b[23m 6, 10, 0, 8, 2, 7, 1, 1, 9, 7, 5, 9, 5, 2, 4,…\n",
      "$ YearsInCurrentRole       \u001b[3m\u001b[90m<int>\u001b[39m\u001b[23m 4, 7, 0, 7, 2, 7, 0, 0, 7, 7, 4, 5, 2, 2, 2, …\n",
      "$ YearsSinceLastPromotion  \u001b[3m\u001b[90m<int>\u001b[39m\u001b[23m 0, 1, 0, 3, 2, 3, 0, 0, 1, 7, 0, 0, 4, 1, 0, …\n",
      "$ YearsWithCurrManager     \u001b[3m\u001b[90m<int>\u001b[39m\u001b[23m 5, 7, 0, 0, 2, 6, 0, 0, 8, 7, 3, 8, 3, 2, 3, …\n"
     ]
    }
   ],
   "source": [
    "# View the structure\n",
    "glimpse(hr)"
   ]
  },
  {
   "cell_type": "markdown",
   "id": "efb61e29",
   "metadata": {},
   "source": [
    "### 2.2 Explore & Clean the Data"
   ]
  },
  {
   "cell_type": "code",
   "execution_count": 11,
   "id": "578375ab",
   "metadata": {
    "vscode": {
     "languageId": "r"
    }
   },
   "outputs": [
    {
     "name": "stdout",
     "output_type": "stream",
     "text": [
      "Rows: 1,470\n",
      "Columns: 35\n",
      "$ Age                      \u001b[3m\u001b[90m<int>\u001b[39m\u001b[23m 41, 49, 37, 33, 27, 32, 59, 30, 38, 36, 35, 2…\n",
      "$ Attrition                \u001b[3m\u001b[90m<fct>\u001b[39m\u001b[23m Yes, No, Yes, No, No, No, No, No, No, No, No,…\n",
      "$ BusinessTravel           \u001b[3m\u001b[90m<fct>\u001b[39m\u001b[23m Travel_Rarely, Travel_Frequently, Travel_Rare…\n",
      "$ DailyRate                \u001b[3m\u001b[90m<int>\u001b[39m\u001b[23m 1102, 279, 1373, 1392, 591, 1005, 1324, 1358,…\n",
      "$ Department               \u001b[3m\u001b[90m<fct>\u001b[39m\u001b[23m Sales, Research & Development, Research & Dev…\n",
      "$ DistanceFromHome         \u001b[3m\u001b[90m<int>\u001b[39m\u001b[23m 1, 8, 2, 3, 2, 2, 3, 24, 23, 27, 16, 15, 26, …\n",
      "$ Education                \u001b[3m\u001b[90m<fct>\u001b[39m\u001b[23m 2, 1, 2, 4, 1, 2, 3, 1, 3, 3, 3, 2, 1, 2, 3, …\n",
      "$ EducationField           \u001b[3m\u001b[90m<fct>\u001b[39m\u001b[23m Life Sciences, Life Sciences, Other, Life Sci…\n",
      "$ EmployeeCount            \u001b[3m\u001b[90m<int>\u001b[39m\u001b[23m 1, 1, 1, 1, 1, 1, 1, 1, 1, 1, 1, 1, 1, 1, 1, …\n",
      "$ EmployeeNumber           \u001b[3m\u001b[90m<int>\u001b[39m\u001b[23m 1, 2, 4, 5, 7, 8, 10, 11, 12, 13, 14, 15, 16,…\n",
      "$ EnvironmentSatisfaction  \u001b[3m\u001b[90m<int>\u001b[39m\u001b[23m 2, 3, 4, 4, 1, 4, 3, 4, 4, 3, 1, 4, 1, 2, 3, …\n",
      "$ Gender                   \u001b[3m\u001b[90m<fct>\u001b[39m\u001b[23m Female, Male, Male, Female, Male, Male, Femal…\n",
      "$ HourlyRate               \u001b[3m\u001b[90m<int>\u001b[39m\u001b[23m 94, 61, 92, 56, 40, 79, 81, 67, 44, 94, 84, 4…\n",
      "$ JobInvolvement           \u001b[3m\u001b[90m<int>\u001b[39m\u001b[23m 3, 2, 2, 3, 3, 3, 4, 3, 2, 3, 4, 2, 3, 3, 2, …\n",
      "$ JobLevel                 \u001b[3m\u001b[90m<fct>\u001b[39m\u001b[23m 2, 2, 1, 1, 1, 1, 1, 1, 3, 2, 1, 2, 1, 1, 1, …\n",
      "$ JobRole                  \u001b[3m\u001b[90m<fct>\u001b[39m\u001b[23m Sales Executive, Research Scientist, Laborato…\n",
      "$ JobSatisfaction          \u001b[3m\u001b[90m<int>\u001b[39m\u001b[23m 4, 2, 3, 3, 2, 4, 1, 3, 3, 3, 2, 3, 3, 4, 3, …\n",
      "$ MaritalStatus            \u001b[3m\u001b[90m<fct>\u001b[39m\u001b[23m Single, Married, Single, Married, Married, Si…\n",
      "$ MonthlyIncome            \u001b[3m\u001b[90m<int>\u001b[39m\u001b[23m 5993, 5130, 2090, 2909, 3468, 3068, 2670, 269…\n",
      "$ MonthlyRate              \u001b[3m\u001b[90m<int>\u001b[39m\u001b[23m 19479, 24907, 2396, 23159, 16632, 11864, 9964…\n",
      "$ NumCompaniesWorked       \u001b[3m\u001b[90m<int>\u001b[39m\u001b[23m 8, 1, 6, 1, 9, 0, 4, 1, 0, 6, 0, 0, 1, 0, 5, …\n",
      "$ Over18                   \u001b[3m\u001b[90m<fct>\u001b[39m\u001b[23m Y, Y, Y, Y, Y, Y, Y, Y, Y, Y, Y, Y, Y, Y, Y, …\n",
      "$ OverTime                 \u001b[3m\u001b[90m<fct>\u001b[39m\u001b[23m Yes, No, Yes, Yes, No, No, Yes, No, No, No, N…\n",
      "$ PercentSalaryHike        \u001b[3m\u001b[90m<int>\u001b[39m\u001b[23m 11, 23, 15, 11, 12, 13, 20, 22, 21, 13, 13, 1…\n",
      "$ PerformanceRating        \u001b[3m\u001b[90m<int>\u001b[39m\u001b[23m 3, 4, 3, 3, 3, 3, 4, 4, 4, 3, 3, 3, 3, 3, 3, …\n",
      "$ RelationshipSatisfaction \u001b[3m\u001b[90m<int>\u001b[39m\u001b[23m 1, 4, 2, 3, 4, 3, 1, 2, 2, 2, 3, 4, 4, 3, 2, …\n",
      "$ StandardHours            \u001b[3m\u001b[90m<int>\u001b[39m\u001b[23m 80, 80, 80, 80, 80, 80, 80, 80, 80, 80, 80, 8…\n",
      "$ StockOptionLevel         \u001b[3m\u001b[90m<fct>\u001b[39m\u001b[23m 0, 1, 0, 0, 1, 0, 3, 1, 0, 2, 1, 0, 1, 1, 0, …\n",
      "$ TotalWorkingYears        \u001b[3m\u001b[90m<int>\u001b[39m\u001b[23m 8, 10, 7, 8, 6, 8, 12, 1, 10, 17, 6, 10, 5, 3…\n",
      "$ TrainingTimesLastYear    \u001b[3m\u001b[90m<int>\u001b[39m\u001b[23m 0, 3, 3, 3, 3, 2, 3, 2, 2, 3, 5, 3, 1, 2, 4, …\n",
      "$ WorkLifeBalance          \u001b[3m\u001b[90m<int>\u001b[39m\u001b[23m 1, 3, 3, 3, 3, 2, 2, 3, 3, 2, 3, 3, 2, 3, 3, …\n",
      "$ YearsAtCompany           \u001b[3m\u001b[90m<int>\u001b[39m\u001b[23m 6, 10, 0, 8, 2, 7, 1, 1, 9, 7, 5, 9, 5, 2, 4,…\n",
      "$ YearsInCurrentRole       \u001b[3m\u001b[90m<int>\u001b[39m\u001b[23m 4, 7, 0, 7, 2, 7, 0, 0, 7, 7, 4, 5, 2, 2, 2, …\n",
      "$ YearsSinceLastPromotion  \u001b[3m\u001b[90m<int>\u001b[39m\u001b[23m 0, 1, 0, 3, 2, 3, 0, 0, 1, 7, 0, 0, 4, 1, 0, …\n",
      "$ YearsWithCurrManager     \u001b[3m\u001b[90m<int>\u001b[39m\u001b[23m 5, 7, 0, 0, 2, 6, 0, 0, 8, 7, 3, 8, 3, 2, 3, …\n"
     ]
    }
   ],
   "source": [
    "# Convert categorical variables to factor\n",
    "\n",
    "## Define categorical variables\n",
    "cat_vars <- c(\"Attrition\", \"BusinessTravel\", \"Department\",\n",
    "              \"Education\", \"EducationField\", \"Gender\",\n",
    "              \"JobLevel\", \"JobRole\", \"MaritalStatus\",\n",
    "              \"Over18\", \"OverTime\", \"StockOptionLevel\")\n",
    "\n",
    "## Convert to factor\n",
    "hr_cleaned <- hr |>\n",
    "  \n",
    "  ### Mutate across\n",
    "  mutate(across(all_of(cat_vars), as.factor))\n",
    "\n",
    "## Set attrition factor levels\n",
    "hr_cleaned$Attrition <- factor(hr_cleaned$Attrition,\n",
    "                               levels = c(\"Yes\", \"No\"))\n",
    "\n",
    "## Check the results\n",
    "glimpse(hr_cleaned)\n"
   ]
  },
  {
   "cell_type": "markdown",
   "id": "aad0fa60",
   "metadata": {},
   "source": [
    "Comment: The categorical columns are successfully converted to `factor`."
   ]
  },
  {
   "cell_type": "code",
   "execution_count": 12,
   "id": "f1b1267e",
   "metadata": {
    "vscode": {
     "languageId": "r"
    }
   },
   "outputs": [
    {
     "data": {
      "text/html": [
       "FALSE"
      ],
      "text/latex": [
       "FALSE"
      ],
      "text/markdown": [
       "FALSE"
      ],
      "text/plain": [
       "[1] FALSE"
      ]
     },
     "metadata": {},
     "output_type": "display_data"
    }
   ],
   "source": [
    "# Handle missing values\n",
    "\n",
    "## Check for missing values\n",
    "anyNA(hr_cleaned)"
   ]
  },
  {
   "cell_type": "markdown",
   "id": "4121046c",
   "metadata": {},
   "source": [
    "Comment: There are no missing values in this dataset."
   ]
  },
  {
   "cell_type": "code",
   "execution_count": 13,
   "id": "04cf209d",
   "metadata": {
    "vscode": {
     "languageId": "r"
    }
   },
   "outputs": [
    {
     "data": {
      "text/html": [
       "<table class=\"dataframe\">\n",
       "<caption>A data.frame: 2 × 3</caption>\n",
       "<thead>\n",
       "\t<tr><th scope=col>Attrition</th><th scope=col>Count</th><th scope=col>Percent</th></tr>\n",
       "\t<tr><th scope=col>&lt;fct&gt;</th><th scope=col>&lt;int&gt;</th><th scope=col>&lt;dbl&gt;</th></tr>\n",
       "</thead>\n",
       "<tbody>\n",
       "\t<tr><td>Yes</td><td> 237</td><td>16.12</td></tr>\n",
       "\t<tr><td>No </td><td>1233</td><td>83.88</td></tr>\n",
       "</tbody>\n",
       "</table>\n"
      ],
      "text/latex": [
       "A data.frame: 2 × 3\n",
       "\\begin{tabular}{lll}\n",
       " Attrition & Count & Percent\\\\\n",
       " <fct> & <int> & <dbl>\\\\\n",
       "\\hline\n",
       "\t Yes &  237 & 16.12\\\\\n",
       "\t No  & 1233 & 83.88\\\\\n",
       "\\end{tabular}\n"
      ],
      "text/markdown": [
       "\n",
       "A data.frame: 2 × 3\n",
       "\n",
       "| Attrition &lt;fct&gt; | Count &lt;int&gt; | Percent &lt;dbl&gt; |\n",
       "|---|---|---|\n",
       "| Yes |  237 | 16.12 |\n",
       "| No  | 1233 | 83.88 |\n",
       "\n"
      ],
      "text/plain": [
       "  Attrition Count Percent\n",
       "1 Yes        237  16.12  \n",
       "2 No        1233  83.88  "
      ]
     },
     "metadata": {},
     "output_type": "display_data"
    }
   ],
   "source": [
    "# Summarise the attrition rate\n",
    "hr_cleaned |>\n",
    "  \n",
    "  ## Group and count by attrition\n",
    "  count(Attrition, name = \"Count\") |>\n",
    "  \n",
    "  ## Compute percentage\n",
    "  mutate(Percent = round(Count / sum(Count) * 100, 2))"
   ]
  },
  {
   "cell_type": "markdown",
   "id": "4288e834",
   "metadata": {},
   "source": [
    "Comment: The outcome has class imbalance where the positive class makes up around 1/4 of the observations."
   ]
  },
  {
   "cell_type": "markdown",
   "id": "6121a3b1",
   "metadata": {},
   "source": [
    "# 3. Exploratory Data Analysis (EDA)"
   ]
  },
  {
   "cell_type": "markdown",
   "id": "f8942c34",
   "metadata": {},
   "source": [
    "### 3.1 Part I – Overview"
   ]
  },
  {
   "cell_type": "code",
   "execution_count": 15,
   "id": "ceda4671",
   "metadata": {
    "vscode": {
     "languageId": "r"
    }
   },
   "outputs": [
    {
     "name": "stderr",
     "output_type": "stream",
     "text": [
      "Warning message in cor(select(mutate(hr_cleaned, AttritionEncoded = if_else(Attrition == :\n",
      "\"the standard deviation is zero\"\n"
     ]
    },
    {
     "data": {
      "image/png": "[encoded data removed]",
      "text/plain": [
       "plot without title"
      ]
     },
     "metadata": {
      "image/png": {
       "height": 420,
       "width": 420
      }
     },
     "output_type": "display_data"
    }
   ],
   "source": [
    "# Get an overview of the relationships in the data\n",
    "hr_cleaned |>\n",
    "  \n",
    "  ## Encode attrition to numeric\n",
    "  mutate(AttritionEncoded = if_else(Attrition == \"Yes\", 1, 0)) |>\n",
    "  \n",
    "  ## Select only numeric variables\n",
    "  select(where(is.numeric)) |>\n",
    "  \n",
    "  ## Create a correlation matrix\n",
    "  cor(use = \"complete.obs\") |>\n",
    "  \n",
    "  ## Visualise the correlation matrix\n",
    "  ggcorrplot(lab = TRUE,\n",
    "             type = \"lower\",\n",
    "             colors = c(\"blue\", \"white\", \"red\"),\n",
    "             lab_size = 2.0)"
   ]
  },
  {
   "cell_type": "markdown",
   "id": "496a60c3",
   "metadata": {},
   "source": [
    "Comments:\n",
    "- All correlations between attrition and other variables are low (min = 0; max = 0.17).\n",
    "- This suggests that attrition may be a result of a combination of several factors rather than any single factor alone."
   ]
  },
  {
   "cell_type": "markdown",
   "id": "83df7a9a",
   "metadata": {},
   "source": [
    "### 3.2 Part II - The Three Likely Predictors"
   ]
  },
  {
   "cell_type": "markdown",
   "id": "719fbdca",
   "metadata": {},
   "source": [
    "Explore 3 factors that are likely to contribute to attrition:\n",
    "1. **Monlthy income:** employees may leave due to insufficient financial incentive, where lower income associated with higher attrition rate.\n",
    "2. **Overtime:** employees may leave because of workload, where those with more overtime more likely to leave.\n",
    "3. **Environment satisfaction:** those unsatisfied with their workplace conditions may be more likely to leave."
   ]
  },
  {
   "cell_type": "markdown",
   "id": "53e8d531",
   "metadata": {},
   "source": [
    "#### 3.2.1 Factor 1 – Monthly Income"
   ]
  },
  {
   "cell_type": "code",
   "execution_count": 16,
   "id": "a044b973",
   "metadata": {
    "vscode": {
     "languageId": "r"
    }
   },
   "outputs": [
    {
     "data": {
      "image/png": "[encoded data removed]",
      "text/plain": [
       "plot without title"
      ]
     },
     "metadata": {
      "image/png": {
       "height": 420,
       "width": 420
      }
     },
     "output_type": "display_data"
    }
   ],
   "source": [
    "# 1. Monlthy income vs attrition\n",
    "hr_cleaned |>\n",
    "  \n",
    "  ## Group by attrition\n",
    "  group_by(Attrition) |>\n",
    "  \n",
    "  ## Summarise\n",
    "  summarise(AVGMonthlyIncome = mean(MonthlyIncome)) |>\n",
    "  \n",
    "  ## Ungroup\n",
    "  ungroup() |>\n",
    "  \n",
    "  ## Aesthetic mapping\n",
    "  ggplot(aes(x = Attrition,\n",
    "             y = AVGMonthlyIncome,\n",
    "             fill = Attrition)) +\n",
    "  \n",
    "  ## Call bar plot\n",
    "  geom_col() +\n",
    "  \n",
    "  ## Add text elements\n",
    "  labs(title = \"Monthly Income by Attrition\",\n",
    "       x = \"Attrition Status\",\n",
    "       y = \"Average Monthly Income\",\n",
    "       fill = \"Attrition Status\") +\n",
    "  \n",
    "  ## Adjust x scale\n",
    "  scale_x_discrete() +\n",
    "  \n",
    "  ## Change theme to classic for easy viewing\n",
    "  theme_classic()"
   ]
  },
  {
   "cell_type": "markdown",
   "id": "e47692eb",
   "metadata": {},
   "source": [
    "Comments:\n",
    "- On average, those who stayed appear to earn more than those who left.\n",
    "- This suggests that monthly income is a contributing factor to attrition."
   ]
  },
  {
   "cell_type": "code",
   "execution_count": 17,
   "id": "3a48873d",
   "metadata": {
    "vscode": {
     "languageId": "r"
    }
   },
   "outputs": [
    {
     "data": {
      "image/png": "[encoded data removed]",
      "text/plain": [
       "plot without title"
      ]
     },
     "metadata": {
      "image/png": {
       "height": 420,
       "width": 420
      }
     },
     "output_type": "display_data"
    }
   ],
   "source": [
    "# Check the distribution of monthly income\n",
    "hr_cleaned |>\n",
    "  \n",
    "  ## Aesthetic mapping\n",
    "  ggplot(aes(x = MonthlyIncome,\n",
    "             fill = Attrition)) +\n",
    "  \n",
    "  ## Call density plot\n",
    "  geom_density(alpha = 0.5) +\n",
    "  \n",
    "  ## Add text elements\n",
    "  labs(title = \"Monthly Income Distribution\",\n",
    "       x = \"Monthly Income\",\n",
    "       fill = \"Attrition Status\") +\n",
    "  \n",
    "  ## Change theme to classic for easy viewing\n",
    "  theme_classic()"
   ]
  },
  {
   "cell_type": "markdown",
   "id": "239711b4",
   "metadata": {},
   "source": [
    "Comments:\n",
    "- The distributions of both attrition groups are positively skewed.\n",
    "- There are more proportionally more people who left in the lower end of the monthly income distribution.\n",
    "- This adds further support to the earlier analysis that monthly income is a contributor of attrition."
   ]
  },
  {
   "cell_type": "markdown",
   "id": "3377411e",
   "metadata": {},
   "source": [
    "#### 3.2.2 Factor 2 – Overtime"
   ]
  },
  {
   "cell_type": "code",
   "execution_count": 18,
   "id": "bdd205be",
   "metadata": {
    "vscode": {
     "languageId": "r"
    }
   },
   "outputs": [
    {
     "data": {
      "image/png": "[encoded data removed]",
      "text/plain": [
       "plot without title"
      ]
     },
     "metadata": {
      "image/png": {
       "height": 420,
       "width": 420
      }
     },
     "output_type": "display_data"
    }
   ],
   "source": [
    "# 2. Overtime vs attrition\n",
    "hr_cleaned |>\n",
    "  \n",
    "  ## Group by overtime and attrition\n",
    "  group_by(OverTime, Attrition) |>\n",
    "  \n",
    "  ## Count the observations in each group\n",
    "  summarise(Count = n(), .groups = \"drop\") |>\n",
    "  \n",
    "  ## Group by overtime\n",
    "  group_by(OverTime) |>\n",
    "  \n",
    "  ## Compute percentage\n",
    "  mutate(Percent = Count / sum(Count) * 100) |>\n",
    "  \n",
    "  ## Ungroup\n",
    "  ungroup() |>\n",
    "  \n",
    "  ## Aesthetic mapping\n",
    "  ggplot(aes(x = OverTime,\n",
    "             y = Percent,\n",
    "             fill = Attrition)) +\n",
    "  \n",
    "  ## Call count plot\n",
    "  geom_col(position = \"dodge\") +\n",
    "  \n",
    "  ## Add text elements\n",
    "  labs(title = \"Overtime vs Attrition\",\n",
    "       x = \"Overtime\",\n",
    "       y = \"Percentage\",\n",
    "       fill = \"Attrition Status\") +\n",
    "  \n",
    "  ## Adjust x scale\n",
    "  scale_x_discrete() +\n",
    "  \n",
    "  ## Change theme to classic for easy viewing\n",
    "  theme_classic()"
   ]
  },
  {
   "cell_type": "markdown",
   "id": "bc23d034",
   "metadata": {},
   "source": [
    "Comments:\n",
    "- In both overtime conditions, there were more people who stayed than who left.\n",
    "- The attrition rate was significantly higher in the overtime condition than in the no-overtime condition.\n",
    "- Conversely, the percentage of those who stayed was higher in no-overtime condition than in the overtime condition.\n",
    "- This suggests that overtime contributes to attrition."
   ]
  },
  {
   "cell_type": "markdown",
   "id": "6355dc98",
   "metadata": {},
   "source": [
    "#### 3.2.3 Factor 3 – Environment Satisfaction"
   ]
  },
  {
   "cell_type": "code",
   "execution_count": 19,
   "id": "55f15bf8",
   "metadata": {
    "vscode": {
     "languageId": "r"
    }
   },
   "outputs": [
    {
     "data": {
      "image/png": "[encoded data removed]",
      "text/plain": [
       "plot without title"
      ]
     },
     "metadata": {
      "image/png": {
       "height": 420,
       "width": 420
      }
     },
     "output_type": "display_data"
    }
   ],
   "source": [
    "# 3. Environment satisfaction vs attrition\n",
    "hr_cleaned |>\n",
    "  \n",
    "  ## Group by attrition\n",
    "  group_by(Attrition) |>\n",
    "  \n",
    "  ## Compute mean environment satisfaction\n",
    "  summarise(AVGEnvSat = mean(EnvironmentSatisfaction)) |>\n",
    "  \n",
    "  ## Ungroup\n",
    "  ungroup() |>\n",
    "  \n",
    "  ## Aesthetic mapping\n",
    "  ggplot(aes(x = Attrition,\n",
    "             y = AVGEnvSat,\n",
    "             fill = Attrition)) +\n",
    "  \n",
    "  ## Call bar plot\n",
    "  geom_col() +\n",
    "  \n",
    "  ## Add text elements\n",
    "  labs(title = \"Environment Satisfaction vs Attrition\",\n",
    "       x = \"Attrition Status\",\n",
    "       y = \"Average Environment Satisfaction\",\n",
    "       fill = \"Attrition Status\") +\n",
    "  \n",
    "  ## Adjust x scale\n",
    "  scale_x_discrete() +\n",
    "  \n",
    "  ## Change theme to classic for easy viewing\n",
    "  theme_classic()"
   ]
  },
  {
   "cell_type": "markdown",
   "id": "f01a6130",
   "metadata": {},
   "source": [
    "Comment: It is not clear whether there is a significant difference between the attrition groups."
   ]
  },
  {
   "cell_type": "code",
   "execution_count": 20,
   "id": "9746a531",
   "metadata": {
    "vscode": {
     "languageId": "r"
    }
   },
   "outputs": [
    {
     "data": {
      "text/plain": [
       "\n",
       "\tWelch Two Sample t-test\n",
       "\n",
       "data:  EnvironmentSatisfaction by Attrition\n",
       "t = -3.7513, df = 316.62, p-value = 0.0002092\n",
       "alternative hypothesis: true difference in means between group Yes and group No is not equal to 0\n",
       "95 percent confidence interval:\n",
       " -0.468253 -0.146056\n",
       "sample estimates:\n",
       "mean in group Yes  mean in group No \n",
       "         2.464135          2.771290 \n"
      ]
     },
     "metadata": {},
     "output_type": "display_data"
    }
   ],
   "source": [
    "# Conduct an independent t-test to test the difference\n",
    "t.test(EnvironmentSatisfaction ~ Attrition, data = hr_cleaned)"
   ]
  },
  {
   "cell_type": "code",
   "execution_count": 21,
   "id": "96c9b25e",
   "metadata": {
    "vscode": {
     "languageId": "r"
    }
   },
   "outputs": [
    {
     "data": {
      "text/plain": [
       "\n",
       "Cohen's d\n",
       "\n",
       "d estimate: -0.2824158 (small)\n",
       "95 percent confidence interval:\n",
       "     lower      upper \n",
       "-0.4219167 -0.1429148 \n"
      ]
     },
     "metadata": {},
     "output_type": "display_data"
    }
   ],
   "source": [
    "# Check the effect size\n",
    "cohen.d(EnvironmentSatisfaction ~ Attrition, data = hr_cleaned)"
   ]
  },
  {
   "cell_type": "markdown",
   "id": "b25ff5c7",
   "metadata": {},
   "source": [
    "Comments:\n",
    "- While there is a statistically significant difference in environment satisfaction between the attrition groups (t = -3.75, p < .001), its magnitude is small.\n",
    "- This suggests that while environment satisfaction may play a role in attrition, its influence may not be as importance as other factors such as monthly income and overtime."
   ]
  },
  {
   "cell_type": "markdown",
   "id": "c7004f18",
   "metadata": {},
   "source": [
    "### 3.3 Part III – Attrition by Department & Job Role"
   ]
  },
  {
   "cell_type": "markdown",
   "id": "63b14eac",
   "metadata": {},
   "source": [
    "#### 3.3.1 Attrition by Department"
   ]
  },
  {
   "cell_type": "code",
   "execution_count": 22,
   "id": "b2f79c83",
   "metadata": {
    "vscode": {
     "languageId": "r"
    }
   },
   "outputs": [
    {
     "data": {
      "image/png": "[encoded data removed]",
      "text/plain": [
       "plot without title"
      ]
     },
     "metadata": {
      "image/png": {
       "height": 420,
       "width": 420
      }
     },
     "output_type": "display_data"
    }
   ],
   "source": [
    "# Attrition by department\n",
    "hr_cleaned |>\n",
    "  \n",
    "  ## Group by department and attrition\n",
    "  group_by(Department, Attrition) |>\n",
    "  \n",
    "  ## Count the number of observations\n",
    "  summarise(Count = n(), .groups = \"drop\") |>\n",
    "  \n",
    "  ## Group by department\n",
    "  group_by(Department) |>\n",
    "  \n",
    "  ## Compute percentage\n",
    "  mutate(Percent = Count / sum(Count) * 100) |>\n",
    "  \n",
    "  ## Ungroup\n",
    "  ungroup() |>\n",
    "  \n",
    "  ## Aesthetic mapping\n",
    "  ggplot(aes(x = Department,\n",
    "             y = Percent,\n",
    "             fill = Attrition)) +\n",
    "  \n",
    "  ## Call on bar plot\n",
    "  geom_col(position = \"dodge\") +\n",
    "  \n",
    "  ## Add percent text\n",
    "  geom_text(aes(label = paste(round(Percent, 0), \"%\")),\n",
    "            position = position_dodge(width = 0.9),\n",
    "            vjust = -0.5,\n",
    "            size = 3) +\n",
    "  \n",
    "  ## Add text elements\n",
    "  labs(title = \"Attrition by Department\",\n",
    "       x = \"Departments\",\n",
    "       y = \"Attrition Percentage\",\n",
    "       fill = \"Attrition Status\") +\n",
    "  \n",
    "  ## Adjust x scale\n",
    "  scale_x_discrete() +\n",
    "  \n",
    "  ## Adjust theme to classic for easy viewing\n",
    "  theme_classic()"
   ]
  },
  {
   "cell_type": "markdown",
   "id": "2bd456bf",
   "metadata": {},
   "source": [
    "Comments:\n",
    "- All departments have a similar percentage of people leaving and staying.\n",
    "- Notably, however, R&D has a lower percent of people leaving and a slightly higher percentage of people staying compared to the other departments.\n",
    "- Additionally, Sales has the highest percentage of people leaving and lowest percetage of people staying. This suggests that the attrition may have the most impact in Sales."
   ]
  },
  {
   "cell_type": "markdown",
   "id": "f814d364",
   "metadata": {},
   "source": [
    "#### 3.3.2 Attrition by Job Role"
   ]
  },
  {
   "cell_type": "code",
   "execution_count": 27,
   "id": "01b476f9",
   "metadata": {
    "vscode": {
     "languageId": "r"
    }
   },
   "outputs": [
    {
     "data": {
      "image/png": "[encoded data removed]",
      "text/plain": [
       "plot without title"
      ]
     },
     "metadata": {
      "image/png": {
       "height": 420,
       "width": 420
      }
     },
     "output_type": "display_data"
    }
   ],
   "source": [
    "# Attrition by job role\n",
    "hr_cleaned |>\n",
    "  \n",
    "  ## Group by department and attrition\n",
    "  group_by(JobRole) |>\n",
    "  \n",
    "  ## Count the number of observations\n",
    "  summarise(AttritionRate = mean(Attrition == \"Yes\") * 100) |>\n",
    "  \n",
    "  ## Ungroup\n",
    "  ungroup() |>\n",
    "  \n",
    "  ## Reorder job role levels\n",
    "  mutate(JobRole = fct_reorder(JobRole,\n",
    "                               AttritionRate,\n",
    "                               .desc = TRUE)) |>\n",
    "  \n",
    "  ## Aesthetic mapping\n",
    "  ggplot(aes(x = JobRole,\n",
    "             y = AttritionRate,\n",
    "             fill = JobRole)) +\n",
    "  \n",
    "  ## Call on bar plot\n",
    "  geom_col() +\n",
    "  \n",
    "  ## Add percent text\n",
    "  geom_text(aes(label = paste(round(AttritionRate, 0), \"%\")),\n",
    "            vjust = -0.5,\n",
    "            size = 3) +\n",
    "  \n",
    "  ## Add text elements\n",
    "  labs(title = \"Attrition Rate by Job Role\",\n",
    "       x = \"Job Roles\",\n",
    "       y = \"Attrition Rate (%)\",\n",
    "       fill = \"Job Roles\") +\n",
    "  \n",
    "  ## Adjust x scale\n",
    "  scale_x_discrete() +\n",
    "  \n",
    "  ## Adjust theme to classic for easy viewing\n",
    "  theme_classic() +\n",
    "  \n",
    "  ## Adjust text elements\n",
    "  theme(axis.text.x = element_text(angle = 45,\n",
    "                                   hjust = 1))"
   ]
  },
  {
   "cell_type": "markdown",
   "id": "fd80123d",
   "metadata": {},
   "source": [
    "Comments:\n",
    "- The Sales Rep role has the highest percentage of attrition.\n",
    "- The Research Director role has the lowest percentage of attrition.\n",
    "- Given the job role titles, employees in lower job levels appear to leave more often."
   ]
  },
  {
   "cell_type": "code",
   "execution_count": 24,
   "id": "832f76d9",
   "metadata": {
    "vscode": {
     "languageId": "r"
    }
   },
   "outputs": [
    {
     "data": {
      "image/png": "[encoded data removed]",
      "text/plain": [
       "plot without title"
      ]
     },
     "metadata": {
      "image/png": {
       "height": 420,
       "width": 420
      }
     },
     "output_type": "display_data"
    }
   ],
   "source": [
    "# Confirm whether job level is associated with attrition\n",
    "hr_cleaned |>\n",
    "  \n",
    "  ## Group by job levels\n",
    "  group_by(JobLevel) |>\n",
    "  \n",
    "  ## Compute attrition rate\n",
    "  summarise(AttritionRate = mean(Attrition == \"Yes\") * 100) |>\n",
    "  \n",
    "  ## Ungroup\n",
    "  ungroup() |>\n",
    "\n",
    "  ## Aesthetic mapping\n",
    "  ggplot(aes(x = JobLevel,\n",
    "             y = AttritionRate,\n",
    "             fill = JobLevel)) +\n",
    "  \n",
    "  ## Call on bar plot\n",
    "  geom_col() +\n",
    "  \n",
    "  ## Add percent text\n",
    "  geom_text(aes(label = paste(round(AttritionRate, 0), \"%\")),\n",
    "            vjust = -0.5,\n",
    "            size = 3) +\n",
    "  \n",
    "  ## Add text elements\n",
    "  labs(title = \"Attrition Rate by Job Level\",\n",
    "       x = \"Job Levels\",\n",
    "       y = \"Attrition Rate (%)\",\n",
    "       fill = \"Job Levels\") +\n",
    "  \n",
    "  ## Adjust x scale\n",
    "  scale_x_discrete() +\n",
    "  \n",
    "  ## Adjust theme to classic for easy viewing\n",
    "  theme_classic()"
   ]
  },
  {
   "cell_type": "markdown",
   "id": "f6d04231",
   "metadata": {},
   "source": [
    "Comments:\n",
    "- Job level 1 has the highest attrition percentage, while job levels 4 and 5 have the lowest attrition percentages.\n",
    "- This supports the earlier notion that employees in lower job levels are more likely to leave the company."
   ]
  },
  {
   "cell_type": "markdown",
   "id": "44ec0e48",
   "metadata": {},
   "source": [
    "### 3.4 Part IV – Attrition by Gender & Age"
   ]
  },
  {
   "cell_type": "markdown",
   "id": "bfb59c4b",
   "metadata": {},
   "source": [
    "#### 3.4.1 Attrition by Gender"
   ]
  },
  {
   "cell_type": "code",
   "execution_count": 26,
   "id": "0c709ed7",
   "metadata": {
    "vscode": {
     "languageId": "r"
    }
   },
   "outputs": [
    {
     "data": {
      "image/png": "[encoded data removed]",
      "text/plain": [
       "plot without title"
      ]
     },
     "metadata": {
      "image/png": {
       "height": 420,
       "width": 420
      }
     },
     "output_type": "display_data"
    }
   ],
   "source": [
    "# Gender vs attrition\n",
    "hr_cleaned |>\n",
    "  \n",
    "  ## Group by gender and attritiom\n",
    "  group_by(Gender, Attrition) |>\n",
    "  \n",
    "  ## Count the number of observations\n",
    "  summarise(Count = n(), .groups = \"drop\") |>\n",
    "  \n",
    "  ## Group by gender\n",
    "  mutate(Percent = Count / sum(Count) * 100) |>\n",
    "  \n",
    "  ## Ungroup\n",
    "  ungroup() |>\n",
    "  \n",
    "  ## Aesthetic mapping\n",
    "  ggplot(aes(x = Attrition,\n",
    "             y = Percent,\n",
    "             fill = Gender)) +\n",
    "  \n",
    "  ## Call on bar plot\n",
    "  geom_col(position = \"dodge\") +\n",
    "  \n",
    "  ## Add percent text\n",
    "  geom_text(aes(label = paste(round(Percent, 0), \"%\")),\n",
    "            position = position_dodge(width = 0.9),\n",
    "            vjust = -0.5,\n",
    "            size = 3) +\n",
    "  \n",
    "  ## Add text elements\n",
    "  labs(title = \"Attrition by Gender\",\n",
    "       x = \"Attrition\",\n",
    "       y = \"Attrition Percentage\",\n",
    "       fill = \"Gender\") +\n",
    "  \n",
    "  ## Adjust x scale\n",
    "  scale_x_discrete() +\n",
    "  \n",
    "  ## Adjust theme to classic for easy viewing\n",
    "  theme_classic()"
   ]
  },
  {
   "cell_type": "markdown",
   "id": "fd15fc71",
   "metadata": {},
   "source": [
    "Comments:\n",
    "- In both attrition conditions, there were more males than females.\n",
    "- Among both genders, more people left than stayed.\n",
    "- Since the attrition patterns are similar across genders, this variable may contribute weakly to attrition."
   ]
  },
  {
   "cell_type": "markdown",
   "id": "21e4999d",
   "metadata": {},
   "source": [
    "#### 3.4.2 Attrition by Age"
   ]
  },
  {
   "cell_type": "code",
   "execution_count": 25,
   "id": "234585ea",
   "metadata": {
    "vscode": {
     "languageId": "r"
    }
   },
   "outputs": [
    {
     "data": {
      "image/png": "[encoded data removed]",
      "text/plain": [
       "plot without title"
      ]
     },
     "metadata": {
      "image/png": {
       "height": 420,
       "width": 420
      }
     },
     "output_type": "display_data"
    }
   ],
   "source": [
    "# Age vs attrition\n",
    "\n",
    "hr_cleaned |>\n",
    "  \n",
    "  ## Aesthetic mapping\n",
    "  ggplot(aes(x = Age,\n",
    "             fill = Attrition)) +\n",
    "  \n",
    "  ## Call on density plot\n",
    "  geom_density(alpha = 0.5) +\n",
    "  \n",
    "  ## Add text elements\n",
    "  labs(title = \"Attrition by Age\",\n",
    "       x = \"Age (Years)\",\n",
    "       y = \"Employee Count\",\n",
    "       fill = \"Attrition Status\") +\n",
    "  \n",
    "  ## Adjust theme to classic for easy viewing\n",
    "  theme_classic()"
   ]
  },
  {
   "cell_type": "markdown",
   "id": "29e26bd5",
   "metadata": {},
   "source": [
    "Comments:\n",
    "- The age distributions are similar across attrition conditions.\n",
    "- The age distribution for those who stayed is more normally distributed.\n",
    "- The peaks are close together.\n",
    "- As the peak for those who left leans more towards the left, it suggests that people who left tend to be younger.\n",
    "- This suggests that age may be a worthwhile predictor of attrition."
   ]
  },
  {
   "cell_type": "markdown",
   "id": "8b9080f8",
   "metadata": {},
   "source": [
    "# 4. Building a Machine Learning Model"
   ]
  },
  {
   "cell_type": "markdown",
   "id": "bcf6077c",
   "metadata": {},
   "source": [
    "# 5. Summary & Recommendations"
   ]
  }
 ],
 "metadata": {
  "kernelspec": {
   "display_name": "R",
   "language": "R",
   "name": "ir"
  },
  "language_info": {
   "codemirror_mode": "r",
   "file_extension": ".r",
   "mimetype": "text/x-r-source",
   "name": "R",
   "pygments_lexer": "r",
   "version": "4.4.3"
  }
 },
 "nbformat": 4,
 "nbformat_minor": 5
}
