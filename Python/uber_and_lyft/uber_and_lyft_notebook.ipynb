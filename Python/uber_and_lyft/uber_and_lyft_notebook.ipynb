{
 "cells": [
  {
   "cell_type": "markdown",
   "id": "efbcb025",
   "metadata": {},
   "source": [
    "# Exploring Uber & Lyft Riding Sharing Price"
   ]
  },
  {
   "cell_type": "markdown",
   "id": "cef8d040",
   "metadata": {},
   "source": [
    "## Prepared by\n",
    "\n",
    "**Author:** Shinin Varongchayakul\n",
    "\n",
    "**Date:** 04 May 2025\n",
    "\n",
    "**Language:** Python"
   ]
  },
  {
   "cell_type": "markdown",
   "id": "5a97619f",
   "metadata": {},
   "source": [
    "## Dataset\n",
    "\n",
    "**Name:** Uber and Lyft Dataset Boston, MA\n",
    "\n",
    "**Source:** https://www.kaggle.com/datasets/brllrb/uber-and-lyft-dataset-boston-ma\n",
    "\n",
    "**Retrived Date:** 04 May 2025"
   ]
  }
 ],
 "metadata": {
  "kernelspec": {
   "display_name": "Python 3",
   "language": "python",
   "name": "python3"
  },
  "language_info": {
   "name": "python",
   "version": "3.13.1"
  }
 },
 "nbformat": 4,
 "nbformat_minor": 5
}
